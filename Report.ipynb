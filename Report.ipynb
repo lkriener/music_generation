{
 "cells": [
  {
   "cell_type": "markdown",
   "metadata": {},
   "source": [
    "# Report"
   ]
  },
  {
   "cell_type": "markdown",
   "metadata": {},
   "source": [
    "## Group project for *Advanced topics in machine learning* lecture (2019)\n",
    "#### Benjamin Ellenberger, Nicolas Deperrois, Laura Kriener"
   ]
  },
  {
   "cell_type": "markdown",
   "metadata": {},
   "source": [
    "## Chosen Topic: **Music generation**"
   ]
  },
  {
   "cell_type": "markdown",
   "metadata": {},
   "source": [
    "### **Motivation and State-of-the-Art**\n",
    "\n",
    "The topics for the group project work was chosen in the very beginning of the course.\n",
    "As it was announced that the course will nearly always use images for demonstrations, examples and excercises, we decided that our project should be on a different form of data.\n",
    "We decided to work in the broad field of music generation with deep learing.\n",
    "\n",
    "To narrow down the topic we investigated what the state of the art in this field is.\n",
    "The most impressive recent results are produced by Google and OpenAI.\n",
    "The [Google Magenta project](https://magenta.tensorflow.org/) covers a wide range of applications such as harmonization, drum-machines and a music generating network using the transformer network architecture with attention.\n",
    "\n",
    "An other very recent result in the field of generating music was published by OpenAI. The [MuseNet](https://openai.com/blog/musenet/) uses the recently published GPT2-architecture which is a large-scale transformer network as well. \n",
    "\n",
    "The Google and OpenAI approaches as well as other (less famous) approaches have in common, that they employ very complicated network architectures in combination with the use of immense computational resources.\n",
    "\n",
    "As the required computational power is far out of our reach, we wondered if this level of complexity is really unavoidable.\n",
    "And so the question **How much can you do with how little?** became the leading theme for our project.\n",
    "We want to see, what results can be achieved using much simpler network architecutres (i.e. architectures within the scope of the lecture)?\n",
    "Which aspects of music generation can be achieved and which have to be ignored? For example can you generate a resonable melody line without considering the rhythm?"
   ]
  },
  {
   "cell_type": "markdown",
   "metadata": {},
   "source": [
    "### Challenges\n",
    "The main challenge is that music generation is a very broad topic. Before we can even start we have to answer a couple of questions:\n",
    "\n",
    "- What exactly do we want to generate? Melody? Rhythm? Harmony?\n",
    "\n",
    "This will depend on the network structures we try out. For example for simple feed-forward networks we only focus on melody, while we include rhythm in the LSTMs.\n",
    "\n",
    "- How to feed music into a network? Spectrum? Pitches? Intervals?\n",
    "\n",
    "We will not use spectrum or audio-data, instead we will work with pitches and intervals and note-lengths extracted from midi-files.\n",
    "\n",
    "- What kind of music?\n",
    "\n",
    "As we try to keep things as simple as possible, we decided to use the widely used bach chorale data-set (see `data/raw/bach`).\n",
    "\n",
    "- How do we evaluate the result?\n",
    "\n",
    "Music and the quality of music is a highly subjective topic. It is very difficult to find a metric that evaluates how good a produced piece of music is.\n",
    "We plan to evaluate the pieces of music produced by the different network architectures by comparison and by the networks ability to capture different aspects of music (e.g. if one architecture can only produce melodies without considering rhythm and the other includes rhythm the second one is better suited for music generation). Additionally a measure for quality can be the similarity to the music style it was trained on. "
   ]
  },
  {
   "cell_type": "markdown",
   "metadata": {},
   "source": [
    "### Data sets\n",
    "\n",
    "We will work on the Bach chorale dataset which we included in the repository (see `data/raw/bach`).\n",
    "Midi-files are binary, therefore it is difficult to modify and create them directly.\n",
    "We are using the python libaries `pianoroll` and `midicsv` which translates a midi-file into a human-readable (and modifiable) csv-string.\n",
    "From this we have written our own utility functions that allow us to extract high-level information about the music (e.g. tempo, tonality) and perform changes to the tracks and write them back to a midi file. The utility functions are located in the file `src/midi_utils.py`. A demonstration on how to use them can be found in the notebook `demo_midi_utils.ipynb`. The functions to create a Pytorch compatible dataset from the midi-data are in the file `src/dataset_utils.py`."
   ]
  },
  {
   "cell_type": "markdown",
   "metadata": {},
   "source": [
    "### **Feed-Forward Networks**\n",
    "\n",
    "Starting from the simplest possible network architecture, we will first investigate the potential and limitations of feed-forward networks.\n",
    "Their architecture is not really suited to deal with time-series data, because one input sample is presented as a whole and at the same time to the network.\n",
    "Also there is no mechanism for memory of the past.\n",
    "Respecting these limitations, we simplify the task of \"music generation\" to **predicting the next note in a melody given the $n$ previous notes** (we only predict the pitch not the length of notes).\n",
    "\n",
    "#### Generation mechanism\n",
    "\n",
    "This setup also allows for a generation mechanism for a longer melody as sketched in the figure below:\n",
    "We start the network of with a set of notes from a melody ($n1$ to $n10$) as input. \n",
    "The network then predicts the next note for the melody ($n11$). In the next step we give the network a new set of input which consists of the notes $n2$ to $n10$ **and** the note it predicted before $n11$. The network now predicts the twelth note ($n12$) which is then used in the input for the next round.\n",
    "\n",
    "The main goal of this generation task is to produce a series of notes which is not dissonant and stays in the tonality of the given starter notes.\n",
    "\n",
    "\n",
    "![Schematic drawing of generation procedure](graphics/forward3.png)\n",
    "\n",
    "\n",
    "#### Network structure\n",
    "\n",
    "The figure below shows a sketch of the feed-forward architecture that produced the best results.\n",
    "Note that the inputs for the network are not the pitches of the starter-notes but the intervals between them.\n",
    "This is beneficial, as using the intervals automatically provides a form of normalization.\n",
    "The use of intervals for example removes for example the dependence on the key the melody is written in.\n",
    "For example the line C-D-E-F (C-Major) will produce `[2, 2, 2, 1]` (counting the intervals in half-tone steps).\n",
    "Even though the line D-E-F#-G (D-Major) is in a different key, it will produce the same intervals `[2, 2, 2, 1]`.\n",
    "\n",
    "The input layer of the network contains 10 units, each coding for one of the ten starter-intervals.\n",
    "The input is connected to two hidden layer with 128 units each.\n",
    "The output layer has 25 units. Each is coding for one possible interval (step-size: half-tones) in the range of $\\pm$ 1 Octave.\n",
    "We train the network by presenting it with 10-intervals pieces of the bach dataset and let it predict the 11th interval.\n",
    "The loss is calculated using the CrossEntropyLoss-function in pyTorch.\n",
    "In early experiments the output layer contained only one unit which was used to predict the pitch/interval value. \n",
    "The results were much worse compared to predicting the probability for each possible interval. \n",
    "In the generation mode of the network the interval with the highest probability is picked as the \"chosen interval\" by the network.\n",
    "\n",
    "![Feed-forward architecture](graphics/forward2.png)\n",
    "\n",
    "#### Results\n",
    "\n",
    "![Feed-forward architecture](graphics/loss_forward_intervals.png)\n",
    "\n",
    "The figure above shows the training process of the described network architecture.\n",
    "We see a clear occurance of overfitting, as the loss on the validation dataset first plateaus and then increases while the loss on the training data continues to decrease.\n",
    "The 3 stars in the plot mark where snapshots of the network model were taken during training and saved for the generation of melodies.\n",
    "The notebook cells below show an exemplary melody generated by an untrained network, by the network at the end of the plateau in the validation loss and at the end of training, when the validation loss has already increased again.\n",
    "For the generation of the audio samples below the same 10 starter-notes were used.\n",
    "They are included in the audio file.\n",
    "\n",
    "\n",
    "##### **Alternative architectures / training methods and their impact**\n",
    "In the following we quickly describe some different variations of the described network architecture and why they were dismissed in favor of the one presented above.\n",
    "\n",
    "- more neurons/layers: lead to worse overfitting without increasing performance significantly\n",
    "- less neurons/layers: delay the overfitting but decrease performance\n",
    "- regularization methods: only delay overfitting while decreasing performance\n",
    "- more starter-notes (i.e. larger input layer): worse overfitting\n",
    "- less starter-notes (everything below 10): decreases overfitting but during generation the network will just produce a repeated loop of the starter-notes\n"
   ]
  },
  {
   "cell_type": "markdown",
   "metadata": {},
   "source": [
    "#### Audio sample of untrained network\n",
    "We had to stop the generation of this melody early because the notes predicted by the network drifted out of the available range in midi-files.\n",
    "The untrained network clearly does not stay in a fairly small pitch range (as Bach melodies usually do) and produces lines that sound unharmonic."
   ]
  },
  {
   "cell_type": "code",
   "execution_count": 1,
   "metadata": {},
   "outputs": [
    {
     "name": "stdout",
     "output_type": "stream",
     "text": [
      "pygame 1.9.5\n",
      "Hello from the pygame community. https://www.pygame.org/contribute.html\n"
     ]
    }
   ],
   "source": [
    "import pygame\n",
    "\n",
    "filename = 'results/feedforward_net_track_intervals_untrained.mid'\n",
    "pygame.init()\n",
    "pygame.mixer.music.load(filename)\n",
    "pygame.mixer.music.play()"
   ]
  },
  {
   "cell_type": "code",
   "execution_count": 2,
   "metadata": {},
   "outputs": [],
   "source": [
    "pygame.mixer.music.stop()"
   ]
  },
  {
   "cell_type": "markdown",
   "metadata": {},
   "source": [
    "#### Audio sample of the network at the end of training\n",
    "The melody produced by this network stays within a reasonable pitch range of the starter notes.\n",
    "It produces a harmonic sounding line of notes and seems to stay within the tonality of the starter notes."
   ]
  },
  {
   "cell_type": "code",
   "execution_count": 3,
   "metadata": {},
   "outputs": [],
   "source": [
    "import pygame\n",
    "\n",
    "filename = 'results/feedforward_net_track_intervals.mid'\n",
    "pygame.init()\n",
    "pygame.mixer.music.load(filename)\n",
    "pygame.mixer.music.play()"
   ]
  },
  {
   "cell_type": "code",
   "execution_count": 4,
   "metadata": {},
   "outputs": [],
   "source": [
    "pygame.mixer.music.stop()"
   ]
  },
  {
   "cell_type": "markdown",
   "metadata": {},
   "source": [
    "#### Audio sample of network before severe overfitting\n",
    "The melody produced by this network stays within a reasonable pitch range of the starter notes.\n",
    "It produces a mostly harmonic sounding line of notes and mostly seems to stay within the tonality of the starter notes.\n",
    "There are some questionable choices of notes in the melody"
   ]
  },
  {
   "cell_type": "code",
   "execution_count": 6,
   "metadata": {},
   "outputs": [],
   "source": [
    "import pygame\n",
    "\n",
    "filename = 'results/feedforward_net_track_intervals_snapshot.mid'\n",
    "pygame.init()\n",
    "pygame.mixer.music.load(filename)\n",
    "pygame.mixer.music.play()"
   ]
  },
  {
   "cell_type": "code",
   "execution_count": 7,
   "metadata": {},
   "outputs": [],
   "source": [
    "pygame.mixer.music.stop()"
   ]
  },
  {
   "cell_type": "markdown",
   "metadata": {},
   "source": [
    "### Discussion of results\n",
    "Bearing in mind that we chose the feed-forward architecture as the most simple model, we can be content with the result. \n",
    "It was clear from the start that the feed-forward networks would only be able to learn a very restricted task, i.e. no rhythm and chords.\n",
    "Therefore we chose only to try to learn to produce short melody patches. This we were able to achieve.\n",
    "The overfitting which occured is a problem, that might be alieviated by a larger dataset. However, the larger sets available do contain different styles of music than Bach chorales which we deliberatly chose for their simple melody lines.\n",
    "\n",
    "We see that both trained snapshots of the network produce a melody that stays within a reasonable range of notes and does not drift off like the untrained version.\n",
    "Also they produce lines of notes that are consistent with the harmony style by Bach and they mostly stay within the tonality.\n",
    "\n",
    "One could argue that using the network which was trained with heavy overfitting is ok for music generation (but not for predicting the next note of a melody line), because it effectively does what a human composer does: It \"knows\" short patches of melody from the training set (i.e. the music it already knows) and reuses parts of these melody patches to generate new melodies. Human composes do this as well (a lot). For example, someone who knows a couple of Hans Zimmer movie soundtracks will very quickly recognize if a new soundtrack is written by Hans Zimmer, because he very often reuses certain themes and instrumentation schemes."
   ]
  },
  {
   "cell_type": "markdown",
   "metadata": {},
   "source": [
    "### Exemplary usage of the code\n",
    "#### Training the network model and generating with it"
   ]
  },
  {
   "cell_type": "code",
   "execution_count": 11,
   "metadata": {},
   "outputs": [
    {
     "name": "stdout",
     "output_type": "stream",
     "text": [
      "Loaded 357 tracks\n",
      "Mean of the dataset: 0.00045936931473620525\n",
      "Number of samples: 16490\n",
      "Training set size 13192\n",
      "Input size 10/ output size 25/ learning rate 0.001\n",
      "Input example tensor([-0.3333,  0.1667,  0.1667, -0.3333, -0.0833, -0.1667,  0.5833,  0.0000,\n",
      "        -0.1667,  0.4167])\n",
      "Output example (idx of next interval) 9\n"
     ]
    }
   ],
   "source": [
    "import os\n",
    "import copy\n",
    "import torch\n",
    "import src.feed_forward_utils as ff\n",
    "import matplotlib.pyplot as plt\n",
    "%matplotlib inline\n",
    "\n",
    "try:\n",
    "    home_dir\n",
    "except NameError:\n",
    "    home_dir = os.getcwd()\n",
    "os.chdir(home_dir)\n",
    "\n",
    "data_dir = '/data/raw/bach'\n",
    "\n",
    "minibatch_size = 32\n",
    "train_valid_ratio = 0.8        # size ratio of the train- and validation dataset\n",
    "feature_qty = 10               # how many starter-intervals are presented to network\n",
    "prediction_qty = 1             # must be one if intervals are used\n",
    "interval_range = [-12, 12]     # in halftones -> 1 octave\n",
    "snapshot_epoch = 50            # epoch at which a snapshot of the model is created during training\n",
    "n_epochs = 100\n",
    "learning_rate = 0.001\n",
    "hidden_size = 128\n",
    "\n",
    "tracks = ff.load_tracks(data_dir, 1)\n",
    "train_set, valid_set, train_loader, valid_loader = ff.generate_dataloaders(tracks, minibatch_size, train_valid_ratio, \n",
    "                                                                           feature_qty, prediction_qty, interval_range)\n",
    "input_size = len(train_set[0][0])   # get input size\n",
    "input_example = train_set[0][0]\n",
    "output_size = len(range(interval_range[0], interval_range[1]+1, 1))     # get output size\n",
    "output_example = train_set[0][1]\n",
    "print(\"Training set size\", len(train_set))\n",
    "print(\"Input size {}/ output size {}/ learning rate {}\".format(input_size, output_size, learning_rate))\n",
    "print(\"Input example {}\".format(input_example))\n",
    "print(\"Output example (idx of next interval) {}\".format(output_example))"
   ]
  },
  {
   "cell_type": "code",
   "execution_count": 12,
   "metadata": {},
   "outputs": [],
   "source": [
    "device = torch.device('cuda' if torch.cuda.is_available() else 'cpu')\n",
    "    \n",
    "forward_model = ff.FeedForward(input_size, hidden_size, output_size)\n",
    "untrained_model = copy.deepcopy(forward_model)\n",
    "untrained_model = untrained_model.to(device)\n",
    "forward_model = forward_model.to(device)\n",
    "\n",
    "criterion = torch.nn.CrossEntropyLoss()\n",
    "optimizer = torch.optim.Adam(forward_model.parameters(), lr=learning_rate)"
   ]
  },
  {
   "cell_type": "code",
   "execution_count": 13,
   "metadata": {},
   "outputs": [
    {
     "name": "stdout",
     "output_type": "stream",
     "text": [
      "Epoch 1/100: train_loss: 2.1387, val_loss: 2.0497\n",
      "Epoch 2/100: train_loss: 2.0236, val_loss: 1.9717\n",
      "Epoch 3/100: train_loss: 1.9757, val_loss: 1.9382\n",
      "Epoch 4/100: train_loss: 1.9338, val_loss: 1.9056\n",
      "Epoch 5/100: train_loss: 1.9032, val_loss: 1.8816\n",
      "Epoch 6/100: train_loss: 1.8697, val_loss: 1.8396\n",
      "Epoch 7/100: train_loss: 1.8307, val_loss: 1.8304\n",
      "Epoch 8/100: train_loss: 1.7942, val_loss: 1.7759\n",
      "Epoch 9/100: train_loss: 1.7642, val_loss: 1.7558\n",
      "Epoch 10/100: train_loss: 1.7381, val_loss: 1.7398\n",
      "Epoch 11/100: train_loss: 1.7225, val_loss: 1.7183\n",
      "Epoch 12/100: train_loss: 1.7059, val_loss: 1.7324\n",
      "Epoch 13/100: train_loss: 1.6932, val_loss: 1.7198\n",
      "Epoch 14/100: train_loss: 1.6780, val_loss: 1.7065\n",
      "Epoch 15/100: train_loss: 1.6632, val_loss: 1.7003\n",
      "Epoch 16/100: train_loss: 1.6505, val_loss: 1.7124\n",
      "Epoch 17/100: train_loss: 1.6403, val_loss: 1.7409\n",
      "Epoch 18/100: train_loss: 1.6274, val_loss: 1.6992\n",
      "Epoch 19/100: train_loss: 1.6155, val_loss: 1.7140\n",
      "Epoch 20/100: train_loss: 1.6109, val_loss: 1.7026\n",
      "Epoch 21/100: train_loss: 1.6009, val_loss: 1.6937\n",
      "Epoch 22/100: train_loss: 1.5850, val_loss: 1.6918\n",
      "Epoch 23/100: train_loss: 1.5734, val_loss: 1.6975\n",
      "Epoch 24/100: train_loss: 1.5654, val_loss: 1.7014\n",
      "Epoch 25/100: train_loss: 1.5528, val_loss: 1.6766\n",
      "Epoch 26/100: train_loss: 1.5463, val_loss: 1.6860\n",
      "Epoch 27/100: train_loss: 1.5308, val_loss: 1.6979\n",
      "Epoch 28/100: train_loss: 1.5226, val_loss: 1.7055\n",
      "Epoch 29/100: train_loss: 1.5121, val_loss: 1.7073\n",
      "Epoch 30/100: train_loss: 1.5013, val_loss: 1.6905\n",
      "Epoch 31/100: train_loss: 1.4892, val_loss: 1.7063\n",
      "Epoch 32/100: train_loss: 1.4791, val_loss: 1.6721\n",
      "Epoch 33/100: train_loss: 1.4721, val_loss: 1.6792\n",
      "Epoch 34/100: train_loss: 1.4611, val_loss: 1.6825\n",
      "Epoch 35/100: train_loss: 1.4527, val_loss: 1.6851\n",
      "Epoch 36/100: train_loss: 1.4407, val_loss: 1.6776\n",
      "Epoch 37/100: train_loss: 1.4319, val_loss: 1.6801\n",
      "Epoch 38/100: train_loss: 1.4234, val_loss: 1.6914\n",
      "Epoch 39/100: train_loss: 1.4152, val_loss: 1.6877\n",
      "Epoch 40/100: train_loss: 1.3986, val_loss: 1.6819\n",
      "Epoch 41/100: train_loss: 1.3919, val_loss: 1.7069\n",
      "Epoch 42/100: train_loss: 1.3851, val_loss: 1.7032\n",
      "Epoch 43/100: train_loss: 1.3729, val_loss: 1.6902\n",
      "Epoch 44/100: train_loss: 1.3654, val_loss: 1.7091\n",
      "Epoch 45/100: train_loss: 1.3535, val_loss: 1.7146\n",
      "Epoch 46/100: train_loss: 1.3437, val_loss: 1.6797\n",
      "Epoch 47/100: train_loss: 1.3360, val_loss: 1.6924\n",
      "Epoch 48/100: train_loss: 1.3252, val_loss: 1.7149\n",
      "Epoch 49/100: train_loss: 1.3213, val_loss: 1.7155\n",
      "Epoch 50/100: train_loss: 1.3071, val_loss: 1.6918\n",
      "Epoch 51/100: train_loss: 1.3030, val_loss: 1.7142\n",
      "Epoch 52/100: train_loss: 1.2942, val_loss: 1.7083\n",
      "Epoch 53/100: train_loss: 1.2843, val_loss: 1.7747\n",
      "Epoch 54/100: train_loss: 1.2768, val_loss: 1.7301\n",
      "Epoch 55/100: train_loss: 1.2677, val_loss: 1.7097\n",
      "Epoch 56/100: train_loss: 1.2602, val_loss: 1.7052\n",
      "Epoch 57/100: train_loss: 1.2520, val_loss: 1.7086\n",
      "Epoch 58/100: train_loss: 1.2425, val_loss: 1.7217\n",
      "Epoch 59/100: train_loss: 1.2374, val_loss: 1.7405\n",
      "Epoch 60/100: train_loss: 1.2294, val_loss: 1.7130\n",
      "Epoch 61/100: train_loss: 1.2231, val_loss: 1.7393\n",
      "Epoch 62/100: train_loss: 1.2141, val_loss: 1.7583\n",
      "Epoch 63/100: train_loss: 1.2072, val_loss: 1.7679\n",
      "Epoch 64/100: train_loss: 1.1932, val_loss: 1.7466\n",
      "Epoch 65/100: train_loss: 1.1890, val_loss: 1.7804\n",
      "Epoch 66/100: train_loss: 1.1847, val_loss: 1.7258\n",
      "Epoch 67/100: train_loss: 1.1804, val_loss: 1.7552\n",
      "Epoch 68/100: train_loss: 1.1694, val_loss: 1.7712\n",
      "Epoch 69/100: train_loss: 1.1621, val_loss: 1.7623\n",
      "Epoch 70/100: train_loss: 1.1537, val_loss: 1.7664\n",
      "Epoch 71/100: train_loss: 1.1509, val_loss: 1.7860\n",
      "Epoch 72/100: train_loss: 1.1411, val_loss: 1.7862\n",
      "Epoch 73/100: train_loss: 1.1362, val_loss: 1.8009\n",
      "Epoch 74/100: train_loss: 1.1246, val_loss: 1.7841\n",
      "Epoch 75/100: train_loss: 1.1160, val_loss: 1.7794\n",
      "Epoch 76/100: train_loss: 1.1107, val_loss: 1.8345\n",
      "Epoch 77/100: train_loss: 1.1010, val_loss: 1.8154\n",
      "Epoch 78/100: train_loss: 1.1013, val_loss: 1.7627\n",
      "Epoch 79/100: train_loss: 1.0888, val_loss: 1.7957\n",
      "Epoch 80/100: train_loss: 1.0840, val_loss: 1.8556\n",
      "Epoch 81/100: train_loss: 1.0861, val_loss: 1.8125\n",
      "Epoch 82/100: train_loss: 1.0703, val_loss: 1.8164\n",
      "Epoch 83/100: train_loss: 1.0664, val_loss: 1.8192\n",
      "Epoch 84/100: train_loss: 1.0583, val_loss: 1.8104\n",
      "Epoch 85/100: train_loss: 1.0528, val_loss: 1.8613\n",
      "Epoch 86/100: train_loss: 1.0467, val_loss: 1.8062\n",
      "Epoch 87/100: train_loss: 1.0393, val_loss: 1.8483\n",
      "Epoch 88/100: train_loss: 1.0342, val_loss: 1.8614\n",
      "Epoch 89/100: train_loss: 1.0319, val_loss: 1.8710\n",
      "Epoch 90/100: train_loss: 1.0240, val_loss: 1.8639\n",
      "Epoch 91/100: train_loss: 1.0177, val_loss: 1.8981\n",
      "Epoch 92/100: train_loss: 1.0100, val_loss: 1.8808\n",
      "Epoch 93/100: train_loss: 1.0087, val_loss: 1.8875\n",
      "Epoch 94/100: train_loss: 0.9998, val_loss: 1.8544\n",
      "Epoch 95/100: train_loss: 0.9944, val_loss: 1.8854\n",
      "Epoch 96/100: train_loss: 0.9860, val_loss: 1.9019\n",
      "Epoch 97/100: train_loss: 0.9796, val_loss: 1.9009\n",
      "Epoch 98/100: train_loss: 0.9794, val_loss: 1.8776\n",
      "Epoch 99/100: train_loss: 0.9704, val_loss: 1.9606\n",
      "Epoch 100/100: train_loss: 0.9674, val_loss: 1.8935\n"
     ]
    }
   ],
   "source": [
    "train_losses, val_losses, snapshot_model = ff.train(forward_model, train_loader, valid_loader, \n",
    "                                                    optimizer, n_epochs, criterion, device=device, \n",
    "                                                    verbose=True, snapshot=snapshot_epoch)"
   ]
  },
  {
   "cell_type": "code",
   "execution_count": 14,
   "metadata": {},
   "outputs": [
    {
     "data": {
      "image/png": "[encoded data removed]",
      "text/plain": [
       "<Figure size 648x360 with 1 Axes>"
      ]
     },
     "metadata": {
      "needs_background": "light"
     },
     "output_type": "display_data"
    }
   ],
   "source": [
    "os.chdir(home_dir)\n",
    "result_dir = home_dir + '/results/'\n",
    "result_name = 'retrained_feedforward_'\n",
    "ff.save_results(result_dir, result_name, untrained_model, snapshot_model, \n",
    "                forward_model, train_losses, val_losses, snapshot_epoch)"
   ]
  },
  {
   "cell_type": "code",
   "execution_count": 15,
   "metadata": {},
   "outputs": [],
   "source": [
    "sample_idx = 45\n",
    "predict_length = 30\n",
    "\n",
    "filename_untrained = result_dir + result_name + 'untrained.mid'\n",
    "ff.generate_melody(device, valid_set, sample_idx, untrained_model, predict_length, interval_range, filename_untrained)\n",
    "\n",
    "filename_snapshot = result_dir + result_name + 'snapshot.mid'\n",
    "ff.generate_melody(device, valid_set, sample_idx, snapshot_model, predict_length, interval_range, filename_snapshot)\n",
    "\n",
    "filename_trained = result_dir + result_name + 'trained.mid'\n",
    "ff.generate_melody(device, valid_set, sample_idx, forward_model, predict_length, interval_range, filename_trained)"
   ]
  },
  {
   "cell_type": "code",
   "execution_count": 16,
   "metadata": {},
   "outputs": [],
   "source": [
    "import pygame\n",
    "\n",
    "filename = filename_trained # or filename_trained or filename_snapshot\n",
    "pygame.init()\n",
    "pygame.mixer.music.load(filename)\n",
    "pygame.mixer.music.play()"
   ]
  },
  {
   "cell_type": "code",
   "execution_count": 17,
   "metadata": {},
   "outputs": [],
   "source": [
    "pygame.mixer.music.stop()"
   ]
  },
  {
   "cell_type": "markdown",
   "metadata": {},
   "source": [
    "#### Loading the pretrained model and generating with it"
   ]
  },
  {
   "cell_type": "code",
   "execution_count": 18,
   "metadata": {},
   "outputs": [
    {
     "name": "stdout",
     "output_type": "stream",
     "text": [
      "Loaded 357 tracks\n",
      "Mean of the dataset: 0.00045936931473620525\n",
      "Number of samples: 16490\n"
     ]
    }
   ],
   "source": [
    "import os\n",
    "import torch\n",
    "import src.feed_forward_utils as ff\n",
    "\n",
    "try:\n",
    "    home_dir\n",
    "except NameError:\n",
    "    home_dir = os.getcwd()\n",
    "os.chdir(home_dir)\n",
    "\n",
    "data_dir = '/data/raw/bach'\n",
    "\n",
    "minibatch_size = 32\n",
    "train_valid_ratio = 0.8        # size ratio of the train- and validation dataset\n",
    "feature_qty = 10               # how many starter-intervals are presented to network\n",
    "prediction_qty = 1             # must be one if intervals are used\n",
    "interval_range = [-12, 12]     # in halftones -> 1 octave\n",
    "snapshot_epoch = 50            # epoch at which a snapshot of the model is created during training\n",
    "\n",
    "tracks = ff.load_tracks(data_dir, 1)\n",
    "train_set, valid_set, train_loader, valid_loader = ff.generate_dataloaders(tracks, minibatch_size, train_valid_ratio, \n",
    "                                                                           feature_qty, prediction_qty, interval_range)"
   ]
  },
  {
   "cell_type": "code",
   "execution_count": 22,
   "metadata": {},
   "outputs": [],
   "source": [
    "os.chdir(home_dir)\n",
    "\n",
    "device = torch.device('cuda' if torch.cuda.is_available() else 'cpu')\n",
    "model_filename = 'results/feedforward_trained.pth'\n",
    "model_loaded = torch.load(model_filename)\n",
    "model_loaded.to(device)\n",
    "model_loaded.eval()\n",
    "\n",
    "sample_idx = 42\n",
    "predict_length = 25\n",
    "result_dir = 'results'\n",
    "result_name = 'loaded_feedforward_'\n",
    "filename_loaded = result_dir + result_name + 'generating.mid'\n",
    "ff.generate_melody(device, valid_set, sample_idx, model_loaded, predict_length, interval_range, filename_loaded)"
   ]
  },
  {
   "cell_type": "code",
   "execution_count": 23,
   "metadata": {},
   "outputs": [],
   "source": [
    "import pygame\n",
    "\n",
    "pygame.init()\n",
    "pygame.mixer.music.load(filename_loaded)\n",
    "pygame.mixer.music.play()"
   ]
  },
  {
   "cell_type": "code",
   "execution_count": 24,
   "metadata": {},
   "outputs": [],
   "source": [
    "pygame.mixer.music.stop()"
   ]
  },
  {
   "cell_type": "markdown",
   "metadata": {},
   "source": [
    "### **LSTMs**"
   ]
  },
  {
   "cell_type": "markdown",
   "metadata": {},
   "source": [
    "### **Auto-Encoder**"
   ]
  },
  {
   "cell_type": "code",
   "execution_count": null,
   "metadata": {},
   "outputs": [],
   "source": []
  }
 ],
 "metadata": {
  "kernelspec": {
   "display_name": "Python 3",
   "language": "python",
   "name": "python3"
  },
  "language_info": {
   "codemirror_mode": {
    "name": "ipython",
    "version": 3
   },
   "file_extension": ".py",
   "mimetype": "text/x-python",
   "name": "python",
   "nbconvert_exporter": "python",
   "pygments_lexer": "ipython3",
   "version": "3.6.7"
  }
 },
 "nbformat": 4,
 "nbformat_minor": 2
}
