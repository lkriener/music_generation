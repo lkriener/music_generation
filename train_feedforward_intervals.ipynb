{
 "cells": [
  {
   "cell_type": "markdown",
   "metadata": {
    "colab_type": "text",
    "id": "upMkQI5Ri8kU"
   },
   "source": [
    "# Train feedforward net"
   ]
  },
  {
   "cell_type": "code",
   "execution_count": 1,
   "metadata": {
    "colab": {
     "base_uri": "https://localhost:8080/",
     "height": 136
    },
    "colab_type": "code",
    "id": "nIeCTwk5i8kW",
    "outputId": "71226a0a-e7b0-49fc-9fe0-c618ccc9170b"
   },
   "outputs": [],
   "source": [
    "# Uncomment the line below and run this cell to get your data from github into colab (only runnable in colab, not ordinary jupyter notebook):\n",
    "#! git clone https://github.com/lkriener/music_generation.git && mv music_generation/* . && rm music_generation -r"
   ]
  },
  {
   "cell_type": "code",
   "execution_count": 2,
   "metadata": {
    "colab": {
     "base_uri": "https://localhost:8080/",
     "height": 136
    },
    "colab_type": "code",
    "id": "8PDGFwS8jKrA",
    "outputId": "b7964db3-b3d8-4e4a-877e-69d1687f59f6"
   },
   "outputs": [],
   "source": [
    "# Uncomment line to install requirements\n",
    "#! pip install -r colab_requirements.txt"
   ]
  },
  {
   "cell_type": "code",
   "execution_count": 1,
   "metadata": {
    "colab": {
     "base_uri": "https://localhost:8080/",
     "height": 51
    },
    "colab_type": "code",
    "id": "Hz32cHiui8kb",
    "outputId": "9f6b2ae5-5543-4ff8-cf7c-02a97cda8e59"
   },
   "outputs": [
    {
     "name": "stdout",
     "output_type": "stream",
     "text": [
      "pygame 1.9.5\n",
      "Hello from the pygame community. https://www.pygame.org/contribute.html\n"
     ]
    }
   ],
   "source": [
    "import src.midi_utils as midi_utils\n",
    "from src.dataset_utils import TrackDataset, get_dataset_representation_from_tracks\n",
    "\n",
    "import torch\n",
    "import torch.nn as nn\n",
    "from torch.utils.data import DataLoader\n",
    "\n",
    "import glob\n",
    "import os\n",
    "import copy\n",
    "import pygame\n",
    "import numpy as np"
   ]
  },
  {
   "cell_type": "code",
   "execution_count": 2,
   "metadata": {
    "colab": {
     "base_uri": "https://localhost:8080/",
     "height": 215
    },
    "colab_type": "code",
    "id": "9SHyV0zBi8kh",
    "outputId": "56394c81-ac40-4b9c-af10-ad1ce23026ba"
   },
   "outputs": [],
   "source": [
    "midi_filename = 'data/raw/bach/bwv104.6.mid'\n",
    "# midi_filename = 'data/raw/video_game/pkgsc_azalea.mid'\n",
    "pygame.init()\n",
    "pygame.mixer.music.load(midi_filename)\n",
    "pygame.mixer.music.play()"
   ]
  },
  {
   "cell_type": "code",
   "execution_count": 3,
   "metadata": {
    "colab": {},
    "colab_type": "code",
    "id": "qH3jo86Qi8kj"
   },
   "outputs": [],
   "source": [
    "pygame.mixer.music.stop()"
   ]
  },
  {
   "cell_type": "markdown",
   "metadata": {
    "colab_type": "text",
    "id": "b8Q3soTTi8km"
   },
   "source": [
    "# Neural network"
   ]
  },
  {
   "cell_type": "code",
   "execution_count": 4,
   "metadata": {},
   "outputs": [
    {
     "name": "stdout",
     "output_type": "stream",
     "text": [
      "Number of tracks: 357\n"
     ]
    }
   ],
   "source": [
    "tracks = []\n",
    "\n",
    "try:\n",
    "    home_dir\n",
    "except NameError:\n",
    "    home_dir = os.getcwd()\n",
    "\n",
    "os.chdir(home_dir + \"/data/raw/bach\")  # go to a folder relative to home dir\n",
    "for midi_file in glob.glob(\"*.mid\"):\n",
    "    # get a list of all soprano tracks\n",
    "    ## load midi file\n",
    "    csv_text = midi_utils.load_to_csv(midi_file)\n",
    "\n",
    "    ## Split into tracks\n",
    "    track_dict = midi_utils.split_tracks(csv_text)\n",
    "    track_nr = '1'\n",
    "\n",
    "    ## Generating numpy array with notes\n",
    "    track = midi_utils.midi_track_to_numpy(track_dict[track_nr])\n",
    "    tracks.append(track)\n",
    "    \n",
    "print(\"Number of tracks: \" + str(len(tracks)))"
   ]
  },
  {
   "cell_type": "code",
   "execution_count": 79,
   "metadata": {
    "colab": {
     "base_uri": "https://localhost:8080/",
     "height": 272
    },
    "colab_type": "code",
    "id": "HxMigMtRi8km",
    "outputId": "bcb853a6-7d49-4fcc-83de-8b3cedbb3165"
   },
   "outputs": [
    {
     "name": "stdout",
     "output_type": "stream",
     "text": [
      "Mean of the dataset: 0.00045936931473620525\n",
      "Number of samples: 16490\n"
     ]
    }
   ],
   "source": [
    "prediction_qty = 1\n",
    "feature_qty = 10\n",
    "# producable interval range +- one octave\n",
    "min_interval = -12\n",
    "max_interval = 12\n",
    "interval_indices = {}\n",
    "interval_values = np.arange(min_interval, max_interval+1, 1)\n",
    "\n",
    "j = 0\n",
    "for i in range(min_interval, max_interval+1, 1):\n",
    "    interval_indices[str(i)] = j\n",
    "    j += 1\n",
    "\n",
    "assert prediction_qty == 1  #because one-hot encoding in output allows only one prediction\n",
    "\n",
    "x, y = get_dataset_representation_from_tracks(tracks, feature_qty=feature_qty, prediction_qty=prediction_qty, intervals=True)\n",
    "# drop length of notes and keep pitch\n",
    "x = np.stack(x)\n",
    "x = x[:,:,0]\n",
    "x = x / max(abs(min_interval), max_interval)\n",
    "y = np.stack(y)\n",
    "y = y[:,:,0]\n",
    "# we will use cross-entropy loss, so the label must be the interval-index\n",
    "y_idx = np.array([int(interval_indices[str(i[0])]) for i in y])\n",
    "\n",
    "print(\"Mean of the dataset: \" + str(np.mean(x)))\n",
    "print(\"Number of samples: \" + str(len(x)))\n",
    "\n",
    "mini_batch_size = 32\n",
    "\n",
    "train_portion = 0.8\n",
    "train_indices = np.random.choice(np.arange(0, len(x), 1), int(train_portion*len(x)), replace=False)\n",
    "valid_indices = np.setdiff1d(np.arange(0, len(x), 1), train_indices)\n",
    "train_dataset = TrackDataset(x[train_indices], y_idx[train_indices], drop_length=False, intervals=True)  # make training dataset\n",
    "valid_dataset = TrackDataset(x[valid_indices], y_idx[valid_indices], drop_length=False, intervals=True)  # make validation dataset\n",
    "\n",
    "train_loader = DataLoader(train_dataset, batch_size=mini_batch_size, shuffle=True)\n",
    "validation_loader = DataLoader(valid_dataset, batch_size=mini_batch_size, shuffle=True) # TODO TODO TODO: CHANGE TO A SUITABLE VALIDATIONSET"
   ]
  },
  {
   "cell_type": "code",
   "execution_count": 80,
   "metadata": {
    "colab": {
     "base_uri": "https://localhost:8080/",
     "height": 119
    },
    "colab_type": "code",
    "id": "CVgPaaAUi8kq",
    "outputId": "d90aa1c7-7443-4d75-d481-84a73d50deea"
   },
   "outputs": [
    {
     "name": "stdout",
     "output_type": "stream",
     "text": [
      "Training set size 13192\n",
      "Input size 10/ output size 25/ learning rate 0.001\n",
      "Input example tensor([ 0.0833, -0.0833,  0.0833,  0.1667,  0.0833, -0.0833,  0.0000, -0.1667,\n",
      "        -0.4167,  0.0000])\n",
      "Output example 13\n"
     ]
    }
   ],
   "source": [
    "print(\"Training set size\", len(train_dataset))\n",
    "\n",
    "input_size = len(train_dataset[0][0])  # get input size\n",
    "input_example = train_dataset[0][0]\n",
    "output_size = len(interval_indices)  # get output size\n",
    "output_example = train_dataset[0][1]\n",
    "learning_rate = 0.001\n",
    "\n",
    "print(\"Input size {}/ output size {}/ learning rate {}\".format(input_size, output_size, learning_rate))\n",
    "print(\"Input example {}\".format(input_example))\n",
    "print(\"Output example {}\".format(output_example))\n",
    "   \n",
    "\n",
    "class MLPModel(nn.Module):\n",
    "    \n",
    "    def __init__(self, input_dim, hidden_dim, output_dim):\n",
    "        super(MLPModel, self).__init__()\n",
    "        self.layers = nn.Sequential(\n",
    "            nn.Linear(input_dim, hidden_dim),\n",
    "            nn.ReLU(),\n",
    "            nn.Linear(hidden_dim, hidden_dim),\n",
    "            nn.ReLU(),\n",
    "            nn.Linear(hidden_dim, hidden_dim),\n",
    "            nn.ReLU(),\n",
    "            nn.Linear(hidden_dim, output_dim)\n",
    "        )\n",
    "    \n",
    "    def forward(self, input):\n",
    "        return self.layers(input)\n",
    "    \n",
    "device = torch.device('cuda' if torch.cuda.is_available() else 'cpu')\n",
    "    \n",
    "mlp_model = MLPModel(input_size, 128, output_size)\n",
    "untrained_model = copy.deepcopy(mlp_model)\n",
    "mlp_model = mlp_model.to(device)\n",
    "model = mlp_model\n",
    "model.to(device)\n",
    "\n",
    "criterion = torch.nn.CrossEntropyLoss()\n",
    "optimizer = torch.optim.Adam(model.parameters(), lr=learning_rate)\n",
    "\n",
    "\n",
    "def train(model, train_dataloader, val_dataloader, optimizer, n_epochs, loss_function, device=torch.device('cpu'), verbose=1, snapshot=50):\n",
    "    # We will monitor loss functions as the training progresses\n",
    "    train_losses = []\n",
    "    val_losses = []\n",
    "\n",
    "    for epoch in range(n_epochs):\n",
    "        # training phase\n",
    "        model.train()\n",
    "        # Iterate mini batches over training dataset\n",
    "        losses = []\n",
    "        for x, y in train_dataloader:\n",
    "            x = x.to(device)\n",
    "            y = y.to(device)\n",
    "            output = model(x)  # predict output from input\n",
    "            \n",
    "            # set gradients to zero\n",
    "            optimizer.zero_grad()\n",
    "\n",
    "            loss = loss_function(output, y)\n",
    "            if verbose > 2:\n",
    "                print(loss.item())\n",
    "            loss.backward()\n",
    "            optimizer.step()\n",
    "\n",
    "            # Metrics\n",
    "            losses.append(loss.item())\n",
    "            \n",
    "        train_losses.append(np.mean(np.array(losses)))\n",
    "        \n",
    "        if epoch == snapshot:\n",
    "            model_snapshot = copy.deepcopy(model)\n",
    "        # Evaluation phase\n",
    "        model.eval()\n",
    "        # iterate mini batches over validation set\n",
    "        # We don't need gradients\n",
    "        losses = []\n",
    "        with torch.no_grad():\n",
    "            for x, y in val_dataloader:\n",
    "                x = x.to(device)\n",
    "                y = y.to(device)\n",
    "                output = model(x)\n",
    "                loss = loss_function(output, y)\n",
    "                if verbose > 1:\n",
    "                    print(loss.item())\n",
    "\n",
    "                losses.append(loss.item())\n",
    "        val_losses.append(np.mean(np.array(losses)))\n",
    "        \n",
    "        if verbose > 0:\n",
    "            print('Epoch {}/{}: train_loss: {:.4f}, val_loss: {:.4f}'.format(epoch + 1, n_epochs, train_losses[-1], val_losses[-1]))\n",
    "    return train_losses, val_losses, model_snapshot\n"
   ]
  },
  {
   "cell_type": "code",
   "execution_count": 81,
   "metadata": {
    "colab": {
     "base_uri": "https://localhost:8080/",
     "height": 867
    },
    "colab_type": "code",
    "id": "CoKXI2Xyi8kt",
    "outputId": "baa50a74-5f1a-45be-fa73-5cb6d606d76c"
   },
   "outputs": [
    {
     "name": "stdout",
     "output_type": "stream",
     "text": [
      "Epoch 1/100: train_loss: 2.1317, val_loss: 2.0699\n",
      "Epoch 2/100: train_loss: 2.0203, val_loss: 1.9896\n",
      "Epoch 3/100: train_loss: 1.9561, val_loss: 1.9497\n",
      "Epoch 4/100: train_loss: 1.9179, val_loss: 1.9433\n",
      "Epoch 5/100: train_loss: 1.8911, val_loss: 1.9066\n",
      "Epoch 6/100: train_loss: 1.8479, val_loss: 1.8790\n",
      "Epoch 7/100: train_loss: 1.8013, val_loss: 1.8260\n",
      "Epoch 8/100: train_loss: 1.7652, val_loss: 1.8002\n",
      "Epoch 9/100: train_loss: 1.7383, val_loss: 1.7779\n",
      "Epoch 10/100: train_loss: 1.7208, val_loss: 1.7786\n",
      "Epoch 11/100: train_loss: 1.7062, val_loss: 1.7566\n",
      "Epoch 12/100: train_loss: 1.6923, val_loss: 1.7386\n",
      "Epoch 13/100: train_loss: 1.6826, val_loss: 1.7606\n",
      "Epoch 14/100: train_loss: 1.6684, val_loss: 1.7347\n",
      "Epoch 15/100: train_loss: 1.6548, val_loss: 1.7541\n",
      "Epoch 16/100: train_loss: 1.6430, val_loss: 1.7334\n",
      "Epoch 17/100: train_loss: 1.6291, val_loss: 1.7234\n",
      "Epoch 18/100: train_loss: 1.6226, val_loss: 1.7126\n",
      "Epoch 19/100: train_loss: 1.6062, val_loss: 1.7282\n",
      "Epoch 20/100: train_loss: 1.5948, val_loss: 1.7177\n",
      "Epoch 21/100: train_loss: 1.5842, val_loss: 1.7126\n",
      "Epoch 22/100: train_loss: 1.5689, val_loss: 1.6976\n",
      "Epoch 23/100: train_loss: 1.5568, val_loss: 1.7266\n",
      "Epoch 24/100: train_loss: 1.5465, val_loss: 1.7497\n",
      "Epoch 25/100: train_loss: 1.5345, val_loss: 1.6931\n",
      "Epoch 26/100: train_loss: 1.5211, val_loss: 1.7289\n",
      "Epoch 27/100: train_loss: 1.5159, val_loss: 1.6932\n",
      "Epoch 28/100: train_loss: 1.5015, val_loss: 1.6816\n",
      "Epoch 29/100: train_loss: 1.4920, val_loss: 1.7010\n",
      "Epoch 30/100: train_loss: 1.4805, val_loss: 1.6907\n",
      "Epoch 31/100: train_loss: 1.4660, val_loss: 1.6823\n",
      "Epoch 32/100: train_loss: 1.4637, val_loss: 1.7151\n",
      "Epoch 33/100: train_loss: 1.4464, val_loss: 1.7027\n",
      "Epoch 34/100: train_loss: 1.4354, val_loss: 1.6657\n",
      "Epoch 35/100: train_loss: 1.4281, val_loss: 1.6943\n",
      "Epoch 36/100: train_loss: 1.4152, val_loss: 1.6711\n",
      "Epoch 37/100: train_loss: 1.4055, val_loss: 1.6947\n",
      "Epoch 38/100: train_loss: 1.3992, val_loss: 1.6609\n",
      "Epoch 39/100: train_loss: 1.3863, val_loss: 1.7069\n",
      "Epoch 40/100: train_loss: 1.3741, val_loss: 1.7106\n",
      "Epoch 41/100: train_loss: 1.3640, val_loss: 1.6956\n",
      "Epoch 42/100: train_loss: 1.3552, val_loss: 1.6811\n",
      "Epoch 43/100: train_loss: 1.3479, val_loss: 1.6883\n",
      "Epoch 44/100: train_loss: 1.3328, val_loss: 1.6801\n",
      "Epoch 45/100: train_loss: 1.3276, val_loss: 1.6715\n",
      "Epoch 46/100: train_loss: 1.3165, val_loss: 1.7098\n",
      "Epoch 47/100: train_loss: 1.3036, val_loss: 1.6537\n",
      "Epoch 48/100: train_loss: 1.2936, val_loss: 1.6966\n",
      "Epoch 49/100: train_loss: 1.2816, val_loss: 1.7179\n",
      "Epoch 50/100: train_loss: 1.2827, val_loss: 1.6711\n",
      "Epoch 51/100: train_loss: 1.2673, val_loss: 1.6855\n",
      "Epoch 52/100: train_loss: 1.2574, val_loss: 1.7050\n",
      "Epoch 53/100: train_loss: 1.2472, val_loss: 1.6825\n",
      "Epoch 54/100: train_loss: 1.2417, val_loss: 1.7144\n",
      "Epoch 55/100: train_loss: 1.2279, val_loss: 1.7183\n",
      "Epoch 56/100: train_loss: 1.2197, val_loss: 1.7327\n",
      "Epoch 57/100: train_loss: 1.2184, val_loss: 1.7109\n",
      "Epoch 58/100: train_loss: 1.2054, val_loss: 1.7003\n",
      "Epoch 59/100: train_loss: 1.1960, val_loss: 1.7193\n",
      "Epoch 60/100: train_loss: 1.1863, val_loss: 1.7158\n",
      "Epoch 61/100: train_loss: 1.1772, val_loss: 1.7169\n",
      "Epoch 62/100: train_loss: 1.1717, val_loss: 1.7378\n",
      "Epoch 63/100: train_loss: 1.1628, val_loss: 1.7232\n",
      "Epoch 64/100: train_loss: 1.1526, val_loss: 1.7186\n",
      "Epoch 65/100: train_loss: 1.1434, val_loss: 1.7392\n",
      "Epoch 66/100: train_loss: 1.1378, val_loss: 1.7531\n",
      "Epoch 67/100: train_loss: 1.1292, val_loss: 1.7149\n",
      "Epoch 68/100: train_loss: 1.1249, val_loss: 1.7425\n",
      "Epoch 69/100: train_loss: 1.1183, val_loss: 1.7503\n",
      "Epoch 70/100: train_loss: 1.1033, val_loss: 1.7491\n",
      "Epoch 71/100: train_loss: 1.0959, val_loss: 1.7535\n",
      "Epoch 72/100: train_loss: 1.0920, val_loss: 1.7586\n",
      "Epoch 73/100: train_loss: 1.0846, val_loss: 1.8039\n",
      "Epoch 74/100: train_loss: 1.0768, val_loss: 1.7568\n",
      "Epoch 75/100: train_loss: 1.0670, val_loss: 1.7748\n",
      "Epoch 76/100: train_loss: 1.0589, val_loss: 1.7670\n",
      "Epoch 77/100: train_loss: 1.0555, val_loss: 1.7957\n",
      "Epoch 78/100: train_loss: 1.0401, val_loss: 1.7769\n",
      "Epoch 79/100: train_loss: 1.0417, val_loss: 1.8023\n",
      "Epoch 80/100: train_loss: 1.0340, val_loss: 1.8079\n",
      "Epoch 81/100: train_loss: 1.0236, val_loss: 1.7972\n",
      "Epoch 82/100: train_loss: 1.0169, val_loss: 1.8763\n",
      "Epoch 83/100: train_loss: 1.0077, val_loss: 1.7981\n",
      "Epoch 84/100: train_loss: 1.0041, val_loss: 1.8489\n",
      "Epoch 85/100: train_loss: 0.9968, val_loss: 1.8260\n",
      "Epoch 86/100: train_loss: 0.9918, val_loss: 1.8693\n",
      "Epoch 87/100: train_loss: 0.9895, val_loss: 1.8576\n",
      "Epoch 88/100: train_loss: 0.9795, val_loss: 1.8633\n",
      "Epoch 89/100: train_loss: 0.9700, val_loss: 1.8322\n",
      "Epoch 90/100: train_loss: 0.9655, val_loss: 1.9076\n",
      "Epoch 91/100: train_loss: 0.9517, val_loss: 1.8581\n",
      "Epoch 92/100: train_loss: 0.9518, val_loss: 1.8629\n",
      "Epoch 93/100: train_loss: 0.9462, val_loss: 1.8942\n",
      "Epoch 94/100: train_loss: 0.9429, val_loss: 1.9116\n",
      "Epoch 95/100: train_loss: 0.9316, val_loss: 1.9125\n",
      "Epoch 96/100: train_loss: 0.9254, val_loss: 1.9166\n",
      "Epoch 97/100: train_loss: 0.9186, val_loss: 1.9260\n",
      "Epoch 98/100: train_loss: 0.9194, val_loss: 1.9349\n",
      "Epoch 99/100: train_loss: 0.9112, val_loss: 1.9066\n",
      "Epoch 100/100: train_loss: 0.9085, val_loss: 1.9188\n"
     ]
    }
   ],
   "source": [
    "# Train the linear model and plot how the loss changes as the \n",
    "# training progresses for both training and validation set.\n",
    "import matplotlib.pyplot as plt\n",
    "%matplotlib inline\n",
    "n_epochs = 100\n",
    "\n",
    "train_losses, val_losses, model_snapshot = train(model, train_loader, validation_loader, optimizer, n_epochs, criterion, device=device, verbose=1, snapshot=50)"
   ]
  },
  {
   "cell_type": "code",
   "execution_count": 82,
   "metadata": {
    "colab": {
     "base_uri": "https://localhost:8080/",
     "height": 813
    },
    "colab_type": "code",
    "id": "LkFD6gaEi8kx",
    "outputId": "0586225e-a86d-4b94-eae0-c5cf6abfa70a"
   },
   "outputs": [
    {
     "data": {
      "image/png": "[encoded data removed]",
      "text/plain": [
       "<Figure size 648x360 with 1 Axes>"
      ]
     },
     "metadata": {
      "needs_background": "light"
     },
     "output_type": "display_data"
    }
   ],
   "source": [
    "plt.figure(figsize=(9,5))\n",
    "x = range(len(train_losses))\n",
    "plt.xlabel('Epochs')\n",
    "plt.ylabel('Cross Entropy Loss')\n",
    "plt.plot(x, train_losses, label='Train')\n",
    "plt.plot(x, val_losses, label='Valid')\n",
    "plt.plot([0, 50, 100], [val_losses[0], val_losses[50], val_losses[99]], marker='*', ls='None', markersize=15, c='k')\n",
    "plt.legend()\n",
    "\n",
    "os.chdir(home_dir)\n",
    "plt.savefig('graphics/loss_forward_intervals.png')"
   ]
  },
  {
   "cell_type": "code",
   "execution_count": 87,
   "metadata": {
    "colab": {
     "base_uri": "https://localhost:8080/",
     "height": 102
    },
    "colab_type": "code",
    "id": "OsW176Y2i8k1",
    "outputId": "ae7a531d-f0d7-4ad8-d7cb-3d1bf963f78d"
   },
   "outputs": [
    {
     "name": "stdout",
     "output_type": "stream",
     "text": [
      "tensor([-0.1667,  0.0000,  0.1667,  0.0833,  0.1667, -0.2500, -0.1667,  0.0000,\n",
      "        -0.1667,  0.1667])\n",
      "tensor(14)\n",
      "[-2, 0, 2, 1, 2, -3, -2, 0, -2, 2, 2, -2, -2, -1, 0, 2, 1, 2, -2, -1, -2, 2, 0, 0, -2, 2, 1, -1, -2, -2, 2, 0, -2, -2, -1, -2, 2, 1, 2, -2]\n",
      "[74 72 72 74 75 77 74 72 72 70 72 74 72 70 69 69 71 72 74 72 71 69 71 71\n",
      " 71 69 71 72 71 69 67 69 69 67 65 64 62 64 65 67 65]\n",
      "tensor([-0.1667,  0.0000,  0.1667,  0.0833,  0.1667, -0.2500, -0.1667,  0.0000,\n",
      "        -0.1667,  0.1667])\n",
      "tensor(14)\n",
      "[-2, 0, 2, 1, 2, -3, -2, 0, -2, 2, -3, -3, -3, -3, -3, -3, -3, -3, -3, -9, -3, -3, -3, -3, -3, -3, -3, -3, -3, -3, -3, -3, -3, -3, -3, -3, -3, -3, -3, -3]\n",
      "[ 74  72  72  74  75  77  74  72  72  70  72  69  66  63  60  57  54  51\n",
      "  48  45  36  33  30  27  24  21  18  15  12   9   6   3   0  -3  -6  -9\n",
      " -12 -15 -18 -21 -24]\n",
      "tensor([-0.1667,  0.0000,  0.1667,  0.0833,  0.1667, -0.2500, -0.1667,  0.0000,\n",
      "        -0.1667,  0.1667])\n",
      "tensor(14)\n",
      "[-2, 0, 2, 1, 2, -3, -2, 0, -2, 2, 2, -2, -2, -1, -2, 2, 1, 2, 2, -2, -1, -2, 0, 0, 0, 2, 2, 1, -1, -2, -2, -1, -2, 2, 1, 2, -2, -1, -2, -2]\n",
      "[ 74  72  72  74  75  77  74  72  72  70  72  69  66  63  60  57  54  51\n",
      "  48  45  36  33  30  27  24  21  18  15  12   9   6   3   0  -3  -6  -9\n",
      " -12 -15 -18 -21 -24]\n"
     ]
    }
   ],
   "source": [
    "# predict midi from init samples\n",
    "# predict for a certain length\n",
    "predict_length = 30  \n",
    "init_index = 42 # 123\n",
    "\n",
    "\n",
    "generated_track = []\n",
    "x, y = valid_dataset[init_index]\n",
    "print(x)\n",
    "print(y)\n",
    "\n",
    "x = x.to(device)\n",
    "x_orig = np.array(x.cpu().detach().numpy() * max(abs(min_interval), max_interval), dtype=int)\n",
    "generated_track = list(x_orig)\n",
    "for i in range(predict_length):\n",
    "    output = model(x)  # predict output from input\n",
    "    chosen_idx = np.argmax(output.cpu().detach().numpy())\n",
    "    chosen_interval = interval_values[chosen_idx]\n",
    "    generated_track.append(chosen_interval)\n",
    "    x_new = np.array(generated_track[-len(x):])\n",
    "    x = torch.tensor(x_new / max(abs(min_interval), max_interval), dtype=torch.float32)\n",
    "    x = x.to(device)\n",
    "    \n",
    "print(generated_track)\n",
    "start_pitch = 74\n",
    "track = [start_pitch]\n",
    "for interval in generated_track:\n",
    "    track.append(track[-1] + interval)\n",
    "track = np.array(track)\n",
    "print(track)\n",
    "\n",
    "\n",
    "# Letting the untrained generate\n",
    "untrained_model = untrained_model.to(device)\n",
    "generated_track = []\n",
    "x, y = valid_dataset[init_index]\n",
    "print(x)\n",
    "print(y)\n",
    "\n",
    "x = x.to(device)\n",
    "x_orig = np.array(x.cpu().detach().numpy() * max(abs(min_interval), max_interval), dtype=int)\n",
    "generated_track = list(x_orig)\n",
    "for i in range(predict_length):\n",
    "    output = untrained_model(x)  # predict output from input\n",
    "    chosen_idx = np.argmax(output.cpu().detach().numpy())\n",
    "    chosen_interval = interval_values[chosen_idx]\n",
    "    generated_track.append(chosen_interval)\n",
    "    x_new = np.array(generated_track[-len(x):])\n",
    "    x = torch.tensor(x_new / max(abs(min_interval), max_interval), dtype=torch.float32)\n",
    "    x = x.to(device)\n",
    "    \n",
    "print(generated_track)\n",
    "start_pitch = 74\n",
    "track_untrained = [start_pitch]\n",
    "for interval in generated_track:\n",
    "    track_untrained.append(track_untrained[-1] + interval)\n",
    "track_untrained = np.array(track_untrained)\n",
    "print(track_untrained)\n",
    "\n",
    "# Letting the snapshot generate\n",
    "#model_snapshot = model_snapshot.to(device)\n",
    "generated_track = []\n",
    "x, y = valid_dataset[init_index]\n",
    "print(x)\n",
    "print(y)\n",
    "\n",
    "x = x.to(device)\n",
    "x_orig = np.array(x.cpu().detach().numpy() * max(abs(min_interval), max_interval), dtype=int)\n",
    "generated_track = list(x_orig)\n",
    "for i in range(predict_length):\n",
    "    output = model_snapshot(x)  # predict output from input\n",
    "    chosen_idx = np.argmax(output.cpu().detach().numpy())\n",
    "    chosen_interval = interval_values[chosen_idx]\n",
    "    generated_track.append(chosen_interval)\n",
    "    x_new = np.array(generated_track[-len(x):])\n",
    "    x = torch.tensor(x_new / max(abs(min_interval), max_interval), dtype=torch.float32)\n",
    "    x = x.to(device)\n",
    "    \n",
    "print(generated_track)\n",
    "start_pitch = 74\n",
    "track_snapshot = [start_pitch]\n",
    "for interval in generated_track:\n",
    "    track_snapshot.append(track_snapshot[-1] + interval)\n",
    "track_snapshot = np.array(track_snapshot)\n",
    "print(track_untrained)"
   ]
  },
  {
   "cell_type": "code",
   "execution_count": 89,
   "metadata": {
    "colab": {},
    "colab_type": "code",
    "id": "mSyiG-4Ni8k5"
   },
   "outputs": [
    {
     "name": "stdout",
     "output_type": "stream",
     "text": [
      "[[  74 1024]\n",
      " [  72 1024]\n",
      " [  72 1024]\n",
      " [  74 1024]\n",
      " [  75 1024]\n",
      " [  77 1024]\n",
      " [  74 1024]\n",
      " [  72 1024]\n",
      " [  72 1024]\n",
      " [  70 1024]\n",
      " [  72 1024]\n",
      " [  74 1024]\n",
      " [  72 1024]\n",
      " [  70 1024]\n",
      " [  69 1024]\n",
      " [  69 1024]\n",
      " [  71 1024]\n",
      " [  72 1024]\n",
      " [  74 1024]\n",
      " [  72 1024]\n",
      " [  71 1024]\n",
      " [  69 1024]\n",
      " [  71 1024]\n",
      " [  71 1024]\n",
      " [  71 1024]\n",
      " [  69 1024]\n",
      " [  71 1024]\n",
      " [  72 1024]\n",
      " [  71 1024]\n",
      " [  69 1024]\n",
      " [  67 1024]\n",
      " [  69 1024]\n",
      " [  69 1024]\n",
      " [  67 1024]\n",
      " [  65 1024]\n",
      " [  64 1024]\n",
      " [  62 1024]\n",
      " [  64 1024]\n",
      " [  65 1024]\n",
      " [  67 1024]\n",
      " [  65 1024]]\n",
      "[[  74 1024]\n",
      " [  72 1024]\n",
      " [  72 1024]\n",
      " [  74 1024]\n",
      " [  75 1024]\n",
      " [  77 1024]\n",
      " [  74 1024]\n",
      " [  72 1024]\n",
      " [  72 1024]\n",
      " [  70 1024]\n",
      " [  72 1024]\n",
      " [  69 1024]\n",
      " [  66 1024]\n",
      " [  63 1024]\n",
      " [  60 1024]\n",
      " [  57 1024]\n",
      " [  54 1024]\n",
      " [  51 1024]\n",
      " [  48 1024]\n",
      " [  45 1024]\n",
      " [  36 1024]\n",
      " [  33 1024]\n",
      " [  30 1024]\n",
      " [  27 1024]\n",
      " [  24 1024]\n",
      " [  21 1024]\n",
      " [  18 1024]\n",
      " [  15 1024]\n",
      " [  12 1024]\n",
      " [   9 1024]]\n"
     ]
    }
   ],
   "source": [
    "# write numpy to midi track\n",
    "os.chdir(home_dir)\n",
    "\n",
    "numpy_notes = midi_utils.prediction_to_numpy(track, 1024)\n",
    "stop = 50\n",
    "print(numpy_notes[:stop])\n",
    "# create midi track\n",
    "new_track = midi_utils.numpy_to_midi_track(numpy_notes, 1, 'Modified')\n",
    "# make new song with the new track\n",
    "new_track_dict = {}\n",
    "new_track_dict['0'] = track_dict['0']\n",
    "new_track_dict['1'] = new_track\n",
    "modified_midi_filename = 'results/feedforward_net_track_intervals.mid'\n",
    "modified_csv_list = midi_utils.track_dict_to_csv(new_track_dict)\n",
    "midi_utils.write_to_midi(modified_csv_list, modified_midi_filename)\n",
    "\n",
    "# UNTRAINED\n",
    "numpy_notes = midi_utils.prediction_to_numpy(track_untrained, 1024)\n",
    "stop = 30 # to prevent negative notes\n",
    "print(numpy_notes[:stop])\n",
    "# create midi track\n",
    "new_track = midi_utils.numpy_to_midi_track(numpy_notes[:stop], 1, 'Modified')\n",
    "# make new song with the new track\n",
    "new_track_dict = {}\n",
    "new_track_dict['0'] = track_dict['0']\n",
    "new_track_dict['1'] = new_track\n",
    "modified_midi_filename_untrained = 'results/feedforward_net_track_intervals_untrained.mid'\n",
    "modified_csv_list = midi_utils.track_dict_to_csv(new_track_dict)\n",
    "midi_utils.write_to_midi(modified_csv_list, modified_midi_filename_untrained)\n",
    "\n",
    "# SNAPSHOT\n",
    "numpy_notes = midi_utils.prediction_to_numpy(track_snapshot, 1024)\n",
    "stop = 50 # to prevent negative notes\n",
    "#print(numpy_notes[:stop])\n",
    "# create midi track\n",
    "new_track = midi_utils.numpy_to_midi_track(numpy_notes[:stop], 1, 'Modified')\n",
    "# make new song with the new track\n",
    "new_track_dict = {}\n",
    "new_track_dict['0'] = track_dict['0']\n",
    "new_track_dict['1'] = new_track\n",
    "modified_midi_filename_snapshot = 'results/feedforward_net_track_intervals_snapshot.mid'\n",
    "modified_csv_list = midi_utils.track_dict_to_csv(new_track_dict)\n",
    "midi_utils.write_to_midi(modified_csv_list, modified_midi_filename_snapshot)"
   ]
  },
  {
   "cell_type": "code",
   "execution_count": 90,
   "metadata": {
    "colab": {},
    "colab_type": "code",
    "id": "YJZCj7Wyi8k7"
   },
   "outputs": [],
   "source": [
    "pygame.init()\n",
    "pygame.mixer.music.load(modified_midi_filename)\n",
    "pygame.mixer.music.play()"
   ]
  },
  {
   "cell_type": "code",
   "execution_count": 60,
   "metadata": {
    "colab": {},
    "colab_type": "code",
    "id": "HpfqnFH8i8k-"
   },
   "outputs": [],
   "source": [
    "pygame.mixer.music.stop()"
   ]
  },
  {
   "cell_type": "code",
   "execution_count": 91,
   "metadata": {
    "colab": {
     "base_uri": "https://localhost:8080/",
     "height": 34
    },
    "colab_type": "code",
    "id": "RfvEB29Ni8lA",
    "outputId": "957b2c87-1554-4505-8f8d-e82acc75fbda"
   },
   "outputs": [],
   "source": [
    "# UNTRAINED\n",
    "pygame.init()\n",
    "pygame.mixer.music.load(modified_midi_filename_untrained)\n",
    "pygame.mixer.music.play()"
   ]
  },
  {
   "cell_type": "code",
   "execution_count": 92,
   "metadata": {},
   "outputs": [],
   "source": [
    "pygame.mixer.music.stop()"
   ]
  },
  {
   "cell_type": "code",
   "execution_count": 93,
   "metadata": {},
   "outputs": [],
   "source": [
    "# SNAPSHOT\n",
    "pygame.init()\n",
    "pygame.mixer.music.load(modified_midi_filename_snapshot)\n",
    "pygame.mixer.music.play()"
   ]
  },
  {
   "cell_type": "code",
   "execution_count": null,
   "metadata": {},
   "outputs": [],
   "source": [
    "pygame.mixer.music.stop()"
   ]
  }
 ],
 "metadata": {
  "accelerator": "GPU",
  "colab": {
   "collapsed_sections": [],
   "name": "train_feedforward_net.ipynb",
   "provenance": [],
   "toc_visible": true,
   "version": "0.3.2"
  },
  "kernelspec": {
   "display_name": "Python 3",
   "language": "python",
   "name": "python3"
  },
  "language_info": {
   "codemirror_mode": {
    "name": "ipython",
    "version": 3
   },
   "file_extension": ".py",
   "mimetype": "text/x-python",
   "name": "python",
   "nbconvert_exporter": "python",
   "pygments_lexer": "ipython3",
   "version": "3.6.7"
  }
 },
 "nbformat": 4,
 "nbformat_minor": 2
}
