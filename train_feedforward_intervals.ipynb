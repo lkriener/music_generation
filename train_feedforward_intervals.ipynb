{
 "cells": [
  {
   "cell_type": "markdown",
   "metadata": {
    "colab_type": "text",
    "id": "upMkQI5Ri8kU"
   },
   "source": [
    "# Train feedforward net"
   ]
  },
  {
   "cell_type": "code",
   "execution_count": 1,
   "metadata": {
    "colab": {
     "base_uri": "https://localhost:8080/",
     "height": 136
    },
    "colab_type": "code",
    "id": "nIeCTwk5i8kW",
    "outputId": "71226a0a-e7b0-49fc-9fe0-c618ccc9170b"
   },
   "outputs": [],
   "source": [
    "# Uncomment the line below and run this cell to get your data from github into colab (only runnable in colab, not ordinary jupyter notebook):\n",
    "#! git clone https://github.com/lkriener/music_generation.git && mv music_generation/* . && rm music_generation -r"
   ]
  },
  {
   "cell_type": "code",
   "execution_count": 2,
   "metadata": {
    "colab": {
     "base_uri": "https://localhost:8080/",
     "height": 136
    },
    "colab_type": "code",
    "id": "8PDGFwS8jKrA",
    "outputId": "b7964db3-b3d8-4e4a-877e-69d1687f59f6"
   },
   "outputs": [],
   "source": [
    "# Uncomment line to install requirements\n",
    "#! pip install -r colab_requirements.txt"
   ]
  },
  {
   "cell_type": "code",
   "execution_count": 1,
   "metadata": {
    "colab": {
     "base_uri": "https://localhost:8080/",
     "height": 51
    },
    "colab_type": "code",
    "id": "Hz32cHiui8kb",
    "outputId": "9f6b2ae5-5543-4ff8-cf7c-02a97cda8e59"
   },
   "outputs": [
    {
     "name": "stdout",
     "output_type": "stream",
     "text": [
      "pygame 1.9.5\n",
      "Hello from the pygame community. https://www.pygame.org/contribute.html\n"
     ]
    }
   ],
   "source": [
    "import src.midi_utils as midi_utils\n",
    "from src.dataset_utils import TrackDataset, get_dataset_representation_from_tracks\n",
    "\n",
    "import torch\n",
    "import torch.nn as nn\n",
    "from torch.utils.data import DataLoader\n",
    "\n",
    "import glob\n",
    "import os\n",
    "import copy\n",
    "import pygame\n",
    "import numpy as np"
   ]
  },
  {
   "cell_type": "code",
   "execution_count": 2,
   "metadata": {
    "colab": {
     "base_uri": "https://localhost:8080/",
     "height": 215
    },
    "colab_type": "code",
    "id": "9SHyV0zBi8kh",
    "outputId": "56394c81-ac40-4b9c-af10-ad1ce23026ba"
   },
   "outputs": [],
   "source": [
    "midi_filename = 'data/raw/bach/bwv104.6.mid'\n",
    "# midi_filename = 'data/raw/video_game/pkgsc_azalea.mid'\n",
    "pygame.init()\n",
    "pygame.mixer.music.load(midi_filename)\n",
    "pygame.mixer.music.play()"
   ]
  },
  {
   "cell_type": "code",
   "execution_count": 3,
   "metadata": {
    "colab": {},
    "colab_type": "code",
    "id": "qH3jo86Qi8kj"
   },
   "outputs": [],
   "source": [
    "pygame.mixer.music.stop()"
   ]
  },
  {
   "cell_type": "markdown",
   "metadata": {
    "colab_type": "text",
    "id": "b8Q3soTTi8km"
   },
   "source": [
    "# Neural network"
   ]
  },
  {
   "cell_type": "code",
   "execution_count": 2,
   "metadata": {},
   "outputs": [
    {
     "name": "stdout",
     "output_type": "stream",
     "text": [
      "Number of tracks: 357\n"
     ]
    }
   ],
   "source": [
    "tracks = []\n",
    "\n",
    "try:\n",
    "    home_dir\n",
    "except NameError:\n",
    "    home_dir = os.getcwd()\n",
    "\n",
    "os.chdir(home_dir + \"/data/raw/bach\")  # go to a folder relative to home dir\n",
    "for midi_file in glob.glob(\"*.mid\"):\n",
    "    # get a list of all soprano tracks\n",
    "    ## load midi file\n",
    "    csv_text = midi_utils.load_to_csv(midi_file)\n",
    "\n",
    "    ## Split into tracks\n",
    "    track_dict = midi_utils.split_tracks(csv_text)\n",
    "    track_nr = '1'\n",
    "\n",
    "    ## Generating numpy array with notes\n",
    "    track = midi_utils.midi_track_to_numpy(track_dict[track_nr])\n",
    "    tracks.append(track)\n",
    "    \n",
    "print(\"Number of tracks: \" + str(len(tracks)))"
   ]
  },
  {
   "cell_type": "code",
   "execution_count": 4,
   "metadata": {
    "colab": {
     "base_uri": "https://localhost:8080/",
     "height": 272
    },
    "colab_type": "code",
    "id": "HxMigMtRi8km",
    "outputId": "bcb853a6-7d49-4fcc-83de-8b3cedbb3165"
   },
   "outputs": [
    {
     "name": "stdout",
     "output_type": "stream",
     "text": [
      "Mean of the dataset: 0.00045936931473620525\n",
      "Number of samples: 16490\n"
     ]
    }
   ],
   "source": [
    "prediction_qty = 1\n",
    "# producable interval range +- one octave\n",
    "min_interval = -12\n",
    "max_interval = 12\n",
    "interval_indices = {}\n",
    "interval_values = np.arange(min_interval, max_interval+1, 1)\n",
    "\n",
    "j = 0\n",
    "for i in range(min_interval, max_interval+1, 1):\n",
    "    interval_indices[str(i)] = j\n",
    "    j += 1\n",
    "\n",
    "assert prediction_qty == 1  #because one-hot encoding in output allows only one prediction\n",
    "\n",
    "x, y = get_dataset_representation_from_tracks(tracks, feature_qty=10, prediction_qty=prediction_qty, intervals=True)\n",
    "# drop length of notes and keep pitch\n",
    "x = np.stack(x)\n",
    "x = x[:,:,0]\n",
    "x = x / max(abs(min_interval), max_interval)\n",
    "y = np.stack(y)\n",
    "y = y[:,:,0]\n",
    "# we will use cross-entropy loss, so the label must be the interval-index\n",
    "y_idx = np.array([int(interval_indices[str(i[0])]) for i in y])\n",
    "\n",
    "print(\"Mean of the dataset: \" + str(np.mean(x)))\n",
    "print(\"Number of samples: \" + str(len(x)))\n",
    "\n",
    "mini_batch_size = 32\n",
    "\n",
    "train_portion = 0.8\n",
    "train_indices = np.random.choice(np.arange(0, len(x), 1), int(train_portion*len(x)), replace=False)\n",
    "valid_indices = np.setdiff1d(np.arange(0, len(x), 1), train_indices)\n",
    "train_dataset = TrackDataset(x[train_indices], y_idx[train_indices], drop_length=False, intervals=True)  # make training dataset\n",
    "valid_dataset = TrackDataset(x[valid_indices], y_idx[valid_indices], drop_length=False, intervals=True)  # make validation dataset\n",
    "\n",
    "train_loader = DataLoader(train_dataset, batch_size=mini_batch_size, shuffle=True)\n",
    "validation_loader = DataLoader(valid_dataset, batch_size=mini_batch_size, shuffle=True) # TODO TODO TODO: CHANGE TO A SUITABLE VALIDATIONSET"
   ]
  },
  {
   "cell_type": "code",
   "execution_count": 5,
   "metadata": {
    "colab": {
     "base_uri": "https://localhost:8080/",
     "height": 119
    },
    "colab_type": "code",
    "id": "CVgPaaAUi8kq",
    "outputId": "d90aa1c7-7443-4d75-d481-84a73d50deea"
   },
   "outputs": [
    {
     "name": "stdout",
     "output_type": "stream",
     "text": [
      "Training set size 13192\n",
      "Input size 10/ output size 25/ learning rate 0.001\n",
      "Input example tensor([-0.1667,  0.0000, -0.0833,  0.0833,  0.1667, -0.4167,  0.1667,  0.0833,\n",
      "        -0.0833, -0.1667])\n",
      "Output example 12\n"
     ]
    }
   ],
   "source": [
    "print(\"Training set size\", len(train_dataset))\n",
    "\n",
    "input_size = len(train_dataset[0][0])  # get input size\n",
    "input_example = train_dataset[0][0]\n",
    "output_size = len(interval_indices)  # get output size\n",
    "output_example = train_dataset[0][1]\n",
    "learning_rate = 0.001\n",
    "\n",
    "print(\"Input size {}/ output size {}/ learning rate {}\".format(input_size, output_size, learning_rate))\n",
    "print(\"Input example {}\".format(input_example))\n",
    "print(\"Output example {}\".format(output_example))\n",
    "   \n",
    "\n",
    "class MLPModel(nn.Module):\n",
    "    \n",
    "    def __init__(self, input_dim, hidden_dim, output_dim):\n",
    "        super(MLPModel, self).__init__()\n",
    "        self.layers = nn.Sequential(\n",
    "            nn.Linear(input_dim, hidden_dim),\n",
    "            nn.ReLU(),\n",
    "            nn.Linear(hidden_dim, hidden_dim),\n",
    "            nn.ReLU(),\n",
    "            nn.Linear(hidden_dim, hidden_dim),\n",
    "            nn.ReLU(),\n",
    "            nn.Linear(hidden_dim, output_dim)\n",
    "        )\n",
    "    \n",
    "    def forward(self, input):\n",
    "        return self.layers(input)\n",
    "    \n",
    "device = torch.device('cuda' if torch.cuda.is_available() else 'cpu')\n",
    "    \n",
    "mlp_model = MLPModel(input_size, 256, output_size)\n",
    "untrained_model = copy.deepcopy(mlp_model)\n",
    "mlp_model = mlp_model.to(device)\n",
    "model = mlp_model\n",
    "model.to(device)\n",
    "\n",
    "criterion = torch.nn.CrossEntropyLoss()\n",
    "optimizer = torch.optim.Adam(model.parameters(), lr=learning_rate)\n",
    "\n",
    "\n",
    "def train(model, train_dataloader, val_dataloader, optimizer, n_epochs, loss_function, device=torch.device('cpu'), verbose=1):\n",
    "    # We will monitor loss functions as the training progresses\n",
    "    train_losses = []\n",
    "    val_losses = []\n",
    "\n",
    "    for epoch in range(n_epochs):\n",
    "        # training phase\n",
    "        model.train()\n",
    "        # Iterate mini batches over training dataset\n",
    "        losses = []\n",
    "        for x, y in train_dataloader:\n",
    "            x = x.to(device)\n",
    "            y = y.to(device)\n",
    "            output = model(x)  # predict output from input\n",
    "            \n",
    "            # set gradients to zero\n",
    "            optimizer.zero_grad()\n",
    "\n",
    "            loss = loss_function(output, y)\n",
    "            if verbose > 2:\n",
    "                print(loss.item())\n",
    "            loss.backward()\n",
    "            optimizer.step()\n",
    "\n",
    "            # Metrics\n",
    "            losses.append(loss.item())\n",
    "            \n",
    "        train_losses.append(np.mean(np.array(losses)))\n",
    "\n",
    "        # Evaluation phase\n",
    "        model.eval()\n",
    "        # iterate mini batches over validation set\n",
    "        # We don't need gradients\n",
    "        losses = []\n",
    "        with torch.no_grad():\n",
    "            for x, y in val_dataloader:\n",
    "                x = x.to(device)\n",
    "                y = y.to(device)\n",
    "                output = model(x)\n",
    "                loss = loss_function(output, y)\n",
    "                if verbose > 1:\n",
    "                    print(loss.item())\n",
    "\n",
    "                losses.append(loss.item())\n",
    "        val_losses.append(np.mean(np.array(losses)))\n",
    "        \n",
    "        if verbose > 0:\n",
    "            print('Epoch {}/{}: train_loss: {:.4f}, val_loss: {:.4f}'.format(epoch + 1, n_epochs, train_losses[-1], val_losses[-1]))\n",
    "    return train_losses, val_losses\n"
   ]
  },
  {
   "cell_type": "code",
   "execution_count": 6,
   "metadata": {
    "colab": {
     "base_uri": "https://localhost:8080/",
     "height": 867
    },
    "colab_type": "code",
    "id": "CoKXI2Xyi8kt",
    "outputId": "baa50a74-5f1a-45be-fa73-5cb6d606d76c"
   },
   "outputs": [
    {
     "name": "stdout",
     "output_type": "stream",
     "text": [
      "Epoch 1/50: train_loss: 2.1013, val_loss: 2.0155\n",
      "Epoch 2/50: train_loss: 1.9926, val_loss: 1.9584\n",
      "Epoch 3/50: train_loss: 1.9437, val_loss: 1.8997\n",
      "Epoch 4/50: train_loss: 1.8999, val_loss: 1.8966\n",
      "Epoch 5/50: train_loss: 1.8496, val_loss: 1.8278\n",
      "Epoch 6/50: train_loss: 1.7910, val_loss: 1.7826\n",
      "Epoch 7/50: train_loss: 1.7540, val_loss: 1.8033\n",
      "Epoch 8/50: train_loss: 1.7228, val_loss: 1.7319\n",
      "Epoch 9/50: train_loss: 1.6919, val_loss: 1.7503\n",
      "Epoch 10/50: train_loss: 1.6753, val_loss: 1.7337\n",
      "Epoch 11/50: train_loss: 1.6492, val_loss: 1.7302\n",
      "Epoch 12/50: train_loss: 1.6276, val_loss: 1.7201\n",
      "Epoch 13/50: train_loss: 1.6049, val_loss: 1.6971\n",
      "Epoch 14/50: train_loss: 1.5835, val_loss: 1.6968\n",
      "Epoch 15/50: train_loss: 1.5647, val_loss: 1.6883\n",
      "Epoch 16/50: train_loss: 1.5363, val_loss: 1.6951\n",
      "Epoch 17/50: train_loss: 1.5164, val_loss: 1.6942\n",
      "Epoch 18/50: train_loss: 1.4866, val_loss: 1.7011\n",
      "Epoch 19/50: train_loss: 1.4691, val_loss: 1.6798\n",
      "Epoch 20/50: train_loss: 1.4452, val_loss: 1.6799\n",
      "Epoch 21/50: train_loss: 1.4224, val_loss: 1.7130\n",
      "Epoch 22/50: train_loss: 1.4006, val_loss: 1.6763\n",
      "Epoch 23/50: train_loss: 1.3754, val_loss: 1.6850\n",
      "Epoch 24/50: train_loss: 1.3533, val_loss: 1.7083\n",
      "Epoch 25/50: train_loss: 1.3302, val_loss: 1.6567\n",
      "Epoch 26/50: train_loss: 1.3100, val_loss: 1.6970\n",
      "Epoch 27/50: train_loss: 1.2902, val_loss: 1.6520\n",
      "Epoch 28/50: train_loss: 1.2574, val_loss: 1.6965\n",
      "Epoch 29/50: train_loss: 1.2428, val_loss: 1.7072\n",
      "Epoch 30/50: train_loss: 1.2186, val_loss: 1.6891\n",
      "Epoch 31/50: train_loss: 1.1950, val_loss: 1.6847\n",
      "Epoch 32/50: train_loss: 1.1795, val_loss: 1.7152\n",
      "Epoch 33/50: train_loss: 1.1542, val_loss: 1.7064\n",
      "Epoch 34/50: train_loss: 1.1341, val_loss: 1.7462\n",
      "Epoch 35/50: train_loss: 1.1139, val_loss: 1.7549\n",
      "Epoch 36/50: train_loss: 1.0901, val_loss: 1.7374\n",
      "Epoch 37/50: train_loss: 1.0735, val_loss: 1.7727\n",
      "Epoch 38/50: train_loss: 1.0466, val_loss: 1.7309\n",
      "Epoch 39/50: train_loss: 1.0264, val_loss: 1.7626\n",
      "Epoch 40/50: train_loss: 1.0081, val_loss: 1.7758\n",
      "Epoch 41/50: train_loss: 0.9898, val_loss: 1.7993\n",
      "Epoch 42/50: train_loss: 0.9681, val_loss: 1.7928\n",
      "Epoch 43/50: train_loss: 0.9542, val_loss: 1.8164\n",
      "Epoch 44/50: train_loss: 0.9355, val_loss: 1.7955\n",
      "Epoch 45/50: train_loss: 0.9112, val_loss: 1.8110\n",
      "Epoch 46/50: train_loss: 0.8969, val_loss: 1.8337\n",
      "Epoch 47/50: train_loss: 0.8813, val_loss: 1.8753\n",
      "Epoch 48/50: train_loss: 0.8633, val_loss: 1.9306\n",
      "Epoch 49/50: train_loss: 0.8384, val_loss: 1.8529\n",
      "Epoch 50/50: train_loss: 0.8254, val_loss: 1.8691\n"
     ]
    }
   ],
   "source": [
    "# Train the linear model and plot how the loss changes as the \n",
    "# training progresses for both training and validation set.\n",
    "import matplotlib.pyplot as plt\n",
    "%matplotlib inline\n",
    "\n",
    "train_losses, val_losses = train(model, train_loader, validation_loader, optimizer, 50, criterion, device=device, verbose=1)"
   ]
  },
  {
   "cell_type": "code",
   "execution_count": 7,
   "metadata": {
    "colab": {
     "base_uri": "https://localhost:8080/",
     "height": 813
    },
    "colab_type": "code",
    "id": "LkFD6gaEi8kx",
    "outputId": "0586225e-a86d-4b94-eae0-c5cf6abfa70a"
   },
   "outputs": [
    {
     "data": {
      "image/png": "[encoded data removed]",
      "text/plain": [
       "<Figure size 648x360 with 1 Axes>"
      ]
     },
     "metadata": {
      "needs_background": "light"
     },
     "output_type": "display_data"
    }
   ],
   "source": [
    "plt.figure(figsize=(9,5))\n",
    "x = range(len(train_losses))\n",
    "plt.xlabel('Epochs')\n",
    "plt.ylabel('Cross Entropy Loss')\n",
    "plt.plot(x, train_losses, label='Train')\n",
    "plt.plot(x, val_losses, label='Valid')\n",
    "plt.legend()\n",
    "\n",
    "os.chdir(home_dir)\n",
    "plt.savefig('graphics/loss_forward_intervals.png')"
   ]
  },
  {
   "cell_type": "code",
   "execution_count": 24,
   "metadata": {
    "colab": {
     "base_uri": "https://localhost:8080/",
     "height": 102
    },
    "colab_type": "code",
    "id": "OsW176Y2i8k1",
    "outputId": "ae7a531d-f0d7-4ad8-d7cb-3d1bf963f78d"
   },
   "outputs": [
    {
     "name": "stdout",
     "output_type": "stream",
     "text": [
      "tensor([-0.1667,  0.1667, -0.3333, -0.0833, -0.1667,  0.1667, -0.1667,  0.0000,\n",
      "         0.4167, -0.1667])\n",
      "tensor(11)\n",
      "[-2, 2, -4, -1, -2, 2, -2, 0, 5, -2, -1, 1, -3, -2, 0, 5, -1, 1, 2, 2, -2, -2, -1, -2, 2, 1, 2, -2, -1, -2, -2, 2, 1, 2, -2, -1, -2, -2, 5, 1]\n",
      "[74 72 74 70 69 67 69 67 67 72 70 69 70 67 65 65 70 69 70 72 74 72 70 69\n",
      " 67 69 70 72 70 69 67 65 67 68 70 68 67 65 63 68 69]\n",
      "tensor([-0.1667,  0.1667, -0.3333, -0.0833, -0.1667,  0.1667, -0.1667,  0.0000,\n",
      "         0.4167, -0.1667])\n",
      "tensor(11)\n",
      "[-2, 2, -4, -1, -2, 2, -2, 0, 5, -2, -8, -8, -8, -8, 4, 4, -8, -8, -8, -8, 4, 4, -8, -8, -8, -8, 4, 4, -8, -8, -8, -8, 4, 4, -8, -8, -8, -8, 4, 4]\n",
      "[ 74  72  74  70  69  67  69  67  67  72  70  62  54  46  38  42  46  38\n",
      "  30  22  14  18  22  14   6  -2 -10  -6  -2 -10 -18 -26 -34 -30 -26 -34\n",
      " -42 -50 -58 -54 -50]\n"
     ]
    }
   ],
   "source": [
    "# predict midi from init samples\n",
    "# predict for a certain length\n",
    "predict_length = 30  \n",
    "init_index = 1000\n",
    "\n",
    "\n",
    "generated_track = []\n",
    "x, y = valid_dataset[init_index]\n",
    "print(x)\n",
    "print(y)\n",
    "\n",
    "x = x.to(device)\n",
    "x_orig = np.array(x.cpu().detach().numpy() * max(abs(min_interval), max_interval), dtype=int)\n",
    "generated_track = list(x_orig)\n",
    "for i in range(predict_length):\n",
    "    output = model(x)  # predict output from input\n",
    "    chosen_idx = np.argmax(output.cpu().detach().numpy())\n",
    "    chosen_interval = interval_values[chosen_idx]\n",
    "    generated_track.append(chosen_interval)\n",
    "    x_new = np.array(generated_track[-len(x):])\n",
    "    x = torch.tensor(x_new / max(abs(min_interval), max_interval), dtype=torch.float32)\n",
    "    x = x.to(device)\n",
    "    \n",
    "print(generated_track)\n",
    "start_pitch = 74\n",
    "track = [start_pitch]\n",
    "for interval in generated_track:\n",
    "    track.append(track[-1] + interval)\n",
    "track = np.array(track)\n",
    "print(track)\n",
    "\n",
    "\n",
    "# Letting the untrained generate\n",
    "untrained_model = untrained_model.to(device)\n",
    "generated_track = []\n",
    "x, y = valid_dataset[init_index]\n",
    "print(x)\n",
    "print(y)\n",
    "\n",
    "x = x.to(device)\n",
    "x_orig = np.array(x.cpu().detach().numpy() * max(abs(min_interval), max_interval), dtype=int)\n",
    "generated_track = list(x_orig)\n",
    "for i in range(predict_length):\n",
    "    output = untrained_model(x)  # predict output from input\n",
    "    chosen_idx = np.argmax(output.cpu().detach().numpy())\n",
    "    chosen_interval = interval_values[chosen_idx]\n",
    "    generated_track.append(chosen_interval)\n",
    "    x_new = np.array(generated_track[-len(x):])\n",
    "    x = torch.tensor(x_new / max(abs(min_interval), max_interval), dtype=torch.float32)\n",
    "    x = x.to(device)\n",
    "    \n",
    "print(generated_track)\n",
    "start_pitch = 74\n",
    "track_untrained = [start_pitch]\n",
    "for interval in generated_track:\n",
    "    track_untrained.append(track_untrained[-1] + interval)\n",
    "track_untrained = np.array(track_untrained)\n",
    "print(track_untrained)"
   ]
  },
  {
   "cell_type": "code",
   "execution_count": 30,
   "metadata": {
    "colab": {},
    "colab_type": "code",
    "id": "mSyiG-4Ni8k5"
   },
   "outputs": [
    {
     "name": "stdout",
     "output_type": "stream",
     "text": [
      "[[  74 1024]\n",
      " [  72 1024]\n",
      " [  74 1024]\n",
      " [  70 1024]\n",
      " [  69 1024]\n",
      " [  67 1024]\n",
      " [  69 1024]\n",
      " [  67 1024]\n",
      " [  67 1024]\n",
      " [  72 1024]\n",
      " [  70 1024]\n",
      " [  62 1024]\n",
      " [  54 1024]\n",
      " [  46 1024]\n",
      " [  38 1024]\n",
      " [  42 1024]\n",
      " [  46 1024]\n",
      " [  38 1024]\n",
      " [  30 1024]\n",
      " [  22 1024]\n",
      " [  14 1024]\n",
      " [  18 1024]\n",
      " [  22 1024]\n",
      " [  14 1024]\n",
      " [   6 1024]]\n"
     ]
    }
   ],
   "source": [
    "# write numpy to midi track\n",
    "os.chdir(home_dir)\n",
    "\n",
    "numpy_notes = midi_utils.prediction_to_numpy(track, 1024)\n",
    "# create midi track\n",
    "new_track = midi_utils.numpy_to_midi_track(numpy_notes, 1, 'Modified')\n",
    "# make new song with the new track\n",
    "new_track_dict = {}\n",
    "new_track_dict['0'] = track_dict['0']\n",
    "new_track_dict['1'] = new_track\n",
    "modified_midi_filename = 'results/feedforward_net_track_intervals.mid'\n",
    "modified_csv_list = midi_utils.track_dict_to_csv(new_track_dict)\n",
    "midi_utils.write_to_midi(modified_csv_list, modified_midi_filename)\n",
    "\n",
    "# UNTRAINED\n",
    "numpy_notes = midi_utils.prediction_to_numpy(track_untrained, 1024)\n",
    "stop = 25 # to prevent negative notes\n",
    "print(numpy_notes[:stop])\n",
    "# create midi track\n",
    "new_track = midi_utils.numpy_to_midi_track(numpy_notes[:stop], 1, 'Modified')\n",
    "# make new song with the new track\n",
    "new_track_dict = {}\n",
    "new_track_dict['0'] = track_dict['0']\n",
    "new_track_dict['1'] = new_track\n",
    "modified_midi_filename_untrained = 'results/feedforward_net_track_intervals_untrained.mid'\n",
    "modified_csv_list = midi_utils.track_dict_to_csv(new_track_dict)\n",
    "midi_utils.write_to_midi(modified_csv_list, modified_midi_filename_untrained)"
   ]
  },
  {
   "cell_type": "code",
   "execution_count": 20,
   "metadata": {
    "colab": {},
    "colab_type": "code",
    "id": "YJZCj7Wyi8k7"
   },
   "outputs": [],
   "source": [
    "pygame.init()\n",
    "pygame.mixer.music.load(modified_midi_filename)\n",
    "pygame.mixer.music.play()"
   ]
  },
  {
   "cell_type": "code",
   "execution_count": 14,
   "metadata": {
    "colab": {},
    "colab_type": "code",
    "id": "HpfqnFH8i8k-"
   },
   "outputs": [],
   "source": [
    "pygame.mixer.music.stop()"
   ]
  },
  {
   "cell_type": "code",
   "execution_count": 31,
   "metadata": {
    "colab": {
     "base_uri": "https://localhost:8080/",
     "height": 34
    },
    "colab_type": "code",
    "id": "RfvEB29Ni8lA",
    "outputId": "957b2c87-1554-4505-8f8d-e82acc75fbda"
   },
   "outputs": [],
   "source": [
    "# UNTRAINED\n",
    "pygame.init()\n",
    "pygame.mixer.music.load(modified_midi_filename_untrained)\n",
    "pygame.mixer.music.play()"
   ]
  },
  {
   "cell_type": "code",
   "execution_count": null,
   "metadata": {},
   "outputs": [],
   "source": [
    "pygame.mixer.music.stop()"
   ]
  }
 ],
 "metadata": {
  "accelerator": "GPU",
  "colab": {
   "collapsed_sections": [],
   "name": "train_feedforward_net.ipynb",
   "provenance": [],
   "toc_visible": true,
   "version": "0.3.2"
  },
  "kernelspec": {
   "display_name": "Python 3",
   "language": "python",
   "name": "python3"
  },
  "language_info": {
   "codemirror_mode": {
    "name": "ipython",
    "version": 3
   },
   "file_extension": ".py",
   "mimetype": "text/x-python",
   "name": "python",
   "nbconvert_exporter": "python",
   "pygments_lexer": "ipython3",
   "version": "3.6.7"
  }
 },
 "nbformat": 4,
 "nbformat_minor": 2
}
