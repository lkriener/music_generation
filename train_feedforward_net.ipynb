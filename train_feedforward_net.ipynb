{
 "cells": [
  {
   "cell_type": "markdown",
   "metadata": {
    "colab_type": "text",
    "id": "upMkQI5Ri8kU"
   },
   "source": [
    "# Train feedforward net"
   ]
  },
  {
   "cell_type": "code",
   "execution_count": 1,
   "metadata": {
    "colab": {
     "base_uri": "https://localhost:8080/",
     "height": 136
    },
    "colab_type": "code",
    "id": "nIeCTwk5i8kW",
    "outputId": "71226a0a-e7b0-49fc-9fe0-c618ccc9170b"
   },
   "outputs": [],
   "source": [
    "# Uncomment the line below and run this cell to get your data from github into colab (only runnable in colab, not ordinary jupyter notebook):\n",
    "#! git clone https://github.com/lkriener/music_generation.git && mv music_generation/* . && rm music_generation -r"
   ]
  },
  {
   "cell_type": "code",
   "execution_count": 2,
   "metadata": {
    "colab": {
     "base_uri": "https://localhost:8080/",
     "height": 136
    },
    "colab_type": "code",
    "id": "8PDGFwS8jKrA",
    "outputId": "b7964db3-b3d8-4e4a-877e-69d1687f59f6"
   },
   "outputs": [],
   "source": [
    "# Uncomment line to install requirements\n",
    "#! pip install -r colab_requirements.txt"
   ]
  },
  {
   "cell_type": "code",
   "execution_count": 3,
   "metadata": {
    "colab": {
     "base_uri": "https://localhost:8080/",
     "height": 51
    },
    "colab_type": "code",
    "id": "Hz32cHiui8kb",
    "outputId": "9f6b2ae5-5543-4ff8-cf7c-02a97cda8e59"
   },
   "outputs": [
    {
     "name": "stdout",
     "output_type": "stream",
     "text": [
      "pygame 1.9.5\n",
      "Hello from the pygame community. https://www.pygame.org/contribute.html\n"
     ]
    }
   ],
   "source": [
    "import src.midi_utils as midi_utils\n",
    "\n",
    "import pygame"
   ]
  },
  {
   "cell_type": "code",
   "execution_count": 5,
   "metadata": {
    "colab": {
     "base_uri": "https://localhost:8080/",
     "height": 215
    },
    "colab_type": "code",
    "id": "9SHyV0zBi8kh",
    "outputId": "56394c81-ac40-4b9c-af10-ad1ce23026ba"
   },
   "outputs": [],
   "source": [
    "midi_filename = 'data/raw/bach/bwv104.6.mid'\n",
    "# midi_filename = 'data/raw/video_game/pkgsc_azalea.mid'\n",
    "pygame.init()\n",
    "pygame.mixer.music.load(midi_filename)\n",
    "pygame.mixer.music.play()"
   ]
  },
  {
   "cell_type": "code",
   "execution_count": 6,
   "metadata": {
    "colab": {},
    "colab_type": "code",
    "id": "qH3jo86Qi8kj"
   },
   "outputs": [],
   "source": [
    "pygame.mixer.music.stop()"
   ]
  },
  {
   "cell_type": "markdown",
   "metadata": {
    "colab_type": "text",
    "id": "b8Q3soTTi8km"
   },
   "source": [
    "# Neural network"
   ]
  },
  {
   "cell_type": "code",
   "execution_count": 7,
   "metadata": {
    "colab": {
     "base_uri": "https://localhost:8080/",
     "height": 272
    },
    "colab_type": "code",
    "id": "HxMigMtRi8km",
    "outputId": "bcb853a6-7d49-4fcc-83de-8b3cedbb3165"
   },
   "outputs": [
    {
     "name": "stdout",
     "output_type": "stream",
     "text": [
      "Number of tracks: 357\n",
      "Mean of the dataset: 70.56518791895759\n",
      "Number of samples: 13277\n"
     ]
    },
    {
     "name": "stderr",
     "output_type": "stream",
     "text": [
      "/home/laura/.local/lib/python3.6/site-packages/sklearn/utils/validation.py:595: DataConversionWarning: Data with input dtype int64 was converted to float64 by StandardScaler.\n",
      "  warnings.warn(msg, DataConversionWarning)\n",
      "/home/laura/.local/lib/python3.6/site-packages/sklearn/utils/validation.py:595: DataConversionWarning: Data with input dtype int64 was converted to float64 by StandardScaler.\n",
      "  warnings.warn(msg, DataConversionWarning)\n",
      "/home/laura/.local/lib/python3.6/site-packages/sklearn/utils/validation.py:595: DataConversionWarning: Data with input dtype int64 was converted to float64 by StandardScaler.\n",
      "  warnings.warn(msg, DataConversionWarning)\n",
      "/home/laura/.local/lib/python3.6/site-packages/sklearn/utils/validation.py:595: DataConversionWarning: Data with input dtype int64 was converted to float64 by StandardScaler.\n",
      "  warnings.warn(msg, DataConversionWarning)\n",
      "/home/laura/.local/lib/python3.6/site-packages/sklearn/utils/validation.py:595: DataConversionWarning: Data with input dtype int64 was converted to float64 by StandardScaler.\n",
      "  warnings.warn(msg, DataConversionWarning)\n",
      "/home/laura/.local/lib/python3.6/site-packages/sklearn/utils/validation.py:595: DataConversionWarning: Data with input dtype int64 was converted to float64 by StandardScaler.\n",
      "  warnings.warn(msg, DataConversionWarning)\n"
     ]
    }
   ],
   "source": [
    "from src.dataset_utils import TrackDataset, get_dataset_representation_from_tracks\n",
    "from torch.utils.data import DataLoader\n",
    "\n",
    "from sklearn.preprocessing import StandardScaler\n",
    "\n",
    "feature_scaler = StandardScaler()\n",
    "label_scaler = StandardScaler()\n",
    "\n",
    "tracks = []\n",
    "# iterate over all midi files of folder\n",
    "import glob\n",
    "import os\n",
    "import numpy as np\n",
    "\n",
    "try:\n",
    "    home_dir\n",
    "except NameError:\n",
    "    home_dir = os.getcwd()\n",
    "\n",
    "os.chdir(home_dir + \"/data/raw/bach\")  # go to a folder relative to home dir\n",
    "for midi_file in glob.glob(\"*.mid\"):\n",
    "    # get a list of all soprano tracks\n",
    "    ## load midi file\n",
    "    csv_text = midi_utils.load_to_csv(midi_file)\n",
    "\n",
    "    ## Split into tracks\n",
    "    track_dict = midi_utils.split_tracks(csv_text)\n",
    "    track_nr = '1'\n",
    "\n",
    "    ## Generating numpy array with notes\n",
    "    track = midi_utils.midi_track_to_numpy(track_dict[track_nr])\n",
    "    tracks.append(track)\n",
    "    \n",
    "print(\"Number of tracks: \" + str(len(tracks)))\n",
    "\n",
    "x, y = get_dataset_representation_from_tracks(tracks, feature_qty=20, prediction_qty=2)\n",
    "\n",
    "# drop length of notes and keep pitch\n",
    "x = np.stack(x)\n",
    "x = x[:,:,0]\n",
    "\n",
    "y = np.stack(y)\n",
    "y = y[:,:,0]\n",
    "\n",
    "feature_scaler.fit(x)\n",
    "\n",
    "print(\"Mean of the dataset: \" + str(feature_scaler.mean_[0]))\n",
    "\n",
    "x = feature_scaler.fit_transform(x)\n",
    "\n",
    "label_scaler.fit(y)\n",
    "\n",
    "y = label_scaler.fit_transform(y)\n",
    "\n",
    "print(\"Number of samples: \" + str(len(x)))\n",
    "\n",
    "mini_batch_size = 32\n",
    "\n",
    "# for now, we only train on the pitches of the notes\n",
    "train_dataset = TrackDataset(x, y, drop_length=False)  # make training dataset\n",
    "#validation_dataset = TrackDataset(val_images, val_centers)  # make validation dataset\n",
    "#test_dataset = TrackDataset(test_images, test_centers)  # make test dataset\n",
    "\n",
    "train_loader = DataLoader(train_dataset, batch_size=mini_batch_size, shuffle=True)\n",
    "validation_loader = DataLoader(train_dataset, batch_size=mini_batch_size, shuffle=True) # TODO TODO TODO: CHANGE TO A SUITABLE VALIDATIONSET\n",
    "#test_loader = DataLoader(test_dataset, batch_size=len(test_dataset), shuffle=False)"
   ]
  },
  {
   "cell_type": "code",
   "execution_count": 8,
   "metadata": {
    "colab": {
     "base_uri": "https://localhost:8080/",
     "height": 119
    },
    "colab_type": "code",
    "id": "CVgPaaAUi8kq",
    "outputId": "d90aa1c7-7443-4d75-d481-84a73d50deea"
   },
   "outputs": [
    {
     "name": "stdout",
     "output_type": "stream",
     "text": [
      "Training set size 13277\n",
      "Input size 20/ output size 2/ learning rate 0.001\n",
      "Input example tensor([-0.1612, -0.1793, -0.1908, -0.1977,  0.3654, -0.7682, -1.0497, -1.6094,\n",
      "         0.3699,  0.9337,  0.3714, -0.1863, -0.4635, -1.0193, -0.4581, -1.0214,\n",
      "        -1.5819, -0.1851, -0.1887, -0.1891])\n",
      "Output example tensor([-0.1828,  0.3890])\n"
     ]
    }
   ],
   "source": [
    "import torch\n",
    "import torch.nn as nn\n",
    "import numpy as np\n",
    "\n",
    "print(\"Training set size\", len(train_dataset))\n",
    "\n",
    "input_size = len(train_dataset[0][0])  # get input size\n",
    "input_example = train_dataset[0][0]\n",
    "output_size = len(train_dataset[0][1])  # get output size\n",
    "output_example = train_dataset[0][1]\n",
    "learning_rate = 0.001\n",
    "\n",
    "print(\"Input size {}/ output size {}/ learning rate {}\".format(input_size, output_size, learning_rate))\n",
    "print(\"Input example {}\".format(input_example))\n",
    "print(\"Output example {}\".format(output_example))\n",
    "\n",
    "\n",
    "class LinearModel(nn.Module):\n",
    "\n",
    "    def __init__(self, input_dimension, output_dimension):\n",
    "        super(LinearModel, self).__init__()\n",
    "        self.fc = torch.nn.Linear(input_dimension, output_dimension, bias=True)  # linear layer with parameters A, b\n",
    "\n",
    "    def forward(self, input_data):\n",
    "        output = self.fc(input_data)  # applies out = input * A + b. A, b are parameters of nn.Linear that we want to learn\n",
    "        return output\n",
    "    \n",
    "\n",
    "class MLPModel(nn.Module):\n",
    "    \n",
    "    def __init__(self, input_dim, hidden_dim, output_dim):\n",
    "        super(MLPModel, self).__init__()\n",
    "        self.layers = nn.Sequential(\n",
    "            nn.Linear(input_dim, hidden_dim),\n",
    "            nn.ReLU(),\n",
    "            nn.Linear(hidden_dim, hidden_dim),\n",
    "            nn.ReLU(),\n",
    "            nn.Linear(hidden_dim, hidden_dim),\n",
    "            nn.ReLU(),\n",
    "            nn.Linear(hidden_dim, output_dim)\n",
    "        )\n",
    "    \n",
    "    def forward(self, input):\n",
    "        return self.layers(input)\n",
    "    \n",
    "device = torch.device('cuda' if torch.cuda.is_available() else 'cpu')\n",
    "    \n",
    "# linear_model = LinearModel(input_size, output_size)\n",
    "# \n",
    "# linear_model = linear_model.to(device)\n",
    "# \n",
    "mlp_model = MLPModel(input_size, 256, output_size)\n",
    "\n",
    "mlp_model = mlp_model.to(device)\n",
    "\n",
    "model = mlp_model\n",
    "\n",
    "model.to(device)\n",
    "\n",
    "\n",
    "criterion = torch.nn.MSELoss()\n",
    "optimizer = torch.optim.Adam(model.parameters(), lr=learning_rate)\n",
    "\n",
    "\n",
    "def train(model, train_dataloader, val_dataloader, optimizer, n_epochs, loss_function, device=torch.device('cpu'), verbose=1):\n",
    "    # We will monitor loss functions as the training progresses\n",
    "    train_losses = []\n",
    "    val_losses = []\n",
    "\n",
    "    for epoch in range(n_epochs):\n",
    "        # training phase\n",
    "        model.train()\n",
    "        # Iterate mini batches over training dataset\n",
    "        losses = []\n",
    "        for x, y in train_dataloader:\n",
    "            x = x.to(device)\n",
    "            y = y.to(device)\n",
    "            output = model(x)  # predict output from input\n",
    "            \n",
    "            # set gradients to zero\n",
    "            optimizer.zero_grad()\n",
    "\n",
    "            loss = loss_function(output, y)\n",
    "            if verbose > 2:\n",
    "                print(loss.item())\n",
    "            loss.backward()\n",
    "            optimizer.step()\n",
    "\n",
    "            # Metrics\n",
    "            losses.append(loss.item())\n",
    "            \n",
    "        train_losses.append(np.mean(np.array(losses)))\n",
    "\n",
    "        # Evaluation phase\n",
    "        model.eval()\n",
    "        # iterate mini batches over validation set\n",
    "        # We don't need gradients\n",
    "        losses = []\n",
    "        with torch.no_grad():\n",
    "            for x, y in val_dataloader:\n",
    "                x = x.to(device)\n",
    "                y = y.to(device)\n",
    "                output = model(x)\n",
    "                loss = loss_function(output, y)\n",
    "                if verbose > 1:\n",
    "                    print(loss.item())\n",
    "\n",
    "                losses.append(loss.item())\n",
    "        val_losses.append(np.mean(np.array(losses)))\n",
    "        \n",
    "        if verbose > 0:\n",
    "            print('Epoch {}/{}: train_loss: {:.4f}, val_loss: {:.4f}'.format(epoch + 1, n_epochs, train_losses[-1], val_losses[-1]))\n",
    "    return train_losses, val_losses\n"
   ]
  },
  {
   "cell_type": "code",
   "execution_count": 9,
   "metadata": {
    "colab": {
     "base_uri": "https://localhost:8080/",
     "height": 867
    },
    "colab_type": "code",
    "id": "CoKXI2Xyi8kt",
    "outputId": "baa50a74-5f1a-45be-fa73-5cb6d606d76c"
   },
   "outputs": [
    {
     "name": "stdout",
     "output_type": "stream",
     "text": [
      "Epoch 1/50: train_loss: 0.5369, val_loss: 0.4922\n",
      "Epoch 2/50: train_loss: 0.5026, val_loss: 0.4902\n",
      "Epoch 3/50: train_loss: 0.4902, val_loss: 0.4810\n",
      "Epoch 4/50: train_loss: 0.4799, val_loss: 0.4557\n",
      "Epoch 5/50: train_loss: 0.4703, val_loss: 0.4395\n",
      "Epoch 6/50: train_loss: 0.4511, val_loss: 0.4309\n",
      "Epoch 7/50: train_loss: 0.4379, val_loss: 0.4057\n",
      "Epoch 8/50: train_loss: 0.4194, val_loss: 0.3933\n",
      "Epoch 9/50: train_loss: 0.4037, val_loss: 0.3782\n",
      "Epoch 10/50: train_loss: 0.3840, val_loss: 0.3467\n",
      "Epoch 11/50: train_loss: 0.3661, val_loss: 0.3226\n",
      "Epoch 12/50: train_loss: 0.3462, val_loss: 0.3236\n",
      "Epoch 13/50: train_loss: 0.3257, val_loss: 0.2833\n",
      "Epoch 14/50: train_loss: 0.3028, val_loss: 0.2664\n",
      "Epoch 15/50: train_loss: 0.2855, val_loss: 0.2543\n",
      "Epoch 16/50: train_loss: 0.2649, val_loss: 0.2305\n",
      "Epoch 17/50: train_loss: 0.2470, val_loss: 0.2183\n",
      "Epoch 18/50: train_loss: 0.2324, val_loss: 0.2021\n",
      "Epoch 19/50: train_loss: 0.2140, val_loss: 0.1866\n",
      "Epoch 20/50: train_loss: 0.1958, val_loss: 0.1805\n",
      "Epoch 21/50: train_loss: 0.1824, val_loss: 0.1515\n",
      "Epoch 22/50: train_loss: 0.1682, val_loss: 0.1469\n",
      "Epoch 23/50: train_loss: 0.1550, val_loss: 0.1347\n",
      "Epoch 24/50: train_loss: 0.1468, val_loss: 0.1181\n",
      "Epoch 25/50: train_loss: 0.1374, val_loss: 0.1178\n",
      "Epoch 26/50: train_loss: 0.1270, val_loss: 0.1168\n",
      "Epoch 27/50: train_loss: 0.1179, val_loss: 0.1039\n",
      "Epoch 28/50: train_loss: 0.1121, val_loss: 0.1006\n",
      "Epoch 29/50: train_loss: 0.1082, val_loss: 0.0924\n",
      "Epoch 30/50: train_loss: 0.0977, val_loss: 0.0983\n",
      "Epoch 31/50: train_loss: 0.0958, val_loss: 0.0832\n",
      "Epoch 32/50: train_loss: 0.0911, val_loss: 0.0826\n",
      "Epoch 33/50: train_loss: 0.0859, val_loss: 0.0800\n",
      "Epoch 34/50: train_loss: 0.0843, val_loss: 0.0704\n",
      "Epoch 35/50: train_loss: 0.0795, val_loss: 0.0698\n",
      "Epoch 36/50: train_loss: 0.0774, val_loss: 0.0703\n",
      "Epoch 37/50: train_loss: 0.0758, val_loss: 0.0643\n",
      "Epoch 38/50: train_loss: 0.0731, val_loss: 0.0635\n",
      "Epoch 39/50: train_loss: 0.0686, val_loss: 0.0633\n",
      "Epoch 40/50: train_loss: 0.0656, val_loss: 0.0624\n",
      "Epoch 41/50: train_loss: 0.0666, val_loss: 0.0628\n",
      "Epoch 42/50: train_loss: 0.0646, val_loss: 0.0573\n",
      "Epoch 43/50: train_loss: 0.0632, val_loss: 0.0560\n",
      "Epoch 44/50: train_loss: 0.0600, val_loss: 0.0537\n",
      "Epoch 45/50: train_loss: 0.0601, val_loss: 0.0551\n",
      "Epoch 46/50: train_loss: 0.0584, val_loss: 0.0561\n",
      "Epoch 47/50: train_loss: 0.0551, val_loss: 0.0512\n",
      "Epoch 48/50: train_loss: 0.0530, val_loss: 0.0544\n",
      "Epoch 49/50: train_loss: 0.0528, val_loss: 0.0481\n",
      "Epoch 50/50: train_loss: 0.0536, val_loss: 0.0496\n"
     ]
    }
   ],
   "source": [
    "# Train the linear model and plot how the loss changes as the \n",
    "# training progresses for both training and validation set.\n",
    "import matplotlib.pyplot as plt\n",
    "%matplotlib inline\n",
    "\n",
    "train_losses, val_losses = train(model, train_loader, validation_loader, optimizer, 50, criterion, device=device, verbose=1)"
   ]
  },
  {
   "cell_type": "code",
   "execution_count": 10,
   "metadata": {
    "colab": {
     "base_uri": "https://localhost:8080/",
     "height": 813
    },
    "colab_type": "code",
    "id": "LkFD6gaEi8kx",
    "outputId": "0586225e-a86d-4b94-eae0-c5cf6abfa70a"
   },
   "outputs": [
    {
     "name": "stdout",
     "output_type": "stream",
     "text": [
      "[[74. 73. 74. 72.]\n",
      " [73. 71. 73. 70.]\n",
      " [69. 70. 69. 70.]\n",
      " [72. 67. 74. 72.]\n",
      " [75. 74. 74. 74.]\n",
      " [67. 66. 67. 66.]\n",
      " [71. 71. 72. 71.]\n",
      " [69. 69. 69. 69.]\n",
      " [75. 72. 74. 71.]\n",
      " [69. 71. 69. 71.]\n",
      " [71. 73. 71. 73.]\n",
      " [71. 69. 70. 69.]\n",
      " [64. 71. 64. 72.]\n",
      " [69. 65. 67. 66.]\n",
      " [74. 72. 74. 72.]\n",
      " [69. 74. 69. 74.]\n",
      " [75. 74. 75. 74.]\n",
      " [65. 65. 66. 67.]\n",
      " [72. 71. 72. 72.]\n",
      " [72. 74. 71. 74.]\n",
      " [71. 76. 71. 76.]\n",
      " [72. 71. 72. 70.]\n",
      " [76. 71. 76. 72.]\n",
      " [67. 69. 67. 68.]\n",
      " [73. 71. 73. 71.]\n",
      " [72. 71. 71. 71.]\n",
      " [74. 74. 74. 73.]\n",
      " [76. 74. 73. 71.]\n",
      " [71. 69. 71. 70.]\n",
      " [67. 69. 68. 69.]\n",
      " [74. 73. 74. 72.]\n",
      " [69. 71. 70. 71.]]\n"
     ]
    },
    {
     "data": {
      "image/png": "[encoded data removed]",
      "text/plain": [
       "<Figure size 432x288 with 1 Axes>"
      ]
     },
     "metadata": {
      "needs_background": "light"
     },
     "output_type": "display_data"
    }
   ],
   "source": [
    "# check predictions from samples\n",
    "\n",
    "model.eval()\n",
    "\n",
    "for x, y in train_loader:\n",
    "    x = x.to(device)\n",
    "    y = y.to(device)\n",
    "    output = model(x)  # predict output from input\n",
    "    \n",
    "    scaled_y = label_scaler.inverse_transform(y.cpu().detach().numpy())\n",
    "    scaled_output = label_scaler.inverse_transform(output.cpu().detach().numpy())\n",
    "\n",
    "    print(np.concatenate((scaled_y, np.round(scaled_output)), axis=1))\n",
    "    break\n",
    "\n",
    "\n",
    "plt.axis('on')\n",
    "x = range(len(train_losses))\n",
    "plt.plot(x, train_losses, x, val_losses)\n",
    "\n",
    "plt.show()"
   ]
  },
  {
   "cell_type": "code",
   "execution_count": 17,
   "metadata": {
    "colab": {
     "base_uri": "https://localhost:8080/",
     "height": 102
    },
    "colab_type": "code",
    "id": "OsW176Y2i8k1",
    "outputId": "ae7a531d-f0d7-4ad8-d7cb-3d1bf963f78d"
   },
   "outputs": [
    {
     "name": "stdout",
     "output_type": "stream",
     "text": [
      "tensor([-2.4428, -1.0379, -0.4763, -0.1977, -0.2021,  0.3650, -0.1998, -0.4786,\n",
      "        -0.4773, -0.1937,  0.3714,  0.9375,  0.3792, -0.1782,  1.2233,  1.2218,\n",
      "         0.9372,  0.6541,  0.3710,  0.3707])\n",
      "tensor([-0.1828, -0.1678])\n",
      "[62. 67. 69. 70. 70. 72. 70. 69. 69. 70. 72. 74. 72. 70. 75. 75. 74. 73.\n",
      " 72. 72. 71. 71. 70. 68. 67. 64. 65. 65. 65. 65. 64. 63. 62. 66. 67. 68.\n",
      " 68. 67. 65. 63. 65. 64. 65. 66. 68. 68. 66. 64. 66. 67. 66. 66. 65. 64.\n",
      " 63. 64. 65. 65. 64. 65. 64. 66. 64. 65. 66. 66. 68. 68. 69. 69. 69. 69.\n",
      " 68. 67. 67. 65. 65. 64. 64. 64.]\n"
     ]
    }
   ],
   "source": [
    "# predict midi from init samples\n",
    "\n",
    "init_index = 1000\n",
    "\n",
    "generated_track = train_dataset[init_index][0].clone().to(device)\n",
    "\n",
    "# predict for a certain length\n",
    "predict_length = 30  # TODO: Model the end of the songs as well through a terminator.\n",
    "\n",
    "x, y = train_dataset[init_index]\n",
    "print(x)\n",
    "print(y)\n",
    "\n",
    "x = x.to(device)\n",
    "for i in range(predict_length):\n",
    "    _, y = train_dataset[init_index + i]\n",
    "    y = y.to(device)\n",
    "    output = model(x)  # predict output from input\n",
    "    x = torch.cat((x[output.shape[0]:], output))  # shift the input by one by adding the prediction\n",
    "    generated_track = torch.cat((generated_track, output))  # append prediction to generated track\n",
    "    \n",
    "#print(generated_track.detach().numpy())\n",
    "    \n",
    "n_generated_track = generated_track.cpu().detach().numpy()\n",
    "n_generated_track = n_generated_track.reshape(int(n_generated_track.shape[0]/output.shape[0]), output.shape[0])\n",
    "track = label_scaler.inverse_transform(n_generated_track).round().flatten()\n",
    "\n",
    "print(track)\n"
   ]
  },
  {
   "cell_type": "code",
   "execution_count": 12,
   "metadata": {
    "colab": {},
    "colab_type": "code",
    "id": "mSyiG-4Ni8k5"
   },
   "outputs": [],
   "source": [
    "# write numpy to midi track\n",
    "\n",
    "numpy_notes = midi_utils.prediction_to_numpy(track, 1024)\n",
    "\n",
    "# create midi track\n",
    "new_track = midi_utils.numpy_to_midi_track(numpy_notes, 1, 'Modified')\n",
    "\n",
    "#print(numpy_notes)\n",
    "\n",
    "os.chdir(home_dir)\n",
    "\n",
    "# make new song with the new track\n",
    "new_track_dict = {}\n",
    "new_track_dict['0'] = track_dict['0']\n",
    "new_track_dict['1'] = new_track\n",
    "modified_midi_filename = 'results/feedforward_net_track.mid'\n",
    "modified_csv_list = midi_utils.track_dict_to_csv(new_track_dict)\n",
    "midi_utils.write_to_midi(modified_csv_list, modified_midi_filename)"
   ]
  },
  {
   "cell_type": "code",
   "execution_count": 13,
   "metadata": {
    "colab": {},
    "colab_type": "code",
    "id": "YJZCj7Wyi8k7"
   },
   "outputs": [],
   "source": [
    "pygame.init()\n",
    "pygame.mixer.music.load(modified_midi_filename)\n",
    "pygame.mixer.music.play()"
   ]
  },
  {
   "cell_type": "code",
   "execution_count": 14,
   "metadata": {
    "colab": {},
    "colab_type": "code",
    "id": "HpfqnFH8i8k-"
   },
   "outputs": [],
   "source": [
    "pygame.mixer.music.stop()"
   ]
  },
  {
   "cell_type": "code",
   "execution_count": 15,
   "metadata": {
    "colab": {
     "base_uri": "https://localhost:8080/",
     "height": 34
    },
    "colab_type": "code",
    "id": "RfvEB29Ni8lA",
    "outputId": "957b2c87-1554-4505-8f8d-e82acc75fbda"
   },
   "outputs": [],
   "source": [
    "#!git status"
   ]
  },
  {
   "cell_type": "code",
   "execution_count": null,
   "metadata": {
    "colab": {},
    "colab_type": "code",
    "id": "xxwPzweyS2Vg"
   },
   "outputs": [],
   "source": []
  }
 ],
 "metadata": {
  "accelerator": "GPU",
  "colab": {
   "collapsed_sections": [],
   "name": "train_feedforward_net.ipynb",
   "provenance": [],
   "toc_visible": true,
   "version": "0.3.2"
  },
  "kernelspec": {
   "display_name": "Python 3",
   "language": "python",
   "name": "python3"
  },
  "language_info": {
   "codemirror_mode": {
    "name": "ipython",
    "version": 3
   },
   "file_extension": ".py",
   "mimetype": "text/x-python",
   "name": "python",
   "nbconvert_exporter": "python",
   "pygments_lexer": "ipython3",
   "version": "3.6.7"
  }
 },
 "nbformat": 4,
 "nbformat_minor": 2
}
