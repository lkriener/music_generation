{
 "cells": [
  {
   "cell_type": "markdown",
   "metadata": {},
   "source": [
    "# Train feedforward net"
   ]
  },
  {
   "cell_type": "code",
   "execution_count": 1,
   "metadata": {},
   "outputs": [
    {
     "name": "stdout",
     "output_type": "stream",
     "text": [
      "pygame 1.9.6\n",
      "Hello from the pygame community. https://www.pygame.org/contribute.html\n"
     ]
    }
   ],
   "source": [
    "import src.midi_utils as midi_utils\n",
    "\n",
    "import pygame"
   ]
  },
  {
   "cell_type": "code",
   "execution_count": 2,
   "metadata": {},
   "outputs": [],
   "source": [
    "midi_filename = 'midi_data/bwv104.6.mid'\n",
    "# midi_filename = 'midi_data/pkgsc_azalea.mid'\n",
    "pygame.init()\n",
    "pygame.mixer.music.load(midi_filename)\n",
    "pygame.mixer.music.play()"
   ]
  },
  {
   "cell_type": "code",
   "execution_count": 3,
   "metadata": {},
   "outputs": [],
   "source": [
    "pygame.mixer.music.stop()"
   ]
  },
  {
   "cell_type": "markdown",
   "metadata": {},
   "source": [
    "# Neural network"
   ]
  },
  {
   "cell_type": "code",
   "execution_count": 101,
   "metadata": {},
   "outputs": [
    {
     "name": "stdout",
     "output_type": "stream",
     "text": [
      "Number of tracks: 357\n",
      "Mean of the dataset: [70.56518792 70.62664759 70.66822324 70.69465994 70.71220908 70.71168186\n",
      " 70.70527981 70.69315357 70.68999021 70.68727875 70.67831588 70.66302629\n",
      " 70.64992092 70.63568577 70.63478195 70.64261505 70.65157792 70.66159524\n",
      " 70.67432402 70.67567975]\n",
      "Number of samples: 13277\n"
     ]
    },
    {
     "name": "stderr",
     "output_type": "stream",
     "text": [
      "c:\\users\\i0325777\\appdata\\local\\continuum\\miniconda3\\envs\\tensorflow-base\\lib\\site-packages\\sklearn\\utils\\validation.py:595: DataConversionWarning: Data with input dtype int32 was converted to float64 by StandardScaler.\n",
      "  warnings.warn(msg, DataConversionWarning)\n",
      "c:\\users\\i0325777\\appdata\\local\\continuum\\miniconda3\\envs\\tensorflow-base\\lib\\site-packages\\sklearn\\utils\\validation.py:595: DataConversionWarning: Data with input dtype int32 was converted to float64 by StandardScaler.\n",
      "  warnings.warn(msg, DataConversionWarning)\n",
      "c:\\users\\i0325777\\appdata\\local\\continuum\\miniconda3\\envs\\tensorflow-base\\lib\\site-packages\\sklearn\\utils\\validation.py:595: DataConversionWarning: Data with input dtype int32 was converted to float64 by StandardScaler.\n",
      "  warnings.warn(msg, DataConversionWarning)\n",
      "c:\\users\\i0325777\\appdata\\local\\continuum\\miniconda3\\envs\\tensorflow-base\\lib\\site-packages\\sklearn\\utils\\validation.py:595: DataConversionWarning: Data with input dtype int32 was converted to float64 by StandardScaler.\n",
      "  warnings.warn(msg, DataConversionWarning)\n",
      "c:\\users\\i0325777\\appdata\\local\\continuum\\miniconda3\\envs\\tensorflow-base\\lib\\site-packages\\sklearn\\utils\\validation.py:595: DataConversionWarning: Data with input dtype int32 was converted to float64 by StandardScaler.\n",
      "  warnings.warn(msg, DataConversionWarning)\n",
      "c:\\users\\i0325777\\appdata\\local\\continuum\\miniconda3\\envs\\tensorflow-base\\lib\\site-packages\\sklearn\\utils\\validation.py:595: DataConversionWarning: Data with input dtype int32 was converted to float64 by StandardScaler.\n",
      "  warnings.warn(msg, DataConversionWarning)\n"
     ]
    }
   ],
   "source": [
    "from src.dataset_utils import TrackDataset, get_dataset_representation_from_tracks\n",
    "from torch.utils.data import DataLoader\n",
    "\n",
    "from sklearn.preprocessing import StandardScaler\n",
    "\n",
    "feature_scaler = StandardScaler()\n",
    "label_scaler = StandardScaler()\n",
    "\n",
    "tracks = []\n",
    "# iterate over all midi files of folder\n",
    "import glob\n",
    "import os\n",
    "\n",
    "try:\n",
    "    home_dir\n",
    "except NameError:\n",
    "    home_dir = os.getcwd()\n",
    "\n",
    "os.chdir(home_dir + \"/midi_data/bach\")  # go to a folder relative to home dir\n",
    "for midi_file in glob.glob(\"*.mid\"):\n",
    "    # get a list of all soprano tracks\n",
    "    ## load midi file\n",
    "    csv_text = midi_utils.load_to_csv(midi_file)\n",
    "\n",
    "    ## Split into tracks\n",
    "    track_dict = midi_utils.split_tracks(csv_text)\n",
    "    track_nr = '1'\n",
    "\n",
    "    ## Generating numpy array with notes\n",
    "    track = midi_utils.midi_track_to_numpy(track_dict[track_nr])\n",
    "    tracks.append(track)\n",
    "    \n",
    "print(\"Number of tracks: \" + str(len(tracks)))\n",
    "\n",
    "x, y = get_dataset_representation_from_tracks(tracks, feature_qty=20, prediction_qty=2)\n",
    "\n",
    "x = np.stack(x)\n",
    "x = x[:,:,0]\n",
    "\n",
    "y = np.stack(y)\n",
    "y = y[:,:,0]\n",
    "\n",
    "feature_scaler.fit(x)\n",
    "\n",
    "print(\"Mean of the dataset: \" + str(feature_scaler.mean_))\n",
    "\n",
    "x = feature_scaler.fit_transform(x)\n",
    "\n",
    "label_scaler.fit(y)\n",
    "\n",
    "y = label_scaler.fit_transform(y)\n",
    "\n",
    "\n",
    "print(\"Number of samples: \" + str(len(x)))\n",
    "\n",
    "mini_batch_size = 32\n",
    "\n",
    "# for now, we only train on the pitches of the notes\n",
    "train_dataset = TrackDataset(x, y, drop_length=False)  # make training dataset\n",
    "#validation_dataset = TrackDataset(val_images, val_centers)  # make validation dataset\n",
    "#test_dataset = TrackDataset(test_images, test_centers)  # make test dataset\n",
    "\n",
    "train_loader = DataLoader(train_dataset, batch_size=mini_batch_size, shuffle=True)\n",
    "validation_loader = DataLoader(train_dataset, batch_size=mini_batch_size, shuffle=True) # TODO TODO TODO: CHANGE TO A SUITABLE VALIDATIONSET\n",
    "#test_loader = DataLoader(test_dataset, batch_size=len(test_dataset), shuffle=False)"
   ]
  },
  {
   "cell_type": "code",
   "execution_count": 102,
   "metadata": {},
   "outputs": [
    {
     "name": "stdout",
     "output_type": "stream",
     "text": [
      "Training set size 13277\n",
      "Input size 20/ output size 2/ learning rate 0.001\n",
      "Input example tensor([ 0.9796,  1.8240,  0.9512,  0.9406,  0.9328,  0.9315,  1.2167,  0.9348,\n",
      "         0.3699,  0.3700, -0.1906,  0.9375,  1.7837,  0.3825,  0.3826,  0.3806,\n",
      "        -1.0221, -0.1851, -0.4686, -1.0288])\n",
      "Output example tensor([0.9344, 1.7809])\n"
     ]
    }
   ],
   "source": [
    "import torch\n",
    "import torch.nn as nn\n",
    "import numpy as np\n",
    "\n",
    "print(\"Training set size\", len(train_dataset))\n",
    "\n",
    "input_size = len(train_dataset[0][0])  # get input size\n",
    "input_example = train_dataset[0][0]\n",
    "output_size = len(train_dataset[0][1])  # get output size\n",
    "output_example = train_dataset[0][1]\n",
    "learning_rate = 0.001\n",
    "\n",
    "print(\"Input size {}/ output size {}/ learning rate {}\".format(input_size, output_size, learning_rate))\n",
    "print(\"Input example {}\".format(input_example))\n",
    "print(\"Output example {}\".format(output_example))\n",
    "\n",
    "\n",
    "class LinearModel(nn.Module):\n",
    "\n",
    "    def __init__(self, input_dimension, output_dimension):\n",
    "        super(LinearModel, self).__init__()\n",
    "        self.fc = torch.nn.Linear(input_dimension, output_dimension, bias=True)  # linear layer with parameters A, b\n",
    "\n",
    "    def forward(self, input_data):\n",
    "        output = self.fc(input_data)  # applies out = input * A + b. A, b are parameters of nn.Linear that we want to learn\n",
    "        return output\n",
    "    \n",
    "\n",
    "class MLPModel(nn.Module):\n",
    "    \n",
    "    def __init__(self, input_dim, hidden_dim, output_dim):\n",
    "        super(MLPModel, self).__init__()\n",
    "        self.layers = nn.Sequential(\n",
    "            nn.Linear(input_dim, hidden_dim),\n",
    "            nn.ReLU(),\n",
    "            nn.Linear(hidden_dim, hidden_dim),\n",
    "            nn.ReLU(),\n",
    "            nn.Linear(hidden_dim, hidden_dim),\n",
    "            nn.ReLU(),\n",
    "            nn.Linear(hidden_dim, output_dim)\n",
    "        )\n",
    "    \n",
    "    def forward(self, input):\n",
    "        return self.layers(input)\n",
    "    \n",
    "device = torch.device('cpu')\n",
    "    \n",
    "# linear_model = LinearModel(input_size, output_size)\n",
    "# \n",
    "# linear_model = linear_model.to(device)\n",
    "# \n",
    "mlp_model = MLPModel(input_size, 256, output_size)\n",
    "\n",
    "mlp_model = mlp_model.to(device)\n",
    "\n",
    "model = mlp_model\n",
    "\n",
    "\n",
    "criterion = torch.nn.MSELoss()\n",
    "optimizer = torch.optim.Adam(model.parameters(), lr=learning_rate)\n",
    "\n",
    "\n",
    "def train(model, train_dataloader, val_dataloader, optimizer, n_epochs, loss_function, device=torch.device('cpu'), verbose=1):\n",
    "    # We will monitor loss functions as the training progresses\n",
    "    train_losses = []\n",
    "    val_losses = []\n",
    "\n",
    "    for epoch in range(n_epochs):\n",
    "        # training phase\n",
    "        model.train()\n",
    "        # Iterate mini batches over training dataset\n",
    "        losses = []\n",
    "        for x, y in train_dataloader:\n",
    "            x = x.to(device)\n",
    "            y = y.to(device)\n",
    "            output = model(x)  # predict output from input\n",
    "            \n",
    "            # set gradients to zero\n",
    "            optimizer.zero_grad()\n",
    "\n",
    "            loss = loss_function(output, y)\n",
    "            if verbose > 2:\n",
    "                print(loss.item())\n",
    "            loss.backward()\n",
    "            optimizer.step()\n",
    "\n",
    "            # Metrics\n",
    "            losses.append(loss.item())\n",
    "            \n",
    "        train_losses.append(np.mean(np.array(losses)))\n",
    "\n",
    "        # Evaluation phase\n",
    "        model.eval()\n",
    "        # iterate mini batches over validation set\n",
    "        # We don't need gradients\n",
    "        losses = []\n",
    "        with torch.no_grad():\n",
    "            for x, y in val_dataloader:\n",
    "                x = x.to(device)\n",
    "                y = y.to(device)\n",
    "                output = model(x)\n",
    "                loss = loss_function(output, y)\n",
    "                if verbose > 1:\n",
    "                    print(loss.item())\n",
    "\n",
    "                losses.append(loss.item())\n",
    "        val_losses.append(np.mean(np.array(losses)))\n",
    "        \n",
    "        if verbose > 0:\n",
    "            print('Epoch {}/{}: train_loss: {:.4f}, val_loss: {:.4f}'.format(epoch + 1, n_epochs, train_losses[-1], val_losses[-1]))\n",
    "    return train_losses, val_losses\n"
   ]
  },
  {
   "cell_type": "code",
   "execution_count": 103,
   "metadata": {},
   "outputs": [
    {
     "name": "stdout",
     "output_type": "stream",
     "text": [
      "Epoch 1/50: train_loss: 0.5319, val_loss: 0.4928\n",
      "Epoch 2/50: train_loss: 0.5008, val_loss: 0.4972\n",
      "Epoch 3/50: train_loss: 0.4897, val_loss: 0.4674\n",
      "Epoch 4/50: train_loss: 0.4764, val_loss: 0.4611\n",
      "Epoch 5/50: train_loss: 0.4648, val_loss: 0.4411\n",
      "Epoch 6/50: train_loss: 0.4531, val_loss: 0.4305\n",
      "Epoch 7/50: train_loss: 0.4362, val_loss: 0.4183\n",
      "Epoch 8/50: train_loss: 0.4197, val_loss: 0.3853\n",
      "Epoch 9/50: train_loss: 0.4052, val_loss: 0.3719\n",
      "Epoch 10/50: train_loss: 0.3848, val_loss: 0.3476\n",
      "Epoch 11/50: train_loss: 0.3621, val_loss: 0.3314\n",
      "Epoch 12/50: train_loss: 0.3476, val_loss: 0.3133\n",
      "Epoch 13/50: train_loss: 0.3268, val_loss: 0.2837\n",
      "Epoch 14/50: train_loss: 0.3047, val_loss: 0.2701\n",
      "Epoch 15/50: train_loss: 0.2835, val_loss: 0.2525\n",
      "Epoch 16/50: train_loss: 0.2665, val_loss: 0.2326\n",
      "Epoch 17/50: train_loss: 0.2459, val_loss: 0.2218\n",
      "Epoch 18/50: train_loss: 0.2305, val_loss: 0.1945\n",
      "Epoch 19/50: train_loss: 0.2141, val_loss: 0.1892\n",
      "Epoch 20/50: train_loss: 0.1983, val_loss: 0.1766\n",
      "Epoch 21/50: train_loss: 0.1852, val_loss: 0.1548\n",
      "Epoch 22/50: train_loss: 0.1694, val_loss: 0.1555\n",
      "Epoch 23/50: train_loss: 0.1573, val_loss: 0.1393\n",
      "Epoch 24/50: train_loss: 0.1484, val_loss: 0.1384\n",
      "Epoch 25/50: train_loss: 0.1348, val_loss: 0.1208\n",
      "Epoch 26/50: train_loss: 0.1265, val_loss: 0.1093\n",
      "Epoch 27/50: train_loss: 0.1201, val_loss: 0.1071\n",
      "Epoch 28/50: train_loss: 0.1109, val_loss: 0.0977\n",
      "Epoch 29/50: train_loss: 0.1046, val_loss: 0.0935\n",
      "Epoch 30/50: train_loss: 0.0999, val_loss: 0.0974\n",
      "Epoch 31/50: train_loss: 0.0957, val_loss: 0.0849\n",
      "Epoch 32/50: train_loss: 0.0911, val_loss: 0.0799\n",
      "Epoch 33/50: train_loss: 0.0865, val_loss: 0.0837\n",
      "Epoch 34/50: train_loss: 0.0839, val_loss: 0.0738\n",
      "Epoch 35/50: train_loss: 0.0814, val_loss: 0.0713\n",
      "Epoch 36/50: train_loss: 0.0750, val_loss: 0.0709\n",
      "Epoch 37/50: train_loss: 0.0718, val_loss: 0.0682\n",
      "Epoch 38/50: train_loss: 0.0723, val_loss: 0.0624\n",
      "Epoch 39/50: train_loss: 0.0681, val_loss: 0.0645\n",
      "Epoch 40/50: train_loss: 0.0670, val_loss: 0.0577\n",
      "Epoch 41/50: train_loss: 0.0635, val_loss: 0.0608\n",
      "Epoch 42/50: train_loss: 0.0642, val_loss: 0.0581\n",
      "Epoch 43/50: train_loss: 0.0625, val_loss: 0.0592\n",
      "Epoch 44/50: train_loss: 0.0615, val_loss: 0.0527\n",
      "Epoch 45/50: train_loss: 0.0573, val_loss: 0.0521\n",
      "Epoch 46/50: train_loss: 0.0579, val_loss: 0.0505\n",
      "Epoch 47/50: train_loss: 0.0564, val_loss: 0.0563\n",
      "Epoch 48/50: train_loss: 0.0562, val_loss: 0.0505\n",
      "Epoch 49/50: train_loss: 0.0535, val_loss: 0.0503\n",
      "Epoch 50/50: train_loss: 0.0535, val_loss: 0.0475\n"
     ]
    }
   ],
   "source": [
    "# Train the linear model and plot how the loss changes as the \n",
    "# training progresses for both training and validation set.\n",
    "import matplotlib.pyplot as plt\n",
    "%matplotlib inline\n",
    "\n",
    "train_losses, val_losses = train(model, train_loader, validation_loader, optimizer, 50, criterion, verbose=1)"
   ]
  },
  {
   "cell_type": "code",
   "execution_count": 104,
   "metadata": {},
   "outputs": [
    {
     "name": "stdout",
     "output_type": "stream",
     "text": [
      "[[74. 76. 74. 77.]\n",
      " [72. 70. 72. 71.]\n",
      " [69. 74. 69. 74.]\n",
      " [70. 69. 70. 69.]\n",
      " [75. 75. 76. 75.]\n",
      " [76. 77. 75. 75.]\n",
      " [73. 66. 73. 66.]\n",
      " [74. 69. 74. 68.]\n",
      " [75. 77. 75. 77.]\n",
      " [67. 74. 67. 73.]\n",
      " [73. 74. 73. 74.]\n",
      " [66. 64. 66. 64.]\n",
      " [72. 71. 72. 72.]\n",
      " [71. 69. 71. 70.]\n",
      " [67. 72. 67. 70.]\n",
      " [68. 69. 69. 69.]\n",
      " [75. 75. 74. 74.]\n",
      " [71. 71. 71. 71.]\n",
      " [77. 76. 77. 75.]\n",
      " [73. 74. 73. 75.]\n",
      " [74. 72. 73. 72.]\n",
      " [74. 72. 73. 72.]\n",
      " [70. 72. 69. 73.]\n",
      " [66. 64. 67. 66.]\n",
      " [73. 69. 72. 70.]\n",
      " [69. 70. 69. 70.]\n",
      " [73. 71. 74. 71.]\n",
      " [70. 69. 69. 69.]\n",
      " [71. 69. 71. 69.]\n",
      " [74. 75. 74. 75.]\n",
      " [69. 69. 68. 69.]\n",
      " [67. 69. 67. 70.]]\n"
     ]
    },
    {
     "data": {
      "image/png": "[encoded data removed]",
      "text/plain": [
       "<Figure size 432x288 with 1 Axes>"
      ]
     },
     "metadata": {
      "needs_background": "light"
     },
     "output_type": "display_data"
    }
   ],
   "source": [
    "# check predictions from samples\n",
    "\n",
    "model.eval()\n",
    "\n",
    "for x, y in train_loader:\n",
    "    x = x.to(device)\n",
    "    y = y.to(device)\n",
    "    output = model(x)  # predict output from input\n",
    "    \n",
    "    scaled_y = label_scaler.inverse_transform(y.detach().numpy())\n",
    "    scaled_output = label_scaler.inverse_transform(output.detach().numpy())\n",
    "\n",
    "    print(np.concatenate((scaled_y, np.round(scaled_output)), axis=1))\n",
    "    break\n",
    "\n",
    "\n",
    "plt.axis('on')\n",
    "x = range(len(train_losses))\n",
    "plt.plot(x, train_losses, x, val_losses)\n",
    "\n",
    "plt.show()"
   ]
  },
  {
   "cell_type": "code",
   "execution_count": 123,
   "metadata": {},
   "outputs": [
    {
     "name": "stdout",
     "output_type": "stream",
     "text": [
      "[72. 70. 72. 74. 72. 70. 69. 70. 72. 70. 69. 67. 67. 72. 71. 72. 74. 72.\n",
      " 70. 69. 67. 65. 65. 70. 72. 74. 71. 70. 69. 68. 70. 69. 67. 70. 72. 71.\n",
      " 70. 69. 67. 68. 67. 68. 69. 70. 69. 70. 71. 69. 68. 68. 68. 68. 69. 68.\n",
      " 69. 70. 70. 70. 69. 67. 67. 70. 71. 72. 71. 69. 68. 69. 69. 70. 69. 68.\n",
      " 69. 69. 70. 72. 72. 71. 69. 68.]\n"
     ]
    }
   ],
   "source": [
    "# predict midi from init samples\n",
    "\n",
    "init_index = 1000\n",
    "\n",
    "generated_track = train_dataset[init_index][0].clone()\n",
    "\n",
    "# predict for a certain length\n",
    "predict_length = 30  # TODO: Model the end of the songs as well through a terminator.\n",
    "\n",
    "x, y = train_dataset[init_index]\n",
    "x = x.to(device)\n",
    "for i in range(predict_length):\n",
    "    _, y = train_dataset[init_index + i]\n",
    "    y = y.to(device)\n",
    "    output = model(x)  # predict output from input\n",
    "    x = torch.cat((x[output.shape[0]:], output))  # shift the input by one by adding the prediction\n",
    "    generated_track = torch.cat((generated_track, output))  # append prediction to generated track\n",
    "    \n",
    "#print(generated_track.detach().numpy())\n",
    "    \n",
    "n_generated_track = generated_track.detach().numpy()\n",
    "n_generated_track = n_generated_track.reshape(int(n_generated_track.shape[0]/output.shape[0]), output.shape[0])\n",
    "track = label_scaler.inverse_transform(n_generated_track).round().flatten()\n",
    "\n",
    "print(track)\n"
   ]
  },
  {
   "cell_type": "code",
   "execution_count": 124,
   "metadata": {},
   "outputs": [],
   "source": [
    "# write numpy to midi track\n",
    "\n",
    "numpy_notes = midi_utils.prediction_to_numpy(track, 1024)\n",
    "\n",
    "# create midi track\n",
    "new_track = midi_utils.numpy_to_midi_track(numpy_notes, 1, 'Modified')\n",
    "\n",
    "#print(numpy_notes)\n",
    "\n",
    "os.chdir(home_dir)\n",
    "\n",
    "# make new song with the new track\n",
    "new_track_dict = {}\n",
    "new_track_dict['0'] = track_dict['0']\n",
    "new_track_dict['1'] = new_track\n",
    "modified_midi_filename = 'midi_data/test_modified_track.mid'\n",
    "modified_csv_list = midi_utils.track_dict_to_csv(new_track_dict)\n",
    "midi_utils.write_to_midi(modified_csv_list, modified_midi_filename)"
   ]
  },
  {
   "cell_type": "code",
   "execution_count": 125,
   "metadata": {},
   "outputs": [],
   "source": [
    "pygame.init()\n",
    "pygame.mixer.music.load(modified_midi_filename)\n",
    "pygame.mixer.music.play()"
   ]
  },
  {
   "cell_type": "code",
   "execution_count": 88,
   "metadata": {},
   "outputs": [],
   "source": [
    "pygame.mixer.music.stop()"
   ]
  },
  {
   "cell_type": "code",
   "execution_count": null,
   "metadata": {},
   "outputs": [],
   "source": []
  }
 ],
 "metadata": {
  "kernelspec": {
   "display_name": "Python 3",
   "language": "python",
   "name": "python3"
  },
  "language_info": {
   "codemirror_mode": {
    "name": "ipython",
    "version": 3
   },
   "file_extension": ".py",
   "mimetype": "text/x-python",
   "name": "python",
   "nbconvert_exporter": "python",
   "pygments_lexer": "ipython3",
   "version": "3.6.8"
  }
 },
 "nbformat": 4,
 "nbformat_minor": 2
}
