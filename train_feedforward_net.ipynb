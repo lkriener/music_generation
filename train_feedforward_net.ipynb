{
 "cells": [
  {
   "cell_type": "markdown",
   "metadata": {},
   "source": [
    "# Train feedforward net"
   ]
  },
  {
   "cell_type": "code",
   "execution_count": null,
   "metadata": {},
   "outputs": [],
   "source": [
    "# Uncomment the line below and run this cell to get your data from github into colab (only runnable in colab, not ordinary jupyter notebook):\n",
    "#! git clone https://github.com/lkriener/music_generation.git && mv music_generation/* . && rm music_generation -r"
   ]
  },
  {
   "cell_type": "code",
   "execution_count": 1,
   "metadata": {},
   "outputs": [
    {
     "name": "stdout",
     "output_type": "stream",
     "text": [
      "pygame 1.9.6\n",
      "Hello from the pygame community. https://www.pygame.org/contribute.html\n"
     ]
    }
   ],
   "source": [
    "import src.midi_utils as midi_utils\n",
    "\n",
    "import pygame"
   ]
  },
  {
   "cell_type": "code",
   "execution_count": 2,
   "metadata": {},
   "outputs": [],
   "source": [
    "midi_filename = 'midi_data/bwv104.6.mid'\n",
    "# midi_filename = 'midi_data/pkgsc_azalea.mid'\n",
    "pygame.init()\n",
    "pygame.mixer.music.load(midi_filename)\n",
    "pygame.mixer.music.play()"
   ]
  },
  {
   "cell_type": "code",
   "execution_count": 3,
   "metadata": {},
   "outputs": [],
   "source": [
    "pygame.mixer.music.stop()"
   ]
  },
  {
   "cell_type": "markdown",
   "metadata": {},
   "source": [
    "# Neural network"
   ]
  },
  {
   "cell_type": "code",
   "execution_count": 7,
   "metadata": {},
   "outputs": [
    {
     "name": "stdout",
     "output_type": "stream",
     "text": [
      "Number of tracks: 357\n",
      "Mean of the dataset: 70.56518791895759\n",
      "Number of samples: 13277\n"
     ]
    },
    {
     "name": "stderr",
     "output_type": "stream",
     "text": [
      "c:\\users\\i0325777\\appdata\\local\\continuum\\miniconda3\\envs\\ml-base\\lib\\site-packages\\sklearn\\utils\\validation.py:595: DataConversionWarning: Data with input dtype int32 was converted to float64 by StandardScaler.\n",
      "  warnings.warn(msg, DataConversionWarning)\n",
      "c:\\users\\i0325777\\appdata\\local\\continuum\\miniconda3\\envs\\ml-base\\lib\\site-packages\\sklearn\\utils\\validation.py:595: DataConversionWarning: Data with input dtype int32 was converted to float64 by StandardScaler.\n",
      "  warnings.warn(msg, DataConversionWarning)\n",
      "c:\\users\\i0325777\\appdata\\local\\continuum\\miniconda3\\envs\\ml-base\\lib\\site-packages\\sklearn\\utils\\validation.py:595: DataConversionWarning: Data with input dtype int32 was converted to float64 by StandardScaler.\n",
      "  warnings.warn(msg, DataConversionWarning)\n",
      "c:\\users\\i0325777\\appdata\\local\\continuum\\miniconda3\\envs\\ml-base\\lib\\site-packages\\sklearn\\utils\\validation.py:595: DataConversionWarning: Data with input dtype int32 was converted to float64 by StandardScaler.\n",
      "  warnings.warn(msg, DataConversionWarning)\n",
      "c:\\users\\i0325777\\appdata\\local\\continuum\\miniconda3\\envs\\ml-base\\lib\\site-packages\\sklearn\\utils\\validation.py:595: DataConversionWarning: Data with input dtype int32 was converted to float64 by StandardScaler.\n",
      "  warnings.warn(msg, DataConversionWarning)\n",
      "c:\\users\\i0325777\\appdata\\local\\continuum\\miniconda3\\envs\\ml-base\\lib\\site-packages\\sklearn\\utils\\validation.py:595: DataConversionWarning: Data with input dtype int32 was converted to float64 by StandardScaler.\n",
      "  warnings.warn(msg, DataConversionWarning)\n"
     ]
    }
   ],
   "source": [
    "from src.dataset_utils import TrackDataset, get_dataset_representation_from_tracks\n",
    "from torch.utils.data import DataLoader\n",
    "\n",
    "from sklearn.preprocessing import StandardScaler\n",
    "\n",
    "feature_scaler = StandardScaler()\n",
    "label_scaler = StandardScaler()\n",
    "\n",
    "tracks = []\n",
    "# iterate over all midi files of folder\n",
    "import glob\n",
    "import os\n",
    "import numpy as np\n",
    "\n",
    "try:\n",
    "    home_dir\n",
    "except NameError:\n",
    "    home_dir = os.getcwd()\n",
    "\n",
    "os.chdir(home_dir + \"/midi_data/bach\")  # go to a folder relative to home dir\n",
    "for midi_file in glob.glob(\"*.mid\"):\n",
    "    # get a list of all soprano tracks\n",
    "    ## load midi file\n",
    "    csv_text = midi_utils.load_to_csv(midi_file)\n",
    "\n",
    "    ## Split into tracks\n",
    "    track_dict = midi_utils.split_tracks(csv_text)\n",
    "    track_nr = '1'\n",
    "\n",
    "    ## Generating numpy array with notes\n",
    "    track = midi_utils.midi_track_to_numpy(track_dict[track_nr])\n",
    "    tracks.append(track)\n",
    "    \n",
    "print(\"Number of tracks: \" + str(len(tracks)))\n",
    "\n",
    "x, y = get_dataset_representation_from_tracks(tracks, feature_qty=20, prediction_qty=2)\n",
    "\n",
    "# drop length of notes and keep pitch\n",
    "x = np.stack(x)\n",
    "x = x[:,:,0]\n",
    "\n",
    "y = np.stack(y)\n",
    "y = y[:,:,0]\n",
    "\n",
    "feature_scaler.fit(x)\n",
    "\n",
    "print(\"Mean of the dataset: \" + str(feature_scaler.mean_[0]))\n",
    "\n",
    "x = feature_scaler.fit_transform(x)\n",
    "\n",
    "label_scaler.fit(y)\n",
    "\n",
    "y = label_scaler.fit_transform(y)\n",
    "\n",
    "print(\"Number of samples: \" + str(len(x)))\n",
    "\n",
    "mini_batch_size = 32\n",
    "\n",
    "# for now, we only train on the pitches of the notes\n",
    "train_dataset = TrackDataset(x, y, drop_length=False)  # make training dataset\n",
    "#validation_dataset = TrackDataset(val_images, val_centers)  # make validation dataset\n",
    "#test_dataset = TrackDataset(test_images, test_centers)  # make test dataset\n",
    "\n",
    "train_loader = DataLoader(train_dataset, batch_size=mini_batch_size, shuffle=True)\n",
    "validation_loader = DataLoader(train_dataset, batch_size=mini_batch_size, shuffle=True) # TODO TODO TODO: CHANGE TO A SUITABLE VALIDATIONSET\n",
    "#test_loader = DataLoader(test_dataset, batch_size=len(test_dataset), shuffle=False)"
   ]
  },
  {
   "cell_type": "code",
   "execution_count": 8,
   "metadata": {},
   "outputs": [
    {
     "name": "stdout",
     "output_type": "stream",
     "text": [
      "Training set size 13277\n",
      "Input size 20/ output size 2/ learning rate 0.001\n",
      "Input example tensor([ 0.9796,  1.8240,  0.9512,  0.9406,  0.9328,  0.9315,  1.2167,  0.9348,\n",
      "         0.3699,  0.3700, -0.1906,  0.9375,  1.7837,  0.3825,  0.3826,  0.3806,\n",
      "        -1.0221, -0.1851, -0.4686, -1.0288])\n",
      "Output example tensor([0.9344, 1.7809])\n"
     ]
    }
   ],
   "source": [
    "import torch\n",
    "import torch.nn as nn\n",
    "import numpy as np\n",
    "\n",
    "print(\"Training set size\", len(train_dataset))\n",
    "\n",
    "input_size = len(train_dataset[0][0])  # get input size\n",
    "input_example = train_dataset[0][0]\n",
    "output_size = len(train_dataset[0][1])  # get output size\n",
    "output_example = train_dataset[0][1]\n",
    "learning_rate = 0.001\n",
    "\n",
    "print(\"Input size {}/ output size {}/ learning rate {}\".format(input_size, output_size, learning_rate))\n",
    "print(\"Input example {}\".format(input_example))\n",
    "print(\"Output example {}\".format(output_example))\n",
    "\n",
    "\n",
    "class LinearModel(nn.Module):\n",
    "\n",
    "    def __init__(self, input_dimension, output_dimension):\n",
    "        super(LinearModel, self).__init__()\n",
    "        self.fc = torch.nn.Linear(input_dimension, output_dimension, bias=True)  # linear layer with parameters A, b\n",
    "\n",
    "    def forward(self, input_data):\n",
    "        output = self.fc(input_data)  # applies out = input * A + b. A, b are parameters of nn.Linear that we want to learn\n",
    "        return output\n",
    "    \n",
    "\n",
    "class MLPModel(nn.Module):\n",
    "    \n",
    "    def __init__(self, input_dim, hidden_dim, output_dim):\n",
    "        super(MLPModel, self).__init__()\n",
    "        self.layers = nn.Sequential(\n",
    "            nn.Linear(input_dim, hidden_dim),\n",
    "            nn.ReLU(),\n",
    "            nn.Linear(hidden_dim, hidden_dim),\n",
    "            nn.ReLU(),\n",
    "            nn.Linear(hidden_dim, hidden_dim),\n",
    "            nn.ReLU(),\n",
    "            nn.Linear(hidden_dim, output_dim)\n",
    "        )\n",
    "    \n",
    "    def forward(self, input):\n",
    "        return self.layers(input)\n",
    "    \n",
    "device = torch.device('cpu')\n",
    "    \n",
    "# linear_model = LinearModel(input_size, output_size)\n",
    "# \n",
    "# linear_model = linear_model.to(device)\n",
    "# \n",
    "mlp_model = MLPModel(input_size, 256, output_size)\n",
    "\n",
    "mlp_model = mlp_model.to(device)\n",
    "\n",
    "model = mlp_model\n",
    "\n",
    "\n",
    "criterion = torch.nn.MSELoss()\n",
    "optimizer = torch.optim.Adam(model.parameters(), lr=learning_rate)\n",
    "\n",
    "\n",
    "def train(model, train_dataloader, val_dataloader, optimizer, n_epochs, loss_function, device=torch.device('cpu'), verbose=1):\n",
    "    # We will monitor loss functions as the training progresses\n",
    "    train_losses = []\n",
    "    val_losses = []\n",
    "\n",
    "    for epoch in range(n_epochs):\n",
    "        # training phase\n",
    "        model.train()\n",
    "        # Iterate mini batches over training dataset\n",
    "        losses = []\n",
    "        for x, y in train_dataloader:\n",
    "            x = x.to(device)\n",
    "            y = y.to(device)\n",
    "            output = model(x)  # predict output from input\n",
    "            \n",
    "            # set gradients to zero\n",
    "            optimizer.zero_grad()\n",
    "\n",
    "            loss = loss_function(output, y)\n",
    "            if verbose > 2:\n",
    "                print(loss.item())\n",
    "            loss.backward()\n",
    "            optimizer.step()\n",
    "\n",
    "            # Metrics\n",
    "            losses.append(loss.item())\n",
    "            \n",
    "        train_losses.append(np.mean(np.array(losses)))\n",
    "\n",
    "        # Evaluation phase\n",
    "        model.eval()\n",
    "        # iterate mini batches over validation set\n",
    "        # We don't need gradients\n",
    "        losses = []\n",
    "        with torch.no_grad():\n",
    "            for x, y in val_dataloader:\n",
    "                x = x.to(device)\n",
    "                y = y.to(device)\n",
    "                output = model(x)\n",
    "                loss = loss_function(output, y)\n",
    "                if verbose > 1:\n",
    "                    print(loss.item())\n",
    "\n",
    "                losses.append(loss.item())\n",
    "        val_losses.append(np.mean(np.array(losses)))\n",
    "        \n",
    "        if verbose > 0:\n",
    "            print('Epoch {}/{}: train_loss: {:.4f}, val_loss: {:.4f}'.format(epoch + 1, n_epochs, train_losses[-1], val_losses[-1]))\n",
    "    return train_losses, val_losses\n"
   ]
  },
  {
   "cell_type": "code",
   "execution_count": 9,
   "metadata": {},
   "outputs": [
    {
     "name": "stdout",
     "output_type": "stream",
     "text": [
      "Epoch 1/50: train_loss: 0.5295, val_loss: 0.4991\n",
      "Epoch 2/50: train_loss: 0.4995, val_loss: 0.4808\n",
      "Epoch 3/50: train_loss: 0.4892, val_loss: 0.4673\n",
      "Epoch 4/50: train_loss: 0.4794, val_loss: 0.4663\n",
      "Epoch 5/50: train_loss: 0.4673, val_loss: 0.4410\n",
      "Epoch 6/50: train_loss: 0.4525, val_loss: 0.4262\n",
      "Epoch 7/50: train_loss: 0.4382, val_loss: 0.4129\n",
      "Epoch 8/50: train_loss: 0.4190, val_loss: 0.4038\n",
      "Epoch 9/50: train_loss: 0.4014, val_loss: 0.3705\n",
      "Epoch 10/50: train_loss: 0.3828, val_loss: 0.3473\n",
      "Epoch 11/50: train_loss: 0.3640, val_loss: 0.3280\n",
      "Epoch 12/50: train_loss: 0.3417, val_loss: 0.3030\n",
      "Epoch 13/50: train_loss: 0.3210, val_loss: 0.2809\n",
      "Epoch 14/50: train_loss: 0.2994, val_loss: 0.2673\n",
      "Epoch 15/50: train_loss: 0.2799, val_loss: 0.2526\n",
      "Epoch 16/50: train_loss: 0.2601, val_loss: 0.2248\n",
      "Epoch 17/50: train_loss: 0.2384, val_loss: 0.2147\n",
      "Epoch 18/50: train_loss: 0.2225, val_loss: 0.1823\n",
      "Epoch 19/50: train_loss: 0.2052, val_loss: 0.1763\n",
      "Epoch 20/50: train_loss: 0.1914, val_loss: 0.1653\n",
      "Epoch 21/50: train_loss: 0.1733, val_loss: 0.1514\n",
      "Epoch 22/50: train_loss: 0.1632, val_loss: 0.1355\n",
      "Epoch 23/50: train_loss: 0.1490, val_loss: 0.1319\n",
      "Epoch 24/50: train_loss: 0.1392, val_loss: 0.1214\n",
      "Epoch 25/50: train_loss: 0.1305, val_loss: 0.1134\n",
      "Epoch 26/50: train_loss: 0.1221, val_loss: 0.1048\n",
      "Epoch 27/50: train_loss: 0.1131, val_loss: 0.1203\n",
      "Epoch 28/50: train_loss: 0.1091, val_loss: 0.0918\n",
      "Epoch 29/50: train_loss: 0.1014, val_loss: 0.0852\n",
      "Epoch 30/50: train_loss: 0.0966, val_loss: 0.0836\n",
      "Epoch 31/50: train_loss: 0.0906, val_loss: 0.0781\n",
      "Epoch 32/50: train_loss: 0.0853, val_loss: 0.0747\n",
      "Epoch 33/50: train_loss: 0.0806, val_loss: 0.0701\n",
      "Epoch 34/50: train_loss: 0.0784, val_loss: 0.0738\n",
      "Epoch 35/50: train_loss: 0.0763, val_loss: 0.0653\n",
      "Epoch 36/50: train_loss: 0.0706, val_loss: 0.0676\n",
      "Epoch 37/50: train_loss: 0.0713, val_loss: 0.0592\n",
      "Epoch 38/50: train_loss: 0.0697, val_loss: 0.0649\n",
      "Epoch 39/50: train_loss: 0.0652, val_loss: 0.0603\n",
      "Epoch 40/50: train_loss: 0.0626, val_loss: 0.0596\n",
      "Epoch 41/50: train_loss: 0.0613, val_loss: 0.0618\n",
      "Epoch 42/50: train_loss: 0.0626, val_loss: 0.0534\n",
      "Epoch 43/50: train_loss: 0.0567, val_loss: 0.0565\n",
      "Epoch 44/50: train_loss: 0.0580, val_loss: 0.0536\n",
      "Epoch 45/50: train_loss: 0.0546, val_loss: 0.0471\n",
      "Epoch 46/50: train_loss: 0.0541, val_loss: 0.0479\n",
      "Epoch 47/50: train_loss: 0.0511, val_loss: 0.0496\n",
      "Epoch 48/50: train_loss: 0.0516, val_loss: 0.0508\n",
      "Epoch 49/50: train_loss: 0.0506, val_loss: 0.0469\n",
      "Epoch 50/50: train_loss: 0.0510, val_loss: 0.0483\n"
     ]
    }
   ],
   "source": [
    "# Train the linear model and plot how the loss changes as the \n",
    "# training progresses for both training and validation set.\n",
    "import matplotlib.pyplot as plt\n",
    "%matplotlib inline\n",
    "\n",
    "train_losses, val_losses = train(model, train_loader, validation_loader, optimizer, 50, criterion, verbose=1)"
   ]
  },
  {
   "cell_type": "code",
   "execution_count": 10,
   "metadata": {},
   "outputs": [
    {
     "name": "stdout",
     "output_type": "stream",
     "text": [
      "[[67. 65. 67. 66.]\n",
      " [62. 62. 62. 62.]\n",
      " [73. 73. 72. 72.]\n",
      " [67. 65. 67. 65.]\n",
      " [78. 76. 76. 77.]\n",
      " [69. 71. 69. 71.]\n",
      " [74. 72. 75. 72.]\n",
      " [74. 73. 74. 73.]\n",
      " [71. 69. 71. 68.]\n",
      " [66. 68. 66. 68.]\n",
      " [67. 69. 68. 69.]\n",
      " [71. 69. 71. 69.]\n",
      " [67. 67. 68. 68.]\n",
      " [74. 72. 75. 71.]\n",
      " [65. 64. 65. 64.]\n",
      " [76. 74. 76. 74.]\n",
      " [64. 66. 63. 66.]\n",
      " [74. 76. 74. 76.]\n",
      " [66. 64. 66. 64.]\n",
      " [74. 72. 74. 72.]\n",
      " [64. 64. 65. 64.]\n",
      " [66. 64. 67. 65.]\n",
      " [74. 73. 72. 73.]\n",
      " [65. 64. 66. 65.]\n",
      " [69. 67. 70. 68.]\n",
      " [76. 74. 77. 74.]\n",
      " [69. 67. 69. 68.]\n",
      " [74. 76. 75. 76.]\n",
      " [74. 74. 74. 74.]\n",
      " [72. 74. 72. 74.]\n",
      " [72. 69. 72. 69.]\n",
      " [71. 69. 73. 70.]]\n"
     ]
    },
    {
     "data": {
      "image/png": "[encoded data removed]",
      "text/plain": [
       "<Figure size 432x288 with 1 Axes>"
      ]
     },
     "metadata": {
      "needs_background": "light"
     },
     "output_type": "display_data"
    }
   ],
   "source": [
    "# check predictions from samples\n",
    "\n",
    "model.eval()\n",
    "\n",
    "for x, y in train_loader:\n",
    "    x = x.to(device)\n",
    "    y = y.to(device)\n",
    "    output = model(x)  # predict output from input\n",
    "    \n",
    "    scaled_y = label_scaler.inverse_transform(y.detach().numpy())\n",
    "    scaled_output = label_scaler.inverse_transform(output.detach().numpy())\n",
    "\n",
    "    print(np.concatenate((scaled_y, np.round(scaled_output)), axis=1))\n",
    "    break\n",
    "\n",
    "\n",
    "plt.axis('on')\n",
    "x = range(len(train_losses))\n",
    "plt.plot(x, train_losses, x, val_losses)\n",
    "\n",
    "plt.show()"
   ]
  },
  {
   "cell_type": "code",
   "execution_count": 11,
   "metadata": {},
   "outputs": [
    {
     "name": "stdout",
     "output_type": "stream",
     "text": [
      "[72. 70. 72. 74. 72. 70. 69. 70. 72. 70. 69. 67. 67. 72. 71. 72. 74. 72.\n",
      " 70. 69. 67. 65. 66. 70. 71. 74. 74. 73. 72. 72. 71. 73. 76. 77. 76. 74.\n",
      " 73. 73. 74. 73. 70. 71. 73. 72. 72. 71. 69. 70. 72. 72. 72. 73. 75. 75.\n",
      " 74. 73. 73. 72. 71. 68. 71. 72. 74. 73. 71. 71. 73. 73. 74. 74. 71. 71.\n",
      " 72. 71. 70. 71. 72. 72. 72. 71.]\n"
     ]
    }
   ],
   "source": [
    "# predict midi from init samples\n",
    "\n",
    "init_index = 1000\n",
    "\n",
    "generated_track = train_dataset[init_index][0].clone()\n",
    "\n",
    "# predict for a certain length\n",
    "predict_length = 30  # TODO: Model the end of the songs as well through a terminator.\n",
    "\n",
    "x, y = train_dataset[init_index]\n",
    "x = x.to(device)\n",
    "for i in range(predict_length):\n",
    "    _, y = train_dataset[init_index + i]\n",
    "    y = y.to(device)\n",
    "    output = model(x)  # predict output from input\n",
    "    x = torch.cat((x[output.shape[0]:], output))  # shift the input by one by adding the prediction\n",
    "    generated_track = torch.cat((generated_track, output))  # append prediction to generated track\n",
    "    \n",
    "#print(generated_track.detach().numpy())\n",
    "    \n",
    "n_generated_track = generated_track.detach().numpy()\n",
    "n_generated_track = n_generated_track.reshape(int(n_generated_track.shape[0]/output.shape[0]), output.shape[0])\n",
    "track = label_scaler.inverse_transform(n_generated_track).round().flatten()\n",
    "\n",
    "print(track)\n"
   ]
  },
  {
   "cell_type": "code",
   "execution_count": 12,
   "metadata": {},
   "outputs": [],
   "source": [
    "# write numpy to midi track\n",
    "\n",
    "numpy_notes = midi_utils.prediction_to_numpy(track, 1024)\n",
    "\n",
    "# create midi track\n",
    "new_track = midi_utils.numpy_to_midi_track(numpy_notes, 1, 'Modified')\n",
    "\n",
    "#print(numpy_notes)\n",
    "\n",
    "os.chdir(home_dir)\n",
    "\n",
    "# make new song with the new track\n",
    "new_track_dict = {}\n",
    "new_track_dict['0'] = track_dict['0']\n",
    "new_track_dict['1'] = new_track\n",
    "modified_midi_filename = 'midi_data/test_modified_track.mid'\n",
    "modified_csv_list = midi_utils.track_dict_to_csv(new_track_dict)\n",
    "midi_utils.write_to_midi(modified_csv_list, modified_midi_filename)"
   ]
  },
  {
   "cell_type": "code",
   "execution_count": 13,
   "metadata": {},
   "outputs": [],
   "source": [
    "pygame.init()\n",
    "pygame.mixer.music.load(modified_midi_filename)\n",
    "pygame.mixer.music.play()"
   ]
  },
  {
   "cell_type": "code",
   "execution_count": null,
   "metadata": {},
   "outputs": [],
   "source": [
    "pygame.mixer.music.stop()"
   ]
  },
  {
   "cell_type": "code",
   "execution_count": null,
   "metadata": {},
   "outputs": [],
   "source": []
  }
 ],
 "metadata": {
  "kernelspec": {
   "display_name": "Python 3",
   "language": "python",
   "name": "python3"
  },
  "language_info": {
   "codemirror_mode": {
    "name": "ipython",
    "version": 3
   },
   "file_extension": ".py",
   "mimetype": "text/x-python",
   "name": "python",
   "nbconvert_exporter": "python",
   "pygments_lexer": "ipython3",
   "version": "3.6.8"
  }
 },
 "nbformat": 4,
 "nbformat_minor": 2
}
