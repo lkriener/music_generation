{
  "nbformat": 4,
  "nbformat_minor": 0,
  "metadata": {
    "colab": {
      "name": "train_feedforward_net.ipynb",
      "version": "0.3.2",
      "provenance": [],
      "collapsed_sections": [],
      "toc_visible": true
    },
    "language_info": {
      "codemirror_mode": {
        "name": "ipython",
        "version": 3
      },
      "file_extension": ".py",
      "mimetype": "text/x-python",
      "name": "python",
      "nbconvert_exporter": "python",
      "pygments_lexer": "ipython3",
      "version": "3.6.8"
    },
    "kernelspec": {
      "name": "python3",
      "display_name": "Python 3"
    },
    "accelerator": "GPU"
  },
  "cells": [
    {
      "cell_type": "markdown",
      "metadata": {
        "id": "upMkQI5Ri8kU",
        "colab_type": "text"
      },
      "source": [
        "# Train feedforward net"
      ]
    },
    {
      "cell_type": "code",
      "metadata": {
        "id": "nIeCTwk5i8kW",
        "colab_type": "code",
        "colab": {
          "base_uri": "https://localhost:8080/",
          "height": 136
        },
        "outputId": "71226a0a-e7b0-49fc-9fe0-c618ccc9170b"
      },
      "source": [
        "# Uncomment the line below and run this cell to get your data from github into colab (only runnable in colab, not ordinary jupyter notebook):\n",
        "! git clone https://github.com/lkriener/music_generation.git && mv music_generation/* . && rm music_generation -r"
      ],
      "execution_count": 3,
      "outputs": [
        {
          "output_type": "stream",
          "text": [
            "Cloning into 'music_generation'...\n",
            "remote: Enumerating objects: 433, done.\u001b[K\n",
            "remote: Counting objects: 100% (433/433), done.\u001b[K\n",
            "remote: Compressing objects: 100% (411/411), done.\u001b[K\n",
            "remote: Total 433 (delta 33), reused 415 (delta 18), pack-reused 0\u001b[K\n",
            "Receiving objects: 100% (433/433), 309.67 KiB | 4.18 MiB/s, done.\n",
            "Resolving deltas: 100% (33/33), done.\n"
          ],
          "name": "stdout"
        }
      ]
    },
    {
      "cell_type": "code",
      "metadata": {
        "id": "8PDGFwS8jKrA",
        "colab_type": "code",
        "colab": {
          "base_uri": "https://localhost:8080/",
          "height": 136
        },
        "outputId": "b7964db3-b3d8-4e4a-877e-69d1687f59f6"
      },
      "source": [
        "# Uncomment line to install requirements\n",
        "! pip install -r colab_requirements.txt"
      ],
      "execution_count": 4,
      "outputs": [
        {
          "output_type": "stream",
          "text": [
            "Collecting pygame==1.9.6 (from -r colab_requirements.txt (line 2))\n",
            "\u001b[?25l  Downloading https://files.pythonhosted.org/packages/8e/24/ede6428359f913ed9cd1643dd5533aefeb5a2699cc95bea089de50ead586/pygame-1.9.6-cp36-cp36m-manylinux1_x86_64.whl (11.4MB)\n",
            "\u001b[K     |████████████████████████████████| 11.4MB 3.4MB/s \n",
            "\u001b[?25hCollecting py_midicsv==1.9.0 (from -r colab_requirements.txt (line 3))\n",
            "  Downloading https://files.pythonhosted.org/packages/1f/eb/3133f65bd34dafcbae37508d290ebf540832430cbe2aef23629cc6a6197f/py_midicsv-1.9.0-py3-none-any.whl\n",
            "Installing collected packages: pygame, py-midicsv\n",
            "Successfully installed py-midicsv-1.9.0 pygame-1.9.6\n"
          ],
          "name": "stdout"
        }
      ]
    },
    {
      "cell_type": "code",
      "metadata": {
        "id": "Hz32cHiui8kb",
        "colab_type": "code",
        "colab": {
          "base_uri": "https://localhost:8080/",
          "height": 51
        },
        "outputId": "9f6b2ae5-5543-4ff8-cf7c-02a97cda8e59"
      },
      "source": [
        "import src.midi_utils as midi_utils\n",
        "\n",
        "import pygame"
      ],
      "execution_count": 5,
      "outputs": [
        {
          "output_type": "stream",
          "text": [
            "pygame 1.9.6\n",
            "Hello from the pygame community. https://www.pygame.org/contribute.html\n"
          ],
          "name": "stdout"
        }
      ]
    },
    {
      "cell_type": "code",
      "metadata": {
        "id": "9SHyV0zBi8kh",
        "colab_type": "code",
        "colab": {
          "base_uri": "https://localhost:8080/",
          "height": 215
        },
        "outputId": "56394c81-ac40-4b9c-af10-ad1ce23026ba"
      },
      "source": [
        "midi_filename = 'midi_data/bwv104.6.mid'\n",
        "# midi_filename = 'midi_data/pkgsc_azalea.mid'\n",
        "pygame.init()\n",
        "pygame.mixer.music.load(midi_filename)\n",
        "pygame.mixer.music.play()"
      ],
      "execution_count": 6,
      "outputs": [
        {
          "output_type": "error",
          "ename": "error",
          "evalue": "ignored",
          "traceback": [
            "\u001b[0;31m---------------------------------------------------------------------------\u001b[0m",
            "\u001b[0;31merror\u001b[0m                                     Traceback (most recent call last)",
            "\u001b[0;32m<ipython-input-6-2e42cb071a4d>\u001b[0m in \u001b[0;36m<module>\u001b[0;34m()\u001b[0m\n\u001b[1;32m      2\u001b[0m \u001b[0;31m# midi_filename = 'midi_data/pkgsc_azalea.mid'\u001b[0m\u001b[0;34m\u001b[0m\u001b[0;34m\u001b[0m\u001b[0;34m\u001b[0m\u001b[0m\n\u001b[1;32m      3\u001b[0m \u001b[0mpygame\u001b[0m\u001b[0;34m.\u001b[0m\u001b[0minit\u001b[0m\u001b[0;34m(\u001b[0m\u001b[0;34m)\u001b[0m\u001b[0;34m\u001b[0m\u001b[0;34m\u001b[0m\u001b[0m\n\u001b[0;32m----> 4\u001b[0;31m \u001b[0mpygame\u001b[0m\u001b[0;34m.\u001b[0m\u001b[0mmixer\u001b[0m\u001b[0;34m.\u001b[0m\u001b[0mmusic\u001b[0m\u001b[0;34m.\u001b[0m\u001b[0mload\u001b[0m\u001b[0;34m(\u001b[0m\u001b[0mmidi_filename\u001b[0m\u001b[0;34m)\u001b[0m\u001b[0;34m\u001b[0m\u001b[0;34m\u001b[0m\u001b[0m\n\u001b[0m\u001b[1;32m      5\u001b[0m \u001b[0mpygame\u001b[0m\u001b[0;34m.\u001b[0m\u001b[0mmixer\u001b[0m\u001b[0;34m.\u001b[0m\u001b[0mmusic\u001b[0m\u001b[0;34m.\u001b[0m\u001b[0mplay\u001b[0m\u001b[0;34m(\u001b[0m\u001b[0;34m)\u001b[0m\u001b[0;34m\u001b[0m\u001b[0;34m\u001b[0m\u001b[0m\n",
            "\u001b[0;31merror\u001b[0m: mixer not initialized"
          ]
        }
      ]
    },
    {
      "cell_type": "code",
      "metadata": {
        "id": "qH3jo86Qi8kj",
        "colab_type": "code",
        "colab": {}
      },
      "source": [
        "pygame.mixer.music.stop()"
      ],
      "execution_count": 0,
      "outputs": []
    },
    {
      "cell_type": "markdown",
      "metadata": {
        "id": "b8Q3soTTi8km",
        "colab_type": "text"
      },
      "source": [
        "# Neural network"
      ]
    },
    {
      "cell_type": "code",
      "metadata": {
        "id": "HxMigMtRi8km",
        "colab_type": "code",
        "colab": {
          "base_uri": "https://localhost:8080/",
          "height": 272
        },
        "outputId": "bcb853a6-7d49-4fcc-83de-8b3cedbb3165"
      },
      "source": [
        "from src.dataset_utils import TrackDataset, get_dataset_representation_from_tracks\n",
        "from torch.utils.data import DataLoader\n",
        "\n",
        "from sklearn.preprocessing import StandardScaler\n",
        "\n",
        "feature_scaler = StandardScaler()\n",
        "label_scaler = StandardScaler()\n",
        "\n",
        "tracks = []\n",
        "# iterate over all midi files of folder\n",
        "import glob\n",
        "import os\n",
        "import numpy as np\n",
        "\n",
        "try:\n",
        "    home_dir\n",
        "except NameError:\n",
        "    home_dir = os.getcwd()\n",
        "\n",
        "os.chdir(home_dir + \"/midi_data/bach\")  # go to a folder relative to home dir\n",
        "for midi_file in glob.glob(\"*.mid\"):\n",
        "    # get a list of all soprano tracks\n",
        "    ## load midi file\n",
        "    csv_text = midi_utils.load_to_csv(midi_file)\n",
        "\n",
        "    ## Split into tracks\n",
        "    track_dict = midi_utils.split_tracks(csv_text)\n",
        "    track_nr = '1'\n",
        "\n",
        "    ## Generating numpy array with notes\n",
        "    track = midi_utils.midi_track_to_numpy(track_dict[track_nr])\n",
        "    tracks.append(track)\n",
        "    \n",
        "print(\"Number of tracks: \" + str(len(tracks)))\n",
        "\n",
        "x, y = get_dataset_representation_from_tracks(tracks, feature_qty=20, prediction_qty=2)\n",
        "\n",
        "# drop length of notes and keep pitch\n",
        "x = np.stack(x)\n",
        "x = x[:,:,0]\n",
        "\n",
        "y = np.stack(y)\n",
        "y = y[:,:,0]\n",
        "\n",
        "feature_scaler.fit(x)\n",
        "\n",
        "print(\"Mean of the dataset: \" + str(feature_scaler.mean_[0]))\n",
        "\n",
        "x = feature_scaler.fit_transform(x)\n",
        "\n",
        "label_scaler.fit(y)\n",
        "\n",
        "y = label_scaler.fit_transform(y)\n",
        "\n",
        "print(\"Number of samples: \" + str(len(x)))\n",
        "\n",
        "mini_batch_size = 32\n",
        "\n",
        "# for now, we only train on the pitches of the notes\n",
        "train_dataset = TrackDataset(x, y, drop_length=False)  # make training dataset\n",
        "#validation_dataset = TrackDataset(val_images, val_centers)  # make validation dataset\n",
        "#test_dataset = TrackDataset(test_images, test_centers)  # make test dataset\n",
        "\n",
        "train_loader = DataLoader(train_dataset, batch_size=mini_batch_size, shuffle=True)\n",
        "validation_loader = DataLoader(train_dataset, batch_size=mini_batch_size, shuffle=True) # TODO TODO TODO: CHANGE TO A SUITABLE VALIDATIONSET\n",
        "#test_loader = DataLoader(test_dataset, batch_size=len(test_dataset), shuffle=False)"
      ],
      "execution_count": 6,
      "outputs": [
        {
          "output_type": "stream",
          "text": [
            "Number of tracks: 357\n",
            "Mean of the dataset: 70.56518791895759\n",
            "Number of samples: 13277\n"
          ],
          "name": "stdout"
        },
        {
          "output_type": "stream",
          "text": [
            "/usr/local/lib/python3.6/dist-packages/sklearn/utils/validation.py:595: DataConversionWarning: Data with input dtype int64 was converted to float64 by StandardScaler.\n",
            "  warnings.warn(msg, DataConversionWarning)\n",
            "/usr/local/lib/python3.6/dist-packages/sklearn/utils/validation.py:595: DataConversionWarning: Data with input dtype int64 was converted to float64 by StandardScaler.\n",
            "  warnings.warn(msg, DataConversionWarning)\n",
            "/usr/local/lib/python3.6/dist-packages/sklearn/utils/validation.py:595: DataConversionWarning: Data with input dtype int64 was converted to float64 by StandardScaler.\n",
            "  warnings.warn(msg, DataConversionWarning)\n",
            "/usr/local/lib/python3.6/dist-packages/sklearn/utils/validation.py:595: DataConversionWarning: Data with input dtype int64 was converted to float64 by StandardScaler.\n",
            "  warnings.warn(msg, DataConversionWarning)\n",
            "/usr/local/lib/python3.6/dist-packages/sklearn/utils/validation.py:595: DataConversionWarning: Data with input dtype int64 was converted to float64 by StandardScaler.\n",
            "  warnings.warn(msg, DataConversionWarning)\n",
            "/usr/local/lib/python3.6/dist-packages/sklearn/utils/validation.py:595: DataConversionWarning: Data with input dtype int64 was converted to float64 by StandardScaler.\n",
            "  warnings.warn(msg, DataConversionWarning)\n"
          ],
          "name": "stderr"
        }
      ]
    },
    {
      "cell_type": "code",
      "metadata": {
        "id": "CVgPaaAUi8kq",
        "colab_type": "code",
        "colab": {
          "base_uri": "https://localhost:8080/",
          "height": 119
        },
        "outputId": "d90aa1c7-7443-4d75-d481-84a73d50deea"
      },
      "source": [
        "import torch\n",
        "import torch.nn as nn\n",
        "import numpy as np\n",
        "\n",
        "print(\"Training set size\", len(train_dataset))\n",
        "\n",
        "input_size = len(train_dataset[0][0])  # get input size\n",
        "input_example = train_dataset[0][0]\n",
        "output_size = len(train_dataset[0][1])  # get output size\n",
        "output_example = train_dataset[0][1]\n",
        "learning_rate = 0.001\n",
        "\n",
        "print(\"Input size {}/ output size {}/ learning rate {}\".format(input_size, output_size, learning_rate))\n",
        "print(\"Input example {}\".format(input_example))\n",
        "print(\"Output example {}\".format(output_example))\n",
        "\n",
        "\n",
        "class LinearModel(nn.Module):\n",
        "\n",
        "    def __init__(self, input_dimension, output_dimension):\n",
        "        super(LinearModel, self).__init__()\n",
        "        self.fc = torch.nn.Linear(input_dimension, output_dimension, bias=True)  # linear layer with parameters A, b\n",
        "\n",
        "    def forward(self, input_data):\n",
        "        output = self.fc(input_data)  # applies out = input * A + b. A, b are parameters of nn.Linear that we want to learn\n",
        "        return output\n",
        "    \n",
        "\n",
        "class MLPModel(nn.Module):\n",
        "    \n",
        "    def __init__(self, input_dim, hidden_dim, output_dim):\n",
        "        super(MLPModel, self).__init__()\n",
        "        self.layers = nn.Sequential(\n",
        "            nn.Linear(input_dim, hidden_dim),\n",
        "            nn.ReLU(),\n",
        "            nn.Linear(hidden_dim, hidden_dim),\n",
        "            nn.ReLU(),\n",
        "            nn.Linear(hidden_dim, hidden_dim),\n",
        "            nn.ReLU(),\n",
        "            nn.Linear(hidden_dim, output_dim)\n",
        "        )\n",
        "    \n",
        "    def forward(self, input):\n",
        "        return self.layers(input)\n",
        "    \n",
        "device = torch.device('cuda' if torch.cuda.is_available() else 'cpu')\n",
        "    \n",
        "# linear_model = LinearModel(input_size, output_size)\n",
        "# \n",
        "# linear_model = linear_model.to(device)\n",
        "# \n",
        "mlp_model = MLPModel(input_size, 256, output_size)\n",
        "\n",
        "mlp_model = mlp_model.to(device)\n",
        "\n",
        "model = mlp_model\n",
        "\n",
        "model.to(device)\n",
        "\n",
        "\n",
        "criterion = torch.nn.MSELoss()\n",
        "optimizer = torch.optim.Adam(model.parameters(), lr=learning_rate)\n",
        "\n",
        "\n",
        "def train(model, train_dataloader, val_dataloader, optimizer, n_epochs, loss_function, device=torch.device('cpu'), verbose=1):\n",
        "    # We will monitor loss functions as the training progresses\n",
        "    train_losses = []\n",
        "    val_losses = []\n",
        "\n",
        "    for epoch in range(n_epochs):\n",
        "        # training phase\n",
        "        model.train()\n",
        "        # Iterate mini batches over training dataset\n",
        "        losses = []\n",
        "        for x, y in train_dataloader:\n",
        "            x = x.to(device)\n",
        "            y = y.to(device)\n",
        "            output = model(x)  # predict output from input\n",
        "            \n",
        "            # set gradients to zero\n",
        "            optimizer.zero_grad()\n",
        "\n",
        "            loss = loss_function(output, y)\n",
        "            if verbose > 2:\n",
        "                print(loss.item())\n",
        "            loss.backward()\n",
        "            optimizer.step()\n",
        "\n",
        "            # Metrics\n",
        "            losses.append(loss.item())\n",
        "            \n",
        "        train_losses.append(np.mean(np.array(losses)))\n",
        "\n",
        "        # Evaluation phase\n",
        "        model.eval()\n",
        "        # iterate mini batches over validation set\n",
        "        # We don't need gradients\n",
        "        losses = []\n",
        "        with torch.no_grad():\n",
        "            for x, y in val_dataloader:\n",
        "                x = x.to(device)\n",
        "                y = y.to(device)\n",
        "                output = model(x)\n",
        "                loss = loss_function(output, y)\n",
        "                if verbose > 1:\n",
        "                    print(loss.item())\n",
        "\n",
        "                losses.append(loss.item())\n",
        "        val_losses.append(np.mean(np.array(losses)))\n",
        "        \n",
        "        if verbose > 0:\n",
        "            print('Epoch {}/{}: train_loss: {:.4f}, val_loss: {:.4f}'.format(epoch + 1, n_epochs, train_losses[-1], val_losses[-1]))\n",
        "    return train_losses, val_losses\n"
      ],
      "execution_count": 7,
      "outputs": [
        {
          "output_type": "stream",
          "text": [
            "Training set size 13277\n",
            "Input size 20/ output size 2/ learning rate 0.001\n",
            "Input example tensor([ 0.4092, -1.0379, -0.4763,  0.0869,  0.3654,  0.3650, -1.0497,  0.3694,\n",
            "        -0.1949, -0.4756, -1.0335, -1.0291, -0.4635, -0.1782,  0.3826, -0.1802,\n",
            "        -0.4623, -1.0242, -1.0283,  0.3707])\n",
            "Output example tensor([0.3758, 0.1106])\n"
          ],
          "name": "stdout"
        }
      ]
    },
    {
      "cell_type": "code",
      "metadata": {
        "id": "CoKXI2Xyi8kt",
        "colab_type": "code",
        "colab": {
          "base_uri": "https://localhost:8080/",
          "height": 867
        },
        "outputId": "baa50a74-5f1a-45be-fa73-5cb6d606d76c"
      },
      "source": [
        "# Train the linear model and plot how the loss changes as the \n",
        "# training progresses for both training and validation set.\n",
        "import matplotlib.pyplot as plt\n",
        "%matplotlib inline\n",
        "\n",
        "train_losses, val_losses = train(model, train_loader, validation_loader, optimizer, 50, criterion, device=device, verbose=1)"
      ],
      "execution_count": 9,
      "outputs": [
        {
          "output_type": "stream",
          "text": [
            "Epoch 1/50: train_loss: 0.5324, val_loss: 0.5081\n",
            "Epoch 2/50: train_loss: 0.4992, val_loss: 0.4839\n",
            "Epoch 3/50: train_loss: 0.4893, val_loss: 0.4642\n",
            "Epoch 4/50: train_loss: 0.4759, val_loss: 0.4587\n",
            "Epoch 5/50: train_loss: 0.4663, val_loss: 0.4361\n",
            "Epoch 6/50: train_loss: 0.4505, val_loss: 0.4230\n",
            "Epoch 7/50: train_loss: 0.4361, val_loss: 0.4079\n",
            "Epoch 8/50: train_loss: 0.4179, val_loss: 0.3850\n",
            "Epoch 9/50: train_loss: 0.4012, val_loss: 0.3581\n",
            "Epoch 10/50: train_loss: 0.3818, val_loss: 0.3518\n",
            "Epoch 11/50: train_loss: 0.3623, val_loss: 0.3299\n",
            "Epoch 12/50: train_loss: 0.3426, val_loss: 0.3083\n",
            "Epoch 13/50: train_loss: 0.3190, val_loss: 0.2945\n",
            "Epoch 14/50: train_loss: 0.3031, val_loss: 0.2714\n",
            "Epoch 15/50: train_loss: 0.2805, val_loss: 0.2539\n",
            "Epoch 16/50: train_loss: 0.2608, val_loss: 0.2245\n",
            "Epoch 17/50: train_loss: 0.2418, val_loss: 0.2098\n",
            "Epoch 18/50: train_loss: 0.2250, val_loss: 0.2055\n",
            "Epoch 19/50: train_loss: 0.2070, val_loss: 0.1741\n",
            "Epoch 20/50: train_loss: 0.1907, val_loss: 0.1719\n",
            "Epoch 21/50: train_loss: 0.1787, val_loss: 0.1538\n",
            "Epoch 22/50: train_loss: 0.1645, val_loss: 0.1499\n",
            "Epoch 23/50: train_loss: 0.1538, val_loss: 0.1359\n",
            "Epoch 24/50: train_loss: 0.1404, val_loss: 0.1340\n",
            "Epoch 25/50: train_loss: 0.1306, val_loss: 0.1168\n",
            "Epoch 26/50: train_loss: 0.1229, val_loss: 0.1079\n",
            "Epoch 27/50: train_loss: 0.1146, val_loss: 0.0992\n",
            "Epoch 28/50: train_loss: 0.1096, val_loss: 0.0938\n",
            "Epoch 29/50: train_loss: 0.0995, val_loss: 0.0924\n",
            "Epoch 30/50: train_loss: 0.0965, val_loss: 0.0858\n",
            "Epoch 31/50: train_loss: 0.0951, val_loss: 0.0812\n",
            "Epoch 32/50: train_loss: 0.0903, val_loss: 0.0815\n",
            "Epoch 33/50: train_loss: 0.0842, val_loss: 0.0754\n",
            "Epoch 34/50: train_loss: 0.0801, val_loss: 0.0760\n",
            "Epoch 35/50: train_loss: 0.0770, val_loss: 0.0685\n",
            "Epoch 36/50: train_loss: 0.0720, val_loss: 0.0664\n",
            "Epoch 37/50: train_loss: 0.0708, val_loss: 0.0662\n",
            "Epoch 38/50: train_loss: 0.0690, val_loss: 0.0607\n",
            "Epoch 39/50: train_loss: 0.0659, val_loss: 0.0627\n",
            "Epoch 40/50: train_loss: 0.0644, val_loss: 0.0561\n",
            "Epoch 41/50: train_loss: 0.0626, val_loss: 0.0572\n",
            "Epoch 42/50: train_loss: 0.0598, val_loss: 0.0540\n",
            "Epoch 43/50: train_loss: 0.0594, val_loss: 0.0544\n",
            "Epoch 44/50: train_loss: 0.0585, val_loss: 0.0514\n",
            "Epoch 45/50: train_loss: 0.0573, val_loss: 0.0524\n",
            "Epoch 46/50: train_loss: 0.0539, val_loss: 0.0474\n",
            "Epoch 47/50: train_loss: 0.0547, val_loss: 0.0523\n",
            "Epoch 48/50: train_loss: 0.0545, val_loss: 0.0575\n",
            "Epoch 49/50: train_loss: 0.0533, val_loss: 0.0450\n",
            "Epoch 50/50: train_loss: 0.0489, val_loss: 0.0448\n"
          ],
          "name": "stdout"
        }
      ]
    },
    {
      "cell_type": "code",
      "metadata": {
        "id": "LkFD6gaEi8kx",
        "colab_type": "code",
        "colab": {
          "base_uri": "https://localhost:8080/",
          "height": 813
        },
        "outputId": "0586225e-a86d-4b94-eae0-c5cf6abfa70a"
      },
      "source": [
        "# check predictions from samples\n",
        "\n",
        "model.eval()\n",
        "\n",
        "for x, y in train_loader:\n",
        "    x = x.to(device)\n",
        "    y = y.to(device)\n",
        "    output = model(x)  # predict output from input\n",
        "    \n",
        "    scaled_y = label_scaler.inverse_transform(y.cpu().detach().numpy())\n",
        "    scaled_output = label_scaler.inverse_transform(output.cpu().detach().numpy())\n",
        "\n",
        "    print(np.concatenate((scaled_y, np.round(scaled_output)), axis=1))\n",
        "    break\n",
        "\n",
        "\n",
        "plt.axis('on')\n",
        "x = range(len(train_losses))\n",
        "plt.plot(x, train_losses, x, val_losses)\n",
        "\n",
        "plt.show()"
      ],
      "execution_count": 11,
      "outputs": [
        {
          "output_type": "stream",
          "text": [
            "[[67. 65. 68. 67.]\n",
            " [66. 67. 66. 67.]\n",
            " [68. 70. 67. 70.]\n",
            " [74. 71. 74. 72.]\n",
            " [69. 71. 68. 71.]\n",
            " [71. 72. 71. 72.]\n",
            " [69. 71. 68. 70.]\n",
            " [74. 76. 75. 75.]\n",
            " [72. 70. 71. 69.]\n",
            " [68. 69. 69. 69.]\n",
            " [72. 71. 72. 71.]\n",
            " [67. 69. 67. 67.]\n",
            " [72. 74. 72. 74.]\n",
            " [70. 74. 70. 74.]\n",
            " [67. 70. 68. 70.]\n",
            " [76. 74. 75. 74.]\n",
            " [70. 69. 70. 69.]\n",
            " [71. 72. 71. 72.]\n",
            " [68. 69. 68. 68.]\n",
            " [72. 74. 72. 73.]\n",
            " [72. 69. 73. 69.]\n",
            " [68. 67. 68. 66.]\n",
            " [73. 71. 73. 71.]\n",
            " [66. 64. 66. 65.]\n",
            " [65. 64. 64. 62.]\n",
            " [70. 69. 71. 69.]\n",
            " [73. 71. 73. 71.]\n",
            " [70. 69. 70. 69.]\n",
            " [72. 70. 73. 70.]\n",
            " [65. 67. 64. 67.]\n",
            " [72. 72. 72. 72.]\n",
            " [74. 72. 76. 73.]]\n"
          ],
          "name": "stdout"
        },
        {
          "output_type": "display_data",
          "data": {
            "image/png": "[encoded data removed]",
            "text/plain": [
              "<Figure size 432x288 with 1 Axes>"
            ]
          },
          "metadata": {
            "tags": []
          }
        }
      ]
    },
    {
      "cell_type": "code",
      "metadata": {
        "id": "OsW176Y2i8k1",
        "colab_type": "code",
        "colab": {
          "base_uri": "https://localhost:8080/",
          "height": 102
        },
        "outputId": "ae7a531d-f0d7-4ad8-d7cb-3d1bf963f78d"
      },
      "source": [
        "# predict midi from init samples\n",
        "\n",
        "init_index = 1000\n",
        "\n",
        "generated_track = train_dataset[init_index][0].clone().to(device)\n",
        "\n",
        "# predict for a certain length\n",
        "predict_length = 30  # TODO: Model the end of the songs as well through a terminator.\n",
        "\n",
        "x, y = train_dataset[init_index]\n",
        "x = x.to(device)\n",
        "for i in range(predict_length):\n",
        "    _, y = train_dataset[init_index + i]\n",
        "    y = y.to(device)\n",
        "    output = model(x)  # predict output from input\n",
        "    x = torch.cat((x[output.shape[0]:], output))  # shift the input by one by adding the prediction\n",
        "    generated_track = torch.cat((generated_track, output))  # append prediction to generated track\n",
        "    \n",
        "#print(generated_track.detach().numpy())\n",
        "    \n",
        "n_generated_track = generated_track.cpu().detach().numpy()\n",
        "n_generated_track = n_generated_track.reshape(int(n_generated_track.shape[0]/output.shape[0]), output.shape[0])\n",
        "track = label_scaler.inverse_transform(n_generated_track).round().flatten()\n",
        "\n",
        "print(track)\n"
      ],
      "execution_count": 13,
      "outputs": [
        {
          "output_type": "stream",
          "text": [
            "[67. 72. 71. 69. 67. 67. 69. 71. 72. 71. 69. 64. 66. 67. 67. 67. 62. 67.\n",
            " 72. 71. 70. 68. 68. 70. 72. 72. 71. 69. 67. 66. 67. 65. 67. 69. 68. 72.\n",
            " 71. 70. 70. 67. 69. 69. 69. 70. 72. 74. 73. 73. 72. 71. 71. 71. 74. 73.\n",
            " 72. 71. 71. 69. 68. 71. 73. 73. 71. 69. 71. 69. 69. 69. 68. 68. 69. 71.\n",
            " 71. 71. 70. 69. 69. 71. 72. 75.]\n"
          ],
          "name": "stdout"
        }
      ]
    },
    {
      "cell_type": "code",
      "metadata": {
        "id": "mSyiG-4Ni8k5",
        "colab_type": "code",
        "colab": {}
      },
      "source": [
        "# write numpy to midi track\n",
        "\n",
        "numpy_notes = midi_utils.prediction_to_numpy(track, 1024)\n",
        "\n",
        "# create midi track\n",
        "new_track = midi_utils.numpy_to_midi_track(numpy_notes, 1, 'Modified')\n",
        "\n",
        "#print(numpy_notes)\n",
        "\n",
        "os.chdir(home_dir)\n",
        "\n",
        "# make new song with the new track\n",
        "new_track_dict = {}\n",
        "new_track_dict['0'] = track_dict['0']\n",
        "new_track_dict['1'] = new_track\n",
        "modified_midi_filename = 'results/feedforward_net_track.mid'\n",
        "modified_csv_list = midi_utils.track_dict_to_csv(new_track_dict)\n",
        "midi_utils.write_to_midi(modified_csv_list, modified_midi_filename)"
      ],
      "execution_count": 0,
      "outputs": []
    },
    {
      "cell_type": "code",
      "metadata": {
        "id": "YJZCj7Wyi8k7",
        "colab_type": "code",
        "colab": {}
      },
      "source": [
        "pygame.init()\n",
        "pygame.mixer.music.load(modified_midi_filename)\n",
        "pygame.mixer.music.play()"
      ],
      "execution_count": 0,
      "outputs": []
    },
    {
      "cell_type": "code",
      "metadata": {
        "id": "HpfqnFH8i8k-",
        "colab_type": "code",
        "colab": {}
      },
      "source": [
        "pygame.mixer.music.stop()"
      ],
      "execution_count": 0,
      "outputs": []
    },
    {
      "cell_type": "code",
      "metadata": {
        "id": "RfvEB29Ni8lA",
        "colab_type": "code",
        "colab": {
          "base_uri": "https://localhost:8080/",
          "height": 34
        },
        "outputId": "957b2c87-1554-4505-8f8d-e82acc75fbda"
      },
      "source": [
        "!git status"
      ],
      "execution_count": 16,
      "outputs": [
        {
          "output_type": "stream",
          "text": [
            "fatal: not a git repository (or any of the parent directories): .git\n"
          ],
          "name": "stdout"
        }
      ]
    },
    {
      "cell_type": "code",
      "metadata": {
        "id": "xxwPzweyS2Vg",
        "colab_type": "code",
        "colab": {}
      },
      "source": [
        ""
      ],
      "execution_count": 0,
      "outputs": []
    }
  ]
}