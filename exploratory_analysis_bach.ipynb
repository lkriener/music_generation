{
  "nbformat": 4,
  "nbformat_minor": 0,
  "metadata": {
    "colab": {
      "name": "exploratory_analysis_bach.ipynb",
      "version": "0.3.2",
      "provenance": [],
      "collapsed_sections": [],
      "toc_visible": true
    },
    "language_info": {
      "codemirror_mode": {
        "name": "ipython",
        "version": 3
      },
      "file_extension": ".py",
      "mimetype": "text/x-python",
      "name": "python",
      "nbconvert_exporter": "python",
      "pygments_lexer": "ipython3",
      "version": "3.6.8"
    },
    "kernelspec": {
      "name": "python3",
      "display_name": "Python 3"
    },
    "accelerator": "GPU"
  },
  "cells": [
    {
      "cell_type": "markdown",
      "metadata": {
        "id": "upMkQI5Ri8kU",
        "colab_type": "text"
      },
      "source": [
        "# Exploratory analysis of bach dataset"
      ]
    },
    {
      "cell_type": "code",
      "metadata": {
        "id": "nIeCTwk5i8kW",
        "colab_type": "code",
        "outputId": "a748755e-5193-4964-be68-bcae57d53b6b",
        "colab": {
          "base_uri": "https://localhost:8080/",
          "height": 136
        }
      },
      "source": [
        "# Uncomment the line below and run this cell to get your data from github into colab (only runnable in colab, not ordinary jupyter notebook):\n",
        "! git clone https://github.com/lkriener/music_generation.git && mv music_generation/* . && rm music_generation -r"
      ],
      "execution_count": 1,
      "outputs": [
        {
          "output_type": "stream",
          "text": [
            "Cloning into 'music_generation'...\n",
            "remote: Enumerating objects: 449, done.\u001b[K\n",
            "remote: Counting objects:   0% (1/449)   \u001b[K\rremote: Counting objects:   1% (5/449)   \u001b[K\rremote: Counting objects:   2% (9/449)   \u001b[K\rremote: Counting objects:   3% (14/449)   \u001b[K\rremote: Counting objects:   4% (18/449)   \u001b[K\rremote: Counting objects:   5% (23/449)   \u001b[K\rremote: Counting objects:   6% (27/449)   \u001b[K\rremote: Counting objects:   7% (32/449)   \u001b[K\rremote: Counting objects:   8% (36/449)   \u001b[K\rremote: Counting objects:   9% (41/449)   \u001b[K\rremote: Counting objects:  10% (45/449)   \u001b[K\rremote: Counting objects:  11% (50/449)   \u001b[K\rremote: Counting objects:  12% (54/449)   \u001b[K\rremote: Counting objects:  13% (59/449)   \u001b[K\rremote: Counting objects:  14% (63/449)   \u001b[K\rremote: Counting objects:  15% (68/449)   \u001b[K\rremote: Counting objects:  16% (72/449)   \u001b[K\rremote: Counting objects:  17% (77/449)   \u001b[K\rremote: Counting objects:  18% (81/449)   \u001b[K\rremote: Counting objects:  19% (86/449)   \u001b[K\rremote: Counting objects:  20% (90/449)   \u001b[K\rremote: Counting objects:  21% (95/449)   \u001b[K\rremote: Counting objects:  22% (99/449)   \u001b[K\rremote: Counting objects:  23% (104/449)   \u001b[K\rremote: Counting objects:  24% (108/449)   \u001b[K\rremote: Counting objects:  25% (113/449)   \u001b[K\rremote: Counting objects:  26% (117/449)   \u001b[K\rremote: Counting objects:  27% (122/449)   \u001b[K\rremote: Counting objects:  28% (126/449)   \u001b[K\rremote: Counting objects:  29% (131/449)   \u001b[K\rremote: Counting objects:  30% (135/449)   \u001b[K\rremote: Counting objects:  31% (140/449)   \u001b[K\rremote: Counting objects:  32% (144/449)   \u001b[K\rremote: Counting objects:  33% (149/449)   \u001b[K\rremote: Counting objects:  34% (153/449)   \u001b[K\rremote: Counting objects:  35% (158/449)   \u001b[K\rremote: Counting objects:  36% (162/449)   \u001b[K\rremote: Counting objects:  37% (167/449)   \u001b[K\rremote: Counting objects:  38% (171/449)   \u001b[K\rremote: Counting objects:  39% (176/449)   \u001b[K\rremote: Counting objects:  40% (180/449)   \u001b[K\rremote: Counting objects:  41% (185/449)   \u001b[K\rremote: Counting objects:  42% (189/449)   \u001b[K\rremote: Counting objects:  43% (194/449)   \u001b[K\rremote: Counting objects:  44% (198/449)   \u001b[K\rremote: Counting objects:  45% (203/449)   \u001b[K\rremote: Counting objects:  46% (207/449)   \u001b[K\rremote: Counting objects:  47% (212/449)   \u001b[K\rremote: Counting objects:  48% (216/449)   \u001b[K\rremote: Counting objects:  49% (221/449)   \u001b[K\rremote: Counting objects:  50% (225/449)   \u001b[K\rremote: Counting objects:  51% (229/449)   \u001b[K\rremote: Counting objects:  52% (234/449)   \u001b[K\rremote: Counting objects:  53% (238/449)   \u001b[K\rremote: Counting objects:  54% (243/449)   \u001b[K\rremote: Counting objects:  55% (247/449)   \u001b[K\rremote: Counting objects:  56% (252/449)   \u001b[K\rremote: Counting objects:  57% (256/449)   \u001b[K\rremote: Counting objects:  58% (261/449)   \u001b[K\rremote: Counting objects:  59% (265/449)   \u001b[K\rremote: Counting objects:  60% (270/449)   \u001b[K\rremote: Counting objects:  61% (274/449)   \u001b[K\rremote: Counting objects:  62% (279/449)   \u001b[K\rremote: Counting objects:  63% (283/449)   \u001b[K\rremote: Counting objects:  64% (288/449)   \u001b[K\rremote: Counting objects:  65% (292/449)   \u001b[K\rremote: Counting objects:  66% (297/449)   \u001b[K\rremote: Counting objects:  67% (301/449)   \u001b[K\rremote: Counting objects:  68% (306/449)   \u001b[K\rremote: Counting objects:  69% (310/449)   \u001b[K\rremote: Counting objects:  70% (315/449)   \u001b[K\rremote: Counting objects:  71% (319/449)   \u001b[K\rremote: Counting objects:  72% (324/449)   \u001b[K\rremote: Counting objects:  73% (328/449)   \u001b[K\rremote: Counting objects:  74% (333/449)   \u001b[K\rremote: Counting objects:  75% (337/449)   \u001b[K\rremote: Counting objects:  76% (342/449)   \u001b[K\rremote: Counting objects:  77% (346/449)   \u001b[K\rremote: Counting objects:  78% (351/449)   \u001b[K\rremote: Counting objects:  79% (355/449)   \u001b[K\rremote: Counting objects:  80% (360/449)   \u001b[K\rremote: Counting objects:  81% (364/449)   \u001b[K\rremote: Counting objects:  82% (369/449)   \u001b[K\rremote: Counting objects:  83% (373/449)   \u001b[K\rremote: Counting objects:  84% (378/449)   \u001b[K\rremote: Counting objects:  85% (382/449)   \u001b[K\rremote: Counting objects:  86% (387/449)   \u001b[K\rremote: Counting objects:  87% (391/449)   \u001b[K\rremote: Counting objects:  88% (396/449)   \u001b[K\rremote: Counting objects:  89% (400/449)   \u001b[K\rremote: Counting objects:  90% (405/449)   \u001b[K\rremote: Counting objects:  91% (409/449)   \u001b[K\rremote: Counting objects:  92% (414/449)   \u001b[K\rremote: Counting objects:  93% (418/449)   \u001b[K\rremote: Counting objects:  94% (423/449)   \u001b[K\rremote: Counting objects:  95% (427/449)   \u001b[K\rremote: Counting objects:  96% (432/449)   \u001b[K\rremote: Counting objects:  97% (436/449)   \u001b[K\rremote: Counting objects:  98% (441/449)   \u001b[K\rremote: Counting objects:  99% (445/449)   \u001b[K\rremote: Counting objects: 100% (449/449)   \u001b[K\rremote: Counting objects: 100% (449/449), done.\u001b[K\n",
            "remote: Compressing objects:   0% (1/421)   \u001b[K\rremote: Compressing objects:   1% (5/421)   \u001b[K\rremote: Compressing objects:   2% (9/421)   \u001b[K\rremote: Compressing objects:   3% (13/421)   \u001b[K\rremote: Compressing objects:   4% (17/421)   \u001b[K\rremote: Compressing objects:   5% (22/421)   \u001b[K\rremote: Compressing objects:   6% (26/421)   \u001b[K\rremote: Compressing objects:   7% (30/421)   \u001b[K\rremote: Compressing objects:   8% (34/421)   \u001b[K\rremote: Compressing objects:   9% (38/421)   \u001b[K\rremote: Compressing objects:  10% (43/421)   \u001b[K\rremote: Compressing objects:  11% (47/421)   \u001b[K\rremote: Compressing objects:  12% (51/421)   \u001b[K\rremote: Compressing objects:  13% (55/421)   \u001b[K\rremote: Compressing objects:  14% (59/421)   \u001b[K\rremote: Compressing objects:  15% (64/421)   \u001b[K\rremote: Compressing objects:  16% (68/421)   \u001b[K\rremote: Compressing objects:  17% (72/421)   \u001b[K\rremote: Compressing objects:  18% (76/421)   \u001b[K\rremote: Compressing objects:  19% (80/421)   \u001b[K\rremote: Compressing objects:  20% (85/421)   \u001b[K\rremote: Compressing objects:  21% (89/421)   \u001b[K\rremote: Compressing objects:  22% (93/421)   \u001b[K\rremote: Compressing objects:  23% (97/421)   \u001b[K\rremote: Compressing objects:  24% (102/421)   \u001b[K\rremote: Compressing objects:  25% (106/421)   \u001b[K\rremote: Compressing objects:  26% (110/421)   \u001b[K\rremote: Compressing objects:  27% (114/421)   \u001b[K\rremote: Compressing objects:  28% (118/421)   \u001b[K\rremote: Compressing objects:  29% (123/421)   \u001b[K\rremote: Compressing objects:  30% (127/421)   \u001b[K\rremote: Compressing objects:  31% (131/421)   \u001b[K\rremote: Compressing objects:  32% (135/421)   \u001b[K\rremote: Compressing objects:  33% (139/421)   \u001b[K\rremote: Compressing objects:  34% (144/421)   \u001b[K\rremote: Compressing objects:  35% (148/421)   \u001b[K\rremote: Compressing objects:  36% (152/421)   \u001b[K\rremote: Compressing objects:  37% (156/421)   \u001b[K\rremote: Compressing objects:  38% (160/421)   \u001b[K\rremote: Compressing objects:  39% (165/421)   \u001b[K\rremote: Compressing objects:  40% (169/421)   \u001b[K\rremote: Compressing objects:  41% (173/421)   \u001b[K\rremote: Compressing objects:  42% (177/421)   \u001b[K\rremote: Compressing objects:  43% (182/421)   \u001b[K\rremote: Compressing objects:  44% (186/421)   \u001b[K\rremote: Compressing objects:  45% (190/421)   \u001b[K\rremote: Compressing objects:  46% (194/421)   \u001b[K\rremote: Compressing objects:  47% (198/421)   \u001b[K\rremote: Compressing objects:  48% (203/421)   \u001b[K\rremote: Compressing objects:  49% (207/421)   \u001b[K\rremote: Compressing objects:  50% (211/421)   \u001b[K\rremote: Compressing objects:  51% (215/421)   \u001b[K\rremote: Compressing objects:  52% (219/421)   \u001b[K\rremote: Compressing objects:  53% (224/421)   \u001b[K\rremote: Compressing objects:  54% (228/421)   \u001b[K\rremote: Compressing objects:  55% (232/421)   \u001b[K\rremote: Compressing objects:  56% (236/421)   \u001b[K\rremote: Compressing objects:  57% (240/421)   \u001b[K\rremote: Compressing objects:  58% (245/421)   \u001b[K\rremote: Compressing objects:  59% (249/421)   \u001b[K\rremote: Compressing objects:  60% (253/421)   \u001b[K\rremote: Compressing objects:  61% (257/421)   \u001b[K\rremote: Compressing objects:  62% (262/421)   \u001b[K\rremote: Compressing objects:  63% (266/421)   \u001b[K\rremote: Compressing objects:  64% (270/421)   \u001b[K\rremote: Compressing objects:  65% (274/421)   \u001b[K\rremote: Compressing objects:  66% (278/421)   \u001b[K\rremote: Compressing objects:  67% (283/421)   \u001b[K\rremote: Compressing objects:  68% (287/421)   \u001b[K\rremote: Compressing objects:  69% (291/421)   \u001b[K\rremote: Compressing objects:  70% (295/421)   \u001b[K\rremote: Compressing objects:  71% (299/421)   \u001b[K\rremote: Compressing objects:  72% (304/421)   \u001b[K\rremote: Compressing objects:  73% (308/421)   \u001b[K\rremote: Compressing objects:  74% (312/421)   \u001b[K\rremote: Compressing objects:  75% (316/421)   \u001b[K\rremote: Compressing objects:  76% (320/421)   \u001b[K\rremote: Compressing objects:  77% (325/421)   \u001b[K\rremote: Compressing objects:  78% (329/421)   \u001b[K\rremote: Compressing objects:  79% (333/421)   \u001b[K\rremote: Compressing objects:  80% (337/421)   \u001b[K\rremote: Compressing objects:  81% (342/421)   \u001b[K\rremote: Compressing objects:  82% (346/421)   \u001b[K\rremote: Compressing objects:  83% (350/421)   \u001b[K\rremote: Compressing objects:  84% (354/421)   \u001b[K\rremote: Compressing objects:  85% (358/421)   \u001b[K\rremote: Compressing objects:  86% (363/421)   \u001b[K\rremote: Compressing objects:  87% (367/421)   \u001b[K\rremote: Compressing objects:  88% (371/421)   \u001b[K\rremote: Compressing objects:  89% (375/421)   \u001b[K\rremote: Compressing objects:  90% (379/421)   \u001b[K\rremote: Compressing objects:  91% (384/421)   \u001b[K\rremote: Compressing objects:  92% (388/421)   \u001b[K\rremote: Compressing objects:  93% (392/421)   \u001b[K\rremote: Compressing objects:  94% (396/421)   \u001b[K\rremote: Compressing objects:  95% (400/421)   \u001b[K\rremote: Compressing objects:  96% (405/421)   \u001b[K\rremote: Compressing objects:  97% (409/421)   \u001b[K\rremote: Compressing objects:  98% (413/421)   \u001b[K\rremote: Compressing objects:  99% (417/421)   \u001b[K\rremote: Compressing objects: 100% (421/421)   \u001b[K\rremote: Compressing objects: 100% (421/421), done.\u001b[K\n",
            "Receiving objects:   0% (1/449)   \rReceiving objects:   1% (5/449)   \rReceiving objects:   2% (9/449)   \rReceiving objects:   3% (14/449)   \rReceiving objects:   4% (18/449)   \rReceiving objects:   5% (23/449)   \rReceiving objects:   6% (27/449)   \rReceiving objects:   7% (32/449)   \rReceiving objects:   8% (36/449)   \rReceiving objects:   9% (41/449)   \rReceiving objects:  10% (45/449)   \rReceiving objects:  11% (50/449)   \rReceiving objects:  12% (54/449)   \rReceiving objects:  13% (59/449)   \rReceiving objects:  14% (63/449)   \rReceiving objects:  15% (68/449)   \rReceiving objects:  16% (72/449)   \rReceiving objects:  17% (77/449)   \rReceiving objects:  18% (81/449)   \rReceiving objects:  19% (86/449)   \rReceiving objects:  20% (90/449)   \rReceiving objects:  21% (95/449)   \rReceiving objects:  22% (99/449)   \rReceiving objects:  23% (104/449)   \rReceiving objects:  24% (108/449)   \rReceiving objects:  25% (113/449)   \rReceiving objects:  26% (117/449)   \rReceiving objects:  27% (122/449)   \rReceiving objects:  28% (126/449)   \rReceiving objects:  29% (131/449)   \rReceiving objects:  30% (135/449)   \rReceiving objects:  31% (140/449)   \rReceiving objects:  32% (144/449)   \rReceiving objects:  33% (149/449)   \rReceiving objects:  34% (153/449)   \rReceiving objects:  35% (158/449)   \rReceiving objects:  36% (162/449)   \rReceiving objects:  37% (167/449)   \rReceiving objects:  38% (171/449)   \rReceiving objects:  39% (176/449)   \rReceiving objects:  40% (180/449)   \rReceiving objects:  41% (185/449)   \rReceiving objects:  42% (189/449)   \rReceiving objects:  43% (194/449)   \rReceiving objects:  44% (198/449)   \rReceiving objects:  45% (203/449)   \rReceiving objects:  46% (207/449)   \rReceiving objects:  47% (212/449)   \rReceiving objects:  48% (216/449)   \rReceiving objects:  49% (221/449)   \rReceiving objects:  50% (225/449)   \rReceiving objects:  51% (229/449)   \rReceiving objects:  52% (234/449)   \rReceiving objects:  53% (238/449)   \rReceiving objects:  54% (243/449)   \rReceiving objects:  55% (247/449)   \rReceiving objects:  56% (252/449)   \rReceiving objects:  57% (256/449)   \rReceiving objects:  58% (261/449)   \rReceiving objects:  59% (265/449)   \rReceiving objects:  60% (270/449)   \rReceiving objects:  61% (274/449)   \rReceiving objects:  62% (279/449)   \rReceiving objects:  63% (283/449)   \rReceiving objects:  64% (288/449)   \rReceiving objects:  65% (292/449)   \rReceiving objects:  66% (297/449)   \rReceiving objects:  67% (301/449)   \rReceiving objects:  68% (306/449)   \rReceiving objects:  69% (310/449)   \rReceiving objects:  70% (315/449)   \rReceiving objects:  71% (319/449)   \rReceiving objects:  72% (324/449)   \rReceiving objects:  73% (328/449)   \rReceiving objects:  74% (333/449)   \rReceiving objects:  75% (337/449)   \rReceiving objects:  76% (342/449)   \rReceiving objects:  77% (346/449)   \rReceiving objects:  78% (351/449)   \rReceiving objects:  79% (355/449)   \rReceiving objects:  80% (360/449)   \rReceiving objects:  81% (364/449)   \rReceiving objects:  82% (369/449)   \rReceiving objects:  83% (373/449)   \rReceiving objects:  84% (378/449)   \rReceiving objects:  85% (382/449)   \rReceiving objects:  86% (387/449)   \rReceiving objects:  87% (391/449)   \rReceiving objects:  88% (396/449)   \rReceiving objects:  89% (400/449)   \rReceiving objects:  90% (405/449)   \rReceiving objects:  91% (409/449)   \rremote: Total 449 (delta 38), reused 430 (delta 22), pack-reused 0\u001b[K\n",
            "Receiving objects:  92% (414/449)   \rReceiving objects:  93% (418/449)   \rReceiving objects:  94% (423/449)   \rReceiving objects:  95% (427/449)   \rReceiving objects:  96% (432/449)   \rReceiving objects:  97% (436/449)   \rReceiving objects:  98% (441/449)   \rReceiving objects:  99% (445/449)   \rReceiving objects: 100% (449/449)   \rReceiving objects: 100% (449/449), 336.89 KiB | 4.32 MiB/s, done.\n",
            "Resolving deltas:   0% (0/38)   \rResolving deltas:  13% (5/38)   \rResolving deltas:  15% (6/38)   \rResolving deltas:  18% (7/38)   \rResolving deltas:  34% (13/38)   \rResolving deltas:  36% (14/38)   \rResolving deltas:  44% (17/38)   \rResolving deltas:  47% (18/38)   \rResolving deltas:  52% (20/38)   \rResolving deltas:  55% (21/38)   \rResolving deltas:  57% (22/38)   \rResolving deltas:  73% (28/38)   \rResolving deltas:  86% (33/38)   \rResolving deltas:  89% (34/38)   \rResolving deltas:  92% (35/38)   \rResolving deltas: 100% (38/38)   \rResolving deltas: 100% (38/38), done.\n"
          ],
          "name": "stdout"
        }
      ]
    },
    {
      "cell_type": "code",
      "metadata": {
        "id": "8PDGFwS8jKrA",
        "colab_type": "code",
        "outputId": "36cbf8b6-c04a-4c41-f482-8cdc9be0a294",
        "colab": {
          "base_uri": "https://localhost:8080/",
          "height": 51
        }
      },
      "source": [
        "# Uncomment line to install requirements\n",
        "! pip install -r colab_requirements.txt"
      ],
      "execution_count": 2,
      "outputs": [
        {
          "output_type": "stream",
          "text": [
            "Requirement already satisfied: pygame==1.9.6 in /usr/local/lib/python3.6/dist-packages (from -r colab_requirements.txt (line 2)) (1.9.6)\n",
            "Requirement already satisfied: py_midicsv==1.9.0 in /usr/local/lib/python3.6/dist-packages (from -r colab_requirements.txt (line 3)) (1.9.0)\n"
          ],
          "name": "stdout"
        }
      ]
    },
    {
      "cell_type": "code",
      "metadata": {
        "id": "Hz32cHiui8kb",
        "colab_type": "code",
        "outputId": "abcba9d3-f507-44ed-b632-97a071a54c54",
        "colab": {
          "base_uri": "https://localhost:8080/",
          "height": 51
        }
      },
      "source": [
        "import src.midi_utils as midi_utils\n",
        "\n",
        "import pygame"
      ],
      "execution_count": 3,
      "outputs": [
        {
          "output_type": "stream",
          "text": [
            "pygame 1.9.6\n",
            "Hello from the pygame community. https://www.pygame.org/contribute.html\n"
          ],
          "name": "stdout"
        }
      ]
    },
    {
      "cell_type": "code",
      "metadata": {
        "id": "9SHyV0zBi8kh",
        "colab_type": "code",
        "outputId": "56394c81-ac40-4b9c-af10-ad1ce23026ba",
        "colab": {
          "base_uri": "https://localhost:8080/",
          "height": 215
        }
      },
      "source": [
        "midi_filename = 'data/raw/bwv104.6.mid'\n",
        "# midi_filename = 'data/raw/pkgsc_azalea.mid'\n",
        "pygame.init()\n",
        "pygame.mixer.music.load(midi_filename)\n",
        "pygame.mixer.music.play()"
      ],
      "execution_count": 0,
      "outputs": [
        {
          "output_type": "error",
          "ename": "error",
          "evalue": "ignored",
          "traceback": [
            "\u001b[0;31m---------------------------------------------------------------------------\u001b[0m",
            "\u001b[0;31merror\u001b[0m                                     Traceback (most recent call last)",
            "\u001b[0;32m<ipython-input-6-2e42cb071a4d>\u001b[0m in \u001b[0;36m<module>\u001b[0;34m()\u001b[0m\n\u001b[1;32m      2\u001b[0m \u001b[0;31m# midi_filename = 'midi_data/pkgsc_azalea.mid'\u001b[0m\u001b[0;34m\u001b[0m\u001b[0;34m\u001b[0m\u001b[0;34m\u001b[0m\u001b[0m\n\u001b[1;32m      3\u001b[0m \u001b[0mpygame\u001b[0m\u001b[0;34m.\u001b[0m\u001b[0minit\u001b[0m\u001b[0;34m(\u001b[0m\u001b[0;34m)\u001b[0m\u001b[0;34m\u001b[0m\u001b[0;34m\u001b[0m\u001b[0m\n\u001b[0;32m----> 4\u001b[0;31m \u001b[0mpygame\u001b[0m\u001b[0;34m.\u001b[0m\u001b[0mmixer\u001b[0m\u001b[0;34m.\u001b[0m\u001b[0mmusic\u001b[0m\u001b[0;34m.\u001b[0m\u001b[0mload\u001b[0m\u001b[0;34m(\u001b[0m\u001b[0mmidi_filename\u001b[0m\u001b[0;34m)\u001b[0m\u001b[0;34m\u001b[0m\u001b[0;34m\u001b[0m\u001b[0m\n\u001b[0m\u001b[1;32m      5\u001b[0m \u001b[0mpygame\u001b[0m\u001b[0;34m.\u001b[0m\u001b[0mmixer\u001b[0m\u001b[0;34m.\u001b[0m\u001b[0mmusic\u001b[0m\u001b[0;34m.\u001b[0m\u001b[0mplay\u001b[0m\u001b[0;34m(\u001b[0m\u001b[0;34m)\u001b[0m\u001b[0;34m\u001b[0m\u001b[0;34m\u001b[0m\u001b[0m\n",
            "\u001b[0;31merror\u001b[0m: mixer not initialized"
          ]
        }
      ]
    },
    {
      "cell_type": "code",
      "metadata": {
        "id": "qH3jo86Qi8kj",
        "colab_type": "code",
        "colab": {}
      },
      "source": [
        "pygame.mixer.music.stop()"
      ],
      "execution_count": 0,
      "outputs": []
    },
    {
      "cell_type": "code",
      "metadata": {
        "id": "H3Jhp8jswMtb",
        "colab_type": "code",
        "colab": {}
      },
      "source": [
        "def get_track_name(track_string):\n",
        "  \"\"\"\n",
        "  Get the name of a track.\n",
        "  \"\"\"\n",
        "  for line in track_string:\n",
        "    split_line = [x.strip() for x in line.split(',')]\n",
        "    if split_line[2] == 'Title_t':\n",
        "      return split_line[3]\n"
      ],
      "execution_count": 0,
      "outputs": []
    },
    {
      "cell_type": "code",
      "metadata": {
        "id": "jfjWKEess7mx",
        "colab_type": "code",
        "colab": {
          "base_uri": "https://localhost:8080/",
          "height": 34
        },
        "outputId": "440785bf-ab80-4cbd-b1a9-9945acc55d94"
      },
      "source": [
        "# check if first track of bach is usually soprano\n",
        "from src.dataset_utils import TrackDataset, get_dataset_representation_from_tracks\n",
        "\n",
        "tracks = []\n",
        "# iterate over all midi files of folder\n",
        "import glob\n",
        "import os\n",
        "import numpy as np\n",
        "\n",
        "try:\n",
        "    home_dir\n",
        "except NameError:\n",
        "    home_dir = os.getcwd()\n",
        "\n",
        "os.chdir(home_dir + \"/data/raw/bach\")  # go to a folder relative to home dir\n",
        "for midi_file in glob.glob(\"*.mid\"):\n",
        "    # get a list of all soprano tracks\n",
        "    ## load midi file\n",
        "    csv_text = midi_utils.load_to_csv(midi_file)\n",
        "\n",
        "    ## Split into tracks\n",
        "    track_dict = midi_utils.split_tracks(csv_text)\n",
        "    track_nr = '1'\n",
        "    \n",
        "    # find track name\n",
        "    tracks.append(get_track_name(track_dict[track_nr]))\n",
        "\n",
        "    \n",
        "print(set(tracks)) # All types of names\n"
      ],
      "execution_count": 12,
      "outputs": [
        {
          "output_type": "stream",
          "text": [
            "{'\"S.\"', '\"Soprano\"'}\n"
          ],
          "name": "stdout"
        }
      ]
    },
    {
      "cell_type": "markdown",
      "metadata": {
        "id": "b8Q3soTTi8km",
        "colab_type": "text"
      },
      "source": [
        "# Read songs into pandas"
      ]
    },
    {
      "cell_type": "code",
      "metadata": {
        "id": "HxMigMtRi8km",
        "colab_type": "code",
        "outputId": "bce86c11-6a78-4505-8826-23417cd7a9bf",
        "colab": {
          "base_uri": "https://localhost:8080/",
          "height": 34
        }
      },
      "source": [
        "from src.dataset_utils import TrackDataset, get_dataset_representation_from_tracks\n",
        "\n",
        "tracks = []\n",
        "# iterate over all midi files of folder\n",
        "import glob\n",
        "import os\n",
        "import numpy as np\n",
        "import pandas as pd\n",
        "\n",
        "song_names = []\n",
        "pitches = []\n",
        "lengths = []\n",
        "\n",
        "try:\n",
        "    home_dir\n",
        "except NameError:\n",
        "    home_dir = os.getcwd()\n",
        "\n",
        "os.chdir(home_dir + \"/data/raw/bach\")  # go to a folder relative to home dir\n",
        "for midi_file in glob.glob(\"*.mid\"):\n",
        "    # get a list of all soprano tracks\n",
        "    ## load midi file\n",
        "    csv_text = midi_utils.load_to_csv(midi_file)\n",
        "\n",
        "    ## Split into tracks\n",
        "    track_dict = midi_utils.split_tracks(csv_text)\n",
        "    \n",
        "    track_nr = '1' # soprano track for bach\n",
        "    track_dict[track_nr]\n",
        "\n",
        "    ## Generating numpy array with notes\n",
        "    track = midi_utils.midi_track_to_numpy(track_dict[track_nr])\n",
        "    \n",
        "    for note in track:\n",
        "      song_names.append(midi_file) # store midi file\n",
        "      pitches.append(note[0]) # store pitch\n",
        "      lengths.append(note[1]) # store length\n",
        "    \n",
        "notes_df = pd.DataFrame({\"song names\": song_names,\n",
        "                         \"pitches\": pitches,\n",
        "                         \"lengths\": lengths})\n",
        "\n",
        "len(notes_df)\n",
        "\n"
      ],
      "execution_count": 13,
      "outputs": [
        {
          "output_type": "execute_result",
          "data": {
            "text/plain": [
              "21131"
            ]
          },
          "metadata": {
            "tags": []
          },
          "execution_count": 13
        }
      ]
    },
    {
      "cell_type": "code",
      "metadata": {
        "id": "HpfqnFH8i8k-",
        "colab_type": "code",
        "colab": {
          "base_uri": "https://localhost:8080/",
          "height": 297
        },
        "outputId": "37130f89-d294-41c5-cc7a-e28fdf4150be"
      },
      "source": [
        "notes_df.describe()"
      ],
      "execution_count": 14,
      "outputs": [
        {
          "output_type": "execute_result",
          "data": {
            "text/html": [
              "<div>\n",
              "<style scoped>\n",
              "    .dataframe tbody tr th:only-of-type {\n",
              "        vertical-align: middle;\n",
              "    }\n",
              "\n",
              "    .dataframe tbody tr th {\n",
              "        vertical-align: top;\n",
              "    }\n",
              "\n",
              "    .dataframe thead th {\n",
              "        text-align: right;\n",
              "    }\n",
              "</style>\n",
              "<table border=\"1\" class=\"dataframe\">\n",
              "  <thead>\n",
              "    <tr style=\"text-align: right;\">\n",
              "      <th></th>\n",
              "      <th>pitches</th>\n",
              "      <th>lengths</th>\n",
              "    </tr>\n",
              "  </thead>\n",
              "  <tbody>\n",
              "    <tr>\n",
              "      <th>count</th>\n",
              "      <td>21131.000000</td>\n",
              "      <td>21131.000000</td>\n",
              "    </tr>\n",
              "    <tr>\n",
              "      <th>mean</th>\n",
              "      <td>70.512423</td>\n",
              "      <td>1089.953528</td>\n",
              "    </tr>\n",
              "    <tr>\n",
              "      <th>std</th>\n",
              "      <td>3.557435</td>\n",
              "      <td>564.023407</td>\n",
              "    </tr>\n",
              "    <tr>\n",
              "      <th>min</th>\n",
              "      <td>60.000000</td>\n",
              "      <td>128.000000</td>\n",
              "    </tr>\n",
              "    <tr>\n",
              "      <th>25%</th>\n",
              "      <td>69.000000</td>\n",
              "      <td>1024.000000</td>\n",
              "    </tr>\n",
              "    <tr>\n",
              "      <th>50%</th>\n",
              "      <td>71.000000</td>\n",
              "      <td>1024.000000</td>\n",
              "    </tr>\n",
              "    <tr>\n",
              "      <th>75%</th>\n",
              "      <td>73.000000</td>\n",
              "      <td>1024.000000</td>\n",
              "    </tr>\n",
              "    <tr>\n",
              "      <th>max</th>\n",
              "      <td>81.000000</td>\n",
              "      <td>16384.000000</td>\n",
              "    </tr>\n",
              "  </tbody>\n",
              "</table>\n",
              "</div>"
            ],
            "text/plain": [
              "            pitches       lengths\n",
              "count  21131.000000  21131.000000\n",
              "mean      70.512423   1089.953528\n",
              "std        3.557435    564.023407\n",
              "min       60.000000    128.000000\n",
              "25%       69.000000   1024.000000\n",
              "50%       71.000000   1024.000000\n",
              "75%       73.000000   1024.000000\n",
              "max       81.000000  16384.000000"
            ]
          },
          "metadata": {
            "tags": []
          },
          "execution_count": 14
        }
      ]
    },
    {
      "cell_type": "code",
      "metadata": {
        "id": "xxwPzweyS2Vg",
        "colab_type": "code",
        "colab": {
          "base_uri": "https://localhost:8080/",
          "height": 286
        },
        "outputId": "562ce4ed-6282-48cc-9c47-8e8e68b2ec1e"
      },
      "source": [
        "ax = notes_df['pitches'].plot.hist(bins=12, alpha=0.5)\n",
        "ax.set_ylabel(\"Occurrence\")"
      ],
      "execution_count": 37,
      "outputs": [
        {
          "output_type": "execute_result",
          "data": {
            "text/plain": [
              "Text(0, 0.5, 'Occurrence')"
            ]
          },
          "metadata": {
            "tags": []
          },
          "execution_count": 37
        },
        {
          "output_type": "display_data",
          "data": {
            "image/png": "[encoded data removed]",
            "text/plain": [
              "<Figure size 432x288 with 1 Axes>"
            ]
          },
          "metadata": {
            "tags": []
          }
        }
      ]
    },
    {
      "cell_type": "code",
      "metadata": {
        "id": "WfxhCgN3zZ5S",
        "colab_type": "code",
        "colab": {
          "base_uri": "https://localhost:8080/",
          "height": 300
        },
        "outputId": "159b0c02-c5fe-486c-eae6-d91aaa1d1f82"
      },
      "source": [
        "ax = notes_df['lengths'].apply(lambda x: np.log2(x)).plot.hist(bins=12, alpha=0.5)\n",
        "ax.set_yscale('log')\n",
        "ax.set_ylabel(\"Log (occurrence)\")\n",
        "ax.set_xlabel(\"Log2(note length)\")"
      ],
      "execution_count": 36,
      "outputs": [
        {
          "output_type": "execute_result",
          "data": {
            "text/plain": [
              "Text(0.5, 0, 'Log2(note length)')"
            ]
          },
          "metadata": {
            "tags": []
          },
          "execution_count": 36
        },
        {
          "output_type": "display_data",
          "data": {
            "image/png": "[encoded data removed]",
            "text/plain": [
              "<Figure size 432x288 with 1 Axes>"
            ]
          },
          "metadata": {
            "tags": []
          }
        }
      ]
    },
    {
      "cell_type": "code",
      "metadata": {
        "id": "92ZtZR0Cz0eU",
        "colab_type": "code",
        "colab": {
          "base_uri": "https://localhost:8080/",
          "height": 283
        },
        "outputId": "7e907f12-426d-41d3-f8ea-3e3e4a7f83b6"
      },
      "source": [
        "ax = notes_df.plot(x='pitches', y='lengths', style='o')\n",
        "ax.set_ylabel(\"log(length)\")\n",
        "ax.set_yscale(\"log\")"
      ],
      "execution_count": 43,
      "outputs": [
        {
          "output_type": "display_data",
          "data": {
            "image/png": "[encoded data removed]",
            "text/plain": [
              "<Figure size 432x288 with 1 Axes>"
            ]
          },
          "metadata": {
            "tags": []
          }
        }
      ]
    },
    {
      "cell_type": "code",
      "metadata": {
        "id": "U33rq6l794-L",
        "colab_type": "code",
        "colab": {
          "base_uri": "https://localhost:8080/",
          "height": 359
        },
        "outputId": "9cbc31df-5500-4745-9644-0f29533fe117"
      },
      "source": [
        "notes_df.head(10)"
      ],
      "execution_count": 45,
      "outputs": [
        {
          "output_type": "execute_result",
          "data": {
            "text/html": [
              "<div>\n",
              "<style scoped>\n",
              "    .dataframe tbody tr th:only-of-type {\n",
              "        vertical-align: middle;\n",
              "    }\n",
              "\n",
              "    .dataframe tbody tr th {\n",
              "        vertical-align: top;\n",
              "    }\n",
              "\n",
              "    .dataframe thead th {\n",
              "        text-align: right;\n",
              "    }\n",
              "</style>\n",
              "<table border=\"1\" class=\"dataframe\">\n",
              "  <thead>\n",
              "    <tr style=\"text-align: right;\">\n",
              "      <th></th>\n",
              "      <th>song names</th>\n",
              "      <th>pitches</th>\n",
              "      <th>lengths</th>\n",
              "    </tr>\n",
              "  </thead>\n",
              "  <tbody>\n",
              "    <tr>\n",
              "      <th>0</th>\n",
              "      <td>bwv284.mid</td>\n",
              "      <td>72</td>\n",
              "      <td>1024</td>\n",
              "    </tr>\n",
              "    <tr>\n",
              "      <th>1</th>\n",
              "      <td>bwv284.mid</td>\n",
              "      <td>67</td>\n",
              "      <td>1024</td>\n",
              "    </tr>\n",
              "    <tr>\n",
              "      <th>2</th>\n",
              "      <td>bwv284.mid</td>\n",
              "      <td>69</td>\n",
              "      <td>1024</td>\n",
              "    </tr>\n",
              "    <tr>\n",
              "      <th>3</th>\n",
              "      <td>bwv284.mid</td>\n",
              "      <td>71</td>\n",
              "      <td>1024</td>\n",
              "    </tr>\n",
              "    <tr>\n",
              "      <th>4</th>\n",
              "      <td>bwv284.mid</td>\n",
              "      <td>72</td>\n",
              "      <td>2048</td>\n",
              "    </tr>\n",
              "    <tr>\n",
              "      <th>5</th>\n",
              "      <td>bwv284.mid</td>\n",
              "      <td>72</td>\n",
              "      <td>1024</td>\n",
              "    </tr>\n",
              "    <tr>\n",
              "      <th>6</th>\n",
              "      <td>bwv284.mid</td>\n",
              "      <td>67</td>\n",
              "      <td>1024</td>\n",
              "    </tr>\n",
              "    <tr>\n",
              "      <th>7</th>\n",
              "      <td>bwv284.mid</td>\n",
              "      <td>72</td>\n",
              "      <td>1024</td>\n",
              "    </tr>\n",
              "    <tr>\n",
              "      <th>8</th>\n",
              "      <td>bwv284.mid</td>\n",
              "      <td>70</td>\n",
              "      <td>1024</td>\n",
              "    </tr>\n",
              "    <tr>\n",
              "      <th>9</th>\n",
              "      <td>bwv284.mid</td>\n",
              "      <td>69</td>\n",
              "      <td>2048</td>\n",
              "    </tr>\n",
              "  </tbody>\n",
              "</table>\n",
              "</div>"
            ],
            "text/plain": [
              "   song names  pitches  lengths\n",
              "0  bwv284.mid       72     1024\n",
              "1  bwv284.mid       67     1024\n",
              "2  bwv284.mid       69     1024\n",
              "3  bwv284.mid       71     1024\n",
              "4  bwv284.mid       72     2048\n",
              "5  bwv284.mid       72     1024\n",
              "6  bwv284.mid       67     1024\n",
              "7  bwv284.mid       72     1024\n",
              "8  bwv284.mid       70     1024\n",
              "9  bwv284.mid       69     2048"
            ]
          },
          "metadata": {
            "tags": []
          },
          "execution_count": 45
        }
      ]
    },
    {
      "cell_type": "code",
      "metadata": {
        "id": "JVEpLOD6B5CC",
        "colab_type": "code",
        "colab": {
          "base_uri": "https://localhost:8080/",
          "height": 359
        },
        "outputId": "474b47ee-f79e-4b7c-e119-ff3a9404cff2"
      },
      "source": [
        "os.chdir(home_dir)\n",
        "midi_note_df = pd.read_csv(\"data/auxiliary/midi-notes.csv\")\n",
        "midi_note_df.head(10)"
      ],
      "execution_count": 81,
      "outputs": [
        {
          "output_type": "execute_result",
          "data": {
            "text/html": [
              "<div>\n",
              "<style scoped>\n",
              "    .dataframe tbody tr th:only-of-type {\n",
              "        vertical-align: middle;\n",
              "    }\n",
              "\n",
              "    .dataframe tbody tr th {\n",
              "        vertical-align: top;\n",
              "    }\n",
              "\n",
              "    .dataframe thead th {\n",
              "        text-align: right;\n",
              "    }\n",
              "</style>\n",
              "<table border=\"1\" class=\"dataframe\">\n",
              "  <thead>\n",
              "    <tr style=\"text-align: right;\">\n",
              "      <th></th>\n",
              "      <th>Unnamed: 0</th>\n",
              "      <th>MIDI note number</th>\n",
              "      <th>Key number (Organ)</th>\n",
              "      <th>Key number (Piano)</th>\n",
              "      <th>Note names (English)</th>\n",
              "      <th>Note names (German)</th>\n",
              "      <th>Frequency (Equal tuning at 440 Hz)</th>\n",
              "      <th>Simple Note names (English)</th>\n",
              "    </tr>\n",
              "  </thead>\n",
              "  <tbody>\n",
              "    <tr>\n",
              "      <th>0</th>\n",
              "      <td>0</td>\n",
              "      <td>128</td>\n",
              "      <td></td>\n",
              "      <td></td>\n",
              "      <td>G#9/Ab9</td>\n",
              "      <td>gis’’’’’’/ges’’’’’’</td>\n",
              "      <td>13289.75</td>\n",
              "      <td>G#9</td>\n",
              "    </tr>\n",
              "    <tr>\n",
              "      <th>1</th>\n",
              "      <td>1</td>\n",
              "      <td>127</td>\n",
              "      <td></td>\n",
              "      <td></td>\n",
              "      <td>G9</td>\n",
              "      <td>g’’’’’’</td>\n",
              "      <td>12543.85</td>\n",
              "      <td>G9</td>\n",
              "    </tr>\n",
              "    <tr>\n",
              "      <th>2</th>\n",
              "      <td>2</td>\n",
              "      <td>126</td>\n",
              "      <td></td>\n",
              "      <td></td>\n",
              "      <td>F#9/Gb9</td>\n",
              "      <td>fis’’’’’’/ges’’’’’’</td>\n",
              "      <td>11839.82</td>\n",
              "      <td>F#9</td>\n",
              "    </tr>\n",
              "    <tr>\n",
              "      <th>3</th>\n",
              "      <td>3</td>\n",
              "      <td>125</td>\n",
              "      <td></td>\n",
              "      <td></td>\n",
              "      <td>F9</td>\n",
              "      <td>f’’’’’’</td>\n",
              "      <td>11175.30</td>\n",
              "      <td>F9</td>\n",
              "    </tr>\n",
              "    <tr>\n",
              "      <th>4</th>\n",
              "      <td>4</td>\n",
              "      <td>124</td>\n",
              "      <td></td>\n",
              "      <td></td>\n",
              "      <td>E9</td>\n",
              "      <td>e’’’’’’</td>\n",
              "      <td>10548.08</td>\n",
              "      <td>E9</td>\n",
              "    </tr>\n",
              "    <tr>\n",
              "      <th>5</th>\n",
              "      <td>5</td>\n",
              "      <td>123</td>\n",
              "      <td></td>\n",
              "      <td></td>\n",
              "      <td>D#9/Eb9</td>\n",
              "      <td>dis’’’’’’/es’’’’’’</td>\n",
              "      <td>9956.06</td>\n",
              "      <td>D#9</td>\n",
              "    </tr>\n",
              "    <tr>\n",
              "      <th>6</th>\n",
              "      <td>6</td>\n",
              "      <td>122</td>\n",
              "      <td></td>\n",
              "      <td></td>\n",
              "      <td>D9</td>\n",
              "      <td>d’’’’’’</td>\n",
              "      <td>9397.27</td>\n",
              "      <td>D9</td>\n",
              "    </tr>\n",
              "    <tr>\n",
              "      <th>7</th>\n",
              "      <td>7</td>\n",
              "      <td>121</td>\n",
              "      <td></td>\n",
              "      <td></td>\n",
              "      <td>C#9/Db9</td>\n",
              "      <td>cis’’’’’’/des’’’’’’</td>\n",
              "      <td>8869.84</td>\n",
              "      <td>C#9</td>\n",
              "    </tr>\n",
              "    <tr>\n",
              "      <th>8</th>\n",
              "      <td>8</td>\n",
              "      <td>120</td>\n",
              "      <td></td>\n",
              "      <td></td>\n",
              "      <td>C9</td>\n",
              "      <td>c’’’’’’</td>\n",
              "      <td>8372.02</td>\n",
              "      <td>C9</td>\n",
              "    </tr>\n",
              "    <tr>\n",
              "      <th>9</th>\n",
              "      <td>9</td>\n",
              "      <td>119</td>\n",
              "      <td></td>\n",
              "      <td></td>\n",
              "      <td>B8</td>\n",
              "      <td>h’’’’’</td>\n",
              "      <td>7902.13</td>\n",
              "      <td>B8</td>\n",
              "    </tr>\n",
              "  </tbody>\n",
              "</table>\n",
              "</div>"
            ],
            "text/plain": [
              "   Unnamed: 0  MIDI note number Key number (Organ) Key number (Piano)  \\\n",
              "0           0               128                                         \n",
              "1           1               127                                         \n",
              "2           2               126                                         \n",
              "3           3               125                                         \n",
              "4           4               124                                         \n",
              "5           5               123                                         \n",
              "6           6               122                                         \n",
              "7           7               121                                         \n",
              "8           8               120                                         \n",
              "9           9               119                                         \n",
              "\n",
              "  Note names (English)  Note names (German)  \\\n",
              "0              G#9/Ab9  gis’’’’’’/ges’’’’’’   \n",
              "1                   G9              g’’’’’’   \n",
              "2              F#9/Gb9  fis’’’’’’/ges’’’’’’   \n",
              "3                   F9              f’’’’’’   \n",
              "4                   E9              e’’’’’’   \n",
              "5              D#9/Eb9   dis’’’’’’/es’’’’’’   \n",
              "6                   D9              d’’’’’’   \n",
              "7              C#9/Db9  cis’’’’’’/des’’’’’’   \n",
              "8                   C9              c’’’’’’   \n",
              "9                   B8               h’’’’’   \n",
              "\n",
              "   Frequency (Equal tuning at 440 Hz) Simple Note names (English)  \n",
              "0                            13289.75                         G#9  \n",
              "1                            12543.85                          G9  \n",
              "2                            11839.82                         F#9  \n",
              "3                            11175.30                          F9  \n",
              "4                            10548.08                          E9  \n",
              "5                             9956.06                         D#9  \n",
              "6                             9397.27                          D9  \n",
              "7                             8869.84                         C#9  \n",
              "8                             8372.02                          C9  \n",
              "9                             7902.13                          B8  "
            ]
          },
          "metadata": {
            "tags": []
          },
          "execution_count": 81
        }
      ]
    },
    {
      "cell_type": "code",
      "metadata": {
        "id": "GWuc0OhqCi_i",
        "colab_type": "code",
        "colab": {
          "base_uri": "https://localhost:8080/",
          "height": 359
        },
        "outputId": "e73f7c2a-5422-42be-cc9f-a4fc78a6c9ad"
      },
      "source": [
        "# get proper note names for the MIDI note numbers\n",
        "note_name_df = pd.merge(notes_df, midi_note_df[['MIDI note number', 'Simple Note names (English)']], how='left', left_on='pitches', right_on='MIDI note number')\n",
        "note_name_df.drop(columns=['MIDI note number'], inplace=True)\n",
        "note_name_df.head(10)"
      ],
      "execution_count": 88,
      "outputs": [
        {
          "output_type": "execute_result",
          "data": {
            "text/html": [
              "<div>\n",
              "<style scoped>\n",
              "    .dataframe tbody tr th:only-of-type {\n",
              "        vertical-align: middle;\n",
              "    }\n",
              "\n",
              "    .dataframe tbody tr th {\n",
              "        vertical-align: top;\n",
              "    }\n",
              "\n",
              "    .dataframe thead th {\n",
              "        text-align: right;\n",
              "    }\n",
              "</style>\n",
              "<table border=\"1\" class=\"dataframe\">\n",
              "  <thead>\n",
              "    <tr style=\"text-align: right;\">\n",
              "      <th></th>\n",
              "      <th>song names</th>\n",
              "      <th>pitches</th>\n",
              "      <th>lengths</th>\n",
              "      <th>Simple Note names (English)</th>\n",
              "    </tr>\n",
              "  </thead>\n",
              "  <tbody>\n",
              "    <tr>\n",
              "      <th>0</th>\n",
              "      <td>bwv284.mid</td>\n",
              "      <td>72</td>\n",
              "      <td>1024</td>\n",
              "      <td>C5</td>\n",
              "    </tr>\n",
              "    <tr>\n",
              "      <th>1</th>\n",
              "      <td>bwv284.mid</td>\n",
              "      <td>67</td>\n",
              "      <td>1024</td>\n",
              "      <td>G4</td>\n",
              "    </tr>\n",
              "    <tr>\n",
              "      <th>2</th>\n",
              "      <td>bwv284.mid</td>\n",
              "      <td>69</td>\n",
              "      <td>1024</td>\n",
              "      <td>A4</td>\n",
              "    </tr>\n",
              "    <tr>\n",
              "      <th>3</th>\n",
              "      <td>bwv284.mid</td>\n",
              "      <td>71</td>\n",
              "      <td>1024</td>\n",
              "      <td>B4</td>\n",
              "    </tr>\n",
              "    <tr>\n",
              "      <th>4</th>\n",
              "      <td>bwv284.mid</td>\n",
              "      <td>72</td>\n",
              "      <td>2048</td>\n",
              "      <td>C5</td>\n",
              "    </tr>\n",
              "    <tr>\n",
              "      <th>5</th>\n",
              "      <td>bwv284.mid</td>\n",
              "      <td>72</td>\n",
              "      <td>1024</td>\n",
              "      <td>C5</td>\n",
              "    </tr>\n",
              "    <tr>\n",
              "      <th>6</th>\n",
              "      <td>bwv284.mid</td>\n",
              "      <td>67</td>\n",
              "      <td>1024</td>\n",
              "      <td>G4</td>\n",
              "    </tr>\n",
              "    <tr>\n",
              "      <th>7</th>\n",
              "      <td>bwv284.mid</td>\n",
              "      <td>72</td>\n",
              "      <td>1024</td>\n",
              "      <td>C5</td>\n",
              "    </tr>\n",
              "    <tr>\n",
              "      <th>8</th>\n",
              "      <td>bwv284.mid</td>\n",
              "      <td>70</td>\n",
              "      <td>1024</td>\n",
              "      <td>A#4</td>\n",
              "    </tr>\n",
              "    <tr>\n",
              "      <th>9</th>\n",
              "      <td>bwv284.mid</td>\n",
              "      <td>69</td>\n",
              "      <td>2048</td>\n",
              "      <td>A4</td>\n",
              "    </tr>\n",
              "  </tbody>\n",
              "</table>\n",
              "</div>"
            ],
            "text/plain": [
              "   song names  pitches  lengths Simple Note names (English)\n",
              "0  bwv284.mid       72     1024                          C5\n",
              "1  bwv284.mid       67     1024                          G4\n",
              "2  bwv284.mid       69     1024                          A4\n",
              "3  bwv284.mid       71     1024                          B4\n",
              "4  bwv284.mid       72     2048                          C5\n",
              "5  bwv284.mid       72     1024                          C5\n",
              "6  bwv284.mid       67     1024                          G4\n",
              "7  bwv284.mid       72     1024                          C5\n",
              "8  bwv284.mid       70     1024                         A#4\n",
              "9  bwv284.mid       69     2048                          A4"
            ]
          },
          "metadata": {
            "tags": []
          },
          "execution_count": 88
        }
      ]
    },
    {
      "cell_type": "code",
      "metadata": {
        "id": "q8DlvVsBFJmC",
        "colab_type": "code",
        "colab": {}
      },
      "source": [
        ""
      ],
      "execution_count": 0,
      "outputs": []
    }
  ]
}