{
 "cells": [
  {
   "cell_type": "code",
   "execution_count": 0,
   "metadata": {
    "colab": {},
    "colab_type": "code",
    "id": "mEpS7y23emOr"
   },
   "outputs": [],
   "source": [
    "#rm -r *"
   ]
  },
  {
   "cell_type": "code",
   "execution_count": 1,
   "metadata": {
    "colab": {
     "base_uri": "https://localhost:8080/",
     "height": 165
    },
    "colab_type": "code",
    "executionInfo": {
     "elapsed": 10946,
     "status": "ok",
     "timestamp": 1558022960368,
     "user": {
      "displayName": "Nicolas Deperrois",
      "photoUrl": "https://lh5.googleusercontent.com/-Jfkdb6w84hk/AAAAAAAAAAI/AAAAAAAACRA/bqUAiv0shAM/s64/photo.jpg",
      "userId": "11633758183366338150"
     },
     "user_tz": -120
    },
    "id": "kfpjADwL4oUx",
    "outputId": "88108f1e-7fee-45d1-87df-e091cd18cdb9"
   },
   "outputs": [
    {
     "name": "stdout",
     "output_type": "stream",
     "text": [
      "Cloning into 'music_generation'...\n",
      "remote: Enumerating objects: 34, done.\u001b[K\n",
      "remote: Counting objects:   2% (1/34)   \u001b[K\r",
      "remote: Counting objects:   5% (2/34)   \u001b[K\r",
      "remote: Counting objects:   8% (3/34)   \u001b[K\r",
      "remote: Counting objects:  11% (4/34)   \u001b[K\r",
      "remote: Counting objects:  14% (5/34)   \u001b[K\r",
      "remote: Counting objects:  17% (6/34)   \u001b[K\r",
      "remote: Counting objects:  20% (7/34)   \u001b[K\r",
      "remote: Counting objects:  23% (8/34)   \u001b[K\r",
      "remote: Counting objects:  26% (9/34)   \u001b[K\r",
      "remote: Counting objects:  29% (10/34)   \u001b[K\r",
      "remote: Counting objects:  32% (11/34)   \u001b[K\r",
      "remote: Counting objects:  35% (12/34)   \u001b[K\r",
      "remote: Counting objects:  38% (13/34)   \u001b[K\r",
      "remote: Counting objects:  41% (14/34)   \u001b[K\r",
      "remote: Counting objects:  44% (15/34)   \u001b[K\r",
      "remote: Counting objects:  47% (16/34)   \u001b[K\r",
      "remote: Counting objects:  50% (17/34)   \u001b[K\r",
      "remote: Counting objects:  52% (18/34)   \u001b[K\r",
      "remote: Counting objects:  55% (19/34)   \u001b[K\r",
      "remote: Counting objects:  58% (20/34)   \u001b[K\r",
      "remote: Counting objects:  61% (21/34)   \u001b[K\r",
      "remote: Counting objects:  64% (22/34)   \u001b[K\r",
      "remote: Counting objects:  67% (23/34)   \u001b[K\r",
      "remote: Counting objects:  70% (24/34)   \u001b[K\r",
      "remote: Counting objects:  73% (25/34)   \u001b[K\r",
      "remote: Counting objects:  76% (26/34)   \u001b[K\r",
      "remote: Counting objects:  79% (27/34)   \u001b[K\r",
      "remote: Counting objects:  82% (28/34)   \u001b[K\r",
      "remote: Counting objects:  85% (29/34)   \u001b[K\r",
      "remote: Counting objects:  88% (30/34)   \u001b[K\r",
      "remote: Counting objects:  91% (31/34)   \u001b[K\r",
      "remote: Counting objects:  94% (32/34)   \u001b[K\r",
      "remote: Counting objects:  97% (33/34)   \u001b[K\r",
      "remote: Counting objects: 100% (34/34)   \u001b[K\r",
      "remote: Counting objects: 100% (34/34), done.\u001b[K\n",
      "remote: Compressing objects: 100% (23/23), done.\u001b[K\n",
      "remote: Total 728 (delta 19), reused 25 (delta 11), pack-reused 694\u001b[K\n",
      "Receiving objects: 100% (728/728), 3.81 MiB | 751.00 KiB/s, done.\n",
      "Resolving deltas: 100% (199/199), done.\n"
     ]
    }
   ],
   "source": [
    "# Uncomment the line below and run this cell to get your data from github into colab (only runnable in colab, not ordinary jupyter notebook):\n",
    "#! git clone https://github.com/lkriener/music_generation.git && mv music_generation/* . && rm music_generation -r "
   ]
  },
  {
   "cell_type": "code",
   "execution_count": 2,
   "metadata": {
    "colab": {
     "base_uri": "https://localhost:8080/",
     "height": 570
    },
    "colab_type": "code",
    "executionInfo": {
     "elapsed": 22041,
     "status": "ok",
     "timestamp": 1558022971476,
     "user": {
      "displayName": "Nicolas Deperrois",
      "photoUrl": "https://lh5.googleusercontent.com/-Jfkdb6w84hk/AAAAAAAAAAI/AAAAAAAACRA/bqUAiv0shAM/s64/photo.jpg",
      "userId": "11633758183366338150"
     },
     "user_tz": -120
    },
    "id": "sLhyMMRj4tNz",
    "outputId": "8c067535-bb87-4ee8-e230-4a61e1a25f1d"
   },
   "outputs": [
    {
     "name": "stdout",
     "output_type": "stream",
     "text": [
      "Collecting py_midicsv==1.9.0 (from -r colab_requirements.txt (line 4))\n",
      "  Downloading https://files.pythonhosted.org/packages/1f/eb/3133f65bd34dafcbae37508d290ebf540832430cbe2aef23629cc6a6197f/py_midicsv-1.9.0-py3-none-any.whl\n",
      "Collecting pypianoroll==0.5.0 (from -r colab_requirements.txt (line 5))\n",
      "  Downloading https://files.pythonhosted.org/packages/aa/33/fa38c07909e425add987146cb0f8d5ad80262f6a72cc820bf7e5f690d527/pypianoroll-0.5.0.tar.gz\n",
      "Collecting mido==1.2.9 (from -r colab_requirements.txt (line 6))\n",
      "\u001b[?25l  Downloading https://files.pythonhosted.org/packages/20/0a/81beb587b1ae832ea6a1901dc7c6faa380e8dd154e0a862f0a9f3d2afab9/mido-1.2.9-py2.py3-none-any.whl (52kB)\n",
      "\u001b[K     |████████████████████████████████| 61kB 9.8MB/s \n",
      "\u001b[?25hCollecting pygame==1.9.6 (from -r colab_requirements.txt (line 7))\n",
      "\u001b[?25l  Downloading https://files.pythonhosted.org/packages/8e/24/ede6428359f913ed9cd1643dd5533aefeb5a2699cc95bea089de50ead586/pygame-1.9.6-cp36-cp36m-manylinux1_x86_64.whl (11.4MB)\n",
      "\u001b[K     |████████████████████████████████| 11.4MB 19.5MB/s \n",
      "\u001b[?25hCollecting argparse==1.4.0 (from -r colab_requirements.txt (line 10))\n",
      "  Downloading https://files.pythonhosted.org/packages/f2/94/3af39d34be01a24a6e65433d19e107099374224905f1e0cc6bbe1fd22a2f/argparse-1.4.0-py2.py3-none-any.whl\n",
      "Requirement already satisfied: six<2.0,>=1.0.0 in /usr/local/lib/python3.6/dist-packages (from pypianoroll==0.5.0->-r colab_requirements.txt (line 5)) (1.12.0)\n",
      "Requirement already satisfied: numpy<2.0,>=1.10.0 in /usr/local/lib/python3.6/dist-packages (from pypianoroll==0.5.0->-r colab_requirements.txt (line 5)) (1.16.3)\n",
      "Requirement already satisfied: scipy<2.0,>=1.0.0 in /usr/local/lib/python3.6/dist-packages (from pypianoroll==0.5.0->-r colab_requirements.txt (line 5)) (1.2.1)\n",
      "Requirement already satisfied: pretty_midi<1.0,>=0.2.8 in /usr/local/lib/python3.6/dist-packages (from pypianoroll==0.5.0->-r colab_requirements.txt (line 5)) (0.2.8)\n",
      "Building wheels for collected packages: pypianoroll\n",
      "  Building wheel for pypianoroll (setup.py) ... \u001b[?25l\u001b[?25hdone\n",
      "  Stored in directory: /root/.cache/pip/wheels/ed/f6/fb/5d070524ecf7ba9ed201247a293c01945cfd7f840f8ef338c0\n",
      "Successfully built pypianoroll\n",
      "\u001b[31mERROR: magenta 0.3.19 has requirement mido==1.2.6, but you'll have mido 1.2.9 which is incompatible.\u001b[0m\n",
      "Installing collected packages: py-midicsv, pypianoroll, mido, pygame, argparse\n",
      "  Found existing installation: mido 1.2.6\n",
      "    Uninstalling mido-1.2.6:\n",
      "      Successfully uninstalled mido-1.2.6\n",
      "Successfully installed argparse-1.4.0 mido-1.2.9 py-midicsv-1.9.0 pygame-1.9.6 pypianoroll-0.5.0\n"
     ]
    },
    {
     "data": {
      "application/vnd.colab-display-data+json": {
       "pip_warning": {
        "packages": [
         "argparse"
        ]
       }
      }
     },
     "metadata": {
      "tags": []
     },
     "output_type": "display_data"
    }
   ],
   "source": [
    "# Uncomment line to install requirements\n",
    "#! pip install -r colab_requirements.txt"
   ]
  },
  {
   "cell_type": "markdown",
   "metadata": {
    "colab_type": "text",
    "id": "EH9lnM84OBTV"
   },
   "source": [
    "# Music generation using note-to-note LSTMs \n",
    "In this part, we will try to generate melodies from the same dataset (Bach Chorals) using recurrent neural networks (RNN) with long short term memory units (LSTM) as in the tutorial 08 of the class, based on the two following blog posts:\n",
    "\n",
    "- http://karpathy.github.io/2015/05/21/rnn-effectiveness/\n",
    "- https://towardsdatascience.com/writing-like-shakespeare-with-machine-learning-in-pytorch-d77f851d910c\n",
    "\n",
    "The idea would be to extend the character-to-character LSTM network to midi files. We will also use another representation of the data, namely 'pianorolls', where a single melody is stored in a matrix with the x-axis for time and the y-axis for the pitch. This is one of the most frequent representations used, although it has some limitations. For instance, there is no way to differentiate between a long note (1 half-note) and 4 short-ones (4 eight-notes). However, it brings a considerable advantage compared to the previous used representations as it can store rhythm, depending on the chosen time-step. \n",
    "\n",
    "Moreover, each possible note is considered as a distinct element of a vocabulary. We will then use $N$ input nodes, where $N$ is the size of the vocabulary (i.e., the number of distinct notes, including silences). \n",
    "Thus, these pianorolls arrays will be converted into one-hot vectors containing the corresponding pitch (or silence, represented by 0) for each time step, and will be fed to the RNN network defined below. "
   ]
  },
  {
   "cell_type": "markdown",
   "metadata": {
    "colab_type": "text",
    "id": "HygKqpcn-_Ih"
   },
   "source": [
    "## Test of pypianoroll library\n",
    "We will first use the pypianoroll library - https://salu133445.github.io/pypianoroll/ - to convert a midi file into a multitrack object, get the soprano track, transpose it to C major, create a new multitrack object out of it, and finally write it to a new midi file. "
   ]
  },
  {
   "cell_type": "code",
   "execution_count": 3,
   "metadata": {
    "colab": {
     "base_uri": "https://localhost:8080/",
     "height": 153
    },
    "colab_type": "code",
    "executionInfo": {
     "elapsed": 27204,
     "status": "ok",
     "timestamp": 1558022976877,
     "user": {
      "displayName": "Nicolas Deperrois",
      "photoUrl": "https://lh5.googleusercontent.com/-Jfkdb6w84hk/AAAAAAAAAAI/AAAAAAAACRA/bqUAiv0shAM/s64/photo.jpg",
      "userId": "11633758183366338150"
     },
     "user_tz": -120
    },
    "id": "0DaVKNWw4lLr",
    "outputId": "54b996b7-177b-4acb-db88-b81f6b8ea97b"
   },
   "outputs": [
    {
     "name": "stdout",
     "output_type": "stream",
     "text": [
      "pygame 1.9.6\n",
      "Hello from the pygame community. https://www.pygame.org/contribute.html\n",
      "Imageio: 'ffmpeg-linux64-v3.3.1' was not found on your computer; downloading it now.\n",
      "Try 1. Download from https://github.com/imageio/imageio-binaries/raw/master/ffmpeg/ffmpeg-linux64-v3.3.1 (43.8 MB)\n",
      "Downloading: 8192/45929032 bytes (0.0%)\b\b\b\b\b\b\b\b\b\b\b\b\b\b\b\b\b\b\b\b\b\b\b\b\b\b2973696/45929032 bytes (6.5%)\b\b\b\b\b\b\b\b\b\b\b\b\b\b\b\b\b\b\b\b\b\b\b\b\b\b\b\b\b6676480/45929032 bytes (14.5%)\b\b\b\b\b\b\b\b\b\b\b\b\b\b\b\b\b\b\b\b\b\b\b\b\b\b\b\b\b\b10428416/45929032 bytes (22.7%)\b\b\b\b\b\b\b\b\b\b\b\b\b\b\b\b\b\b\b\b\b\b\b\b\b\b\b\b\b\b\b14131200/45929032 bytes (30.8%)\b\b\b\b\b\b\b\b\b\b\b\b\b\b\b\b\b\b\b\b\b\b\b\b\b\b\b\b\b\b\b17891328/45929032 bytes (39.0%)\b\b\b\b\b\b\b\b\b\b\b\b\b\b\b\b\b\b\b\b\b\b\b\b\b\b\b\b\b\b\b21594112/45929032 bytes (47.0%)\b\b\b\b\b\b\b\b\b\b\b\b\b\b\b\b\b\b\b\b\b\b\b\b\b\b\b\b\b\b\b25305088/45929032 bytes (55.1%)\b\b\b\b\b\b\b\b\b\b\b\b\b\b\b\b\b\b\b\b\b\b\b\b\b\b\b\b\b\b\b28884992/45929032 bytes (62.9%)\b\b\b\b\b\b\b\b\b\b\b\b\b\b\b\b\b\b\b\b\b\b\b\b\b\b\b\b\b\b\b32604160/45929032 bytes (71.0%)\b\b\b\b\b\b\b\b\b\b\b\b\b\b\b\b\b\b\b\b\b\b\b\b\b\b\b\b\b\b\b36298752/45929032 bytes (79.0%)\b\b\b\b\b\b\b\b\b\b\b\b\b\b\b\b\b\b\b\b\b\b\b\b\b\b\b\b\b\b\b39837696/45929032 bytes (86.7%)\b\b\b\b\b\b\b\b\b\b\b\b\b\b\b\b\b\b\b\b\b\b\b\b\b\b\b\b\b\b\b43565056/45929032 bytes (94.9%)\b\b\b\b\b\b\b\b\b\b\b\b\b\b\b\b\b\b\b\b\b\b\b\b\b\b\b\b\b\b\b45929032/45929032 bytes (100.0%)\n",
      "  Done\n",
      "File saved as /root/.imageio/ffmpeg/ffmpeg-linux64-v3.3.1.\n",
      "Populating the interactive namespace from numpy and matplotlib\n"
     ]
    }
   ],
   "source": [
    "\n",
    "import pygame\n",
    "from pypianoroll import Multitrack, Track\n",
    "import pypianoroll\n",
    "import os\n",
    "import glob\n",
    "import numpy as np\n",
    "import torch\n",
    "from torch import nn\n",
    "import torch.nn.functional as F\n",
    "from src.dataset_utils import TrackDataset, get_dataset_representation_from_tracks\n",
    "from torch.utils.data import DataLoader\n",
    "%pylab inline"
   ]
  },
  {
   "cell_type": "code",
   "execution_count": 4,
   "metadata": {
    "colab": {
     "base_uri": "https://localhost:8080/",
     "height": 34
    },
    "colab_type": "code",
    "executionInfo": {
     "elapsed": 26573,
     "status": "ok",
     "timestamp": 1558022976878,
     "user": {
      "displayName": "Nicolas Deperrois",
      "photoUrl": "https://lh5.googleusercontent.com/-Jfkdb6w84hk/AAAAAAAAAAI/AAAAAAAACRA/bqUAiv0shAM/s64/photo.jpg",
      "userId": "11633758183366338150"
     },
     "user_tz": -120
    },
    "id": "Rlni0Wn20WYa",
    "outputId": "c0f5f8bd-e752-4927-ec42-239f5768c390"
   },
   "outputs": [
    {
     "name": "stdout",
     "output_type": "stream",
     "text": [
      "Training on GPU!\n"
     ]
    }
   ],
   "source": [
    "from src.RNN_utils import *"
   ]
  },
  {
   "cell_type": "code",
   "execution_count": 0,
   "metadata": {
    "colab": {},
    "colab_type": "code",
    "id": "IugBxMoP4lLy"
   },
   "outputs": [],
   "source": [
    "try:\n",
    "    home_dir\n",
    "except NameError:\n",
    "    home_dir = os.getcwd()\n",
    "\n",
    "os.chdir(home_dir + \"/data/raw/bach\")  # go to a folder relative to home dir"
   ]
  },
  {
   "cell_type": "code",
   "execution_count": 6,
   "metadata": {
    "colab": {
     "base_uri": "https://localhost:8080/",
     "height": 68
    },
    "colab_type": "code",
    "executionInfo": {
     "elapsed": 31869,
     "status": "ok",
     "timestamp": 1558022983707,
     "user": {
      "displayName": "Nicolas Deperrois",
      "photoUrl": "https://lh5.googleusercontent.com/-Jfkdb6w84hk/AAAAAAAAAAI/AAAAAAAACRA/bqUAiv0shAM/s64/photo.jpg",
      "userId": "11633758183366338150"
     },
     "user_tz": -120
    },
    "id": "8EnWFvKA4lL7",
    "outputId": "a22346fe-ee2a-4a59-f2c7-0edf7ec9b442"
   },
   "outputs": [
    {
     "name": "stdout",
     "output_type": "stream",
     "text": [
      "Global lower note : 57\n",
      "Global upper note : 83\n",
      "Number of notes : 28\n"
     ]
    }
   ],
   "source": [
    "# get lower and upper bounds \n",
    "voice = 0 \n",
    "all_pianorolls, midi_files = get_all_pianorolls(voice, home_dir, beat_resolution=4)\n",
    "global_lower, global_upper, n_notes = get_extremum_pitches([all_pianorolls])\n",
    "print('Global lower note : '+ str(global_lower))\n",
    "print('Global upper note : '+ str(global_upper))\n",
    "print('Number of notes : '+ str(n_notes))"
   ]
  },
  {
   "cell_type": "code",
   "execution_count": 7,
   "metadata": {
    "colab": {
     "base_uri": "https://localhost:8080/",
     "height": 119
    },
    "colab_type": "code",
    "executionInfo": {
     "elapsed": 11277,
     "status": "ok",
     "timestamp": 1558022049307,
     "user": {
      "displayName": "Nicolas Deperrois",
      "photoUrl": "https://lh5.googleusercontent.com/-Jfkdb6w84hk/AAAAAAAAAAI/AAAAAAAACRA/bqUAiv0shAM/s64/photo.jpg",
      "userId": "11633758183366338150"
     },
     "user_tz": -120
    },
    "id": "P3Tts_gs4lL9",
    "outputId": "afea9e51-745d-4fdb-8677-ad2047bfab18"
   },
   "outputs": [
    {
     "name": "stdout",
     "output_type": "stream",
     "text": [
      "Pianoroll sequence of soprano :\n",
      "[ 0  0  0  0 66 66 68 68 70 70 70 70 71 71 71 71 73 73 73  0 73 73 73 73\n",
      " 75 75 75 75 77 77 77 77 78 78 78 78 66 66 68 68 70 70 70 70 71 71 71 71\n",
      " 73 73 73  0 73 73 73 73 71 71 71 71 70 70 70 70 68 68 68 68 70 70 70 70\n",
      " 66 66 66  0 66 66 66 66 71 71 71 71 70 70 70 70 68 68 68 68 68 68 68 68\n",
      " 66 66 66  0]\n"
     ]
    }
   ],
   "source": [
    "print(\"Pianoroll sequence of soprano :\")\n",
    "print(all_pianorolls[0:100])"
   ]
  },
  {
   "cell_type": "markdown",
   "metadata": {
    "colab_type": "text",
    "id": "rzfuMYvgZ6if"
   },
   "source": [
    "In order to minimize the size of one-hot encode vectors, we restrict the pitches to values next to 0, using the minimum pitch found in the dataset. "
   ]
  },
  {
   "cell_type": "code",
   "execution_count": 8,
   "metadata": {
    "colab": {
     "base_uri": "https://localhost:8080/",
     "height": 119
    },
    "colab_type": "code",
    "executionInfo": {
     "elapsed": 426,
     "status": "ok",
     "timestamp": 1558022053062,
     "user": {
      "displayName": "Nicolas Deperrois",
      "photoUrl": "https://lh5.googleusercontent.com/-Jfkdb6w84hk/AAAAAAAAAAI/AAAAAAAACRA/bqUAiv0shAM/s64/photo.jpg",
      "userId": "11633758183366338150"
     },
     "user_tz": -120
    },
    "id": "ayfyARad4lL_",
    "outputId": "de9dc9b1-0e03-4665-c59a-8a82db8746d4"
   },
   "outputs": [
    {
     "name": "stdout",
     "output_type": "stream",
     "text": [
      "Pianoroll sequence of soprano scaled to 0:\n",
      "[ 0  0  0  0 10 10 12 12 14 14 14 14 15 15 15 15 17 17 17  0 17 17 17 17\n",
      " 19 19 19 19 21 21 21 21 22 22 22 22 10 10 12 12 14 14 14 14 15 15 15 15\n",
      " 17 17 17  0 17 17 17 17 15 15 15 15 14 14 14 14 12 12 12 12 14 14 14 14\n",
      " 10 10 10  0 10 10 10 10 15 15 15 15 14 14 14 14 12 12 12 12 12 12 12 12\n",
      " 10 10 10  0]\n"
     ]
    }
   ],
   "source": [
    "# scale pianoroll to 0 \n",
    "print(\"Pianoroll sequence of soprano scaled to 0:\")\n",
    "all_pianorolls_scaled = scale_pianoroll(all_pianorolls, global_lower)\n",
    "print(all_pianorolls_scaled[0:100])"
   ]
  },
  {
   "cell_type": "markdown",
   "metadata": {
    "colab_type": "text",
    "id": "42JsbRVtN7L-"
   },
   "source": [
    "## Generation of a single voice"
   ]
  },
  {
   "cell_type": "markdown",
   "metadata": {
    "colab_type": "text",
    "id": "7nbdxBCkXycc"
   },
   "source": [
    "As a first attempt to generate a melody using LSTMs with pianorolls, we will simply try to generate a single voice (soprano, alto, tenor or bass), training the network on the whole midi file dataset concatenated into a long sequence of notes all translated to the same tonality (here, C Major or its relative A minor). The later operation will particularly facilitate learning on such a small dataset as all melodies will be rescaled to the same tonality, thus preventing abrupt changes among melody batches. "
   ]
  },
  {
   "cell_type": "markdown",
   "metadata": {
    "colab_type": "text",
    "id": "mrVryIjJ4lMC"
   },
   "source": [
    "### Define a LSTM network as for note-to-note melody generation\n",
    "We now build a network to implement note-to-note melody generation using LSTMs units as well as drop-out of the output. This network is highly inspired from the Tutorial 08 of the class, by replacing characters by notes. "
   ]
  },
  {
   "cell_type": "markdown",
   "metadata": {
    "colab_type": "text",
    "id": "GxUeYhz24lME"
   },
   "source": [
    "For training the model, we declare a function, where we define an optimizer (Adam) and loss (cross entropy). Then, training and validation data are separated and the hidden state of the RNN is initaliazed. Looping over the training melody batches, we use the functions `get_pianoroll_batches` and `one_hot_encode_batch` in order to build batches and feed them to the network input. This function is also adapted to harmonization that will be defined below. \n",
    "\n",
    "Every once a while, we generate some loss statistics (training loss and validation loss) to let us know if the model is training correctly."
   ]
  },
  {
   "cell_type": "code",
   "execution_count": 9,
   "metadata": {
    "colab": {
     "base_uri": "https://localhost:8080/",
     "height": 272
    },
    "colab_type": "code",
    "executionInfo": {
     "elapsed": 31740,
     "status": "ok",
     "timestamp": 1558022085847,
     "user": {
      "displayName": "Nicolas Deperrois",
      "photoUrl": "https://lh5.googleusercontent.com/-Jfkdb6w84hk/AAAAAAAAAAI/AAAAAAAACRA/bqUAiv0shAM/s64/photo.jpg",
      "userId": "11633758183366338150"
     },
     "user_tz": -120
    },
    "id": "_Gr3LZSO4lMF",
    "outputId": "56cf9593-f890-4030-f96f-1cb5516cbd50"
   },
   "outputs": [
    {
     "name": "stdout",
     "output_type": "stream",
     "text": [
      "NoteRNN(\n",
      "  (lstm): LSTM(28, 256, num_layers=2, batch_first=True)\n",
      "  (fc): Linear(in_features=256, out_features=28, bias=True)\n",
      ")\n",
      "Epoch: 10/100... Loss: 0.9186... Val Loss: 0.9326\n",
      "Epoch: 20/100... Loss: 0.5670... Val Loss: 0.6559\n",
      "Epoch: 30/100... Loss: 0.4450... Val Loss: 0.6416\n",
      "No improvement for 5 epochs; storing val_loss and best_model...\n",
      "Epoch: 40/100... Loss: 0.3446... Val Loss: 0.6513\n",
      "Epoch: 50/100... Loss: 0.2483... Val Loss: 0.7073\n",
      "Epoch: 60/100... Loss: 0.1670... Val Loss: 0.7891\n",
      "Epoch: 70/100... Loss: 0.1058... Val Loss: 0.8945\n",
      "Epoch: 80/100... Loss: 0.0747... Val Loss: 0.9125\n",
      "Epoch: 90/100... Loss: 0.0640... Val Loss: 0.9937\n",
      "Epoch: 100/100... Loss: 0.0412... Val Loss: 1.0092\n"
     ]
    }
   ],
   "source": [
    "# Define and print the net\n",
    "n_hidden=256\n",
    "n_layers=2\n",
    "\n",
    "net = NoteRNN(n_notes, n_hidden, n_layers)\n",
    "print(net)\n",
    "\n",
    "# Declaring the hyperparameters\n",
    "batch_size = 64\n",
    "seq_length = 50\n",
    "n_epochs = 100 # start smaller if you are just testing initial behavior\n",
    "\n",
    "# train the model\n",
    "train_losses, val_losses, best_net, best_epoch = train(net, all_pianorolls_scaled, harmonization=False,\n",
    "                                             epochs=n_epochs, batch_size=batch_size, \n",
    "                                             seq_length=seq_length, lr=0.001)"
   ]
  },
  {
   "cell_type": "code",
   "execution_count": 31,
   "metadata": {
    "colab": {
     "base_uri": "https://localhost:8080/",
     "height": 283
    },
    "colab_type": "code",
    "executionInfo": {
     "elapsed": 599,
     "status": "ok",
     "timestamp": 1558022447345,
     "user": {
      "displayName": "Nicolas Deperrois",
      "photoUrl": "https://lh5.googleusercontent.com/-Jfkdb6w84hk/AAAAAAAAAAI/AAAAAAAACRA/bqUAiv0shAM/s64/photo.jpg",
      "userId": "11633758183366338150"
     },
     "user_tz": -120
    },
    "id": "V3VQnH-u0WYq",
    "outputId": "fcb97766-a463-46c5-f565-a7ac8b76d551"
   },
   "outputs": [
    {
     "data": {
      "image/png": "[encoded data removed]",
      "text/plain": [
       "<Figure size 432x288 with 1 Axes>"
      ]
     },
     "metadata": {
      "tags": []
     },
     "output_type": "display_data"
    }
   ],
   "source": [
    "fig = figure(figsize(6,4))\n",
    "ax = fig.add_subplot(1,1,1)\n",
    "display_losses(ax, train_losses, val_losses, best_epoch)"
   ]
  },
  {
   "cell_type": "code",
   "execution_count": 0,
   "metadata": {
    "colab": {},
    "colab_type": "code",
    "id": "dNyfJP4M45ie"
   },
   "outputs": [],
   "source": [
    "fig.savefig(home_dir + \"/graphics/RNN_single_plot.png\")\n",
    "fig.savefig(home_dir + \"/graphics/RNN_single_plot.pdf\")"
   ]
  },
  {
   "cell_type": "markdown",
   "metadata": {
    "colab_type": "text",
    "id": "Un2-EJ8kyZyy"
   },
   "source": [
    "### Test of the network: generation of single voice \n",
    "We will now test the trained network to predict potential melodies starting from a short sequence of notes. Here again, the functions `predict` and `sample` are highly inspired from the Tutorial 8, and slightly modified towards pianorolls data processing. \n",
    "\n"
   ]
  },
  {
   "cell_type": "markdown",
   "metadata": {
    "colab_type": "text",
    "id": "om0ch5hlz7oC"
   },
   "source": [
    "The `NoteRNN` network outputs scaled pianorolls. We thus need to send back the obtained pitches to the associated voice range, using the function `unscale_pianoroll`. We then store the pianoroll to a track object, and to a multitrack object, which can directly be used to write a midi file. "
   ]
  },
  {
   "cell_type": "code",
   "execution_count": 0,
   "metadata": {
    "colab": {},
    "colab_type": "code",
    "id": "YL9P1z3F0WYs"
   },
   "outputs": [],
   "source": [
    "seq_size = 50\n",
    "start = 73 - global_lower # starting with a C "
   ]
  },
  {
   "cell_type": "markdown",
   "metadata": {
    "colab_type": "text",
    "id": "OPDpprJu0WYu"
   },
   "source": [
    "Let's first try melody generation with a random initial network (no training). "
   ]
  },
  {
   "cell_type": "code",
   "execution_count": 0,
   "metadata": {
    "colab": {},
    "colab_type": "code",
    "id": "HwTnzify0WYu"
   },
   "outputs": [],
   "source": [
    "random_net = NoteRNN(n_notes, n_hidden, n_layers)\n",
    "multitrack_random = process_single(random_net, start, seq_size, global_lower, beat_resolution=2)\n",
    "pypianoroll.write(multitrack_random, home_dir + \"/results/RNN_single_random\")"
   ]
  },
  {
   "cell_type": "code",
   "execution_count": 0,
   "metadata": {
    "colab": {},
    "colab_type": "code",
    "id": "n-06icmc4lMK"
   },
   "outputs": [],
   "source": [
    "modified_midi_filename = home_dir + \"/results/RNN_single_random.mid\"\n",
    "pygame.init()\n",
    "pygame.mixer.music.load(modified_midi_filename)\n",
    "pygame.mixer.music.play()"
   ]
  },
  {
   "cell_type": "code",
   "execution_count": 0,
   "metadata": {
    "colab": {},
    "colab_type": "code",
    "id": "MMWx1qQs4lML"
   },
   "outputs": [],
   "source": [
    "pygame.mixer.music.stop()"
   ]
  },
  {
   "cell_type": "markdown",
   "metadata": {
    "colab_type": "text",
    "id": "lgEXQBlY0WYw"
   },
   "source": [
    "As expected, it does not sound like a Bach melody, as it is totally out of key. \n",
    "Let's now try it with the early-stopped network."
   ]
  },
  {
   "cell_type": "code",
   "execution_count": 0,
   "metadata": {
    "colab": {},
    "colab_type": "code",
    "id": "dDlgi2OM4lMJ"
   },
   "outputs": [],
   "source": [
    "multitrack_early = process_single(best_net, start, seq_size, global_lower, beat_resolution=2)\n",
    "pypianoroll.write(multitrack_early, home_dir + \"/results/RNN_single_early\")"
   ]
  },
  {
   "cell_type": "code",
   "execution_count": 0,
   "metadata": {
    "colab": {},
    "colab_type": "code",
    "id": "MHHykyEm0WYx"
   },
   "outputs": [],
   "source": [
    "modified_midi_filename = home_dir + \"/results/RNN_single_early.mid\"\n",
    "pygame.init()\n",
    "pygame.mixer.music.load(modified_midi_filename)\n",
    "pygame.mixer.music.play()"
   ]
  },
  {
   "cell_type": "code",
   "execution_count": 0,
   "metadata": {
    "colab": {},
    "colab_type": "code",
    "id": "gyUA74Ro0WYy"
   },
   "outputs": [],
   "source": [
    "pygame.mixer.music.stop()"
   ]
  },
  {
   "cell_type": "markdown",
   "metadata": {
    "colab_type": "text",
    "id": "mXJ6q8CN0WYz"
   },
   "source": [
    "Finally, we try to generate Bach melody with the overfitting network. "
   ]
  },
  {
   "cell_type": "code",
   "execution_count": 0,
   "metadata": {
    "colab": {},
    "colab_type": "code",
    "id": "lmM0MPps0WYz"
   },
   "outputs": [],
   "source": [
    "multitrack_overfit = process_single(net, start, seq_size, global_lower, beat_resolution=2)\n",
    "pypianoroll.write(multitrack_overfit, home_dir + \"/results/RNN_single_overfit\")"
   ]
  },
  {
   "cell_type": "code",
   "execution_count": 0,
   "metadata": {
    "colab": {},
    "colab_type": "code",
    "id": "BMmPymUh0WY0"
   },
   "outputs": [],
   "source": [
    "modified_midi_filename = home_dir + \"/results/RNN_single_overfit.mid\"\n",
    "pygame.init()\n",
    "pygame.mixer.music.load(modified_midi_filename)\n",
    "pygame.mixer.music.play()"
   ]
  },
  {
   "cell_type": "code",
   "execution_count": 0,
   "metadata": {
    "colab": {},
    "colab_type": "code",
    "id": "SYHUXC0E0WY0"
   },
   "outputs": [],
   "source": [
    "pygame.mixer.music.stop()"
   ]
  },
  {
   "cell_type": "markdown",
   "metadata": {
    "colab_type": "text",
    "id": "vEo6s6GV-_I3"
   },
   "source": [
    "**********\n",
    "**********\n",
    "\n",
    "## Train for harmonization"
   ]
  },
  {
   "cell_type": "markdown",
   "metadata": {
    "colab_type": "text",
    "id": "qkoVhdWWEIsz"
   },
   "source": [
    "We observed above that it is possible to generate a coherent melody using a slightly modified version of the original character-to-character RNN. Here, we will investigate whether such a network can perform more complex task, such as harmonizing a given voice. For instance, from the soprano sequence, we would like to generate the associated alto voice. "
   ]
  },
  {
   "cell_type": "code",
   "execution_count": 0,
   "metadata": {
    "colab": {},
    "colab_type": "code",
    "id": "KK_JGdyb-_I4"
   },
   "outputs": [],
   "source": [
    "beat_resolution = 2\n",
    "all_pianorolls_soprano, midi_files = get_all_pianorolls(0, home_dir, beat_resolution=beat_resolution)\n",
    "all_pianorolls_alto,_ = get_all_pianorolls(1, home_dir, beat_resolution=beat_resolution)\n",
    "all_pianorolls_tenor,_ = get_all_pianorolls(2, home_dir, beat_resolution=beat_resolution)\n",
    "all_pianorolls_bass,_ = get_all_pianorolls(3, home_dir, beat_resolution=beat_resolution)"
   ]
  },
  {
   "cell_type": "code",
   "execution_count": 8,
   "metadata": {
    "colab": {
     "base_uri": "https://localhost:8080/",
     "height": 68
    },
    "colab_type": "code",
    "executionInfo": {
     "elapsed": 37682,
     "status": "ok",
     "timestamp": 1558023011461,
     "user": {
      "displayName": "Nicolas Deperrois",
      "photoUrl": "https://lh5.googleusercontent.com/-Jfkdb6w84hk/AAAAAAAAAAI/AAAAAAAACRA/bqUAiv0shAM/s64/photo.jpg",
      "userId": "11633758183366338150"
     },
     "user_tz": -120
    },
    "id": "A1XAhpRy-_I4",
    "outputId": "ebd0b3a7-0ab3-4487-aa48-00562a445ad2"
   },
   "outputs": [
    {
     "name": "stdout",
     "output_type": "stream",
     "text": [
      "Global lower note : 35\n",
      "Global upper note : 83\n",
      "Number of notes : 50\n"
     ]
    }
   ],
   "source": [
    "list_pianorolls = [all_pianorolls_soprano, all_pianorolls_alto, all_pianorolls_tenor, all_pianorolls_bass]\n",
    "global_lower, global_upper, n_notes = get_extremum_pitches(list_pianorolls)\n",
    "print('Global lower note : '+ str(global_lower))\n",
    "print('Global upper note : '+ str(global_upper))\n",
    "print('Number of notes : '+ str(n_notes))"
   ]
  },
  {
   "cell_type": "markdown",
   "metadata": {
    "colab_type": "text",
    "id": "2wBxcVc3VCOn"
   },
   "source": [
    "We now rescale the pianorolls to values next to 0. "
   ]
  },
  {
   "cell_type": "code",
   "execution_count": 0,
   "metadata": {
    "colab": {},
    "colab_type": "code",
    "id": "SvlOqRm3-_I7"
   },
   "outputs": [],
   "source": [
    "# scale pianoroll to 0 \n",
    "all_pianorolls_soprano = scale_pianoroll(all_pianorolls_soprano, global_lower)\n",
    "all_pianorolls_alto = scale_pianoroll(all_pianorolls_alto, global_lower)\n",
    "all_pianorolls_tenor = scale_pianoroll(all_pianorolls_tenor, global_lower)\n",
    "all_pianorolls_bass = scale_pianoroll(all_pianorolls_bass, global_lower)\n"
   ]
  },
  {
   "cell_type": "markdown",
   "metadata": {
    "colab_type": "text",
    "id": "G5JMisjMIm2A"
   },
   "source": [
    "It is now time to train the network to perform harmonization. Setting the mode to `\"harmonization\"`, we will call the function `get_pianoroll_batches_harmonization` that generates one-hot vectors of both input and target melodies. "
   ]
  },
  {
   "cell_type": "code",
   "execution_count": 0,
   "metadata": {
    "colab": {},
    "colab_type": "code",
    "id": "bAWv5b1A-_I8"
   },
   "outputs": [],
   "source": [
    "# Define and print the net\n",
    "n_hidden=512\n",
    "n_layers=2\n",
    "\n",
    "net_alto = NoteRNN(n_notes, n_hidden, n_layers)\n",
    "net_tenor = NoteRNN(n_notes, n_hidden, n_layers)\n",
    "net_bass = NoteRNN(n_notes, n_hidden, n_layers)\n",
    "\n",
    "# Declaring the hyperparameters\n",
    "batch_size = 64\n",
    "seq_length = 32\n",
    "n_epochs = 100 # start smaller if you are just testing initial behavior"
   ]
  },
  {
   "cell_type": "code",
   "execution_count": 29,
   "metadata": {
    "colab": {
     "base_uri": "https://localhost:8080/",
     "height": 204
    },
    "colab_type": "code",
    "executionInfo": {
     "elapsed": 68830,
     "status": "ok",
     "timestamp": 1558023630672,
     "user": {
      "displayName": "Nicolas Deperrois",
      "photoUrl": "https://lh5.googleusercontent.com/-Jfkdb6w84hk/AAAAAAAAAAI/AAAAAAAACRA/bqUAiv0shAM/s64/photo.jpg",
      "userId": "11633758183366338150"
     },
     "user_tz": -120
    },
    "id": "DNGZEJoG01QR",
    "outputId": "fdaee526-6b82-461e-f58e-2ac319dedaf3"
   },
   "outputs": [
    {
     "name": "stdout",
     "output_type": "stream",
     "text": [
      "Epoch: 10/100... Loss: 1.7724... Val Loss: 1.9143\n",
      "Epoch: 20/100... Loss: 1.4594... Val Loss: 1.8830\n",
      "No improvement for 5 epochs; storing val_loss and best_model...\n",
      "Epoch: 30/100... Loss: 0.9607... Val Loss: 2.1585\n",
      "Epoch: 40/100... Loss: 0.5118... Val Loss: 2.6725\n",
      "Epoch: 50/100... Loss: 0.2912... Val Loss: 3.3700\n",
      "Epoch: 60/100... Loss: 0.1413... Val Loss: 3.5645\n",
      "Epoch: 70/100... Loss: 0.4071... Val Loss: 3.2366\n",
      "Epoch: 80/100... Loss: 0.1099... Val Loss: 3.7456\n",
      "Epoch: 90/100... Loss: 0.1308... Val Loss: 3.8599\n",
      "Epoch: 100/100... Loss: 0.0713... Val Loss: 4.1972\n"
     ]
    }
   ],
   "source": [
    "# train the model\n",
    "train_losses_alto, val_losses_alto, best_net_alto, best_epoch_alto = train(net_alto, data=all_pianorolls_soprano, \n",
    "                                                       data2 = all_pianorolls_alto, harmonization=True,\n",
    "                                                       epochs=n_epochs, batch_size=batch_size,\n",
    "                                                       seq_length=seq_length, lr=0.005)\n",
    "\n"
   ]
  },
  {
   "cell_type": "code",
   "execution_count": 30,
   "metadata": {
    "colab": {
     "base_uri": "https://localhost:8080/",
     "height": 204
    },
    "colab_type": "code",
    "executionInfo": {
     "elapsed": 136491,
     "status": "ok",
     "timestamp": 1558023698767,
     "user": {
      "displayName": "Nicolas Deperrois",
      "photoUrl": "https://lh5.googleusercontent.com/-Jfkdb6w84hk/AAAAAAAAAAI/AAAAAAAACRA/bqUAiv0shAM/s64/photo.jpg",
      "userId": "11633758183366338150"
     },
     "user_tz": -120
    },
    "id": "ZkYgqAfIeBJb",
    "outputId": "8259028c-0101-460f-c67f-a3d281527e71"
   },
   "outputs": [
    {
     "name": "stdout",
     "output_type": "stream",
     "text": [
      "Epoch: 10/100... Loss: 1.9025... Val Loss: 1.9449\n",
      "No improvement for 5 epochs; storing val_loss and best_model...\n",
      "Epoch: 20/100... Loss: 1.5353... Val Loss: 1.9442\n",
      "Epoch: 30/100... Loss: 0.9592... Val Loss: 2.2786\n",
      "Epoch: 40/100... Loss: 0.4850... Val Loss: 2.9810\n",
      "Epoch: 50/100... Loss: 0.3112... Val Loss: 3.3585\n",
      "Epoch: 60/100... Loss: 0.1225... Val Loss: 3.7991\n",
      "Epoch: 70/100... Loss: 0.1257... Val Loss: 4.0353\n",
      "Epoch: 80/100... Loss: 0.1345... Val Loss: 4.0276\n",
      "Epoch: 90/100... Loss: 0.0629... Val Loss: 4.4625\n",
      "Epoch: 100/100... Loss: 0.0196... Val Loss: 4.6923\n"
     ]
    }
   ],
   "source": [
    "# train the model\n",
    "train_losses_tenor, val_losses_tenor, best_net_tenor, best_epoch_tenor = train(net_tenor, data=all_pianorolls_soprano, \n",
    "                                                       data2 = all_pianorolls_tenor, harmonization=True,\n",
    "                                                       epochs=n_epochs, batch_size=batch_size,\n",
    "                                                       seq_length=seq_length, lr=0.005)"
   ]
  },
  {
   "cell_type": "code",
   "execution_count": 31,
   "metadata": {
    "colab": {
     "base_uri": "https://localhost:8080/",
     "height": 204
    },
    "colab_type": "code",
    "executionInfo": {
     "elapsed": 203807,
     "status": "ok",
     "timestamp": 1558023766656,
     "user": {
      "displayName": "Nicolas Deperrois",
      "photoUrl": "https://lh5.googleusercontent.com/-Jfkdb6w84hk/AAAAAAAAAAI/AAAAAAAACRA/bqUAiv0shAM/s64/photo.jpg",
      "userId": "11633758183366338150"
     },
     "user_tz": -120
    },
    "id": "SoQKIHoPeJDU",
    "outputId": "92862f7f-6717-4440-8702-648bcb286e92"
   },
   "outputs": [
    {
     "name": "stdout",
     "output_type": "stream",
     "text": [
      "Epoch: 10/100... Loss: 1.9182... Val Loss: 2.1263\n",
      "No improvement for 5 epochs; storing val_loss and best_model...\n",
      "Epoch: 20/100... Loss: 1.1994... Val Loss: 2.3309\n",
      "Epoch: 30/100... Loss: 0.4809... Val Loss: 2.9537\n",
      "Epoch: 40/100... Loss: 0.1855... Val Loss: 3.4340\n",
      "Epoch: 50/100... Loss: 0.0497... Val Loss: 3.9113\n",
      "Epoch: 60/100... Loss: 0.0509... Val Loss: 4.0649\n",
      "Epoch: 70/100... Loss: 0.3472... Val Loss: 3.6581\n",
      "Epoch: 80/100... Loss: 0.0508... Val Loss: 4.0438\n",
      "Epoch: 90/100... Loss: 0.0170... Val Loss: 4.3854\n",
      "Epoch: 100/100... Loss: 0.0098... Val Loss: 4.5786\n"
     ]
    }
   ],
   "source": [
    "# train the model\n",
    "train_losses_bass, val_losses_bass, best_net_bass, best_epoch_bass = train(net_bass, data=all_pianorolls_soprano, \n",
    "                                                       data2 = all_pianorolls_bass, harmonization=True,\n",
    "                                                       epochs=n_epochs, batch_size=batch_size,\n",
    "                                                       seq_length=seq_length, lr=0.005)"
   ]
  },
  {
   "cell_type": "markdown",
   "metadata": {
    "colab_type": "text",
    "id": "WKhUg6Az0WZC"
   },
   "source": [
    "### Losses evolution with training and overfitting \n",
    "Now that our 3 networks are trained, we will inspect how the losses evolve with harmonization for each of the generated voices. "
   ]
  },
  {
   "cell_type": "code",
   "execution_count": 32,
   "metadata": {
    "colab": {
     "base_uri": "https://localhost:8080/",
     "height": 446
    },
    "colab_type": "code",
    "executionInfo": {
     "elapsed": 1665,
     "status": "ok",
     "timestamp": 1558023775152,
     "user": {
      "displayName": "Nicolas Deperrois",
      "photoUrl": "https://lh5.googleusercontent.com/-Jfkdb6w84hk/AAAAAAAAAAI/AAAAAAAACRA/bqUAiv0shAM/s64/photo.jpg",
      "userId": "11633758183366338150"
     },
     "user_tz": -120
    },
    "id": "562Tt2rR-_I_",
    "outputId": "aff1e9fa-1240-4bc8-fce3-038cb3c90c16"
   },
   "outputs": [
    {
     "data": {
      "image/png": "[encoded data removed]",
      "text/plain": [
       "<Figure size 720x504 with 3 Axes>"
      ]
     },
     "metadata": {
      "tags": []
     },
     "output_type": "display_data"
    }
   ],
   "source": [
    "fig = figure(figsize(10,7))\n",
    "ax1 = fig.add_subplot(2,2,1)\n",
    "display_losses(ax1, train_losses_alto, val_losses_alto, best_epoch_alto)\n",
    "ax2 = fig.add_subplot(2,2,2)\n",
    "display_losses(ax2, train_losses_tenor, val_losses_tenor, best_epoch_tenor)\n",
    "ax3 = fig.add_subplot(2,2,3)\n",
    "display_losses(ax3, train_losses_bass, val_losses_bass, best_epoch_bass)"
   ]
  },
  {
   "cell_type": "code",
   "execution_count": 0,
   "metadata": {
    "colab": {},
    "colab_type": "code",
    "id": "bv8IOlgg9xjh"
   },
   "outputs": [],
   "source": [
    "fig.savefig(home_dir + \"/graphics/RNN_harmonization_plot.png\")\n",
    "fig.savefig(home_dir + \"/graphics/RNN_harmonization_plot.pdf\")"
   ]
  },
  {
   "cell_type": "markdown",
   "metadata": {
    "colab_type": "text",
    "id": "5T0Atqkv0WZD"
   },
   "source": [
    "### Test of harmonization from a soprano track"
   ]
  },
  {
   "cell_type": "markdown",
   "metadata": {
    "colab_type": "text",
    "id": "aEUEJWsM0WZD"
   },
   "source": [
    "It is now time to test the quality of the RNNs trained to harmonize a soprano voice by generating separately alto, tenor and bass voices. We will test it on one given bach midi file in the browser. "
   ]
  },
  {
   "cell_type": "code",
   "execution_count": 38,
   "metadata": {
    "colab": {
     "base_uri": "https://localhost:8080/",
     "height": 34
    },
    "colab_type": "code",
    "executionInfo": {
     "elapsed": 1036,
     "status": "ok",
     "timestamp": 1558024214521,
     "user": {
      "displayName": "Nicolas Deperrois",
      "photoUrl": "https://lh5.googleusercontent.com/-Jfkdb6w84hk/AAAAAAAAAAI/AAAAAAAACRA/bqUAiv0shAM/s64/photo.jpg",
      "userId": "11633758183366338150"
     },
     "user_tz": -120
    },
    "id": "aZW3uAKC4lMM",
    "outputId": "2ea43042-54a6-4eb2-c230-883e62457462"
   },
   "outputs": [
    {
     "name": "stdout",
     "output_type": "stream",
     "text": [
      "Let's generate alto, tenor and bass from bwv374.mid soprano\n"
     ]
    }
   ],
   "source": [
    " # Generating harmonization\n",
    "os.chdir(home_dir + \"/data/raw/bach\")  # go to a folder relative to home dir\n",
    "# get one voice from the dataset \n",
    "#midi_filename = 'bwv368.mid'\n",
    "midi_filename = midi_files[-4]\n",
    "print(\"Let's generate alto, tenor and bass from \"+ midi_filename + \" soprano\")\n",
    "#midi_filename = 'pkgsc_azalea.mid'\n",
    "\n",
    "start_size = 8\n",
    "\n",
    "real_tracks = []\n",
    "for voice in range(4):\n",
    "    track = get_track(midi_filename, voice, beat_resolution=beat_resolution, transpose=True)\n",
    "    real_tracks.append(track)"
   ]
  },
  {
   "cell_type": "markdown",
   "metadata": {
    "colab_type": "text",
    "id": "OeynY3et0WZE"
   },
   "source": [
    "Let's first generate harmonization with a ramdom initial network, without training. "
   ]
  },
  {
   "cell_type": "code",
   "execution_count": 0,
   "metadata": {
    "colab": {},
    "colab_type": "code",
    "id": "H7Iq2xZz0WZE"
   },
   "outputs": [],
   "source": [
    "random_net_alto = NoteRNN(n_notes, n_hidden, n_layers)\n",
    "random_net_tenor = NoteRNN(n_notes, n_hidden, n_layers)\n",
    "random_net_bass = NoteRNN(n_notes, n_hidden, n_layers)\n",
    "\n",
    "random_networks = [None, random_net_alto, random_net_tenor, random_net_bass]\n",
    "generated_tracks_random = [real_tracks[0]]\n",
    "for voice_togenerate in range(1,4):\n",
    "    generated_track = process_harmonization(midi_filename, random_networks, \n",
    "                                            global_lower, real_tracks, voice_togenerate, start_size)\n",
    "    generated_tracks_random.append(generated_track)\n",
    "    \n",
    "multitrack_random = Multitrack(tracks=generated_tracks_random, \n",
    "                            tempo = 90, beat_resolution=beat_resolution)\n",
    "#write to midifile \n",
    "pypianoroll.write(multitrack_random, home_dir + \"/results/RNN_harmonization_random\")"
   ]
  },
  {
   "cell_type": "code",
   "execution_count": 47,
   "metadata": {
    "colab": {
     "base_uri": "https://localhost:8080/",
     "height": 215
    },
    "colab_type": "code",
    "executionInfo": {
     "elapsed": 826,
     "status": "error",
     "timestamp": 1558022703220,
     "user": {
      "displayName": "Nicolas Deperrois",
      "photoUrl": "https://lh5.googleusercontent.com/-Jfkdb6w84hk/AAAAAAAAAAI/AAAAAAAACRA/bqUAiv0shAM/s64/photo.jpg",
      "userId": "11633758183366338150"
     },
     "user_tz": -120
    },
    "id": "Zb5g4C8E0WZE",
    "outputId": "cd695ad0-1ee7-40f3-e6ab-38433e1c7672"
   },
   "outputs": [
    {
     "ename": "error",
     "evalue": "ignored",
     "output_type": "error",
     "traceback": [
      "\u001b[0;31m---------------------------------------------------------------------------\u001b[0m",
      "\u001b[0;31merror\u001b[0m                                     Traceback (most recent call last)",
      "\u001b[0;32m<ipython-input-47-dce22aa8e722>\u001b[0m in \u001b[0;36m<module>\u001b[0;34m()\u001b[0m\n\u001b[1;32m      1\u001b[0m \u001b[0mmodified_midi_filename\u001b[0m \u001b[0;34m=\u001b[0m \u001b[0mhome_dir\u001b[0m \u001b[0;34m+\u001b[0m \u001b[0;34m\"/results/RNN_harmonization_random.mid\"\u001b[0m\u001b[0;34m\u001b[0m\u001b[0;34m\u001b[0m\u001b[0m\n\u001b[1;32m      2\u001b[0m \u001b[0mpygame\u001b[0m\u001b[0;34m.\u001b[0m\u001b[0minit\u001b[0m\u001b[0;34m(\u001b[0m\u001b[0;34m)\u001b[0m\u001b[0;34m\u001b[0m\u001b[0;34m\u001b[0m\u001b[0m\n\u001b[0;32m----> 3\u001b[0;31m \u001b[0mpygame\u001b[0m\u001b[0;34m.\u001b[0m\u001b[0mmixer\u001b[0m\u001b[0;34m.\u001b[0m\u001b[0mmusic\u001b[0m\u001b[0;34m.\u001b[0m\u001b[0mload\u001b[0m\u001b[0;34m(\u001b[0m\u001b[0mmodified_midi_filename\u001b[0m\u001b[0;34m)\u001b[0m\u001b[0;34m\u001b[0m\u001b[0;34m\u001b[0m\u001b[0m\n\u001b[0m\u001b[1;32m      4\u001b[0m \u001b[0mpygame\u001b[0m\u001b[0;34m.\u001b[0m\u001b[0mmixer\u001b[0m\u001b[0;34m.\u001b[0m\u001b[0mmusic\u001b[0m\u001b[0;34m.\u001b[0m\u001b[0mplay\u001b[0m\u001b[0;34m(\u001b[0m\u001b[0;34m)\u001b[0m\u001b[0;34m\u001b[0m\u001b[0;34m\u001b[0m\u001b[0m\n",
      "\u001b[0;31merror\u001b[0m: mixer not initialized"
     ]
    }
   ],
   "source": [
    "modified_midi_filename = home_dir + \"/results/RNN_harmonization_random.mid\"\n",
    "pygame.init()\n",
    "pygame.mixer.music.load(modified_midi_filename)\n",
    "pygame.mixer.music.play()"
   ]
  },
  {
   "cell_type": "code",
   "execution_count": 48,
   "metadata": {
    "colab": {
     "base_uri": "https://localhost:8080/",
     "height": 164
    },
    "colab_type": "code",
    "executionInfo": {
     "elapsed": 868,
     "status": "error",
     "timestamp": 1558022705254,
     "user": {
      "displayName": "Nicolas Deperrois",
      "photoUrl": "https://lh5.googleusercontent.com/-Jfkdb6w84hk/AAAAAAAAAAI/AAAAAAAACRA/bqUAiv0shAM/s64/photo.jpg",
      "userId": "11633758183366338150"
     },
     "user_tz": -120
    },
    "id": "4HreAEqx0WZF",
    "outputId": "d32b0d47-9eae-4667-854c-2ee65c699b34"
   },
   "outputs": [
    {
     "ename": "error",
     "evalue": "ignored",
     "output_type": "error",
     "traceback": [
      "\u001b[0;31m---------------------------------------------------------------------------\u001b[0m",
      "\u001b[0;31merror\u001b[0m                                     Traceback (most recent call last)",
      "\u001b[0;32m<ipython-input-48-bb1c42b42b61>\u001b[0m in \u001b[0;36m<module>\u001b[0;34m()\u001b[0m\n\u001b[0;32m----> 1\u001b[0;31m \u001b[0mpygame\u001b[0m\u001b[0;34m.\u001b[0m\u001b[0mmixer\u001b[0m\u001b[0;34m.\u001b[0m\u001b[0mmusic\u001b[0m\u001b[0;34m.\u001b[0m\u001b[0mstop\u001b[0m\u001b[0;34m(\u001b[0m\u001b[0;34m)\u001b[0m\u001b[0;34m\u001b[0m\u001b[0;34m\u001b[0m\u001b[0m\n\u001b[0m",
      "\u001b[0;31merror\u001b[0m: mixer not initialized"
     ]
    }
   ],
   "source": [
    "pygame.mixer.music.stop()"
   ]
  },
  {
   "cell_type": "markdown",
   "metadata": {
    "colab_type": "text",
    "id": "y0vYevae0WZG"
   },
   "source": [
    "As expected, the harmonization is totally random, thus all voices are not following the soprano melody and generate random melodies independently. d\n",
    "Let's now test the quality of harmonization for the non-overfitting early-stopped networks.  "
   ]
  },
  {
   "cell_type": "code",
   "execution_count": 0,
   "metadata": {
    "colab": {},
    "colab_type": "code",
    "id": "4_jAMCjV1hJI"
   },
   "outputs": [],
   "source": [
    "best_networks = [None, best_net_alto, best_net_tenor, best_net_bass]\n",
    "\n",
    "# Early stopped network test \n",
    "generated_tracks_early = [real_tracks[0]]\n",
    "for voice_togenerate in range(1,4):\n",
    "    generated_track = process_harmonization(midi_filename, best_networks, \n",
    "                                            global_lower, real_tracks, voice_togenerate, start_size)\n",
    "    generated_tracks_early.append(generated_track)\n",
    "    \n",
    "multitrack_early = Multitrack(tracks=generated_tracks_early, \n",
    "                            tempo = 90, beat_resolution=beat_resolution)\n",
    "#write to midifile \n",
    "pypianoroll.write(multitrack_early, home_dir + \"/results/RNN_harmonization_early\")"
   ]
  },
  {
   "cell_type": "code",
   "execution_count": 50,
   "metadata": {
    "colab": {
     "base_uri": "https://localhost:8080/",
     "height": 215
    },
    "colab_type": "code",
    "collapsed": true,
    "executionInfo": {
     "elapsed": 612,
     "status": "error",
     "timestamp": 1558022705846,
     "user": {
      "displayName": "Nicolas Deperrois",
      "photoUrl": "https://lh5.googleusercontent.com/-Jfkdb6w84hk/AAAAAAAAAAI/AAAAAAAACRA/bqUAiv0shAM/s64/photo.jpg",
      "userId": "11633758183366338150"
     },
     "user_tz": -120
    },
    "id": "D9c_NQ5q-_I-",
    "outputId": "2ff4021e-006f-4735-9a85-a804be5c2c70"
   },
   "outputs": [
    {
     "ename": "error",
     "evalue": "ignored",
     "output_type": "error",
     "traceback": [
      "\u001b[0;31m---------------------------------------------------------------------------\u001b[0m",
      "\u001b[0;31merror\u001b[0m                                     Traceback (most recent call last)",
      "\u001b[0;32m<ipython-input-50-a34ee2561fcf>\u001b[0m in \u001b[0;36m<module>\u001b[0;34m()\u001b[0m\n\u001b[1;32m      1\u001b[0m \u001b[0mmodified_midi_filename\u001b[0m \u001b[0;34m=\u001b[0m \u001b[0mhome_dir\u001b[0m \u001b[0;34m+\u001b[0m \u001b[0;34m\"/results/RNN_harmonization_early.mid\"\u001b[0m\u001b[0;34m\u001b[0m\u001b[0;34m\u001b[0m\u001b[0m\n\u001b[1;32m      2\u001b[0m \u001b[0mpygame\u001b[0m\u001b[0;34m.\u001b[0m\u001b[0minit\u001b[0m\u001b[0;34m(\u001b[0m\u001b[0;34m)\u001b[0m\u001b[0;34m\u001b[0m\u001b[0;34m\u001b[0m\u001b[0m\n\u001b[0;32m----> 3\u001b[0;31m \u001b[0mpygame\u001b[0m\u001b[0;34m.\u001b[0m\u001b[0mmixer\u001b[0m\u001b[0;34m.\u001b[0m\u001b[0mmusic\u001b[0m\u001b[0;34m.\u001b[0m\u001b[0mload\u001b[0m\u001b[0;34m(\u001b[0m\u001b[0mmodified_midi_filename\u001b[0m\u001b[0;34m)\u001b[0m\u001b[0;34m\u001b[0m\u001b[0;34m\u001b[0m\u001b[0m\n\u001b[0m\u001b[1;32m      4\u001b[0m \u001b[0mpygame\u001b[0m\u001b[0;34m.\u001b[0m\u001b[0mmixer\u001b[0m\u001b[0;34m.\u001b[0m\u001b[0mmusic\u001b[0m\u001b[0;34m.\u001b[0m\u001b[0mplay\u001b[0m\u001b[0;34m(\u001b[0m\u001b[0;34m)\u001b[0m\u001b[0;34m\u001b[0m\u001b[0;34m\u001b[0m\u001b[0m\n",
      "\u001b[0;31merror\u001b[0m: mixer not initialized"
     ]
    }
   ],
   "source": [
    "modified_midi_filename = home_dir + \"/results/RNN_harmonization_early.mid\"\n",
    "pygame.init()\n",
    "pygame.mixer.music.load(modified_midi_filename)\n",
    "pygame.mixer.music.play()"
   ]
  },
  {
   "cell_type": "code",
   "execution_count": 51,
   "metadata": {
    "colab": {
     "base_uri": "https://localhost:8080/",
     "height": 164
    },
    "colab_type": "code",
    "collapsed": true,
    "executionInfo": {
     "elapsed": 683,
     "status": "error",
     "timestamp": 1558022706509,
     "user": {
      "displayName": "Nicolas Deperrois",
      "photoUrl": "https://lh5.googleusercontent.com/-Jfkdb6w84hk/AAAAAAAAAAI/AAAAAAAACRA/bqUAiv0shAM/s64/photo.jpg",
      "userId": "11633758183366338150"
     },
     "user_tz": -120
    },
    "id": "MpStKEvO-_I-",
    "outputId": "d6221f4c-3ea9-4601-ae2c-b185b22678e6"
   },
   "outputs": [
    {
     "ename": "error",
     "evalue": "ignored",
     "output_type": "error",
     "traceback": [
      "\u001b[0;31m---------------------------------------------------------------------------\u001b[0m",
      "\u001b[0;31merror\u001b[0m                                     Traceback (most recent call last)",
      "\u001b[0;32m<ipython-input-51-bb1c42b42b61>\u001b[0m in \u001b[0;36m<module>\u001b[0;34m()\u001b[0m\n\u001b[0;32m----> 1\u001b[0;31m \u001b[0mpygame\u001b[0m\u001b[0;34m.\u001b[0m\u001b[0mmixer\u001b[0m\u001b[0;34m.\u001b[0m\u001b[0mmusic\u001b[0m\u001b[0;34m.\u001b[0m\u001b[0mstop\u001b[0m\u001b[0;34m(\u001b[0m\u001b[0;34m)\u001b[0m\u001b[0;34m\u001b[0m\u001b[0;34m\u001b[0m\u001b[0m\n\u001b[0m",
      "\u001b[0;31merror\u001b[0m: mixer not initialized"
     ]
    }
   ],
   "source": [
    "pygame.mixer.music.stop()"
   ]
  },
  {
   "cell_type": "markdown",
   "metadata": {
    "colab_type": "text",
    "id": "IIELIKcL0WZJ"
   },
   "source": [
    "The obtained track sounds much better and start to harmonize the soprano voice correctly, especially by trying to match the soprano rhythm. However, it is not optimal as we cannot hear any coherent harmonies and cadences. \n",
    "Let's finally try on the highly-overfitting network. "
   ]
  },
  {
   "cell_type": "code",
   "execution_count": 0,
   "metadata": {
    "colab": {},
    "colab_type": "code",
    "id": "THf4XsJG1sso"
   },
   "outputs": [],
   "source": [
    "networks = [None, net_alto, net_tenor, net_bass]\n",
    "\n",
    "# Overfitting network test \n",
    "generated_tracks_overfit = [real_tracks[0]]\n",
    "for voice_togenerate in range(1,4):\n",
    "    generated_track = process_harmonization(midi_filename, networks, \n",
    "                                            global_lower, real_tracks, voice_togenerate, start_size)\n",
    "    generated_tracks_overfit.append(generated_track)\n",
    "multitrack_overfit = Multitrack(tracks=generated_tracks_overfit, \n",
    "                            tempo = 90, beat_resolution=beat_resolution)\n",
    "#write to midifile \n",
    "pypianoroll.write(multitrack_overfit, home_dir + \"/results/RNN_harmonization_overfit\")    "
   ]
  },
  {
   "cell_type": "code",
   "execution_count": 53,
   "metadata": {
    "colab": {
     "base_uri": "https://localhost:8080/",
     "height": 215
    },
    "colab_type": "code",
    "collapsed": true,
    "executionInfo": {
     "elapsed": 645,
     "status": "error",
     "timestamp": 1558022707894,
     "user": {
      "displayName": "Nicolas Deperrois",
      "photoUrl": "https://lh5.googleusercontent.com/-Jfkdb6w84hk/AAAAAAAAAAI/AAAAAAAACRA/bqUAiv0shAM/s64/photo.jpg",
      "userId": "11633758183366338150"
     },
     "user_tz": -120
    },
    "id": "IKikaQTb1xkW",
    "outputId": "3ce0aac1-f8c6-4166-ae62-48f52e3a1039"
   },
   "outputs": [
    {
     "ename": "error",
     "evalue": "ignored",
     "output_type": "error",
     "traceback": [
      "\u001b[0;31m---------------------------------------------------------------------------\u001b[0m",
      "\u001b[0;31merror\u001b[0m                                     Traceback (most recent call last)",
      "\u001b[0;32m<ipython-input-53-524bbf0e79fa>\u001b[0m in \u001b[0;36m<module>\u001b[0;34m()\u001b[0m\n\u001b[1;32m      1\u001b[0m \u001b[0mmodified_midi_filename\u001b[0m \u001b[0;34m=\u001b[0m \u001b[0mhome_dir\u001b[0m \u001b[0;34m+\u001b[0m \u001b[0;34m\"/results/RNN_harmonization_overfit.mid\"\u001b[0m\u001b[0;34m\u001b[0m\u001b[0;34m\u001b[0m\u001b[0m\n\u001b[1;32m      2\u001b[0m \u001b[0mpygame\u001b[0m\u001b[0;34m.\u001b[0m\u001b[0minit\u001b[0m\u001b[0;34m(\u001b[0m\u001b[0;34m)\u001b[0m\u001b[0;34m\u001b[0m\u001b[0;34m\u001b[0m\u001b[0m\n\u001b[0;32m----> 3\u001b[0;31m \u001b[0mpygame\u001b[0m\u001b[0;34m.\u001b[0m\u001b[0mmixer\u001b[0m\u001b[0;34m.\u001b[0m\u001b[0mmusic\u001b[0m\u001b[0;34m.\u001b[0m\u001b[0mload\u001b[0m\u001b[0;34m(\u001b[0m\u001b[0mmodified_midi_filename\u001b[0m\u001b[0;34m)\u001b[0m\u001b[0;34m\u001b[0m\u001b[0;34m\u001b[0m\u001b[0m\n\u001b[0m\u001b[1;32m      4\u001b[0m \u001b[0mpygame\u001b[0m\u001b[0;34m.\u001b[0m\u001b[0mmixer\u001b[0m\u001b[0;34m.\u001b[0m\u001b[0mmusic\u001b[0m\u001b[0;34m.\u001b[0m\u001b[0mplay\u001b[0m\u001b[0;34m(\u001b[0m\u001b[0;34m)\u001b[0m\u001b[0;34m\u001b[0m\u001b[0;34m\u001b[0m\u001b[0m\n",
      "\u001b[0;31merror\u001b[0m: mixer not initialized"
     ]
    }
   ],
   "source": [
    "modified_midi_filename = home_dir + \"/results/RNN_harmonization_overfit.mid\"\n",
    "pygame.init()\n",
    "pygame.mixer.music.load(modified_midi_filename)\n",
    "pygame.mixer.music.play()"
   ]
  },
  {
   "cell_type": "code",
   "execution_count": 54,
   "metadata": {
    "colab": {
     "base_uri": "https://localhost:8080/",
     "height": 164
    },
    "colab_type": "code",
    "collapsed": true,
    "executionInfo": {
     "elapsed": 842,
     "status": "error",
     "timestamp": 1558022709030,
     "user": {
      "displayName": "Nicolas Deperrois",
      "photoUrl": "https://lh5.googleusercontent.com/-Jfkdb6w84hk/AAAAAAAAAAI/AAAAAAAACRA/bqUAiv0shAM/s64/photo.jpg",
      "userId": "11633758183366338150"
     },
     "user_tz": -120
    },
    "id": "VGyboyUS1yd1",
    "outputId": "9c32f6e3-ce32-4128-b3a1-a720e21c72fe"
   },
   "outputs": [
    {
     "ename": "error",
     "evalue": "ignored",
     "output_type": "error",
     "traceback": [
      "\u001b[0;31m---------------------------------------------------------------------------\u001b[0m",
      "\u001b[0;31merror\u001b[0m                                     Traceback (most recent call last)",
      "\u001b[0;32m<ipython-input-54-bb1c42b42b61>\u001b[0m in \u001b[0;36m<module>\u001b[0;34m()\u001b[0m\n\u001b[0;32m----> 1\u001b[0;31m \u001b[0mpygame\u001b[0m\u001b[0;34m.\u001b[0m\u001b[0mmixer\u001b[0m\u001b[0;34m.\u001b[0m\u001b[0mmusic\u001b[0m\u001b[0;34m.\u001b[0m\u001b[0mstop\u001b[0m\u001b[0;34m(\u001b[0m\u001b[0;34m)\u001b[0m\u001b[0;34m\u001b[0m\u001b[0;34m\u001b[0m\u001b[0m\n\u001b[0m",
      "\u001b[0;31merror\u001b[0m: mixer not initialized"
     ]
    }
   ],
   "source": [
    "pygame.mixer.music.stop()"
   ]
  },
  {
   "cell_type": "markdown",
   "metadata": {
    "colab_type": "text",
    "id": "6QiGedvL0WZL"
   },
   "source": [
    "The overfitting networks sounds to generate voices that match much better with the soprano voice than the previous networks! Even if at the beginning, the voices are not really coherent, they start to catch some relevant melodies that vertically harmonize the soprano voice. \n",
    "We hypothesize that such surprising results might be specific to music generation. Bach Chorales are quite similar, especially when transcripted to C Major (or its relative A minor), and overfitting the training set can lead to optimal network features to generate 3 voices on a soprano voice which harmonization was never learned (validation set). Even if the validation error is huge compared to the early stopping case, it does not mean that the generated voices are wrong. The overfitted network generate complete different alto/tenor/bass melodies from the original ones, which might explain this huge validation error, but these melodies vertically compose different chords and cadences that can turn out to be really coherent! \n",
    "As an example, think of the original track ending up with an interrupted cadence, in a total different tonality than C Major (let's say, A Major), which has been seen less often that a perfect cadence (C Major) in the training set. The overfitting network will unless try to recover this perfect cadence as it learned to do by overfitting, and thus generate complete different melodies than the target ones, but vertically coherent with each other to produce such a perfect cadence! \n",
    "\n",
    "As an illustration of such a phenomenon, let's listen to original track (real alto/tenor/bass voices) and compare to the overfitted track at the same time steps. "
   ]
  },
  {
   "cell_type": "code",
   "execution_count": 0,
   "metadata": {
    "colab": {},
    "colab_type": "code",
    "id": "U2JVulkO13u_"
   },
   "outputs": [],
   "source": [
    "# Real track \n",
    "multitrack_real = Multitrack(tracks=real_tracks, tempo = 90, beat_resolution=beat_resolution)\n",
    "# write to midifile \n",
    "pypianoroll.write(multitrack_real, home_dir + \"/results/RNN_harmonization_real\")"
   ]
  },
  {
   "cell_type": "code",
   "execution_count": 0,
   "metadata": {
    "colab": {},
    "colab_type": "code",
    "id": "4nfMTCTl0WZM"
   },
   "outputs": [],
   "source": [
    "modified_midi_filename = home_dir + \"/results/RNN_harmonization_real.mid\"\n",
    "pygame.init()\n",
    "pygame.mixer.music.load(modified_midi_filename)\n",
    "pygame.mixer.music.play()"
   ]
  },
  {
   "cell_type": "code",
   "execution_count": 0,
   "metadata": {
    "colab": {},
    "colab_type": "code",
    "id": "4BJmwuNy0WZN"
   },
   "outputs": [],
   "source": [
    "pygame.mixer.music.stop()"
   ]
  }
 ],
 "metadata": {
  "accelerator": "GPU",
  "colab": {
   "collapsed_sections": [],
   "name": "train_RNN_pianorolls.ipynb",
   "provenance": [],
   "toc_visible": true,
   "version": "0.3.2"
  },
  "kernelspec": {
   "display_name": "Python 3",
   "language": "python",
   "name": "python3"
  },
  "language_info": {
   "codemirror_mode": {
    "name": "ipython",
    "version": 3
   },
   "file_extension": ".py",
   "mimetype": "text/x-python",
   "name": "python",
   "nbconvert_exporter": "python",
   "pygments_lexer": "ipython3",
   "version": "3.7.3"
  }
 },
 "nbformat": 4,
 "nbformat_minor": 1
}
