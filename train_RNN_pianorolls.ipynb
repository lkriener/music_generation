{
 "cells": [
  {
   "cell_type": "code",
   "execution_count": 6,
   "metadata": {
    "colab": {},
    "colab_type": "code",
    "id": "mEpS7y23emOr"
   },
   "outputs": [],
   "source": [
    "#rm -r *"
   ]
  },
  {
   "cell_type": "code",
   "execution_count": 7,
   "metadata": {
    "colab": {
     "base_uri": "https://localhost:8080/",
     "height": 204
    },
    "colab_type": "code",
    "executionInfo": {
     "elapsed": 4071,
     "status": "ok",
     "timestamp": 1557939333145,
     "user": {
      "displayName": "Nicolas Deperrois",
      "photoUrl": "https://lh5.googleusercontent.com/-Jfkdb6w84hk/AAAAAAAAAAI/AAAAAAAACRA/bqUAiv0shAM/s64/photo.jpg",
      "userId": "11633758183366338150"
     },
     "user_tz": -120
    },
    "id": "kfpjADwL4oUx",
    "outputId": "e6662495-59f6-4388-ebb9-e5ae2e5fcaed"
   },
   "outputs": [],
   "source": [
    "# Uncomment the line below and run this cell to get your data from github into colab (only runnable in colab, not ordinary jupyter notebook):\n",
    "#! git clone https://github.com/lkriener/music_generation.git && mv music_generation/* . && rm music_generation -r "
   ]
  },
  {
   "cell_type": "code",
   "execution_count": 8,
   "metadata": {
    "colab": {
     "base_uri": "https://localhost:8080/",
     "height": 229
    },
    "colab_type": "code",
    "executionInfo": {
     "elapsed": 6772,
     "status": "ok",
     "timestamp": 1557939336809,
     "user": {
      "displayName": "Nicolas Deperrois",
      "photoUrl": "https://lh5.googleusercontent.com/-Jfkdb6w84hk/AAAAAAAAAAI/AAAAAAAACRA/bqUAiv0shAM/s64/photo.jpg",
      "userId": "11633758183366338150"
     },
     "user_tz": -120
    },
    "id": "sLhyMMRj4tNz",
    "outputId": "26d19833-cd80-44b4-a089-ee962d20d623"
   },
   "outputs": [],
   "source": [
    "# Uncomment line to install requirements\n",
    "#! pip install -r colab_requirements.txt"
   ]
  },
  {
   "cell_type": "markdown",
   "metadata": {
    "colab_type": "text",
    "id": "EH9lnM84OBTV"
   },
   "source": [
    "# Music generation using note-to-note LSTMs \n",
    "In this part, we will try to generate melodies from the same dataset (Bach Chorals) using recurrent neural networks (RNN) with long short term memory units (LSTM) as in the tutorial 08 of the class, based on the two following blog posts:\n",
    "\n",
    "- http://karpathy.github.io/2015/05/21/rnn-effectiveness/\n",
    "- https://towardsdatascience.com/writing-like-shakespeare-with-machine-learning-in-pytorch-d77f851d910c\n",
    "\n",
    "The idea would be to extend the character-to-character LSTM network to midi files. We will also use another representation of the data, namely 'pianorolls', where a single melody is stored in a matrix with the x-axis for time and the y-axis for the pitch. This is one of the most frequent representations used, although it has some limitations. For instance, there is no way to differentiate between a long note (1 half-note) and 4 short-ones (4 eight-notes). However, it brings a considerable advantage compared to the previous used representations as it can store rhythm, depending on the chosen time-step. \n",
    "\n",
    "Moreover, each possible note is considered as a distinct element of a vocabulary. We will then use $N$ input nodes, where $N$ is the size of the vocabulary (i.e., the number of distinct notes, including silences). \n",
    "Thus, these pianorolls arrays will be converted into one-hot vectors containing the corresponding pitch (or silence, represented by 0) for each time step, and will be fed to the RNN network defined below. "
   ]
  },
  {
   "cell_type": "markdown",
   "metadata": {
    "colab_type": "text",
    "id": "HygKqpcn-_Ih"
   },
   "source": [
    "## Test of pypianoroll library\n",
    "We will first use the pypianoroll library - https://salu133445.github.io/pypianoroll/ - to convert a midi file into a multitrack object, get the soprano track, transpose it to C major, create a new multitrack object out of it, and finally write it to a new midi file. "
   ]
  },
  {
   "cell_type": "code",
   "execution_count": 1,
   "metadata": {
    "colab": {
     "base_uri": "https://localhost:8080/",
     "height": 68
    },
    "colab_type": "code",
    "executionInfo": {
     "elapsed": 1468,
     "status": "ok",
     "timestamp": 1557939343270,
     "user": {
      "displayName": "Nicolas Deperrois",
      "photoUrl": "https://lh5.googleusercontent.com/-Jfkdb6w84hk/AAAAAAAAAAI/AAAAAAAACRA/bqUAiv0shAM/s64/photo.jpg",
      "userId": "11633758183366338150"
     },
     "user_tz": -120
    },
    "id": "0DaVKNWw4lLr",
    "outputId": "739c39a5-87ac-4ce4-d0d8-4905cccecf37"
   },
   "outputs": [
    {
     "name": "stdout",
     "output_type": "stream",
     "text": [
      "pygame 1.9.6\n",
      "Hello from the pygame community. https://www.pygame.org/contribute.html\n",
      "Populating the interactive namespace from numpy and matplotlib\n"
     ]
    }
   ],
   "source": [
    "\n",
    "import pygame\n",
    "from pypianoroll import Multitrack, Track\n",
    "import pypianoroll\n",
    "import os\n",
    "import numpy as np\n",
    "import torch\n",
    "from torch import nn\n",
    "import torch.nn.functional as F\n",
    "%pylab inline"
   ]
  },
  {
   "cell_type": "code",
   "execution_count": 2,
   "metadata": {
    "colab": {
     "base_uri": "https://localhost:8080/",
     "height": 34
    },
    "colab_type": "code",
    "executionInfo": {
     "elapsed": 1249,
     "status": "ok",
     "timestamp": 1557939343271,
     "user": {
      "displayName": "Nicolas Deperrois",
      "photoUrl": "https://lh5.googleusercontent.com/-Jfkdb6w84hk/AAAAAAAAAAI/AAAAAAAACRA/bqUAiv0shAM/s64/photo.jpg",
      "userId": "11633758183366338150"
     },
     "user_tz": -120
    },
    "id": "Rlni0Wn20WYa",
    "outputId": "6e3136ab-2422-4326-d286-f1905c171cca"
   },
   "outputs": [
    {
     "name": "stdout",
     "output_type": "stream",
     "text": [
      "No GPU available, training on CPU; consider making n_epochs very small.\n"
     ]
    }
   ],
   "source": [
    "from src.RNN_utils import *"
   ]
  },
  {
   "cell_type": "code",
   "execution_count": 3,
   "metadata": {
    "colab": {},
    "colab_type": "code",
    "id": "IugBxMoP4lLy"
   },
   "outputs": [],
   "source": [
    "try:\n",
    "    home_dir\n",
    "except NameError:\n",
    "    home_dir = os.getcwd()\n",
    "\n",
    "os.chdir(home_dir + \"/data/raw/bach\")  # go to a folder relative to home dir"
   ]
  },
  {
   "cell_type": "code",
   "execution_count": 4,
   "metadata": {
    "colab": {},
    "colab_type": "code",
    "id": "BrAiT6ot4lL2"
   },
   "outputs": [],
   "source": [
    "from src.dataset_utils import TrackDataset, get_dataset_representation_from_tracks\n",
    "from torch.utils.data import DataLoader\n",
    "\n",
    "from sklearn.preprocessing import StandardScaler\n",
    "\n",
    "feature_scaler = StandardScaler()\n",
    "label_scaler = StandardScaler()\n",
    "\n",
    "# iterate over all midi files of folder\n",
    "import glob\n",
    "import os\n",
    "import numpy as np\n",
    "\n",
    "try:\n",
    "    home_dir\n",
    "except NameError:\n",
    "    home_dir = os.getcwd()\n",
    "    "
   ]
  },
  {
   "cell_type": "code",
   "execution_count": 5,
   "metadata": {
    "colab": {
     "base_uri": "https://localhost:8080/",
     "height": 68
    },
    "colab_type": "code",
    "executionInfo": {
     "elapsed": 6468,
     "status": "ok",
     "timestamp": 1557939353984,
     "user": {
      "displayName": "Nicolas Deperrois",
      "photoUrl": "https://lh5.googleusercontent.com/-Jfkdb6w84hk/AAAAAAAAAAI/AAAAAAAACRA/bqUAiv0shAM/s64/photo.jpg",
      "userId": "11633758183366338150"
     },
     "user_tz": -120
    },
    "id": "8EnWFvKA4lL7",
    "outputId": "e2ff4fd0-e3ce-46d5-acc6-f6c1513d423e"
   },
   "outputs": [
    {
     "name": "stderr",
     "output_type": "stream",
     "text": [
      "/Users/deperrois/Documents/BERN/ATML/myenv/lib/python3.7/site-packages/pretty_midi/pretty_midi.py:100: RuntimeWarning: Tempo, Key or Time signature change events found on non-zero tracks.  This is not a valid type 0 or type 1 MIDI file.  Tempo, Key or Time Signature may be wrong.\n",
      "  RuntimeWarning)\n"
     ]
    },
    {
     "name": "stdout",
     "output_type": "stream",
     "text": [
      "Global lower note : 57\n",
      "Global upper note : 83\n",
      "Number of notes : 28\n"
     ]
    }
   ],
   "source": [
    "# get lower and upper bounds \n",
    "voice = 0 \n",
    "all_pianorolls, midi_files = get_all_pianorolls(voice, home_dir, beat_resolution=4)\n",
    "global_lower, global_upper, n_notes = get_extremum_pitches([all_pianorolls])\n",
    "print('Global lower note : '+ str(global_lower))\n",
    "print('Global upper note : '+ str(global_upper))\n",
    "print('Number of notes : '+ str(n_notes))"
   ]
  },
  {
   "cell_type": "code",
   "execution_count": 6,
   "metadata": {
    "colab": {
     "base_uri": "https://localhost:8080/",
     "height": 119
    },
    "colab_type": "code",
    "executionInfo": {
     "elapsed": 4922,
     "status": "ok",
     "timestamp": 1557939353986,
     "user": {
      "displayName": "Nicolas Deperrois",
      "photoUrl": "https://lh5.googleusercontent.com/-Jfkdb6w84hk/AAAAAAAAAAI/AAAAAAAACRA/bqUAiv0shAM/s64/photo.jpg",
      "userId": "11633758183366338150"
     },
     "user_tz": -120
    },
    "id": "P3Tts_gs4lL9",
    "outputId": "a7507db6-33d5-4281-84ba-27e1dcb8b764"
   },
   "outputs": [
    {
     "name": "stdout",
     "output_type": "stream",
     "text": [
      "Pianoroll sequence of soprano :\n",
      "[ 0  0  0  0 70 70 70  0 70 70 70 70 68 68 68 68 66 66 66 66 65 65 65 65\n",
      " 65 65 65 65 63 63 63 63 63 63 63 63 70 70 70  0 70 70 70 70 72 72 72 72\n",
      " 74 74 74 74 75 75 75 75 75 75 75 75 74 74 74 74 74 74 74 74 75 75 75 75\n",
      " 78 78 78 78 77 77 77 77 77 77 75  0 75 75 75 75 75 75 75 75 75 75 75 75\n",
      " 75 75 75 75]\n"
     ]
    }
   ],
   "source": [
    "print(\"Pianoroll sequence of soprano :\")\n",
    "print(all_pianorolls[0:100])"
   ]
  },
  {
   "cell_type": "markdown",
   "metadata": {
    "colab_type": "text",
    "id": "rzfuMYvgZ6if"
   },
   "source": [
    "In order to minimize the size of one-hot encode vectors, we restrict the pitches to values next to 0, using the minimum pitch found in the dataset. "
   ]
  },
  {
   "cell_type": "code",
   "execution_count": 7,
   "metadata": {
    "colab": {
     "base_uri": "https://localhost:8080/",
     "height": 119
    },
    "colab_type": "code",
    "executionInfo": {
     "elapsed": 2635,
     "status": "ok",
     "timestamp": 1557939353986,
     "user": {
      "displayName": "Nicolas Deperrois",
      "photoUrl": "https://lh5.googleusercontent.com/-Jfkdb6w84hk/AAAAAAAAAAI/AAAAAAAACRA/bqUAiv0shAM/s64/photo.jpg",
      "userId": "11633758183366338150"
     },
     "user_tz": -120
    },
    "id": "ayfyARad4lL_",
    "outputId": "fe1b4ffa-5224-407f-92c3-871df08cab17"
   },
   "outputs": [
    {
     "name": "stdout",
     "output_type": "stream",
     "text": [
      "Pianoroll sequence of soprano scaled to 0:\n",
      "[ 0  0  0  0 14 14 14  0 14 14 14 14 12 12 12 12 10 10 10 10  9  9  9  9\n",
      "  9  9  9  9  7  7  7  7  7  7  7  7 14 14 14  0 14 14 14 14 16 16 16 16\n",
      " 18 18 18 18 19 19 19 19 19 19 19 19 18 18 18 18 18 18 18 18 19 19 19 19\n",
      " 22 22 22 22 21 21 21 21 21 21 19  0 19 19 19 19 19 19 19 19 19 19 19 19\n",
      " 19 19 19 19]\n"
     ]
    }
   ],
   "source": [
    "# scale pianoroll to 0 \n",
    "print(\"Pianoroll sequence of soprano scaled to 0:\")\n",
    "all_pianorolls_scaled = scale_pianoroll(all_pianorolls, global_lower)\n",
    "print(all_pianorolls_scaled[0:100])"
   ]
  },
  {
   "cell_type": "markdown",
   "metadata": {
    "colab_type": "text",
    "id": "42JsbRVtN7L-"
   },
   "source": [
    "## Generation of a single voice"
   ]
  },
  {
   "cell_type": "markdown",
   "metadata": {
    "colab_type": "text",
    "id": "7nbdxBCkXycc"
   },
   "source": [
    "As a first attempt to generate a melody using LSTMs with pianorolls, we will simply try to generate a single voice (soprano, alto, tenor or bass), training the network on the whole midi file dataset concatenated into a long sequence of notes all translated to the same tonality (here, C Major or its relative A minor). The later operation will particularly facilitate learning on such a small dataset as all melodies will be rescaled to the same tonality, thus preventing abrupt changes among melody batches. "
   ]
  },
  {
   "cell_type": "code",
   "execution_count": 8,
   "metadata": {
    "colab": {
     "base_uri": "https://localhost:8080/",
     "height": 34
    },
    "colab_type": "code",
    "executionInfo": {
     "elapsed": 408,
     "status": "ok",
     "timestamp": 1557939353987,
     "user": {
      "displayName": "Nicolas Deperrois",
      "photoUrl": "https://lh5.googleusercontent.com/-Jfkdb6w84hk/AAAAAAAAAAI/AAAAAAAACRA/bqUAiv0shAM/s64/photo.jpg",
      "userId": "11633758183366338150"
     },
     "user_tz": -120
    },
    "id": "b37NFyC-4lMB",
    "outputId": "791a27c4-e24e-4d9b-9f97-8b58ad6f6d73"
   },
   "outputs": [
    {
     "name": "stdout",
     "output_type": "stream",
     "text": [
      "No GPU available, training on CPU; consider making n_epochs very small.\n"
     ]
    }
   ],
   "source": [
    "# Check if GPU is available\n",
    "train_on_gpu = torch.cuda.is_available()\n",
    "if(train_on_gpu):\n",
    "    print('Training on GPU!')\n",
    "else: \n",
    "    print('No GPU available, training on CPU; consider making n_epochs very small.')"
   ]
  },
  {
   "cell_type": "markdown",
   "metadata": {
    "colab_type": "text",
    "id": "mrVryIjJ4lMC"
   },
   "source": [
    "### Define a LSTM network as for note-to-note melody generation\n",
    "We now build a network to implement note-to-note melody generation using LSTMs units as well as drop-out of the output. This network is highly inspired from the Tutorial 08 of the class, by replacing characters by notes. "
   ]
  },
  {
   "cell_type": "markdown",
   "metadata": {
    "colab_type": "text",
    "id": "GxUeYhz24lME"
   },
   "source": [
    "For training the model, we declare a function, where we define an optimizer (Adam) and loss (cross entropy). Then, training and validation data are separated and the hidden state of the RNN is initaliazed. Looping over the training melody batches, we use the functions `get_pianoroll_batches` and `one_hot_encode_batch` in order to build batches and feed them to the network input. This function is also adapted to harmonization that will be defined below. \n",
    "\n",
    "Every once a while, we generate some loss statistics (training loss and validation loss) to let us know if the model is training correctly."
   ]
  },
  {
   "cell_type": "code",
   "execution_count": 10,
   "metadata": {
    "colab": {
     "base_uri": "https://localhost:8080/",
     "height": 306
    },
    "colab_type": "code",
    "executionInfo": {
     "elapsed": 37319,
     "status": "ok",
     "timestamp": 1557939393270,
     "user": {
      "displayName": "Nicolas Deperrois",
      "photoUrl": "https://lh5.googleusercontent.com/-Jfkdb6w84hk/AAAAAAAAAAI/AAAAAAAACRA/bqUAiv0shAM/s64/photo.jpg",
      "userId": "11633758183366338150"
     },
     "user_tz": -120
    },
    "id": "_Gr3LZSO4lMF",
    "outputId": "f2667e3c-134e-4cb8-8434-3d4c2ac6aef8"
   },
   "outputs": [
    {
     "name": "stdout",
     "output_type": "stream",
     "text": [
      "NoteRNN(\n",
      "  (lstm): LSTM(28, 128, num_layers=3, batch_first=True, dropout=0.2)\n",
      "  (dropout): Dropout(p=0.2)\n",
      "  (fc): Linear(in_features=128, out_features=28, bias=True)\n",
      ")\n",
      "Epoch: 10/100... Loss: 1.2116... Val Loss: 1.1692\n",
      "Epoch: 20/100... Loss: 0.8740... Val Loss: 0.8569\n",
      "Epoch: 30/100... Loss: 0.6489... Val Loss: 0.8111\n",
      "No improvement for 5 epochs; storing val_loss and best_model...\n",
      "Epoch: 40/100... Loss: 0.5960... Val Loss: 0.8987\n",
      "Epoch: 50/100... Loss: 0.5637... Val Loss: 0.8939\n",
      "Epoch: 60/100... Loss: 0.5387... Val Loss: 0.8750\n",
      "Epoch: 70/100... Loss: 0.5162... Val Loss: 0.7881\n",
      "No improvement for 5 epochs; storing val_loss and best_model...\n",
      "Epoch: 80/100... Loss: 0.4931... Val Loss: 0.8409\n",
      "Epoch: 90/100... Loss: 0.4715... Val Loss: 0.8865\n",
      "Epoch: 100/100... Loss: 0.4469... Val Loss: 0.8984\n"
     ]
    }
   ],
   "source": [
    "# Define and print the net\n",
    "n_hidden=128\n",
    "n_layers=3\n",
    "\n",
    "net = NoteRNN(n_notes, n_hidden, n_layers)\n",
    "print(net)\n",
    "\n",
    "# Declaring the hyperparameters\n",
    "batch_size = 64\n",
    "seq_length = 50\n",
    "n_epochs = 100 # start smaller if you are just testing initial behavior\n",
    "\n",
    "# train the model\n",
    "train_losses, val_losses, best_net, best_epoch = train(net, all_pianorolls_scaled, \n",
    "                                             epochs=n_epochs, batch_size=batch_size, \n",
    "                                             seq_length=seq_length, lr=0.001)"
   ]
  },
  {
   "cell_type": "code",
   "execution_count": 11,
   "metadata": {
    "colab": {
     "base_uri": "https://localhost:8080/",
     "height": 283
    },
    "colab_type": "code",
    "executionInfo": {
     "elapsed": 884,
     "status": "ok",
     "timestamp": 1557939415113,
     "user": {
      "displayName": "Nicolas Deperrois",
      "photoUrl": "https://lh5.googleusercontent.com/-Jfkdb6w84hk/AAAAAAAAAAI/AAAAAAAACRA/bqUAiv0shAM/s64/photo.jpg",
      "userId": "11633758183366338150"
     },
     "user_tz": -120
    },
    "id": "V3VQnH-u0WYq",
    "outputId": "0400bcb8-2c29-470c-a259-9f2120176695"
   },
   "outputs": [
    {
     "data": {
      "image/png": "[encoded data removed]",
      "text/plain": [
       "<Figure size 432x288 with 1 Axes>"
      ]
     },
     "metadata": {
      "tags": []
     },
     "output_type": "display_data"
    }
   ],
   "source": [
    "fig = figure(figsize(6,4))\n",
    "ax = fig.add_subplot(1,1,1)\n",
    "display_losses(ax, train_losses, val_losses, best_epoch)"
   ]
  },
  {
   "cell_type": "markdown",
   "metadata": {
    "colab_type": "text",
    "id": "Un2-EJ8kyZyy"
   },
   "source": [
    "### Test of the network: generation of single voice \n",
    "We will now test the trained network to predict potential melodies starting from a short sequence of notes. Here again, the functions `predict` and `sample` are highly inspired from the Tutorial 8, and slightly modified towards pianorolls data processing. \n",
    "\n"
   ]
  },
  {
   "cell_type": "markdown",
   "metadata": {
    "colab_type": "text",
    "id": "om0ch5hlz7oC"
   },
   "source": [
    "The `NoteRNN` network outputs scaled pianorolls. We thus need to send back the obtained pitches to the associated voice range, using the function `unscale_pianoroll`. We then store the pianoroll to a track object, and to a multitrack object, which can directly be used to write a midi file. "
   ]
  },
  {
   "cell_type": "code",
   "execution_count": 0,
   "metadata": {
    "colab": {},
    "colab_type": "code",
    "id": "YL9P1z3F0WYs"
   },
   "outputs": [],
   "source": [
    "seq_size = 50\n",
    "start = 73 - global_lower # starting with a C "
   ]
  },
  {
   "cell_type": "markdown",
   "metadata": {
    "colab_type": "text",
    "id": "OPDpprJu0WYu"
   },
   "source": [
    "Let's first try melody generation with a random initial network (no training). "
   ]
  },
  {
   "cell_type": "code",
   "execution_count": 0,
   "metadata": {
    "colab": {},
    "colab_type": "code",
    "id": "HwTnzify0WYu"
   },
   "outputs": [],
   "source": [
    "random_net = NoteRNN(n_notes, n_hidden, n_layers)\n",
    "multitrack_random = process_single(random_net, start, seq_size, global_lower, beat_resolution=2)\n",
    "pypianoroll.write(multitrack_random, home_dir + \"/results/RNN_single_random\")"
   ]
  },
  {
   "cell_type": "code",
   "execution_count": 0,
   "metadata": {
    "colab": {},
    "colab_type": "code",
    "id": "n-06icmc4lMK"
   },
   "outputs": [],
   "source": [
    "modified_midi_filename = home_dir + \"/results/RNN_single_random.mid\"\n",
    "pygame.init()\n",
    "pygame.mixer.music.load(modified_midi_filename)\n",
    "pygame.mixer.music.play()"
   ]
  },
  {
   "cell_type": "code",
   "execution_count": 0,
   "metadata": {
    "colab": {},
    "colab_type": "code",
    "id": "MMWx1qQs4lML"
   },
   "outputs": [],
   "source": [
    "pygame.mixer.music.stop()"
   ]
  },
  {
   "cell_type": "markdown",
   "metadata": {
    "colab_type": "text",
    "id": "lgEXQBlY0WYw"
   },
   "source": [
    "As expected, it does not sound like a Bach melody, as it is totally out of key. \n",
    "Let's now try it with the early-stopped network."
   ]
  },
  {
   "cell_type": "code",
   "execution_count": 0,
   "metadata": {
    "colab": {},
    "colab_type": "code",
    "id": "dDlgi2OM4lMJ"
   },
   "outputs": [],
   "source": [
    "multitrack_early = process_single(best_net, start, seq_size, global_lower, beat_resolution=2)\n",
    "pypianoroll.write(multitrack_early, home_dir + \"/results/RNN_single_early\")"
   ]
  },
  {
   "cell_type": "code",
   "execution_count": 0,
   "metadata": {
    "colab": {},
    "colab_type": "code",
    "id": "MHHykyEm0WYx"
   },
   "outputs": [],
   "source": [
    "modified_midi_filename = home_dir + \"/results/RNN_single_early.mid\"\n",
    "pygame.init()\n",
    "pygame.mixer.music.load(modified_midi_filename)\n",
    "pygame.mixer.music.play()"
   ]
  },
  {
   "cell_type": "code",
   "execution_count": 0,
   "metadata": {
    "colab": {},
    "colab_type": "code",
    "id": "gyUA74Ro0WYy"
   },
   "outputs": [],
   "source": [
    "pygame.mixer.music.stop()"
   ]
  },
  {
   "cell_type": "markdown",
   "metadata": {
    "colab_type": "text",
    "id": "mXJ6q8CN0WYz"
   },
   "source": [
    "Finally, we try to generate Bach melody with the overfitting network. "
   ]
  },
  {
   "cell_type": "code",
   "execution_count": 0,
   "metadata": {
    "colab": {},
    "colab_type": "code",
    "id": "lmM0MPps0WYz"
   },
   "outputs": [],
   "source": [
    "multitrack_overfit = process_single(net, start, seq_size, global_lower, beat_resolution=2)\n",
    "pypianoroll.write(multitrack_overfit, home_dir + \"/results/RNN_single_overfit\")"
   ]
  },
  {
   "cell_type": "code",
   "execution_count": 0,
   "metadata": {
    "colab": {},
    "colab_type": "code",
    "id": "BMmPymUh0WY0"
   },
   "outputs": [],
   "source": [
    "modified_midi_filename = home_dir + \"/results/RNN_single_overfit.mid\"\n",
    "pygame.init()\n",
    "pygame.mixer.music.load(modified_midi_filename)\n",
    "pygame.mixer.music.play()"
   ]
  },
  {
   "cell_type": "code",
   "execution_count": 0,
   "metadata": {
    "colab": {},
    "colab_type": "code",
    "id": "SYHUXC0E0WY0"
   },
   "outputs": [],
   "source": [
    "pygame.mixer.music.stop()"
   ]
  },
  {
   "cell_type": "markdown",
   "metadata": {
    "colab_type": "text",
    "id": "jg1TrUcX0WY1"
   },
   "source": [
    "******* \n",
    "### Colab specific player "
   ]
  },
  {
   "cell_type": "code",
   "execution_count": 16,
   "metadata": {
    "colab": {
     "base_uri": "https://localhost:8080/",
     "height": 199
    },
    "colab_type": "code",
    "executionInfo": {
     "elapsed": 8401,
     "status": "ok",
     "timestamp": 1557939444567,
     "user": {
      "displayName": "Nicolas Deperrois",
      "photoUrl": "https://lh5.googleusercontent.com/-Jfkdb6w84hk/AAAAAAAAAAI/AAAAAAAACRA/bqUAiv0shAM/s64/photo.jpg",
      "userId": "11633758183366338150"
     },
     "user_tz": -120
    },
    "id": "a1zoH626TqKk",
    "outputId": "cb6253e1-ea08-4c8d-a527-a4439fc5f512"
   },
   "outputs": [
    {
     "name": "stdout",
     "output_type": "stream",
     "text": [
      "Reading package lists... Done\n",
      "Building dependency tree       \n",
      "Reading state information... Done\n",
      "fluidsynth is already the newest version (1.1.9-1).\n",
      "The following package was automatically installed and is no longer required:\n",
      "  libnvidia-common-410\n",
      "Use 'apt autoremove' to remove it.\n",
      "0 upgraded, 0 newly installed, 0 to remove and 16 not upgraded.\n",
      "Requirement already satisfied: midi2audio in /usr/local/lib/python3.6/dist-packages (0.1.1)\n"
     ]
    }
   ],
   "source": [
    "!apt install fluidsynth\n",
    "!cp /usr/share/sounds/sf2/FluidR3_GM.sf2 ./font.sf2\n",
    "!pip install midi2audio\n",
    "from midi2audio import FluidSynth\n",
    "from IPython.display import Audio\n",
    "\n"
   ]
  },
  {
   "cell_type": "code",
   "execution_count": 17,
   "metadata": {
    "colab": {
     "base_uri": "https://localhost:8080/",
     "height": 52,
     "output_embedded_package_id": "1FSOaCxrcfTICdm-ywzbEaWwnGltWIZZQ"
    },
    "colab_type": "code",
    "executionInfo": {
     "elapsed": 15634,
     "status": "ok",
     "timestamp": 1557939512954,
     "user": {
      "displayName": "Nicolas Deperrois",
      "photoUrl": "https://lh5.googleusercontent.com/-Jfkdb6w84hk/AAAAAAAAAAI/AAAAAAAACRA/bqUAiv0shAM/s64/photo.jpg",
      "userId": "11633758183366338150"
     },
     "user_tz": -120
    },
    "id": "t7_AvsYET_TX",
    "outputId": "b8e81759-6a23-4b61-db96-1c1f99f9cc28"
   },
   "outputs": [
    {
     "data": {
      "text/plain": [
       "Output hidden; open in https://colab.research.google.com to view."
      ]
     },
     "metadata": {},
     "output_type": "display_data"
    }
   ],
   "source": [
    "modified_midi_filename = home_dir + \"/results/RNN_single_random.mid\"\n",
    "FluidSynth(\"font.sf2\").midi_to_audio(modified_midi_filename, 'single_random.wav')\n",
    "Audio(\"single_random.wav\")"
   ]
  },
  {
   "cell_type": "code",
   "execution_count": 18,
   "metadata": {
    "colab": {
     "base_uri": "https://localhost:8080/",
     "height": 52,
     "output_embedded_package_id": "1wGaddPIFwQRHXQFqFRjHEVS5KtlO5q2E"
    },
    "colab_type": "code",
    "executionInfo": {
     "elapsed": 34218,
     "status": "ok",
     "timestamp": 1557939531717,
     "user": {
      "displayName": "Nicolas Deperrois",
      "photoUrl": "https://lh5.googleusercontent.com/-Jfkdb6w84hk/AAAAAAAAAAI/AAAAAAAACRA/bqUAiv0shAM/s64/photo.jpg",
      "userId": "11633758183366338150"
     },
     "user_tz": -120
    },
    "id": "P2eurltG0WY4",
    "outputId": "6e01e7d7-610f-4531-f941-78c1bf9f090d"
   },
   "outputs": [
    {
     "data": {
      "text/plain": [
       "Output hidden; open in https://colab.research.google.com to view."
      ]
     },
     "metadata": {},
     "output_type": "display_data"
    }
   ],
   "source": [
    "modified_midi_filename = home_dir + \"/results/RNN_single_early.mid\"\n",
    "FluidSynth(\"font.sf2\").midi_to_audio(modified_midi_filename, 'single_early.wav')\n",
    "Audio(\"single_early.wav\")"
   ]
  },
  {
   "cell_type": "code",
   "execution_count": 19,
   "metadata": {
    "colab": {
     "base_uri": "https://localhost:8080/",
     "height": 52,
     "output_embedded_package_id": "1B6WU4GVkYC_-aAYfuwTeotetQIKOiRso"
    },
    "colab_type": "code",
    "executionInfo": {
     "elapsed": 32562,
     "status": "ok",
     "timestamp": 1557939531718,
     "user": {
      "displayName": "Nicolas Deperrois",
      "photoUrl": "https://lh5.googleusercontent.com/-Jfkdb6w84hk/AAAAAAAAAAI/AAAAAAAACRA/bqUAiv0shAM/s64/photo.jpg",
      "userId": "11633758183366338150"
     },
     "user_tz": -120
    },
    "id": "VKm2iuAV0WY5",
    "outputId": "2c9d5879-2b81-4c8d-9a6c-3622a5b76e53"
   },
   "outputs": [
    {
     "data": {
      "text/plain": [
       "Output hidden; open in https://colab.research.google.com to view."
      ]
     },
     "metadata": {},
     "output_type": "display_data"
    }
   ],
   "source": [
    "modified_midi_filename = home_dir + \"/results/RNN_single_overfit.mid\"\n",
    "FluidSynth(\"font.sf2\").midi_to_audio(modified_midi_filename, 'single_overfit.wav')\n",
    "Audio(\"single_overfit.wav\")"
   ]
  },
  {
   "cell_type": "markdown",
   "metadata": {
    "colab_type": "text",
    "id": "vEo6s6GV-_I3"
   },
   "source": [
    "**********\n",
    "**********\n",
    "\n",
    "## Train for harmonization"
   ]
  },
  {
   "cell_type": "markdown",
   "metadata": {
    "colab_type": "text",
    "id": "qkoVhdWWEIsz"
   },
   "source": [
    "We observed above that it is possible to generate a coherent melody using a slightly modified version of the original character-to-character RNN. Here, we will investigate whether such a network can perform more complex task, such as harmonizing a given voice. For instance, from the soprano sequence, we would like to generate the associated alto voice. "
   ]
  },
  {
   "cell_type": "code",
   "execution_count": 0,
   "metadata": {
    "colab": {},
    "colab_type": "code",
    "id": "NQSTEDZrV70O"
   },
   "outputs": [],
   "source": [
    "beat_resolution = 2"
   ]
  },
  {
   "cell_type": "code",
   "execution_count": 0,
   "metadata": {
    "colab": {},
    "colab_type": "code",
    "id": "KK_JGdyb-_I4"
   },
   "outputs": [],
   "source": [
    "\n",
    "all_pianorolls_soprano,_ = get_all_pianorolls(0, home_dir, beat_resolution=beat_resolution)\n",
    "all_pianorolls_alto,_ = get_all_pianorolls(1, home_dir, beat_resolution=beat_resolution)\n",
    "all_pianorolls_tenor,_ = get_all_pianorolls(2, home_dir, beat_resolution=beat_resolution)\n",
    "all_pianorolls_bass,_ = get_all_pianorolls(3, home_dir, beat_resolution=beat_resolution)"
   ]
  },
  {
   "cell_type": "code",
   "execution_count": 22,
   "metadata": {
    "colab": {
     "base_uri": "https://localhost:8080/",
     "height": 68
    },
    "colab_type": "code",
    "executionInfo": {
     "elapsed": 22990,
     "status": "ok",
     "timestamp": 1557939601642,
     "user": {
      "displayName": "Nicolas Deperrois",
      "photoUrl": "https://lh5.googleusercontent.com/-Jfkdb6w84hk/AAAAAAAAAAI/AAAAAAAACRA/bqUAiv0shAM/s64/photo.jpg",
      "userId": "11633758183366338150"
     },
     "user_tz": -120
    },
    "id": "A1XAhpRy-_I4",
    "outputId": "4104a02b-9f5f-4267-9d40-6ed759e221f8"
   },
   "outputs": [
    {
     "name": "stdout",
     "output_type": "stream",
     "text": [
      "Global lower note : 35\n",
      "Global upper note : 83\n",
      "Number of notes : 50\n"
     ]
    }
   ],
   "source": [
    "list_pianorolls = [all_pianorolls_soprano, all_pianorolls_alto, all_pianorolls_tenor, all_pianorolls_bass]\n",
    "global_lower, global_upper, n_notes = get_extremum_pitches(list_pianorolls)\n",
    "\n",
    "\n",
    "print('Global lower note : '+ str(global_lower))\n",
    "print('Global upper note : '+ str(global_upper))\n",
    "print('Number of notes : '+ str(n_notes))"
   ]
  },
  {
   "cell_type": "markdown",
   "metadata": {
    "colab_type": "text",
    "id": "2wBxcVc3VCOn"
   },
   "source": [
    "We now rescale the pianorolls to values next to 0. "
   ]
  },
  {
   "cell_type": "code",
   "execution_count": 0,
   "metadata": {
    "colab": {},
    "colab_type": "code",
    "id": "SvlOqRm3-_I7"
   },
   "outputs": [],
   "source": [
    "# scale pianoroll to 0 \n",
    "all_pianorolls_soprano = scale_pianoroll(all_pianorolls_soprano, global_lower)\n",
    "all_pianorolls_alto = scale_pianoroll(all_pianorolls_alto, global_lower)\n",
    "all_pianorolls_tenor = scale_pianoroll(all_pianorolls_tenor, global_lower)\n",
    "all_pianorolls_bass = scale_pianoroll(all_pianorolls_bass, global_lower)\n"
   ]
  },
  {
   "cell_type": "markdown",
   "metadata": {
    "colab_type": "text",
    "id": "G5JMisjMIm2A"
   },
   "source": [
    "It is now time to train the network to perform harmonization. Setting the mode to `\"harmonization\"`, we will call the function `get_pianoroll_batches_harmonization` that generates one-hot vectors of both input and target melodies. "
   ]
  },
  {
   "cell_type": "code",
   "execution_count": 0,
   "metadata": {
    "colab": {},
    "colab_type": "code",
    "id": "bAWv5b1A-_I8"
   },
   "outputs": [],
   "source": [
    "# Define and print the net\n",
    "n_hidden=512\n",
    "n_layers=2\n",
    "\n",
    "net_alto = NoteRNN(n_notes, n_hidden, n_layers)\n",
    "net_tenor = NoteRNN(n_notes, n_hidden, n_layers)\n",
    "net_bass = NoteRNN(n_notes, n_hidden, n_layers)\n",
    "\n",
    "\n",
    "\n",
    "# Declaring the hyperparameters\n",
    "batch_size = 32\n",
    "seq_length = 100\n",
    "n_epochs = 200 # start smaller if you are just testing initial behavior"
   ]
  },
  {
   "cell_type": "code",
   "execution_count": 25,
   "metadata": {
    "colab": {
     "base_uri": "https://localhost:8080/",
     "height": 408
    },
    "colab_type": "code",
    "executionInfo": {
     "elapsed": 91590,
     "status": "ok",
     "timestamp": 1557939673438,
     "user": {
      "displayName": "Nicolas Deperrois",
      "photoUrl": "https://lh5.googleusercontent.com/-Jfkdb6w84hk/AAAAAAAAAAI/AAAAAAAACRA/bqUAiv0shAM/s64/photo.jpg",
      "userId": "11633758183366338150"
     },
     "user_tz": -120
    },
    "id": "DNGZEJoG01QR",
    "outputId": "4ce57c3c-d6b8-4711-f05d-fe0a3e770dc5"
   },
   "outputs": [
    {
     "name": "stdout",
     "output_type": "stream",
     "text": [
      "Epoch: 10/200... Loss: 2.5048... Val Loss: 2.5027\n",
      "Epoch: 20/200... Loss: 2.0161... Val Loss: 2.0895\n",
      "Epoch: 30/200... Loss: 1.7936... Val Loss: 1.9334\n",
      "Epoch: 40/200... Loss: 1.6710... Val Loss: 1.8601\n",
      "No improvement for 5 epochs; storing val_loss and best_model...\n",
      "Epoch: 50/200... Loss: 1.5466... Val Loss: 1.8371\n",
      "No improvement for 5 epochs; storing val_loss and best_model...\n",
      "Epoch: 60/200... Loss: 1.3873... Val Loss: 1.8459\n",
      "No improvement for 5 epochs; storing val_loss and best_model...\n",
      "Epoch: 70/200... Loss: 1.2186... Val Loss: 1.9282\n",
      "Epoch: 80/200... Loss: 0.9642... Val Loss: 2.0963\n",
      "Epoch: 90/200... Loss: 0.7395... Val Loss: 2.2558\n",
      "Epoch: 100/200... Loss: 0.5450... Val Loss: 2.4153\n",
      "Epoch: 110/200... Loss: 0.3389... Val Loss: 2.7492\n",
      "Epoch: 120/200... Loss: 0.2464... Val Loss: 2.9552\n",
      "Epoch: 130/200... Loss: 0.1910... Val Loss: 3.2169\n",
      "Epoch: 140/200... Loss: 0.0929... Val Loss: 3.3734\n",
      "Epoch: 150/200... Loss: 0.0664... Val Loss: 3.6077\n",
      "Epoch: 160/200... Loss: 0.0996... Val Loss: 3.5401\n",
      "Epoch: 170/200... Loss: 0.0381... Val Loss: 3.7994\n",
      "Epoch: 180/200... Loss: 0.0313... Val Loss: 3.9717\n",
      "Epoch: 190/200... Loss: 0.0559... Val Loss: 4.0647\n",
      "Epoch: 200/200... Loss: 0.0622... Val Loss: 4.0490\n"
     ]
    }
   ],
   "source": [
    "# train the model\n",
    "train_losses_alto, val_losses_alto, best_net_alto, best_epoch_alto = train(net_alto, data=all_pianorolls_soprano, \n",
    "                                                       data2 = all_pianorolls_alto, mode=\"harmonization\",\n",
    "                                                       epochs=n_epochs, batch_size=batch_size,\n",
    "                                                       seq_length=seq_length, lr=0.001)\n",
    "\n"
   ]
  },
  {
   "cell_type": "code",
   "execution_count": 26,
   "metadata": {
    "colab": {
     "base_uri": "https://localhost:8080/",
     "height": 374
    },
    "colab_type": "code",
    "executionInfo": {
     "elapsed": 165831,
     "status": "ok",
     "timestamp": 1557939748059,
     "user": {
      "displayName": "Nicolas Deperrois",
      "photoUrl": "https://lh5.googleusercontent.com/-Jfkdb6w84hk/AAAAAAAAAAI/AAAAAAAACRA/bqUAiv0shAM/s64/photo.jpg",
      "userId": "11633758183366338150"
     },
     "user_tz": -120
    },
    "id": "ZkYgqAfIeBJb",
    "outputId": "75e1e9ed-c773-4105-d330-158ff1af3145"
   },
   "outputs": [
    {
     "name": "stdout",
     "output_type": "stream",
     "text": [
      "Epoch: 10/200... Loss: 2.4853... Val Loss: 2.4582\n",
      "Epoch: 20/200... Loss: 2.0745... Val Loss: 2.0842\n",
      "Epoch: 30/200... Loss: 1.8164... Val Loss: 1.9478\n",
      "No improvement for 5 epochs; storing val_loss and best_model...\n",
      "Epoch: 40/200... Loss: 1.6587... Val Loss: 1.9296\n",
      "Epoch: 50/200... Loss: 1.4332... Val Loss: 1.9948\n",
      "Epoch: 60/200... Loss: 1.1630... Val Loss: 2.1088\n",
      "Epoch: 70/200... Loss: 0.8262... Val Loss: 2.3843\n",
      "Epoch: 80/200... Loss: 0.5616... Val Loss: 2.7166\n",
      "Epoch: 90/200... Loss: 0.4291... Val Loss: 2.9401\n",
      "Epoch: 100/200... Loss: 0.2435... Val Loss: 3.3092\n",
      "Epoch: 110/200... Loss: 0.1377... Val Loss: 3.6585\n",
      "Epoch: 120/200... Loss: 0.1084... Val Loss: 3.9268\n",
      "Epoch: 130/200... Loss: 0.1146... Val Loss: 4.0366\n",
      "Epoch: 140/200... Loss: 0.1207... Val Loss: 4.0011\n",
      "Epoch: 150/200... Loss: 0.0472... Val Loss: 4.3624\n",
      "Epoch: 160/200... Loss: 0.0351... Val Loss: 4.5388\n",
      "Epoch: 170/200... Loss: 0.0575... Val Loss: 4.5956\n",
      "Epoch: 180/200... Loss: 0.0688... Val Loss: 4.6914\n",
      "Epoch: 190/200... Loss: 0.0946... Val Loss: 4.2541\n",
      "Epoch: 200/200... Loss: 0.0239... Val Loss: 4.7415\n"
     ]
    }
   ],
   "source": [
    "# train the model\n",
    "train_losses_tenor, val_losses_tenor, best_net_tenor, best_epoch_tenor = train(net_tenor, data=all_pianorolls_soprano, \n",
    "                                                       data2 = all_pianorolls_tenor, mode=\"harmonization\",\n",
    "                                                       epochs=n_epochs, batch_size=batch_size,\n",
    "                                                       seq_length=seq_length, lr=0.001)"
   ]
  },
  {
   "cell_type": "code",
   "execution_count": 27,
   "metadata": {
    "colab": {
     "base_uri": "https://localhost:8080/",
     "height": 374
    },
    "colab_type": "code",
    "executionInfo": {
     "elapsed": 241281,
     "status": "ok",
     "timestamp": 1557939824379,
     "user": {
      "displayName": "Nicolas Deperrois",
      "photoUrl": "https://lh5.googleusercontent.com/-Jfkdb6w84hk/AAAAAAAAAAI/AAAAAAAACRA/bqUAiv0shAM/s64/photo.jpg",
      "userId": "11633758183366338150"
     },
     "user_tz": -120
    },
    "id": "SoQKIHoPeJDU",
    "outputId": "3afb9d4e-d41b-41f7-e625-e1a462c3fe76"
   },
   "outputs": [
    {
     "name": "stdout",
     "output_type": "stream",
     "text": [
      "Epoch: 10/200... Loss: 2.7599... Val Loss: 2.8274\n",
      "Epoch: 20/200... Loss: 2.5178... Val Loss: 2.5590\n",
      "Epoch: 30/200... Loss: 2.1431... Val Loss: 2.2434\n",
      "Epoch: 40/200... Loss: 1.9073... Val Loss: 2.1075\n",
      "Epoch: 50/200... Loss: 1.6104... Val Loss: 2.1407\n",
      "No improvement for 5 epochs; storing val_loss and best_model...\n",
      "Epoch: 60/200... Loss: 1.2369... Val Loss: 2.2365\n",
      "Epoch: 70/200... Loss: 0.9117... Val Loss: 2.3979\n",
      "Epoch: 80/200... Loss: 0.6142... Val Loss: 2.6906\n",
      "Epoch: 90/200... Loss: 0.3626... Val Loss: 2.9884\n",
      "Epoch: 100/200... Loss: 0.2686... Val Loss: 3.2228\n",
      "Epoch: 110/200... Loss: 0.2233... Val Loss: 3.4859\n",
      "Epoch: 120/200... Loss: 0.1331... Val Loss: 3.6704\n",
      "Epoch: 130/200... Loss: 0.1102... Val Loss: 3.8604\n",
      "Epoch: 140/200... Loss: 0.0670... Val Loss: 3.9899\n",
      "Epoch: 150/200... Loss: 0.0531... Val Loss: 4.1239\n",
      "Epoch: 160/200... Loss: 0.1586... Val Loss: 4.0998\n",
      "Epoch: 170/200... Loss: 0.0805... Val Loss: 3.9605\n",
      "Epoch: 180/200... Loss: 0.0381... Val Loss: 4.2956\n",
      "Epoch: 190/200... Loss: 0.0274... Val Loss: 4.4362\n",
      "Epoch: 200/200... Loss: 0.0601... Val Loss: 4.3868\n"
     ]
    }
   ],
   "source": [
    "# train the model\n",
    "train_losses_bass, val_losses_bass, best_net_bass, best_epoch_bass = train(net_bass, data=all_pianorolls_soprano, \n",
    "                                                       data2 = all_pianorolls_bass, mode=\"harmonization\",\n",
    "                                                       epochs=n_epochs, batch_size=batch_size,\n",
    "                                                       seq_length=seq_length, lr=0.001)"
   ]
  },
  {
   "cell_type": "markdown",
   "metadata": {
    "colab_type": "text",
    "id": "WKhUg6Az0WZC"
   },
   "source": [
    "### Losses evolution with training and overfitting \n",
    "Now that our 3 networks are trained, we will inspect how the losses evolve with harmonization for each of the generated voices. "
   ]
  },
  {
   "cell_type": "code",
   "execution_count": 28,
   "metadata": {
    "colab": {
     "base_uri": "https://localhost:8080/",
     "height": 446
    },
    "colab_type": "code",
    "executionInfo": {
     "elapsed": 1566,
     "status": "ok",
     "timestamp": 1557939837299,
     "user": {
      "displayName": "Nicolas Deperrois",
      "photoUrl": "https://lh5.googleusercontent.com/-Jfkdb6w84hk/AAAAAAAAAAI/AAAAAAAACRA/bqUAiv0shAM/s64/photo.jpg",
      "userId": "11633758183366338150"
     },
     "user_tz": -120
    },
    "id": "562Tt2rR-_I_",
    "outputId": "3729e2cb-4cd2-433f-8360-b6bb5dff2297"
   },
   "outputs": [
    {
     "data": {
      "image/png": "[encoded data removed]",
      "text/plain": [
       "<Figure size 720x504 with 3 Axes>"
      ]
     },
     "metadata": {
      "tags": []
     },
     "output_type": "display_data"
    }
   ],
   "source": [
    "fig = figure(figsize(10,7))\n",
    "ax1 = fig.add_subplot(2,2,1)\n",
    "display_losses(ax1, train_losses_alto, val_losses_alto, best_epoch_alto)\n",
    "ax2 = fig.add_subplot(2,2,2)\n",
    "display_losses(ax2, train_losses_tenor, val_losses_tenor, best_epoch_tenor)\n",
    "ax3 = fig.add_subplot(2,2,3)\n",
    "display_losses(ax3, train_losses_bass, val_losses_bass, best_epoch_bass)"
   ]
  },
  {
   "cell_type": "markdown",
   "metadata": {
    "colab_type": "text",
    "id": "5T0Atqkv0WZD"
   },
   "source": [
    "### Test of harmonization from a soprano track"
   ]
  },
  {
   "cell_type": "markdown",
   "metadata": {
    "colab_type": "text",
    "id": "aEUEJWsM0WZD"
   },
   "source": [
    "It is now time to test the quality of the RNNs trained to harmonize a soprano voice by generating separately alto, tenor and bass voices. We will test it on one given bach midi file in the browser. "
   ]
  },
  {
   "cell_type": "code",
   "execution_count": 61,
   "metadata": {
    "colab": {
     "base_uri": "https://localhost:8080/",
     "height": 34
    },
    "colab_type": "code",
    "executionInfo": {
     "elapsed": 772,
     "status": "ok",
     "timestamp": 1557942310653,
     "user": {
      "displayName": "Nicolas Deperrois",
      "photoUrl": "https://lh5.googleusercontent.com/-Jfkdb6w84hk/AAAAAAAAAAI/AAAAAAAACRA/bqUAiv0shAM/s64/photo.jpg",
      "userId": "11633758183366338150"
     },
     "user_tz": -120
    },
    "id": "aZW3uAKC4lMM",
    "outputId": "fc576685-15ba-4bec-ad51-180df65aa238"
   },
   "outputs": [
    {
     "name": "stdout",
     "output_type": "stream",
     "text": [
      "Let's generate alto, tenor and bass from bwv278.mid soprano\n"
     ]
    }
   ],
   "source": [
    " # Generating harmonization\n",
    "\n",
    "os.chdir(home_dir + \"/data/raw/bach\")  # go to a folder relative to home dir\n",
    "# get one voice from the dataset \n",
    "#midi_filename = 'bwv368.mid'\n",
    "midi_filename = midi_files[-5]\n",
    "print(\"Let's generate alto, tenor and bass from \"+ midi_filename + \" soprano\")\n",
    "#midi_filename = 'pkgsc_azalea.mid'\n",
    "\n",
    "real_tracks = []\n",
    "for voice in range(4):\n",
    "    track = get_track(midi_filename, voice, beat_resolution=beat_resolution, transpose=True)\n",
    "    real_tracks.append(track)"
   ]
  },
  {
   "cell_type": "markdown",
   "metadata": {
    "colab_type": "text",
    "id": "OeynY3et0WZE"
   },
   "source": [
    "Let's first generate harmonization with a ramdom initial network, without training. "
   ]
  },
  {
   "cell_type": "code",
   "execution_count": 0,
   "metadata": {
    "colab": {},
    "colab_type": "code",
    "id": "H7Iq2xZz0WZE"
   },
   "outputs": [],
   "source": [
    "random_net_alto = NoteRNN(n_notes, n_hidden, n_layers)\n",
    "random_net_tenor = NoteRNN(n_notes, n_hidden, n_layers)\n",
    "random_net_bass = NoteRNN(n_notes, n_hidden, n_layers)\n",
    "\n",
    "random_networks = [None, random_net_alto, random_net_tenor, random_net_bass]\n",
    "generated_tracks_random = [real_tracks[0]]\n",
    "for voice_togenerate in range(1,4):\n",
    "    generated_track = process_harmonization(midi_filename, random_networks, \n",
    "                                            global_lower, real_tracks, voice_togenerate)\n",
    "    generated_tracks_random.append(generated_track)\n",
    "    \n",
    "multitrack_random = Multitrack(tracks=generated_tracks_random, \n",
    "                            tempo = 90, beat_resolution=beat_resolution)\n",
    "#write to midifile \n",
    "pypianoroll.write(multitrack_random, home_dir + \"/results/RNN_harmonization_random\")"
   ]
  },
  {
   "cell_type": "code",
   "execution_count": 63,
   "metadata": {
    "colab": {
     "base_uri": "https://localhost:8080/",
     "height": 215
    },
    "colab_type": "code",
    "executionInfo": {
     "elapsed": 711,
     "status": "error",
     "timestamp": 1557942312736,
     "user": {
      "displayName": "Nicolas Deperrois",
      "photoUrl": "https://lh5.googleusercontent.com/-Jfkdb6w84hk/AAAAAAAAAAI/AAAAAAAACRA/bqUAiv0shAM/s64/photo.jpg",
      "userId": "11633758183366338150"
     },
     "user_tz": -120
    },
    "id": "Zb5g4C8E0WZE",
    "outputId": "08eeb4d4-dc4d-46ca-a528-0887acc78605"
   },
   "outputs": [
    {
     "ename": "error",
     "evalue": "ignored",
     "output_type": "error",
     "traceback": [
      "\u001b[0;31m---------------------------------------------------------------------------\u001b[0m",
      "\u001b[0;31merror\u001b[0m                                     Traceback (most recent call last)",
      "\u001b[0;32m<ipython-input-63-dce22aa8e722>\u001b[0m in \u001b[0;36m<module>\u001b[0;34m()\u001b[0m\n\u001b[1;32m      1\u001b[0m \u001b[0mmodified_midi_filename\u001b[0m \u001b[0;34m=\u001b[0m \u001b[0mhome_dir\u001b[0m \u001b[0;34m+\u001b[0m \u001b[0;34m\"/results/RNN_harmonization_random.mid\"\u001b[0m\u001b[0;34m\u001b[0m\u001b[0;34m\u001b[0m\u001b[0m\n\u001b[1;32m      2\u001b[0m \u001b[0mpygame\u001b[0m\u001b[0;34m.\u001b[0m\u001b[0minit\u001b[0m\u001b[0;34m(\u001b[0m\u001b[0;34m)\u001b[0m\u001b[0;34m\u001b[0m\u001b[0;34m\u001b[0m\u001b[0m\n\u001b[0;32m----> 3\u001b[0;31m \u001b[0mpygame\u001b[0m\u001b[0;34m.\u001b[0m\u001b[0mmixer\u001b[0m\u001b[0;34m.\u001b[0m\u001b[0mmusic\u001b[0m\u001b[0;34m.\u001b[0m\u001b[0mload\u001b[0m\u001b[0;34m(\u001b[0m\u001b[0mmodified_midi_filename\u001b[0m\u001b[0;34m)\u001b[0m\u001b[0;34m\u001b[0m\u001b[0;34m\u001b[0m\u001b[0m\n\u001b[0m\u001b[1;32m      4\u001b[0m \u001b[0mpygame\u001b[0m\u001b[0;34m.\u001b[0m\u001b[0mmixer\u001b[0m\u001b[0;34m.\u001b[0m\u001b[0mmusic\u001b[0m\u001b[0;34m.\u001b[0m\u001b[0mplay\u001b[0m\u001b[0;34m(\u001b[0m\u001b[0;34m)\u001b[0m\u001b[0;34m\u001b[0m\u001b[0;34m\u001b[0m\u001b[0m\n",
      "\u001b[0;31merror\u001b[0m: mixer not initialized"
     ]
    }
   ],
   "source": [
    "modified_midi_filename = home_dir + \"/results/RNN_harmonization_random.mid\"\n",
    "pygame.init()\n",
    "pygame.mixer.music.load(modified_midi_filename)\n",
    "pygame.mixer.music.play()"
   ]
  },
  {
   "cell_type": "code",
   "execution_count": 0,
   "metadata": {
    "colab": {},
    "colab_type": "code",
    "id": "4HreAEqx0WZF"
   },
   "outputs": [],
   "source": [
    "pygame.mixer.music.stop()"
   ]
  },
  {
   "cell_type": "markdown",
   "metadata": {
    "colab_type": "text",
    "id": "y0vYevae0WZG"
   },
   "source": [
    "As expected, the harmonization is totally random, thus all voices are not following the soprano melody and generate random melodies independently. d\n",
    "Let's now test the quality of harmonization for the non-overfitting early-stopped networks.  "
   ]
  },
  {
   "cell_type": "code",
   "execution_count": 0,
   "metadata": {
    "colab": {},
    "colab_type": "code",
    "id": "4_jAMCjV1hJI"
   },
   "outputs": [],
   "source": [
    "best_networks = [None, best_net_alto, best_net_tenor, best_net_bass]\n",
    "\n",
    "# Early stopped network test \n",
    "generated_tracks_early = [real_tracks[0]]\n",
    "for voice_togenerate in range(1,4):\n",
    "    generated_track = process_harmonization(midi_filename, best_networks, \n",
    "                                            global_lower, real_tracks, voice_togenerate)\n",
    "    generated_tracks_early.append(generated_track)\n",
    "    \n",
    "multitrack_early = Multitrack(tracks=generated_tracks_early, \n",
    "                            tempo = 90, beat_resolution=beat_resolution)\n",
    "#write to midifile \n",
    "pypianoroll.write(multitrack_early, home_dir + \"/results/RNN_harmonization_early\")"
   ]
  },
  {
   "cell_type": "code",
   "execution_count": 50,
   "metadata": {
    "colab": {
     "base_uri": "https://localhost:8080/",
     "height": 215
    },
    "colab_type": "code",
    "collapsed": true,
    "executionInfo": {
     "elapsed": 916,
     "status": "error",
     "timestamp": 1557940214371,
     "user": {
      "displayName": "Nicolas Deperrois",
      "photoUrl": "https://lh5.googleusercontent.com/-Jfkdb6w84hk/AAAAAAAAAAI/AAAAAAAACRA/bqUAiv0shAM/s64/photo.jpg",
      "userId": "11633758183366338150"
     },
     "user_tz": -120
    },
    "id": "D9c_NQ5q-_I-",
    "outputId": "e18bfada-9751-4021-a81d-683b85a3354c"
   },
   "outputs": [
    {
     "ename": "error",
     "evalue": "ignored",
     "output_type": "error",
     "traceback": [
      "\u001b[0;31m---------------------------------------------------------------------------\u001b[0m",
      "\u001b[0;31merror\u001b[0m                                     Traceback (most recent call last)",
      "\u001b[0;32m<ipython-input-50-a34ee2561fcf>\u001b[0m in \u001b[0;36m<module>\u001b[0;34m()\u001b[0m\n\u001b[1;32m      1\u001b[0m \u001b[0mmodified_midi_filename\u001b[0m \u001b[0;34m=\u001b[0m \u001b[0mhome_dir\u001b[0m \u001b[0;34m+\u001b[0m \u001b[0;34m\"/results/RNN_harmonization_early.mid\"\u001b[0m\u001b[0;34m\u001b[0m\u001b[0;34m\u001b[0m\u001b[0m\n\u001b[1;32m      2\u001b[0m \u001b[0mpygame\u001b[0m\u001b[0;34m.\u001b[0m\u001b[0minit\u001b[0m\u001b[0;34m(\u001b[0m\u001b[0;34m)\u001b[0m\u001b[0;34m\u001b[0m\u001b[0;34m\u001b[0m\u001b[0m\n\u001b[0;32m----> 3\u001b[0;31m \u001b[0mpygame\u001b[0m\u001b[0;34m.\u001b[0m\u001b[0mmixer\u001b[0m\u001b[0;34m.\u001b[0m\u001b[0mmusic\u001b[0m\u001b[0;34m.\u001b[0m\u001b[0mload\u001b[0m\u001b[0;34m(\u001b[0m\u001b[0mmodified_midi_filename\u001b[0m\u001b[0;34m)\u001b[0m\u001b[0;34m\u001b[0m\u001b[0;34m\u001b[0m\u001b[0m\n\u001b[0m\u001b[1;32m      4\u001b[0m \u001b[0mpygame\u001b[0m\u001b[0;34m.\u001b[0m\u001b[0mmixer\u001b[0m\u001b[0;34m.\u001b[0m\u001b[0mmusic\u001b[0m\u001b[0;34m.\u001b[0m\u001b[0mplay\u001b[0m\u001b[0;34m(\u001b[0m\u001b[0;34m)\u001b[0m\u001b[0;34m\u001b[0m\u001b[0;34m\u001b[0m\u001b[0m\n",
      "\u001b[0;31merror\u001b[0m: mixer not initialized"
     ]
    }
   ],
   "source": [
    "modified_midi_filename = home_dir + \"/results/RNN_harmonization_early.mid\"\n",
    "pygame.init()\n",
    "pygame.mixer.music.load(modified_midi_filename)\n",
    "pygame.mixer.music.play()"
   ]
  },
  {
   "cell_type": "code",
   "execution_count": 51,
   "metadata": {
    "colab": {
     "base_uri": "https://localhost:8080/",
     "height": 164
    },
    "colab_type": "code",
    "collapsed": true,
    "executionInfo": {
     "elapsed": 672,
     "status": "error",
     "timestamp": 1557940214371,
     "user": {
      "displayName": "Nicolas Deperrois",
      "photoUrl": "https://lh5.googleusercontent.com/-Jfkdb6w84hk/AAAAAAAAAAI/AAAAAAAACRA/bqUAiv0shAM/s64/photo.jpg",
      "userId": "11633758183366338150"
     },
     "user_tz": -120
    },
    "id": "MpStKEvO-_I-",
    "outputId": "b87cbb2b-e3fd-4432-f4df-eb2b9fc2b618"
   },
   "outputs": [
    {
     "ename": "error",
     "evalue": "ignored",
     "output_type": "error",
     "traceback": [
      "\u001b[0;31m---------------------------------------------------------------------------\u001b[0m",
      "\u001b[0;31merror\u001b[0m                                     Traceback (most recent call last)",
      "\u001b[0;32m<ipython-input-51-bb1c42b42b61>\u001b[0m in \u001b[0;36m<module>\u001b[0;34m()\u001b[0m\n\u001b[0;32m----> 1\u001b[0;31m \u001b[0mpygame\u001b[0m\u001b[0;34m.\u001b[0m\u001b[0mmixer\u001b[0m\u001b[0;34m.\u001b[0m\u001b[0mmusic\u001b[0m\u001b[0;34m.\u001b[0m\u001b[0mstop\u001b[0m\u001b[0;34m(\u001b[0m\u001b[0;34m)\u001b[0m\u001b[0;34m\u001b[0m\u001b[0;34m\u001b[0m\u001b[0m\n\u001b[0m",
      "\u001b[0;31merror\u001b[0m: mixer not initialized"
     ]
    }
   ],
   "source": [
    "pygame.mixer.music.stop()"
   ]
  },
  {
   "cell_type": "markdown",
   "metadata": {
    "colab_type": "text",
    "id": "IIELIKcL0WZJ"
   },
   "source": [
    "The obtained track sounds much better and start to harmonize the soprano voice correctly, especially by trying to match the soprano rhythm. However, it is not optimal as we cannot hear any coherent harmonies and cadences. \n",
    "Let's finally try on the highly-overfitting network. "
   ]
  },
  {
   "cell_type": "code",
   "execution_count": 0,
   "metadata": {
    "colab": {},
    "colab_type": "code",
    "id": "THf4XsJG1sso"
   },
   "outputs": [],
   "source": [
    "networks = [None, net_alto, net_tenor, net_bass]\n",
    "\n",
    "# Overfitting network test \n",
    "generated_tracks_overfit = [real_tracks[0]]\n",
    "for voice_togenerate in range(1,4):\n",
    "    generated_track = process_harmonization(midi_filename, networks, \n",
    "                                            global_lower, real_tracks, voice_togenerate)\n",
    "    generated_tracks_overfit.append(generated_track)\n",
    "multitrack_overfit = Multitrack(tracks=generated_tracks_overfit, \n",
    "                            tempo = 90, beat_resolution=beat_resolution)\n",
    "#write to midifile \n",
    "pypianoroll.write(multitrack_overfit, home_dir + \"/results/RNN_harmonization_overfit\")    "
   ]
  },
  {
   "cell_type": "code",
   "execution_count": 53,
   "metadata": {
    "colab": {
     "base_uri": "https://localhost:8080/",
     "height": 215
    },
    "colab_type": "code",
    "collapsed": true,
    "executionInfo": {
     "elapsed": 2078,
     "status": "error",
     "timestamp": 1557940216415,
     "user": {
      "displayName": "Nicolas Deperrois",
      "photoUrl": "https://lh5.googleusercontent.com/-Jfkdb6w84hk/AAAAAAAAAAI/AAAAAAAACRA/bqUAiv0shAM/s64/photo.jpg",
      "userId": "11633758183366338150"
     },
     "user_tz": -120
    },
    "id": "IKikaQTb1xkW",
    "outputId": "10413363-058e-488e-ded8-5c16b2b09df3"
   },
   "outputs": [
    {
     "ename": "error",
     "evalue": "ignored",
     "output_type": "error",
     "traceback": [
      "\u001b[0;31m---------------------------------------------------------------------------\u001b[0m",
      "\u001b[0;31merror\u001b[0m                                     Traceback (most recent call last)",
      "\u001b[0;32m<ipython-input-53-524bbf0e79fa>\u001b[0m in \u001b[0;36m<module>\u001b[0;34m()\u001b[0m\n\u001b[1;32m      1\u001b[0m \u001b[0mmodified_midi_filename\u001b[0m \u001b[0;34m=\u001b[0m \u001b[0mhome_dir\u001b[0m \u001b[0;34m+\u001b[0m \u001b[0;34m\"/results/RNN_harmonization_overfit.mid\"\u001b[0m\u001b[0;34m\u001b[0m\u001b[0;34m\u001b[0m\u001b[0m\n\u001b[1;32m      2\u001b[0m \u001b[0mpygame\u001b[0m\u001b[0;34m.\u001b[0m\u001b[0minit\u001b[0m\u001b[0;34m(\u001b[0m\u001b[0;34m)\u001b[0m\u001b[0;34m\u001b[0m\u001b[0;34m\u001b[0m\u001b[0m\n\u001b[0;32m----> 3\u001b[0;31m \u001b[0mpygame\u001b[0m\u001b[0;34m.\u001b[0m\u001b[0mmixer\u001b[0m\u001b[0;34m.\u001b[0m\u001b[0mmusic\u001b[0m\u001b[0;34m.\u001b[0m\u001b[0mload\u001b[0m\u001b[0;34m(\u001b[0m\u001b[0mmodified_midi_filename\u001b[0m\u001b[0;34m)\u001b[0m\u001b[0;34m\u001b[0m\u001b[0;34m\u001b[0m\u001b[0m\n\u001b[0m\u001b[1;32m      4\u001b[0m \u001b[0mpygame\u001b[0m\u001b[0;34m.\u001b[0m\u001b[0mmixer\u001b[0m\u001b[0;34m.\u001b[0m\u001b[0mmusic\u001b[0m\u001b[0;34m.\u001b[0m\u001b[0mplay\u001b[0m\u001b[0;34m(\u001b[0m\u001b[0;34m)\u001b[0m\u001b[0;34m\u001b[0m\u001b[0;34m\u001b[0m\u001b[0m\n",
      "\u001b[0;31merror\u001b[0m: mixer not initialized"
     ]
    }
   ],
   "source": [
    "modified_midi_filename = home_dir + \"/results/RNN_harmonization_overfit.mid\"\n",
    "pygame.init()\n",
    "pygame.mixer.music.load(modified_midi_filename)\n",
    "pygame.mixer.music.play()"
   ]
  },
  {
   "cell_type": "code",
   "execution_count": 54,
   "metadata": {
    "colab": {
     "base_uri": "https://localhost:8080/",
     "height": 164
    },
    "colab_type": "code",
    "collapsed": true,
    "executionInfo": {
     "elapsed": 1242,
     "status": "error",
     "timestamp": 1557940216731,
     "user": {
      "displayName": "Nicolas Deperrois",
      "photoUrl": "https://lh5.googleusercontent.com/-Jfkdb6w84hk/AAAAAAAAAAI/AAAAAAAACRA/bqUAiv0shAM/s64/photo.jpg",
      "userId": "11633758183366338150"
     },
     "user_tz": -120
    },
    "id": "VGyboyUS1yd1",
    "outputId": "62035e32-de3a-4e48-bd5c-9853691a61b5"
   },
   "outputs": [
    {
     "ename": "error",
     "evalue": "ignored",
     "output_type": "error",
     "traceback": [
      "\u001b[0;31m---------------------------------------------------------------------------\u001b[0m",
      "\u001b[0;31merror\u001b[0m                                     Traceback (most recent call last)",
      "\u001b[0;32m<ipython-input-54-bb1c42b42b61>\u001b[0m in \u001b[0;36m<module>\u001b[0;34m()\u001b[0m\n\u001b[0;32m----> 1\u001b[0;31m \u001b[0mpygame\u001b[0m\u001b[0;34m.\u001b[0m\u001b[0mmixer\u001b[0m\u001b[0;34m.\u001b[0m\u001b[0mmusic\u001b[0m\u001b[0;34m.\u001b[0m\u001b[0mstop\u001b[0m\u001b[0;34m(\u001b[0m\u001b[0;34m)\u001b[0m\u001b[0;34m\u001b[0m\u001b[0;34m\u001b[0m\u001b[0m\n\u001b[0m",
      "\u001b[0;31merror\u001b[0m: mixer not initialized"
     ]
    }
   ],
   "source": [
    "pygame.mixer.music.stop()"
   ]
  },
  {
   "cell_type": "markdown",
   "metadata": {
    "colab_type": "text",
    "id": "6QiGedvL0WZL"
   },
   "source": [
    "The overfitting networks sounds to generate voices that match much better with the soprano voice than the previous networks! Even if at the beginning, the voices are not really coherent, they start to catch some relevant melodies that vertically harmonize the soprano voice. \n",
    "We hypothesize that such surprising results might be specific to music generation. Bach Chorales are quite similar, especially when transcripted to C Major (or its relative A minor), and overfitting the training set can lead to optimal network features to generate 3 voices on a soprano voice which harmonization was never learned (validation set). Even if the validation error is huge compared to the early stopping case, it does not mean that the generated voices are wrong. The overfitted network generate complete different alto/tenor/bass melodies from the original ones, which might explain this huge validation error, but these melodies vertically compose different chords and cadences that can turn out to be really coherent! \n",
    "As an example, think of the original track ending up with an interrupted cadence, in a total different tonality than C Major (let's say, A Major), which has been seen less often that a perfect cadence (C Major) in the training set. The overfitting network will unless try to recover this perfect cadence as it learned to do by overfitting, and thus generate complete different melodies than the target ones, but vertically coherent with each other to produce such a perfect cadence! \n",
    "\n",
    "As an illustration of such a phenomenon, let's listen to original track (real alto/tenor/bass voices) and compare to the overfitted track at the same time steps. "
   ]
  },
  {
   "cell_type": "code",
   "execution_count": 0,
   "metadata": {
    "colab": {},
    "colab_type": "code",
    "id": "U2JVulkO13u_"
   },
   "outputs": [],
   "source": [
    "# Real track \n",
    "multitrack_real = Multitrack(tracks=real_tracks, tempo = 90, beat_resolution=beat_resolution)\n",
    "# write to midifile \n",
    "pypianoroll.write(multitrack_real, home_dir + \"/results/RNN_harmonization_real\")"
   ]
  },
  {
   "cell_type": "code",
   "execution_count": 0,
   "metadata": {
    "colab": {},
    "colab_type": "code",
    "id": "4nfMTCTl0WZM"
   },
   "outputs": [],
   "source": [
    "modified_midi_filename = home_dir + \"/results/RNN_harmonization_real.mid\"\n",
    "pygame.init()\n",
    "pygame.mixer.music.load(modified_midi_filename)\n",
    "pygame.mixer.music.play()"
   ]
  },
  {
   "cell_type": "code",
   "execution_count": 0,
   "metadata": {
    "colab": {},
    "colab_type": "code",
    "id": "4BJmwuNy0WZN"
   },
   "outputs": [],
   "source": [
    "pygame.mixer.music.stop()"
   ]
  },
  {
   "cell_type": "markdown",
   "metadata": {
    "colab_type": "text",
    "id": "Otfi0RPd0WZO"
   },
   "source": [
    "\n",
    "*********\n",
    "### Colab specific player code "
   ]
  },
  {
   "cell_type": "code",
   "execution_count": 55,
   "metadata": {
    "colab": {
     "base_uri": "https://localhost:8080/",
     "height": 52,
     "output_embedded_package_id": "1R0s6WPbSyRq-5QQAqqICSWbJtLzYnWQz"
    },
    "colab_type": "code",
    "executionInfo": {
     "elapsed": 29834,
     "status": "ok",
     "timestamp": 1557940325136,
     "user": {
      "displayName": "Nicolas Deperrois",
      "photoUrl": "https://lh5.googleusercontent.com/-Jfkdb6w84hk/AAAAAAAAAAI/AAAAAAAACRA/bqUAiv0shAM/s64/photo.jpg",
      "userId": "11633758183366338150"
     },
     "user_tz": -120
    },
    "id": "78YbppxNUxt-",
    "outputId": "74af2d73-e98b-4db3-b04b-686aad704ead"
   },
   "outputs": [
    {
     "data": {
      "text/plain": [
       "Output hidden; open in https://colab.research.google.com to view."
      ]
     },
     "metadata": {},
     "output_type": "display_data"
    }
   ],
   "source": [
    "modified_midi_filename = home_dir + \"/results/RNN_harmonization_random.mid\"\n",
    "FluidSynth(\"font.sf2\").midi_to_audio(modified_midi_filename, 'harmonization_random.wav')\n",
    "Audio(\"harmonization_random.wav\")"
   ]
  },
  {
   "cell_type": "code",
   "execution_count": 56,
   "metadata": {
    "colab": {
     "base_uri": "https://localhost:8080/",
     "height": 52,
     "output_embedded_package_id": "1R1krKkH_My98LqqCYYOUOPUox6BXcuHB"
    },
    "colab_type": "code",
    "executionInfo": {
     "elapsed": 83457,
     "status": "ok",
     "timestamp": 1557940408590,
     "user": {
      "displayName": "Nicolas Deperrois",
      "photoUrl": "https://lh5.googleusercontent.com/-Jfkdb6w84hk/AAAAAAAAAAI/AAAAAAAACRA/bqUAiv0shAM/s64/photo.jpg",
      "userId": "11633758183366338150"
     },
     "user_tz": -120
    },
    "id": "zAfF0mMcbHDr",
    "outputId": "6e9e423b-6c91-4d06-921f-1ecb637b0c39"
   },
   "outputs": [
    {
     "data": {
      "text/plain": [
       "Output hidden; open in https://colab.research.google.com to view."
      ]
     },
     "metadata": {},
     "output_type": "display_data"
    }
   ],
   "source": [
    "modified_midi_filename = home_dir + \"/results/RNN_harmonization_early.mid\"\n",
    "FluidSynth(\"font.sf2\").midi_to_audio(modified_midi_filename, 'harmonization_early.wav')\n",
    "Audio(\"harmonization_early.wav\")"
   ]
  },
  {
   "cell_type": "code",
   "execution_count": 67,
   "metadata": {
    "colab": {
     "base_uri": "https://localhost:8080/",
     "height": 52,
     "output_embedded_package_id": "1XM9PbVnNXCW1QJAtyWvb86Fn3XhOgKyr"
    },
    "colab_type": "code",
    "executionInfo": {
     "elapsed": 30518,
     "status": "ok",
     "timestamp": 1557942362973,
     "user": {
      "displayName": "Nicolas Deperrois",
      "photoUrl": "https://lh5.googleusercontent.com/-Jfkdb6w84hk/AAAAAAAAAAI/AAAAAAAACRA/bqUAiv0shAM/s64/photo.jpg",
      "userId": "11633758183366338150"
     },
     "user_tz": -120
    },
    "id": "MvMyOKKl0WZR",
    "outputId": "ed0eeaa2-f6af-4c61-9961-5558f09a90c6"
   },
   "outputs": [
    {
     "data": {
      "text/plain": [
       "Output hidden; open in https://colab.research.google.com to view."
      ]
     },
     "metadata": {},
     "output_type": "display_data"
    }
   ],
   "source": [
    "modified_midi_filename = home_dir + \"/results/RNN_harmonization_overfit.mid\"\n",
    "FluidSynth(\"font.sf2\").midi_to_audio(modified_midi_filename, 'harmonization_overfit.wav')\n",
    "Audio(\"harmonization_overfit.wav\")"
   ]
  },
  {
   "cell_type": "code",
   "execution_count": 68,
   "metadata": {
    "colab": {
     "base_uri": "https://localhost:8080/",
     "height": 52,
     "output_embedded_package_id": "1jgA9nvuy1f3kBVZTyaxkOVwIuX9DN7Zo"
    },
    "colab_type": "code",
    "executionInfo": {
     "elapsed": 31176,
     "status": "ok",
     "timestamp": 1557942415201,
     "user": {
      "displayName": "Nicolas Deperrois",
      "photoUrl": "https://lh5.googleusercontent.com/-Jfkdb6w84hk/AAAAAAAAAAI/AAAAAAAACRA/bqUAiv0shAM/s64/photo.jpg",
      "userId": "11633758183366338150"
     },
     "user_tz": -120
    },
    "id": "898B9c280WZR",
    "outputId": "e6ac4d92-5a35-45c1-80e0-b9b505484cff"
   },
   "outputs": [
    {
     "data": {
      "text/plain": [
       "Output hidden; open in https://colab.research.google.com to view."
      ]
     },
     "metadata": {},
     "output_type": "display_data"
    }
   ],
   "source": [
    "modified_midi_filename = home_dir + \"/results/RNN_harmonization_real.mid\"\n",
    "FluidSynth(\"font.sf2\").midi_to_audio(modified_midi_filename, 'harmonization_real.wav')\n",
    "Audio(\"harmonization_real.wav\")"
   ]
  },
  {
   "cell_type": "code",
   "execution_count": 0,
   "metadata": {
    "colab": {},
    "colab_type": "code",
    "id": "HgHEsCFA3ILo"
   },
   "outputs": [],
   "source": []
  }
 ],
 "metadata": {
  "accelerator": "GPU",
  "colab": {
   "collapsed_sections": [],
   "name": "train_RNN_pianorolls.ipynb",
   "provenance": [],
   "toc_visible": true,
   "version": "0.3.2"
  },
  "kernelspec": {
   "display_name": "Python 3",
   "language": "python",
   "name": "python3"
  },
  "language_info": {
   "codemirror_mode": {
    "name": "ipython",
    "version": 3
   },
   "file_extension": ".py",
   "mimetype": "text/x-python",
   "name": "python",
   "nbconvert_exporter": "python",
   "pygments_lexer": "ipython3",
   "version": "3.7.3"
  }
 },
 "nbformat": 4,
 "nbformat_minor": 1
}
